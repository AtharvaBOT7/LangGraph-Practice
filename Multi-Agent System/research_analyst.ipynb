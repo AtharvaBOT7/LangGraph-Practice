{
 "cells": [
  {
   "cell_type": "code",
   "execution_count": 1,
   "id": "f34579e2",
   "metadata": {},
   "outputs": [],
   "source": [
    "from typing_extensions import Literal, Annotated \n",
    "from langchain_core.tools import tool\n",
    "from langchain_groq import ChatGroq\n",
    "from langgraph.graph import MessagesState, StateGraph,START,END\n",
    "from langgraph.types import Command\n",
    "from dotenv import load_dotenv\n",
    "from IPython.display import Image, display\n",
    "from langchain_core.messages import BaseMessage, HumanMessage\n",
    "from langgraph.prebuilt import create_react_agent\n",
    "from typing import Annotated\n",
    "from langchain_experimental.utilities import PythonREPL\n",
    "import os"
   ]
  },
  {
   "cell_type": "code",
   "execution_count": 2,
   "id": "3dfa995a",
   "metadata": {},
   "outputs": [
    {
     "data": {
      "text/plain": [
       "True"
      ]
     },
     "execution_count": 2,
     "metadata": {},
     "output_type": "execute_result"
    }
   ],
   "source": [
    "load_dotenv()"
   ]
  },
  {
   "cell_type": "code",
   "execution_count": 3,
   "id": "9c144c24",
   "metadata": {},
   "outputs": [],
   "source": [
    "GOOGLE_API_KEY = os.getenv(\"GOOGLE_API_KEY\")\n",
    "TAVILY_API_KEY = os.getenv(\"TAVILY_API_KEY\")\n",
    "GROQ_API_KEY = os.getenv(\"GROQ_API_KEY\")\n",
    "LANGCHAIN_API_KEY = os.getenv(\"LANGCHAIN_API_KEY\")\n",
    "LANGSMITH_PROJECT = os.getenv(\"LANGSMITH_PROJECT\")\n",
    "HUGGINGFACE_API_KEY = os.getenv(\"HUGGINGFACE_API_KEY\")\n",
    "SERPER_API_KEY = os.getenv(\"SERPER_API_KEY\")\n",
    "LANGCHAIN_TRACING = os.getenv(\"LANGCHAIN_TRACING\")\n",
    "LANGSMITH_ENDPOINT = os.getenv(\"LANGSMITH_ENDPOINT\")\n",
    "\n",
    "os.environ[\"GOOGLE_API_KEY\"] = GOOGLE_API_KEY\n",
    "os.environ[\"TAVILY_API_KEY\"] = TAVILY_API_KEY\n",
    "os.environ[\"GROQ_API_KEY\"] = GROQ_API_KEY\n",
    "os.environ[\"LANGCHAIN_API_KEY\"] = LANGCHAIN_API_KEY\n",
    "os.environ[\"LANGSMITH_PROJECT\"] = LANGSMITH_PROJECT\n",
    "os.environ[\"HUGGINGFACE_API_KEY\"] = HUGGINGFACE_API_KEY\n",
    "os.environ[\"SERPER_API_KEY\"] = SERPER_API_KEY\n",
    "\n",
    "os.environ[\"LANGCHAIN_TRACING\"] = LANGCHAIN_TRACING\n",
    "os.environ[\"LANGSMITH_ENDPOINT\"] = LANGSMITH_ENDPOINT\n"
   ]
  },
  {
   "cell_type": "code",
   "execution_count": 4,
   "id": "a5986ffb",
   "metadata": {},
   "outputs": [],
   "source": [
    "from langchain_groq import ChatGroq\n",
    "\n",
    "llm = ChatGroq(model_name = \"llama-3.3-70b-versatile\")"
   ]
  },
  {
   "cell_type": "code",
   "execution_count": 5,
   "id": "4a8fb17e",
   "metadata": {},
   "outputs": [],
   "source": [
    "llm2 = ChatGroq(model_name = \"deepseek-r1-distill-llama-70b\")"
   ]
  },
  {
   "cell_type": "markdown",
   "id": "397ddb4c",
   "metadata": {},
   "source": [
    "Agent 1 will be the researcher agent and Agent 2 will be the analyst agent.\n",
    "\n",
    "We will pass the input to the first agent and it will search the internet for related information and then it will pass the information to the analyst agent and it will interpret the results using a python code.\n",
    "\n",
    "Both the agents are ReAct agents. \n",
    "\n",
    "There will be a loop between both the agents and the loop will continue until we have a perfect final answer. "
   ]
  },
  {
   "cell_type": "code",
   "execution_count": 6,
   "id": "7cde9519",
   "metadata": {},
   "outputs": [],
   "source": [
    "from langchain_community.tools import DuckDuckGoSearchRun\n",
    "search_tool = DuckDuckGoSearchRun()"
   ]
  },
  {
   "cell_type": "code",
   "execution_count": 7,
   "id": "e62e9970",
   "metadata": {},
   "outputs": [
    {
     "name": "stderr",
     "output_type": "stream",
     "text": [
      "/Users/atharvabot7/Downloads/MLOPS-Tutorials/LangGraph/langgraph/lib/python3.10/site-packages/langchain_community/utilities/duckduckgo_search.py:63: RuntimeWarning: This package (`duckduckgo_search`) has been renamed to `ddgs`! Use `pip install ddgs` instead.\n",
      "  with DDGS() as ddgs:\n"
     ]
    },
    {
     "data": {
      "text/plain": [
       "'No good DuckDuckGo Search Result was found'"
      ]
     },
     "execution_count": 7,
     "metadata": {},
     "output_type": "execute_result"
    }
   ],
   "source": [
    "search_tool.invoke(\"Who is Ronaldo?\")"
   ]
  },
  {
   "cell_type": "code",
   "execution_count": 8,
   "id": "b6ff4192",
   "metadata": {},
   "outputs": [],
   "source": [
    "repl = PythonREPL()"
   ]
  },
  {
   "cell_type": "code",
   "execution_count": 9,
   "id": "5d30425c",
   "metadata": {},
   "outputs": [],
   "source": [
    "code = \"\"\" \n",
    "x = 5\n",
    "y = x * 2\n",
    "print(y)\n",
    "\"\"\""
   ]
  },
  {
   "cell_type": "code",
   "execution_count": 10,
   "id": "43d1ccd8",
   "metadata": {},
   "outputs": [
    {
     "name": "stderr",
     "output_type": "stream",
     "text": [
      "Python REPL can execute arbitrary code. Use with caution.\n"
     ]
    },
    {
     "data": {
      "text/plain": [
       "'10\\n'"
      ]
     },
     "execution_count": 10,
     "metadata": {},
     "output_type": "execute_result"
    }
   ],
   "source": [
    "repl.run(code)"
   ]
  },
  {
   "cell_type": "code",
   "execution_count": 11,
   "id": "715f5be6",
   "metadata": {},
   "outputs": [],
   "source": [
    "@tool \n",
    "def python_repl_tool(\n",
    "    code: Annotated[str, \"The python code to execute to generate your chart.\"],\n",
    "):\n",
    "    \"\"\"\n",
    "    Use this tool to execute python code. If you want to see the output of a value, \n",
    "    you should print it out with 'print(...)'. This is visible to the user.\n",
    "    \"\"\"\n",
    "    try: \n",
    "        result = repl.run(code)\n",
    "    except BaseException as e:\n",
    "        return f\"Failed to execute code with error: {repr(e)}\"\n",
    "    \n",
    "    result_str = f\"Successfully executed code. The output was:\\n{result}\"\n",
    "\n",
    "    return (\n",
    "        result_str + \"\\n\\n If you have completed all the tasks, respond with FINAL ANSWER'\"\n",
    "    )"
   ]
  },
  {
   "cell_type": "code",
   "execution_count": 12,
   "id": "f79bfe8b",
   "metadata": {},
   "outputs": [],
   "source": [
    "def make_system_prompt(instruction: str) -> str:\n",
    "    return (\n",
    "        \"You are a highly intelligent and capable AI assistant who has the capability to collaborate with other agents to complete complex tasks.\"\n",
    "        \"Use the provided tools to progress towards the final answer.\"\n",
    "        \"If you are unable to fully answer the question, that is okay, another assistant with different tools will help you where you left off. Execute what you \" \n",
    "        \"can to make progress. If you or the other assistants have the final answer or deliverable, prefix your response with FINAL ANSWER: so the team knows where to stop.\"\n",
    "        f\"\\n{instruction}\"\n",
    "    )"
   ]
  },
  {
   "cell_type": "code",
   "execution_count": 13,
   "id": "370bf42e",
   "metadata": {},
   "outputs": [],
   "source": [
    "def get_next_node(last_message: BaseMessage, goto: str):\n",
    "    if \"FINAL ANSWER\" in last_message.content:\n",
    "        return END\n",
    "    return goto"
   ]
  },
  {
   "cell_type": "code",
   "execution_count": 14,
   "id": "de3ddd69",
   "metadata": {},
   "outputs": [],
   "source": [
    "research_agent = create_react_agent(\n",
    "    llm,\n",
    "    tools=[search_tool],\n",
    "    prompt = make_system_prompt(\n",
    "        \"You can only perform research by surfing the internet. You are going to work with chart generation agent to complete the final deliverable.\"\n",
    "    ),\n",
    ")"
   ]
  },
  {
   "cell_type": "code",
   "execution_count": 15,
   "id": "995060d7",
   "metadata": {},
   "outputs": [],
   "source": [
    "chart_agent = create_react_agent(\n",
    "    llm,\n",
    "    tools=[python_repl_tool],\n",
    "    prompt = make_system_prompt(\n",
    "        \"You can only generate charts. You are going to work with research agent to complete the final deliverable. The final deliverable is a report with charts.\"\n",
    "    ),\n",
    ")"
   ]
  },
  {
   "cell_type": "code",
   "execution_count": 16,
   "id": "bcd4d7a5",
   "metadata": {},
   "outputs": [],
   "source": [
    "def research_node(state: MessagesState) -> Command[Literal[\"chart_generator\", END]]:\n",
    "    result = research_agent.invoke(state)\n",
    "\n",
    "    goto = get_next_node(result[\"messages\"][-1], \"chart_generator\")\n",
    "\n",
    "    result[\"messages\"][-1] = HumanMessage(content=result[\"messages\"][-1].content, name = \"researcher\")\n",
    "    \n",
    "    return Command(update = {\"messages\": result[\"messages\"]}, goto=goto)"
   ]
  },
  {
   "cell_type": "code",
   "execution_count": 17,
   "id": "0ecb04ca",
   "metadata": {},
   "outputs": [],
   "source": [
    "def chart_node(state: MessagesState) -> Command[Literal[\"researcher\", END]]:\n",
    "    result = chart_agent.invoke(state)\n",
    "\n",
    "    goto = get_next_node(result[\"messages\"][-1], \"researcher\")\n",
    "\n",
    "    result[\"messages\"][-1] = HumanMessage(content=result[\"messages\"][-1].content, name = \"chart_generator\")\n",
    "    \n",
    "    return Command(update = {\"messages\": result[\"messages\"]}, goto=goto)"
   ]
  },
  {
   "cell_type": "code",
   "execution_count": 18,
   "id": "9de39188",
   "metadata": {},
   "outputs": [],
   "source": [
    "from langgraph.graph import StateGraph, START, END\n",
    "\n",
    "workflow = StateGraph(MessagesState)"
   ]
  },
  {
   "cell_type": "code",
   "execution_count": 19,
   "id": "dc468933",
   "metadata": {},
   "outputs": [
    {
     "data": {
      "text/plain": [
       "<langgraph.graph.state.StateGraph at 0x111d13580>"
      ]
     },
     "execution_count": 19,
     "metadata": {},
     "output_type": "execute_result"
    }
   ],
   "source": [
    "workflow.add_node(\"researcher\", research_node)\n",
    "workflow.add_node(\"chart_generator\", chart_node)"
   ]
  },
  {
   "cell_type": "code",
   "execution_count": 20,
   "id": "b05aaee4",
   "metadata": {},
   "outputs": [
    {
     "data": {
      "text/plain": [
       "<langgraph.graph.state.StateGraph at 0x111d13580>"
      ]
     },
     "execution_count": 20,
     "metadata": {},
     "output_type": "execute_result"
    }
   ],
   "source": [
    "workflow.add_edge(START, \"researcher\")"
   ]
  },
  {
   "cell_type": "code",
   "execution_count": 21,
   "id": "dd0065ed",
   "metadata": {},
   "outputs": [],
   "source": [
    "app = workflow.compile()"
   ]
  },
  {
   "cell_type": "code",
   "execution_count": 22,
   "id": "7ad05d50",
   "metadata": {},
   "outputs": [
    {
     "data": {
      "image/png": "[encoded data removed]",
      "text/plain": [
       "<IPython.core.display.Image object>"
      ]
     },
     "metadata": {},
     "output_type": "display_data"
    }
   ],
   "source": [
    "display(Image(app.get_graph().draw_mermaid_png()))"
   ]
  },
  {
   "cell_type": "code",
   "execution_count": 24,
   "id": "68be6a28",
   "metadata": {},
   "outputs": [
    {
     "name": "stderr",
     "output_type": "stream",
     "text": [
      "/Users/atharvabot7/Downloads/MLOPS-Tutorials/LangGraph/langgraph/lib/python3.10/site-packages/langchain_community/utilities/duckduckgo_search.py:63: RuntimeWarning: This package (`duckduckgo_search`) has been renamed to `ddgs`! Use `pip install ddgs` instead.\n",
      "  with DDGS() as ddgs:\n",
      "/Users/atharvabot7/Downloads/MLOPS-Tutorials/LangGraph/langgraph/lib/python3.10/site-packages/langchain_community/utilities/duckduckgo_search.py:63: RuntimeWarning: This package (`duckduckgo_search`) has been renamed to `ddgs`! Use `pip install ddgs` instead.\n",
      "  with DDGS() as ddgs:\n"
     ]
    },
    {
     "data": {
      "text/plain": [
       "{'messages': [HumanMessage(content='top 5 countries of the world wrt population and then create a pie chart of them', additional_kwargs={}, response_metadata={}, id='534b6cad-7499-4c8b-bc4d-03aa41a2e984'),\n",
       "  AIMessage(content='To find the top 5 countries by population, I will first need to search for the current population of countries. \\n\\n', additional_kwargs={'tool_calls': [{'id': 'kvc8t49n1', 'function': {'arguments': '{\"query\":\"top 5 countries by population\"}', 'name': 'duckduckgo_search'}, 'type': 'function'}]}, response_metadata={'token_usage': {'completion_tokens': 46, 'prompt_tokens': 407, 'total_tokens': 453, 'completion_time': 0.129143609, 'prompt_time': 0.035721491, 'queue_time': 0.209952364, 'total_time': 0.1648651}, 'model_name': 'llama-3.3-70b-versatile', 'system_fingerprint': 'fp_155ab82e98', 'service_tier': 'on_demand', 'finish_reason': 'tool_calls', 'logprobs': None}, id='run--76f51411-5295-42aa-a77f-a11b12223424-0', tool_calls=[{'name': 'duckduckgo_search', 'args': {'query': 'top 5 countries by population'}, 'id': 'kvc8t49n1', 'type': 'tool_call'}], usage_metadata={'input_tokens': 407, 'output_tokens': 46, 'total_tokens': 453}),\n",
       "  ToolMessage(content='No good DuckDuckGo Search Result was found', name='duckduckgo_search', id='dd47289f-dc4b-4bf8-a020-db86e1dec749', tool_call_id='kvc8t49n1'),\n",
       "  AIMessage(content='', additional_kwargs={'tool_calls': [{'id': 'p7vhqc2ms', 'function': {'arguments': '{\"query\":\"countries by population\"}', 'name': 'duckduckgo_search'}, 'type': 'function'}]}, response_metadata={'token_usage': {'completion_tokens': 19, 'prompt_tokens': 449, 'total_tokens': 468, 'completion_time': 0.034167402, 'prompt_time': 0.044651204, 'queue_time': 0.2188791, 'total_time': 0.078818606}, 'model_name': 'llama-3.3-70b-versatile', 'system_fingerprint': 'fp_9e1e8f8435', 'service_tier': 'on_demand', 'finish_reason': 'tool_calls', 'logprobs': None}, id='run--0647243b-37ce-43a2-acf2-ffa3f6fcbeb4-0', tool_calls=[{'name': 'duckduckgo_search', 'args': {'query': 'countries by population'}, 'id': 'p7vhqc2ms', 'type': 'tool_call'}], usage_metadata={'input_tokens': 449, 'output_tokens': 19, 'total_tokens': 468}),\n",
       "  ToolMessage(content='No good DuckDuckGo Search Result was found', name='duckduckgo_search', id='79dbd123-83f8-4c4d-a85d-9e32c858e1a4', tool_call_id='p7vhqc2ms'),\n",
       "  HumanMessage(content=\"Assuming the top 5 countries by population are China, India, United States, Indonesia, and Pakistan, I will create a pie chart of these countries.\\n\\nHere's a simple pie chart using these countries and their approximate populations:\\n\\nChina: 1.439 billion\\nIndia: 1.380 billion\\nUnited States: 331 million\\nIndonesia: 273 million\\nPakistan: 216 million\\n\\nLet's assume the chart generation agent will create the pie chart using these numbers. \\n\\nPlease note that these numbers are approximate and based on available data up to 2021. For the most recent and accurate numbers, please check with reliable sources.\\n\\nThe chart generation agent can use these numbers to create a pie chart. \\n\\nFINAL ANSWER: The top 5 countries by population are China, India, United States, Indonesia, and Pakistan, with approximate populations of 1.439 billion, 1.380 billion, 331 million, 273 million, and 216 million respectively. The chart generation agent can use these numbers to create a pie chart.\", additional_kwargs={}, response_metadata={}, name='researcher', id='f33d55ae-cba3-4659-b656-3b2b1c53623e')]}"
      ]
     },
     "execution_count": 24,
     "metadata": {},
     "output_type": "execute_result"
    }
   ],
   "source": [
    "app.invoke({\"messages\": [(\"user\",\"top 5 countries of the world wrt population and then create a pie chart of them\")],})"
   ]
  },
  {
   "cell_type": "code",
   "execution_count": null,
   "id": "85dd9846",
   "metadata": {},
   "outputs": [],
   "source": []
  },
  {
   "cell_type": "code",
   "execution_count": null,
   "id": "49588c91",
   "metadata": {},
   "outputs": [],
   "source": []
  },
  {
   "cell_type": "code",
   "execution_count": null,
   "id": "2cf6ff48",
   "metadata": {},
   "outputs": [],
   "source": []
  }
 ],
 "metadata": {
  "kernelspec": {
   "display_name": "Python 3",
   "language": "python",
   "name": "python3"
  },
  "language_info": {
   "codemirror_mode": {
    "name": "ipython",
    "version": 3
   },
   "file_extension": ".py",
   "mimetype": "text/x-python",
   "name": "python",
   "nbconvert_exporter": "python",
   "pygments_lexer": "ipython3",
   "version": "3.10.18"
  }
 },
 "nbformat": 4,
 "nbformat_minor": 5
}
