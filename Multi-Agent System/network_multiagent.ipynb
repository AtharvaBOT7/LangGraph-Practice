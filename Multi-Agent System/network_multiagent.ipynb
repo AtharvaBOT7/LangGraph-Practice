{
 "cells": [
  {
   "cell_type": "markdown",
   "id": "dc5e9af5",
   "metadata": {},
   "source": [
    "### Importing the Necessary Packages"
   ]
  },
  {
   "cell_type": "code",
   "execution_count": 1,
   "id": "d53212cb",
   "metadata": {},
   "outputs": [],
   "source": [
    "from typing_extensions import Literal, Annotated \n",
    "from langchain_core.tools import tool\n",
    "from langchain_groq import ChatGroq\n",
    "from langgraph.graph import MessagesState, StateGraph,START,END\n",
    "from langgraph.types import Command\n",
    "from dotenv import load_dotenv\n",
    "from IPython.display import Image, display\n",
    "from langchain_core.messages import BaseMessage, HumanMessage\n",
    "from langgraph.prebuilt import create_react_agent\n",
    "from typing import Annotated\n",
    "from langchain_experimental.utilities import PythonREPL\n",
    "import os"
   ]
  },
  {
   "cell_type": "code",
   "execution_count": 2,
   "id": "0c2c4364",
   "metadata": {},
   "outputs": [
    {
     "data": {
      "text/plain": [
       "True"
      ]
     },
     "execution_count": 2,
     "metadata": {},
     "output_type": "execute_result"
    }
   ],
   "source": [
    "load_dotenv()"
   ]
  },
  {
   "cell_type": "code",
   "execution_count": 3,
   "id": "dbee74df",
   "metadata": {},
   "outputs": [],
   "source": [
    "GOOGLE_API_KEY = os.getenv(\"GOOGLE_API_KEY\")\n",
    "TAVILY_API_KEY = os.getenv(\"TAVILY_API_KEY\")\n",
    "GROQ_API_KEY = os.getenv(\"GROQ_API_KEY\")\n",
    "LANGCHAIN_API_KEY = os.getenv(\"LANGCHAIN_API_KEY\")\n",
    "LANGSMITH_PROJECT = os.getenv(\"LANGSMITH_PROJECT\")\n",
    "HUGGINGFACE_API_KEY = os.getenv(\"HUGGINGFACE_API_KEY\")\n",
    "SERPER_API_KEY = os.getenv(\"SERPER_API_KEY\")\n",
    "LANGCHAIN_TRACING = os.getenv(\"LANGCHAIN_TRACING\")\n",
    "LANGSMITH_ENDPOINT = os.getenv(\"LANGSMITH_ENDPOINT\")\n",
    "\n",
    "os.environ[\"GOOGLE_API_KEY\"] = GOOGLE_API_KEY\n",
    "os.environ[\"TAVILY_API_KEY\"] = TAVILY_API_KEY\n",
    "os.environ[\"GROQ_API_KEY\"] = GROQ_API_KEY\n",
    "os.environ[\"LANGCHAIN_API_KEY\"] = LANGCHAIN_API_KEY\n",
    "os.environ[\"LANGSMITH_PROJECT\"] = LANGSMITH_PROJECT\n",
    "os.environ[\"HUGGINGFACE_API_KEY\"] = HUGGINGFACE_API_KEY\n",
    "os.environ[\"SERPER_API_KEY\"] = SERPER_API_KEY\n",
    "\n",
    "os.environ[\"LANGCHAIN_TRACING\"] = LANGCHAIN_TRACING\n",
    "os.environ[\"LANGSMITH_ENDPOINT\"] = LANGSMITH_ENDPOINT\n"
   ]
  },
  {
   "cell_type": "code",
   "execution_count": 4,
   "id": "288c954b",
   "metadata": {},
   "outputs": [],
   "source": [
    "from langchain_groq import ChatGroq\n",
    "\n",
    "llm = ChatGroq(model_name = \"llama-3.3-70b-versatile\")"
   ]
  },
  {
   "cell_type": "code",
   "execution_count": 5,
   "id": "b9435ae5",
   "metadata": {},
   "outputs": [
    {
     "data": {
      "text/plain": [
       "AIMessage(content='That\\'s a thoughtful question. I\\'m happy to chat with you, but I want to clarify that I\\'m a large language model, I don\\'t have personal opinions or judgments about individuals. My purpose is to provide information, answer questions, and engage in conversations to the best of my abilities.\\n\\nThat being said, I believe that every person has the potential to be good and make positive contributions to the world. Being a \"good person\" is often subjective and can depend on various factors, such as personal values, actions, and intentions.\\n\\nIf you\\'re wondering about your own character, I\\'d encourage you to reflect on your values, behaviors, and relationships. Ask yourself:\\n\\n* What are my core values, and do I live by them?\\n* How do I treat others, and do I strive to be kind and compassionate?\\n* What are my strengths and weaknesses, and how can I work on improving myself?\\n\\nRemember that personal growth and self-improvement are lifelong journeys. It\\'s okay to make mistakes and learn from them. What\\'s important is that you\\'re willing to reflect, learn, and strive to be the best version of yourself.\\n\\nHow do you feel about your own character, and is there anything specific that\\'s been on your mind lately? I\\'m here to listen and offer support if you need it.', additional_kwargs={}, response_metadata={'token_usage': {'completion_tokens': 266, 'prompt_tokens': 45, 'total_tokens': 311, 'completion_time': 0.604494055, 'prompt_time': 0.002406332, 'queue_time': 0.275879621, 'total_time': 0.606900387}, 'model_name': 'llama-3.3-70b-versatile', 'system_fingerprint': 'fp_155ab82e98', 'service_tier': 'on_demand', 'finish_reason': 'stop', 'logprobs': None}, id='run--2e0d8e32-0e68-4d55-b9b8-0b667b2ee90d-0', usage_metadata={'input_tokens': 45, 'output_tokens': 266, 'total_tokens': 311})"
      ]
     },
     "execution_count": 5,
     "metadata": {},
     "output_type": "execute_result"
    }
   ],
   "source": [
    "llm.invoke(\"Hello do you think I am a good person?\")"
   ]
  },
  {
   "cell_type": "code",
   "execution_count": 6,
   "id": "74a04220",
   "metadata": {},
   "outputs": [],
   "source": [
    "llm2 = ChatGroq(model_name = \"deepseek-r1-distill-llama-70b\")"
   ]
  },
  {
   "cell_type": "code",
   "execution_count": 7,
   "id": "d1165f6f",
   "metadata": {},
   "outputs": [
    {
     "data": {
      "text/plain": [
       "AIMessage(content='<think>\\nOkay, so I\\'m trying to figure out if I\\'m a good person. Hmm, where do I even start? I guess I should think about what makes someone \"good.\" Maybe it\\'s about how they treat others, or maybe it\\'s about their actions and choices. I\\'m not really sure. Let me break this down.\\n\\nFirst, I think about my interactions with others. Do I treat people kindly? Well, sometimes I\\'m nice, but there are times when I\\'m stressed or upset and maybe I\\'m not as patient as I could be. Like, I remember a time when my friend was talking about something they were excited about, and I kind of tuned out because I was preoccupied with my own stuff. That wasn\\'t very considerate. But then again, I also remember helping someone move last weekend, which was a bit of a hassle, but I did it anyway. So, it\\'s a mix, I guess.\\n\\nThen there\\'s the aspect of honesty. I try to be truthful, but I\\'m not perfect. There was that one time I told a white lie to get out of a social event I didn\\'t want to attend. I felt bad about it, but I didn\\'t know how to say no without hurting their feelings. Maybe that\\'s not the best approach, but I thought it was the kinder option at the time.\\n\\nEmpathy is another thing. I care about people\\'s feelings and try to understand their perspectives. When a coworker was going through a tough time, I made an effort to listen and support them. But sometimes, like when I\\'m really busy, I might not give as much attention as I should. It\\'s a balance, I suppose.\\n\\nI also think about my goals and how they align with being a good person. I want to help others, maybe volunteer more or donate to causes I believe in. But I haven\\'t done as much as I\\'d like yet. It\\'s more of an intention right now. I guess intentions are good, but actions matter more.\\n\\nAnother point is self-awareness. I know I\\'m not perfect and I make mistakes. Like, I sometimes procrastinate on important tasks, which can affect others who are counting on me. But I\\'m working on it, trying to manage my time better. It\\'s a process, and I\\'m not there yet, but I\\'m trying.\\n\\nI also consider how I handle conflicts. I don\\'t like arguing, so sometimes I might avoid it, but I know that\\'s not always healthy. Maybe I should work on addressing issues more directly instead of letting them fester. That could help improve my relationships in the long run.\\n\\nOn the flip side, I do have positive traits. I\\'m loyal to my friends and family, and I go out of my way to support them. I also take responsibility for my actions, especially when I\\'ve messed up. For example, once I forgot to meet a friend, and I felt terrible about it. I apologized sincerely and made sure to make it up to them. That felt like the right thing to do.\\n\\nI\\'m also trying to be more mindful and practice gratitude. It helps me stay positive and appreciate what I have, which in turn makes me more considerate towards others. But some days are harder than others, and I don\\'t always succeed.\\n\\nSo, putting this all together, I\\'m a mix of good and areas where I can improve. I have positive qualities like empathy, loyalty, and a desire to help others. But I also have flaws like occasional dishonesty, avoidance of conflicts, and procrastination. It\\'s a continuous journey, and I\\'m working on being better each day. Maybe being a \"good person\" isn\\'t about being perfect but about striving to do the right thing and learning from mistakes.\\n\\nI wonder if others see me the same way. My friends seem to appreciate me, and I\\'ve had positive feedback at work. But I also know I\\'ve let some people down at times. It\\'s all about balance and growth, I think.\\n\\nIn conclusion, I believe I have the potential to be a good person, and I\\'m actively working on improving myself. It\\'s okay to have flaws as long as I recognize them and make an effort to change. Being good isn\\'t static; it\\'s a process of learning and evolving.\\n</think>\\n\\nIn reflection, I recognize that being a \"good person\" is a dynamic and evolving process rather than a static state. Here\\'s a summary of my self-assessment:\\n\\n1. **Interactions with Others**: While I strive to be kind and considerate, I acknowledge moments where stress or preoccupation led to inconsiderate behavior. However, I also recall instances of genuine support, such as helping someone move, which highlights my capacity for kindness.\\n\\n2. **Honesty and Integrity**: I generally aim to be truthful, though I have told white lies to avoid hurting feelings. This duality shows both my desire to be kind and the need to improve in direct communication.\\n\\n3. **Empathy and Support**: I care deeply about others\\' feelings and have supported friends in need, though I recognize times when my busyness limited my availability. This balance is something I continue to work on.\\n\\n4. **Goals and Intentions**: My aspirations to volunteer and contribute to causes I believe in are strong, though I haven\\'t yet turned these intentions into consistent actions. I understand that actions speak louder than intentions.\\n\\n5. **Self-Awareness and Growth**: I acknowledge my imperfections, such as procrastination, and am actively working to improve. This self-awareness is crucial for personal growth.\\n\\n6. **Conflict Resolution**: I tend to avoid conflicts, which I recognize as unhealthy. I aim to address issues more directly to foster healthier relationships.\\n\\n7. **Positive Traits**: Loyalty, taking responsibility for mistakes, and practicing mindfulness and gratitude are strengths that contribute to my positive impact on others.\\n\\nIn conclusion, I see myself as having the potential to be a good person, with a mix of positive qualities and areas for improvement. My journey involves learning from mistakes and continuously striving to do better. Being good is not about perfection but about growth and the sincere effort to act with kindness and integrity.', additional_kwargs={}, response_metadata={'token_usage': {'completion_tokens': 1261, 'prompt_tokens': 13, 'total_tokens': 1274, 'completion_time': 5.071403291, 'prompt_time': 0.010220584, 'queue_time': 0.209435153, 'total_time': 5.081623875}, 'model_name': 'deepseek-r1-distill-llama-70b', 'system_fingerprint': 'fp_1bbe7845ec', 'service_tier': 'on_demand', 'finish_reason': 'stop', 'logprobs': None}, id='run--21da997a-c3e1-4b5d-9b89-7b6e66da82c8-0', usage_metadata={'input_tokens': 13, 'output_tokens': 1261, 'total_tokens': 1274})"
      ]
     },
     "execution_count": 7,
     "metadata": {},
     "output_type": "execute_result"
    }
   ],
   "source": [
    "llm2.invoke(\"Hello do you think I am a good person?\")"
   ]
  },
  {
   "cell_type": "markdown",
   "id": "4103b7d2",
   "metadata": {},
   "source": [
    "We are going to create two agents, one of the agents is an addition expert and one of the agents is a multiplication agent. \n",
    "The only thing is that addition agent cannot perform multiplication and vice-versa. Therefore if we give it a complex equation to solve which consists of both addition and multiplication, it will delegate the tasks accordingly. \n",
    "\n",
    "This is a very simple example just to understand the workflow of the network system."
   ]
  },
  {
   "cell_type": "code",
   "execution_count": 8,
   "id": "9036b2ca",
   "metadata": {},
   "outputs": [],
   "source": [
    "def add_numbers(state):\n",
    "    result = state[\"num1\"] + state[\"num2\"]\n",
    "    print(f\"Addition Expert: The sum of {state['num1']} and {state['num2']} is {result}\")\n",
    "    return Command(goto=\"multiply\", update = {\"sum\": result})"
   ]
  },
  {
   "cell_type": "code",
   "execution_count": 9,
   "id": "6562d128",
   "metadata": {},
   "outputs": [],
   "source": [
    "@tool \n",
    "def transfer_to_multiplication_expert():\n",
    "    \"\"\" Ask the multiplication agent for help \"\"\"\n",
    "    return "
   ]
  },
  {
   "cell_type": "code",
   "execution_count": 10,
   "id": "48c32c30",
   "metadata": {},
   "outputs": [],
   "source": [
    "@tool \n",
    "def transfer_to_addition_expert():\n",
    "    \"\"\" Ask the addition agent for help \"\"\"\n",
    "    return "
   ]
  },
  {
   "cell_type": "code",
   "execution_count": 11,
   "id": "24ab4e99",
   "metadata": {},
   "outputs": [],
   "source": [
    "model_with_tool = llm.bind_tools([transfer_to_multiplication_expert])"
   ]
  },
  {
   "cell_type": "code",
   "execution_count": 12,
   "id": "58795055",
   "metadata": {},
   "outputs": [],
   "source": [
    "ai_message = model_with_tool.invoke(\"how are you today?\")"
   ]
  },
  {
   "cell_type": "code",
   "execution_count": 13,
   "id": "5b45b408",
   "metadata": {},
   "outputs": [
    {
     "data": {
      "text/plain": [
       "[]"
      ]
     },
     "execution_count": 13,
     "metadata": {},
     "output_type": "execute_result"
    }
   ],
   "source": [
    "ai_message.tool_calls"
   ]
  },
  {
   "cell_type": "code",
   "execution_count": 14,
   "id": "b0a9c963",
   "metadata": {},
   "outputs": [],
   "source": [
    "def additional_expert(state: MessagesState) -> Command[Literal[\"multiplication_expert\", \"__end__\"]]:\n",
    "    \n",
    "    system_prompt = (\n",
    "        \"You are an expert addition agent. You can only add two numbers together. \"\n",
    "        \"You will receive the numbers in the state. \"\n",
    "        \"You must return the sum of the numbers in the state as 'sum'. \"\n",
    "        \"After you have added the two numbers, you must transfer control to the multiplication expert.\"\n",
    "        \"Always do your portions of the task to the best of your ability before the handoff.\"\n",
    "    ) \n",
    "\n",
    "    messages = [{\n",
    "        \"role\": \"system\",\n",
    "        \"content\": system_prompt\n",
    "    }] + state[\"messages\"]\n",
    "\n",
    "    ai_msg = llm.bind_tools([transfer_to_multiplication_expert]).invoke(messages)\n",
    "\n",
    "    if len(ai_msg.tool_calls) > 0:\n",
    "        tool_call_id = ai_msg.tool_calls[-1][\"id\"]\n",
    "        tool_msg = {\n",
    "            \"role\": \"tool\",\n",
    "            \"content\": \"Successfully transferred to multiplication expert.\",\n",
    "            \"tool_call_id\": tool_call_id,\n",
    "        }   \n",
    "        return Command(goto=\"multiplication_expert\", update={\"messages\": [ai_msg, tool_msg]})\n",
    "    \n",
    "    return {\"messages\": [ai_msg]}"
   ]
  },
  {
   "cell_type": "code",
   "execution_count": 15,
   "id": "abab2edb",
   "metadata": {},
   "outputs": [],
   "source": [
    "def multiplication_expert(state: MessagesState) -> Command[Literal[\"additional_expert\", \"__end__\"]]:\n",
    "    \n",
    "    system_prompt = (\n",
    "        \"You are an expert multiplication agent, you can ask the addition expert for help with addition\"\n",
    "        \"After you have multiplied the two numbers, you must transfer control to the addition expert.\"\n",
    "        \"Always do your portions of the task to the best of your ability before the handoff.\"\n",
    "    )\n",
    "\n",
    "    messages = [{\n",
    "        \"role\": \"system\",\n",
    "        \"content\": system_prompt\n",
    "    }] + state[\"messages\"]\n",
    "\n",
    "    ai_msg = llm2.bind_tools([transfer_to_addition_expert]).invoke(messages)\n",
    "\n",
    "    if len(ai_msg.tool_calls) > 0:\n",
    "        tool_call_id = ai_msg.tool_calls[-1][\"id\"]\n",
    "        tool_msg = {\n",
    "            \"role\": \"tool\",\n",
    "            \"content\": \"Successfully transferred to addition expert.\",\n",
    "            \"tool_call_id\": tool_call_id,\n",
    "        }   \n",
    "        return Command(goto=\"additional_expert\", update={\"messages\": [ai_msg, tool_msg]})\n",
    "    return {\"messages\": [ai_msg]}"
   ]
  },
  {
   "cell_type": "code",
   "execution_count": 16,
   "id": "1d4ec1af",
   "metadata": {},
   "outputs": [],
   "source": [
    "graph = StateGraph(MessagesState)"
   ]
  },
  {
   "cell_type": "code",
   "execution_count": 17,
   "id": "457e8276",
   "metadata": {},
   "outputs": [
    {
     "data": {
      "text/plain": [
       "<langgraph.graph.state.StateGraph at 0x1256b3430>"
      ]
     },
     "execution_count": 17,
     "metadata": {},
     "output_type": "execute_result"
    }
   ],
   "source": [
    "graph.add_node(\"additional_expert\",additional_expert)"
   ]
  },
  {
   "cell_type": "code",
   "execution_count": 18,
   "id": "bfc3c446",
   "metadata": {},
   "outputs": [
    {
     "data": {
      "text/plain": [
       "<langgraph.graph.state.StateGraph at 0x1256b3430>"
      ]
     },
     "execution_count": 18,
     "metadata": {},
     "output_type": "execute_result"
    }
   ],
   "source": [
    "graph.add_node(\"multiplication_expert\",multiplication_expert)"
   ]
  },
  {
   "cell_type": "code",
   "execution_count": 19,
   "id": "d757f93d",
   "metadata": {},
   "outputs": [
    {
     "data": {
      "text/plain": [
       "<langgraph.graph.state.StateGraph at 0x1256b3430>"
      ]
     },
     "execution_count": 19,
     "metadata": {},
     "output_type": "execute_result"
    }
   ],
   "source": [
    "graph.add_edge(START,\"additional_expert\")"
   ]
  },
  {
   "cell_type": "code",
   "execution_count": 20,
   "id": "9d096c4b",
   "metadata": {},
   "outputs": [],
   "source": [
    "app = graph.compile()"
   ]
  },
  {
   "cell_type": "code",
   "execution_count": 21,
   "id": "0ea3fd4f",
   "metadata": {},
   "outputs": [],
   "source": [
    "# display(Image(app.get_graph().draw_mermaid_png()))"
   ]
  },
  {
   "cell_type": "code",
   "execution_count": 22,
   "id": "f61ebc00",
   "metadata": {},
   "outputs": [
    {
     "data": {
      "text/plain": [
       "{'messages': [HumanMessage(content=\"what's (3 + 5) * 12. Provide me the output\", additional_kwargs={}, response_metadata={}, id='4ba4504e-a432-41ee-a957-c54a36f9f435'),\n",
       "  AIMessage(content='', additional_kwargs={'tool_calls': [{'id': 'r0s9kfpgz', 'function': {'arguments': '{\"sum\":8}', 'name': 'transfer_to_multiplication_expert'}, 'type': 'function'}]}, response_metadata={'token_usage': {'completion_tokens': 18, 'prompt_tokens': 301, 'total_tokens': 319, 'completion_time': 0.057563357, 'prompt_time': 0.025417995, 'queue_time': 0.209828801, 'total_time': 0.082981352}, 'model_name': 'llama-3.3-70b-versatile', 'system_fingerprint': 'fp_155ab82e98', 'service_tier': 'on_demand', 'finish_reason': 'tool_calls', 'logprobs': None}, id='run--2626918a-b1d2-47c6-9596-529f8ac4513f-0', tool_calls=[{'name': 'transfer_to_multiplication_expert', 'args': {'sum': 8}, 'id': 'r0s9kfpgz', 'type': 'tool_call'}], usage_metadata={'input_tokens': 301, 'output_tokens': 18, 'total_tokens': 319}),\n",
       "  ToolMessage(content='Successfully transferred to multiplication expert.', id='f3104f06-85d0-46ea-8d20-440496d31a07', tool_call_id='r0s9kfpgz'),\n",
       "  AIMessage(content='The result of (3 + 5) multiplied by 12 is calculated as follows:\\n\\n1. First, add the numbers inside the parentheses: 3 + 5 = 8.\\n2. Then, multiply the result by 12: 8 * 12 = 96.\\n\\nTherefore, (3 + 5) * 12 equals **96**.', additional_kwargs={'reasoning_content': \"Alright, so I'm trying to solve the problem (3 + 5) * 12. Let me break it down step by step because I want to make sure I understand each part correctly.\\n\\nFirst, I see that there are parentheses around the 3 + 5. I remember from math class that parentheses mean I should do that part first. So, I need to add 3 and 5 together. \\n\\nLet me write that down: 3 + 5. Hmm, that should be 8. Okay, so now the problem simplifies to 8 * 12. \\n\\nNext, I need to multiply 8 by 12. I'm not entirely sure about the exact steps for multiplying these numbers, so I'll try to remember how multiplication works. I think it's like adding 8 to itself 12 times, but that might take too long. Maybe there's a quicker way.\\n\\nI recall that multiplication is just repeated addition, so 8 * 12 means adding 8 twelve times. But doing that manually could be error-prone, especially if I lose count. Maybe I can break it down further to make it easier.\\n\\nI know that 12 can be split into 10 + 2. So, 8 * 12 is the same as (8 * 10) + (8 * 2). Let's calculate each part separately.\\n\\nFirst, 8 * 10. Well, multiplying by 10 is straightforward; you just add a zero. So, 8 * 10 = 80.\\n\\nNext, 8 * 2. That's simpler: 8 + 8 = 16.\\n\\nNow, I add the two results together: 80 + 16. Adding these gives me 96.\\n\\nWait a minute, let me double-check that. If I add 8 twelve times: 8 + 8 = 16, plus another 8 makes 24, plus another 8 is 32, then 40, 48, 56, 64, 72, 80, 88, 96. Yes, that checks out. So, 8 * 12 is indeed 96.\\n\\nBut just to be thorough, maybe I should try another method to confirm. I remember something about the distributive property, where I can break down the numbers to make multiplication easier.\\n\\nLet's try that. 12 can be broken down into 10 + 2, as I did before. But maybe I can break it down further, like into 5 + 7, or some other combination. Let's see.\\n\\nIf I break 12 into 5 + 7, then 8 * 12 becomes (8 * 5) + (8 * 7). Let's calculate those.\\n\\n8 * 5 is 40, and 8 * 7 is 56. Adding those together: 40 + 56 = 96. Okay, same result.\\n\\nMaybe I can try breaking 12 into 6 + 6. Then, 8 * 6 is 48, and adding that twice gives me 96 again. Consistently, I'm getting 96 as the result.\\n\\nI think I'm confident now that (3 + 5) * 12 equals 96. But just to be extra sure, maybe I can use another method, like the lattice method or the area model.\\n\\nUsing the area model, I can visualize a rectangle where one side is 8 and the other is 12. The area of the rectangle represents the product. Breaking it down into smaller rectangles, like 8 * 10 and 8 * 2, and then adding those areas together, which again gives me 80 + 16 = 96.\\n\\nAlternatively, I could use the lattice method. I draw a grid with 8 on one side and 12 on the other. Filling in the diagonals and counting the number of units gives me the same result: 96.\\n\\nAnother way to verify is by using division. If 8 * 12 = 96, then dividing 96 by 8 should give me 12. Let's check: 96 ÷ 8 = 12. That works. Similarly, 96 ÷ 12 = 8, which also checks out.\\n\\nI think I've used multiple methods to confirm that the result is 96. I feel pretty confident about this now. It's good to check my work in different ways to make sure I didn't make any mistakes along the way.\\n\\nIn summary, by first adding 3 and 5 to get 8, then multiplying 8 by 12 using various methods like repeated addition, distributive property, area model, and lattice method, and finally verifying through division, I consistently arrive at the same answer: 96. So, (3 + 5) * 12 equals 96.\\n\"}, response_metadata={'token_usage': {'completion_tokens': 1077, 'prompt_tokens': 244, 'total_tokens': 1321, 'completion_time': 4.022766312, 'prompt_time': 0.031242566, 'queue_time': 0.234726954, 'total_time': 4.054008878}, 'model_name': 'deepseek-r1-distill-llama-70b', 'system_fingerprint': 'fp_1bbe7845ec', 'service_tier': 'on_demand', 'finish_reason': 'stop', 'logprobs': None}, id='run--c06ef8bb-0608-4ccc-bf81-8bf12acb6647-0', usage_metadata={'input_tokens': 244, 'output_tokens': 1077, 'total_tokens': 1321})]}"
      ]
     },
     "execution_count": 22,
     "metadata": {},
     "output_type": "execute_result"
    }
   ],
   "source": [
    "app.invoke({\"messages\":[(\"user\",\"what's (3 + 5) * 12. Provide me the output\")]})"
   ]
  },
  {
   "cell_type": "code",
   "execution_count": 23,
   "id": "9c55fc4c",
   "metadata": {},
   "outputs": [],
   "source": [
    "from langchain_core.messages import convert_to_messages\n",
    "def pretty_print_messages(update):\n",
    "    if isinstance(update, tuple):\n",
    "        ns, update = update\n",
    "        # skip parent graph updates in the printouts\n",
    "        if len(ns) == 0:\n",
    "            return\n",
    "\n",
    "        graph_id = ns[-1].split(\":\")[0]\n",
    "        print(f\"Update from subgraph {graph_id}:\")\n",
    "        print(\"\\n\")\n",
    "\n",
    "    for node_name, node_update in update.items():\n",
    "        print(f\"Update from node {node_name}:\")\n",
    "        print(\"\\n\")\n",
    "\n",
    "        for m in convert_to_messages(node_update[\"messages\"]):\n",
    "            m.pretty_print()\n",
    "        print(\"\\n\")"
   ]
  },
  {
   "cell_type": "code",
   "execution_count": 24,
   "id": "c888c712",
   "metadata": {},
   "outputs": [
    {
     "name": "stdout",
     "output_type": "stream",
     "text": [
      "****chunk...****\n",
      "Update from node additional_expert:\n",
      "\n",
      "\n",
      "==================================\u001b[1m Ai Message \u001b[0m==================================\n",
      "Tool Calls:\n",
      "  transfer_to_multiplication_expert (d0qqv8kkw)\n",
      " Call ID: d0qqv8kkw\n",
      "  Args:\n",
      "    sum: 8\n",
      "=================================\u001b[1m Tool Message \u001b[0m=================================\n",
      "\n",
      "Successfully transferred to multiplication expert.\n",
      "\n",
      "\n",
      "****chunk...****\n",
      "Update from node multiplication_expert:\n",
      "\n",
      "\n",
      "==================================\u001b[1m Ai Message \u001b[0m==================================\n",
      "\n",
      "The result of (3 + 5) * 12 is 96. \n",
      "\n",
      "Step-by-step explanation:\n",
      "1. First, compute the addition inside the parentheses: 3 + 5 = 8.\n",
      "2. Next, multiply the sum by 12: 8 * 12 = 96.\n",
      "\n",
      "Answer: 96\n",
      "\n",
      "\n"
     ]
    }
   ],
   "source": [
    "# Let's run the graph with an expression that requires both addition and multiplication:\n",
    "for chunk in app.stream(\n",
    "    {\"messages\": [(\"user\", \"what's (3 + 5) * 12. Provide me the output\")]},\n",
    "):\n",
    "    print(\"****chunk...****\")\n",
    "    \n",
    "    pretty_print_messages(chunk)"
   ]
  },
  {
   "cell_type": "code",
   "execution_count": 25,
   "id": "90e6f1c8",
   "metadata": {},
   "outputs": [],
   "source": [
    "@tool\n",
    "def transfer_to_travel_advisor():\n",
    "    \"\"\" Ask the travel advisor agent for help \"\"\"\n",
    "    return "
   ]
  },
  {
   "cell_type": "code",
   "execution_count": 26,
   "id": "cccc47ca",
   "metadata": {},
   "outputs": [],
   "source": [
    "@tool\n",
    "def transfer_to_hotel_advisor():\n",
    "    \"\"\" Ask the hotel advisor agent for help \"\"\"\n",
    "    return"
   ]
  },
  {
   "cell_type": "code",
   "execution_count": 27,
   "id": "32702526",
   "metadata": {},
   "outputs": [],
   "source": [
    "def travel_advisor(state: MessagesState) -> Command[Literal[\"hotel_advisor\", \"__end__\"]]:\n",
    "\n",
    "    system_prompt = (\n",
    "        \"You are a general travel expert that can recommend travel destinations like Paris, New York, Tokyo, etc. \"\n",
    "        \"If you need hotel recommendations, you must ask 'hotel_advisor' for help\"\n",
    "    )\n",
    "\n",
    "    messages = [{\n",
    "        \"role\": \"system\",\n",
    "        \"content\": system_prompt\n",
    "    }] + state[\"messages\"]\n",
    "\n",
    "    ai_msg = llm.bind_tools([transfer_to_hotel_advisor]).invoke(messages)\n",
    "\n",
    "    if len(ai_msg.tool_calls) > 0:\n",
    "        tool_call_id = ai_msg.tool_calls[-1][\"id\"]\n",
    "        tool_msg = {\n",
    "            \"role\": \"tool\",\n",
    "            \"content\": \"Successfully transferred to hotel advisor.\",\n",
    "            \"tool_call_id\": tool_call_id,\n",
    "        }   \n",
    "        return Command(goto=\"hotel_advisor\", update={\"messages\": [ai_msg, tool_msg]})\n",
    "    return {\"messages\": [ai_msg]}"
   ]
  },
  {
   "cell_type": "code",
   "execution_count": 28,
   "id": "a0eff71e",
   "metadata": {},
   "outputs": [],
   "source": [
    "def hotel_advisor(state: MessagesState) -> Command[Literal[\"travel_advisor\", \"__end__\"]]:\n",
    "\n",
    "    system_prompt = (\n",
    "        \"You are a hotel expert that can recommend hotels in various cities. \"\n",
    "        \"You can only recommend hotels, you cannot recommend travel destinations. \"\n",
    "        \"If you need to recommend a travel destination, you must ask 'travel_advisor' for help\"\n",
    "    )\n",
    "\n",
    "    messages = [{\n",
    "        \"role\": \"system\",\n",
    "        \"content\": system_prompt\n",
    "    }] + state[\"messages\"]\n",
    "\n",
    "    ai_msg = llm2.bind_tools([transfer_to_travel_advisor]).invoke(messages)\n",
    "\n",
    "    if len(ai_msg.tool_calls) > 0:\n",
    "        tool_call_id = ai_msg.tool_calls[-1][\"id\"]\n",
    "        tool_msg = {\n",
    "            \"role\": \"tool\",\n",
    "            \"content\": \"Successfully transferred to travel advisor.\",\n",
    "            \"tool_call_id\": tool_call_id,\n",
    "        }   \n",
    "        return Command(goto=\"travel_advisor\", update={\"messages\": [ai_msg, tool_msg]})\n",
    "    return {\"messages\": [ai_msg]}"
   ]
  },
  {
   "cell_type": "code",
   "execution_count": 29,
   "id": "a010d843",
   "metadata": {},
   "outputs": [],
   "source": [
    "graph_builder = StateGraph(MessagesState)"
   ]
  },
  {
   "cell_type": "code",
   "execution_count": 30,
   "id": "0d646db7",
   "metadata": {},
   "outputs": [
    {
     "data": {
      "text/plain": [
       "<langgraph.graph.state.StateGraph at 0x127d8ef20>"
      ]
     },
     "execution_count": 30,
     "metadata": {},
     "output_type": "execute_result"
    }
   ],
   "source": [
    "graph_builder.add_node(\"travel_advisor\",travel_advisor)\n",
    "graph_builder.add_node(\"hotel_advisor\",hotel_advisor)"
   ]
  },
  {
   "cell_type": "code",
   "execution_count": 31,
   "id": "810eb9d2",
   "metadata": {},
   "outputs": [
    {
     "data": {
      "text/plain": [
       "<langgraph.graph.state.StateGraph at 0x127d8ef20>"
      ]
     },
     "execution_count": 31,
     "metadata": {},
     "output_type": "execute_result"
    }
   ],
   "source": [
    "graph_builder.add_edge(START,\"travel_advisor\")"
   ]
  },
  {
   "cell_type": "code",
   "execution_count": 32,
   "id": "a09ce0cf",
   "metadata": {},
   "outputs": [],
   "source": [
    "new_app = graph_builder.compile()"
   ]
  },
  {
   "cell_type": "code",
   "execution_count": null,
   "id": "be59c42a",
   "metadata": {},
   "outputs": [],
   "source": [
    "# display(Image(new_app.get_graph().draw_mermaid_png()))"
   ]
  },
  {
   "cell_type": "code",
   "execution_count": 33,
   "id": "7afa7859",
   "metadata": {},
   "outputs": [
    {
     "data": {
      "text/plain": [
       "{'messages': [HumanMessage(content='I am planning a trip to the Paris from Mumbai. Can you guide me on travel options and suggest the best hotel?', additional_kwargs={}, response_metadata={}, id='e8b74fb2-922e-4dd3-8745-788e44aa964c'),\n",
       "  AIMessage(content='To travel from Mumbai to Paris, you have several options. You can fly from Chhatrapati Shivaji Maharaj International Airport (BOM) in Mumbai to Paris Charles de Gaulle Airport (CDG) in Paris. Airlines such as Air France, Air India, and Emirates offer direct or connecting flights. Alternatively, you can also consider flying into Paris Orly Airport (ORY), which is another major airport serving the city.\\n\\nAs for the best hotel in Paris, I would recommend asking a hotel advisor for more specific and tailored advice, as they can provide the most up-to-date and detailed information on hotels that fit your budget, preferences, and the purpose of your trip.\\n\\n', additional_kwargs={'tool_calls': [{'id': 'rk7mm8kwc', 'function': {'arguments': 'null', 'name': 'transfer_to_hotel_advisor'}, 'type': 'function'}]}, response_metadata={'token_usage': {'completion_tokens': 150, 'prompt_tokens': 274, 'total_tokens': 424, 'completion_time': 0.457995032, 'prompt_time': 0.018109297, 'queue_time': 0.220907928, 'total_time': 0.476104329}, 'model_name': 'llama-3.3-70b-versatile', 'system_fingerprint': 'fp_155ab82e98', 'service_tier': 'on_demand', 'finish_reason': 'tool_calls', 'logprobs': None}, id='run--674a664c-627e-4190-ad5e-44adeec06568-0', tool_calls=[{'name': 'transfer_to_hotel_advisor', 'args': {}, 'id': 'rk7mm8kwc', 'type': 'tool_call'}], usage_metadata={'input_tokens': 274, 'output_tokens': 150, 'total_tokens': 424}),\n",
       "  ToolMessage(content='Successfully transferred to hotel advisor.', id='a5e8d491-1e37-427d-9af4-bdf26964f90a', tool_call_id='rk7mm8kwc'),\n",
       "  AIMessage(content='', additional_kwargs={'reasoning_content': \"Alright, the user is planning a trip from Mumbai to Paris. They're asking for both travel options and hotel recommendations. Since I'm set up as a hotel expert, I can't help with the travel destinations part. So, I should ask the travel advisor for assistance. I remember there's a tool called transfer_to_travel_advisor for that. I'll call that function without any arguments because it doesn't need specific parameters. This way, the user gets the help they need for their travel plans.\\n\", 'tool_calls': [{'id': '8k54xt8gm', 'function': {'arguments': '{}', 'name': 'transfer_to_travel_advisor'}, 'type': 'function'}]}, response_metadata={'token_usage': {'completion_tokens': 125, 'prompt_tokens': 242, 'total_tokens': 367, 'completion_time': 0.526550471, 'prompt_time': 0.031495468, 'queue_time': 0.212211398, 'total_time': 0.558045939}, 'model_name': 'deepseek-r1-distill-llama-70b', 'system_fingerprint': 'fp_1bbe7845ec', 'service_tier': 'on_demand', 'finish_reason': 'tool_calls', 'logprobs': None}, id='run--b9328037-30e3-484b-9aa0-bfeb76c39070-0', tool_calls=[{'name': 'transfer_to_travel_advisor', 'args': {}, 'id': '8k54xt8gm', 'type': 'tool_call'}], usage_metadata={'input_tokens': 242, 'output_tokens': 125, 'total_tokens': 367}),\n",
       "  ToolMessage(content='Successfully transferred to travel advisor.', id='8133c52d-2515-42c5-ad67-a5c2463cbaa3', tool_call_id='8k54xt8gm'),\n",
       "  AIMessage(content='There are several travel options from Mumbai to Paris. You can fly from Chhatrapati Shivaji Maharaj International Airport (BOM) in Mumbai to Paris Charles de Gaulle Airport (CDG) in Paris. The flight duration is approximately 10 hours and 30 minutes. You can choose from various airlines such as Air France, Air India, or Emirates.\\n\\nAs for the best hotel in Paris, I would recommend considering factors such as location, budget, and personal preferences. Some popular hotels in Paris include the Shangri-La Hotel, the Four Seasons Hotel George V, and the Hotel Plaza Athenee. However, for a more personalized recommendation, I would suggest asking the hotel advisor for help.\\n\\n', additional_kwargs={'tool_calls': [{'id': 'esyxnzecj', 'function': {'arguments': '{}', 'name': 'transfer_to_hotel_advisor'}, 'type': 'function'}]}, response_metadata={'token_usage': {'completion_tokens': 157, 'prompt_tokens': 333, 'total_tokens': 490, 'completion_time': 0.352084004, 'prompt_time': 0.028104883, 'queue_time': 0.211366522, 'total_time': 0.380188887}, 'model_name': 'llama-3.3-70b-versatile', 'system_fingerprint': 'fp_9e1e8f8435', 'service_tier': 'on_demand', 'finish_reason': 'tool_calls', 'logprobs': None}, id='run--a9444428-0062-4c57-bb56-fac19d10e464-0', tool_calls=[{'name': 'transfer_to_hotel_advisor', 'args': {}, 'id': 'esyxnzecj', 'type': 'tool_call'}], usage_metadata={'input_tokens': 333, 'output_tokens': 157, 'total_tokens': 490}),\n",
       "  ToolMessage(content='Successfully transferred to hotel advisor.', id='6b65b239-ea42-43ae-a154-fe966d81c457', tool_call_id='esyxnzecj'),\n",
       "  AIMessage(content='', additional_kwargs={'tool_calls': [{'id': '3f1rtn9fj', 'function': {'arguments': '{}', 'name': 'transfer_to_travel_advisor'}, 'type': 'function'}]}, response_metadata={'token_usage': {'completion_tokens': 56, 'prompt_tokens': 352, 'total_tokens': 408, 'completion_time': 0.160259007, 'prompt_time': 0.057640713, 'queue_time': 0.229435895, 'total_time': 0.21789972}, 'model_name': 'deepseek-r1-distill-llama-70b', 'system_fingerprint': 'fp_1bbe7845ec', 'service_tier': 'on_demand', 'finish_reason': 'tool_calls', 'logprobs': None}, id='run--544989a6-1c0b-4bc4-852e-0c48e1ad8087-0', tool_calls=[{'name': 'transfer_to_travel_advisor', 'args': {}, 'id': '3f1rtn9fj', 'type': 'tool_call'}], usage_metadata={'input_tokens': 352, 'output_tokens': 56, 'total_tokens': 408}),\n",
       "  ToolMessage(content='Successfully transferred to travel advisor.', id='3415c53d-ca5d-43bc-8e71-34404df58a9c', tool_call_id='3f1rtn9fj'),\n",
       "  AIMessage(content=\"To travel from Mumbai to Paris, you have several options:\\n\\n1. Flight: The fastest way to reach Paris from Mumbai is by taking a flight. There are several airlines that operate direct or connecting flights from Mumbai's Chhatrapati Shivaji Maharaj International Airport (BOM) to Paris' Charles de Gaulle Airport (CDG) or Orly Airport (ORY). Some of the airlines that operate this route include Air France, Lufthansa, Swiss International Air Lines, and Turkish Airlines.\\n\\n2. Train and Bus: While there are no direct trains or buses from Mumbai to Paris, you can take a train or bus to a nearby city with an international airport and then fly to Paris. However, this option is not recommended as it would be very time-consuming and may not be cost-effective.\\n\\n3. Cruise: If you have a lot of time and want to enjoy a leisurely journey, you can take a cruise from Mumbai to Paris. Several cruise lines operate this route, but it can take around 20-30 days to reach Paris, depending on the cruise line and the itinerary.\\n\\nAs for the best hotel in Paris, it depends on your budget and preferences. Paris has a wide range of hotels, from budget-friendly options like Ibis and Premier Inn to luxury hotels like the Ritz Paris and the Shangri-La Hotel. Some popular hotels in Paris include:\\n\\n1. Hotel Plaza Athenee: A 5-star hotel located in the heart of Paris, known for its luxurious rooms and excellent service.\\n2. Le Bristol Paris: A 5-star hotel that offers elegant rooms, a spa, and a fitness center.\\n3. Hotel Le Walt: A 4-star hotel that offers comfortable rooms, a restaurant, and a bar.\\n4. Ibis Paris Gare de Lyon Reuilly: A 3-star hotel that offers affordable rooms, a restaurant, and a bar.\\n\\nIt's always a good idea to research and compare prices before booking a hotel, and to read reviews from other travelers to get an idea of the hotel's quality and service.\", additional_kwargs={}, response_metadata={'token_usage': {'completion_tokens': 422, 'prompt_tokens': 392, 'total_tokens': 814, 'completion_time': 0.957264739, 'prompt_time': 0.032335286, 'queue_time': 0.224094416, 'total_time': 0.989600025}, 'model_name': 'llama-3.3-70b-versatile', 'system_fingerprint': 'fp_9e1e8f8435', 'service_tier': 'on_demand', 'finish_reason': 'stop', 'logprobs': None}, id='run--aee3a64b-d21b-4ccb-a27f-022ade808076-0', usage_metadata={'input_tokens': 392, 'output_tokens': 422, 'total_tokens': 814})]}"
      ]
     },
     "execution_count": 33,
     "metadata": {},
     "output_type": "execute_result"
    }
   ],
   "source": [
    "new_app.invoke({\"messages\":[(\"user\",\"I am planning a trip to the Paris from Mumbai. Can you guide me on travel options and suggest the best hotel?\")]})"
   ]
  },
  {
   "cell_type": "code",
   "execution_count": 38,
   "id": "d1aeceb8",
   "metadata": {},
   "outputs": [
    {
     "name": "stdout",
     "output_type": "stream",
     "text": [
      "****chunk****\n",
      "Update from node travel_advisor:\n",
      "\n",
      "\n",
      "==================================\u001b[1m Ai Message \u001b[0m==================================\n",
      "\n",
      "To travel from Mumbai to Paris, you have several options. You can fly from Chhatrapati Shivaji Maharaj International Airport (BOM) in Mumbai to Paris Charles de Gaulle Airport (CDG) or Paris Orly Airport (ORY) with airlines such as Air France, Emirates, or Lufthansa. The flight duration is approximately 10-11 hours, depending on the airline and route. Alternatively, you can also consider flying with a layover, which may be cheaper but takes longer.\n",
      "\n",
      "For the best hotel recommendations in Paris, I would like to ask the hotel advisor for help.\n",
      "Tool Calls:\n",
      "  transfer_to_hotel_advisor (7g2x9fyxd)\n",
      " Call ID: 7g2x9fyxd\n",
      "  Args:\n",
      "=================================\u001b[1m Tool Message \u001b[0m=================================\n",
      "\n",
      "Successfully transferred to hotel advisor.\n",
      "\n",
      "\n",
      "****chunk****\n",
      "Update from node hotel_advisor:\n",
      "\n",
      "\n",
      "==================================\u001b[1m Ai Message \u001b[0m==================================\n",
      "Tool Calls:\n",
      "  transfer_to_travel_advisor (7g2x9fyxd)\n",
      " Call ID: 7g2x9fyxd\n",
      "  Args:\n",
      "=================================\u001b[1m Tool Message \u001b[0m=================================\n",
      "\n",
      "Successfully transferred to travel advisor.\n",
      "\n",
      "\n",
      "****chunk****\n",
      "Update from node travel_advisor:\n",
      "\n",
      "\n",
      "==================================\u001b[1m Ai Message \u001b[0m==================================\n",
      "\n",
      "To travel from Mumbai to Paris, you have several options:\n",
      "\n",
      "1. Flight: The fastest way to reach Paris from Mumbai is by taking a flight. There are several airlines that operate direct or connecting flights from Mumbai's Chhatrapati Shivaji Maharaj International Airport (BOM) to Paris's Charles de Gaulle Airport (CDG) or Orly Airport (ORY). Some of the airlines that operate this route include Air France, Air India, and Emirates.\n",
      "\n",
      "2. Train and Ferry: Another option is to take a train from Mumbai to a port city in Europe, such as London or Rotterdam, and then take a ferry to France. This option is more time-consuming and may not be as convenient as flying, but it can be a unique and exciting experience.\n",
      "\n",
      "3. Cruise: You can also travel from Mumbai to Paris by taking a cruise ship. Several cruise lines operate from Mumbai to European ports, including Paris. This option is more leisurely and allows you to enjoy the amenities on board while traveling.\n",
      "\n",
      "\n"
     ]
    }
   ],
   "source": [
    "for chunk in new_app.stream(\n",
    "    {\"messages\": [(\"user\", \"I am planning a trip to the Paris from Mumbai. Can you guide me on travel options and suggest the best hotel?\")]},\n",
    "):\n",
    "    print(\"****chunk****\")\n",
    "    \n",
    "    pretty_print_messages(chunk)"
   ]
  },
  {
   "cell_type": "code",
   "execution_count": 37,
   "id": "da8fd9b8",
   "metadata": {},
   "outputs": [
    {
     "name": "stdout",
     "output_type": "stream",
     "text": [
      "****chunk****\n",
      "Update from node travel_advisor:\n",
      "\n",
      "\n",
      "==================================\u001b[1m Ai Message \u001b[0m==================================\n",
      "\n",
      "To find the best flight options from Mumbai to California, I can suggest searching for flights on various airlines such as Air India, Emirates, or Lufthansa. However, for real-time information and to get the most up-to-date flight schedules and prices, I recommend checking with the airlines directly or using a flight booking website.\n",
      "\n",
      "For hotel recommendations, I'd be happy to ask the hotel advisor agent for help.\n",
      "Tool Calls:\n",
      "  transfer_to_hotel_advisor (3em9r364f)\n",
      " Call ID: 3em9r364f\n",
      "  Args:\n",
      "=================================\u001b[1m Tool Message \u001b[0m=================================\n",
      "\n",
      "Successfully transferred to hotel advisor.\n",
      "\n",
      "\n",
      "****chunk****\n",
      "Update from node hotel_advisor:\n",
      "\n",
      "\n",
      "==================================\u001b[1m Ai Message \u001b[0m==================================\n",
      "\n",
      "Sure! For flight options from Mumbai to California, I'll need to transfer your request to the travel advisor. For hotel recommendations, I can help you with that.\n",
      "Tool Calls:\n",
      "  transfer_to_travel_advisor (yv9ndsd1x)\n",
      " Call ID: yv9ndsd1x\n",
      "  Args:\n",
      "=================================\u001b[1m Tool Message \u001b[0m=================================\n",
      "\n",
      "Successfully transferred to travel advisor.\n",
      "\n",
      "\n",
      "****chunk****\n",
      "Update from node travel_advisor:\n",
      "\n",
      "\n",
      "==================================\u001b[1m Ai Message \u001b[0m==================================\n",
      "\n",
      "For flight options from Mumbai to California, you can consider airlines such as Air India, United Airlines, and Delta Air Lines. They offer multiple flights per week, with layovers in cities like London, Paris, or Dubai. The travel time is around 20-24 hours, depending on the route and layovers.\n",
      "\n",
      "As for hotel recommendations, some top options in California include:\n",
      "\n",
      "1. The Ritz-Carlton, Los Angeles - a luxurious hotel with modern amenities and a rooftop pool.\n",
      "2. The Fairmont San Francisco - a historic hotel with elegant rooms and a fitness center.\n",
      "3. The Four Seasons Hotel San Francisco - a 5-star hotel with a spa, spa, and stunning views of the city.\n",
      "4. The Beverly Hills Hotel - a iconic hotel with luxurious rooms and a pool.\n",
      "5. The Hotel del Coronado - a beachfront hotel with comfortable rooms and a private beach.\n",
      "\n",
      "These hotels offer a comfortable and convenient stay, with easy access to popular attractions and activities in California.\n",
      "\n",
      "\n"
     ]
    }
   ],
   "source": [
    "for chunk in new_app.stream(\n",
    "    {\"messages\": [(\"user\", \"What are the best flight options from Mumbai to California, and can you recommend top hotels for a comfortable and convenient stay?\")]},\n",
    "):\n",
    "    print(\"****chunk****\")\n",
    "    \n",
    "    pretty_print_messages(chunk)"
   ]
  },
  {
   "cell_type": "code",
   "execution_count": null,
   "id": "588bbf8a",
   "metadata": {},
   "outputs": [],
   "source": []
  }
 ],
 "metadata": {
  "kernelspec": {
   "display_name": "Python 3",
   "language": "python",
   "name": "python3"
  },
  "language_info": {
   "codemirror_mode": {
    "name": "ipython",
    "version": 3
   },
   "file_extension": ".py",
   "mimetype": "text/x-python",
   "name": "python",
   "nbconvert_exporter": "python",
   "pygments_lexer": "ipython3",
   "version": "3.10.18"
  }
 },
 "nbformat": 4,
 "nbformat_minor": 5
}
