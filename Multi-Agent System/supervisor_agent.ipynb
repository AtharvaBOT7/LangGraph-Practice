{
 "cells": [
  {
   "cell_type": "code",
   "execution_count": 1,
   "id": "ce3cefbd",
   "metadata": {},
   "outputs": [],
   "source": [
    "from typing_extensions import Literal, Annotated \n",
    "from langchain_core.tools import tool\n",
    "from langchain_groq import ChatGroq\n",
    "from langgraph.graph import MessagesState, StateGraph,START,END\n",
    "from langgraph.types import Command\n",
    "from dotenv import load_dotenv\n",
    "from IPython.display import Image, display\n",
    "from langchain_core.messages import BaseMessage, HumanMessage\n",
    "from langgraph.prebuilt import create_react_agent\n",
    "from typing import Annotated\n",
    "from langchain_experimental.utilities import PythonREPL\n",
    "from langchain_experimental.utilities import PythonREPL\n",
    "from typing_extensions import TypedDict\n",
    "import os\n",
    "from langchain_community.tools.tavily_search import TavilySearchResults\n",
    "from langgraph.prebuilt import create_react_agent"
   ]
  },
  {
   "cell_type": "code",
   "execution_count": 2,
   "id": "959c6e49",
   "metadata": {},
   "outputs": [
    {
     "data": {
      "text/plain": [
       "True"
      ]
     },
     "execution_count": 2,
     "metadata": {},
     "output_type": "execute_result"
    }
   ],
   "source": [
    "load_dotenv()"
   ]
  },
  {
   "cell_type": "code",
   "execution_count": 3,
   "id": "d2aadbeb",
   "metadata": {},
   "outputs": [],
   "source": [
    "GOOGLE_API_KEY = os.getenv(\"GOOGLE_API_KEY\")\n",
    "TAVILY_API_KEY = os.getenv(\"TAVILY_API_KEY\")\n",
    "GROQ_API_KEY = os.getenv(\"GROQ_API_KEY\")\n",
    "LANGCHAIN_API_KEY = os.getenv(\"LANGCHAIN_API_KEY\")\n",
    "LANGSMITH_PROJECT = os.getenv(\"LANGSMITH_PROJECT\")\n",
    "HUGGINGFACE_API_KEY = os.getenv(\"HUGGINGFACE_API_KEY\")\n",
    "SERPER_API_KEY = os.getenv(\"SERPER_API_KEY\")\n",
    "LANGCHAIN_TRACING = os.getenv(\"LANGCHAIN_TRACING\")\n",
    "LANGSMITH_ENDPOINT = os.getenv(\"LANGSMITH_ENDPOINT\")\n",
    "\n",
    "os.environ[\"GOOGLE_API_KEY\"] = GOOGLE_API_KEY\n",
    "os.environ[\"TAVILY_API_KEY\"] = TAVILY_API_KEY\n",
    "os.environ[\"GROQ_API_KEY\"] = GROQ_API_KEY\n",
    "os.environ[\"LANGCHAIN_API_KEY\"] = LANGCHAIN_API_KEY\n",
    "os.environ[\"LANGSMITH_PROJECT\"] = LANGSMITH_PROJECT\n",
    "os.environ[\"HUGGINGFACE_API_KEY\"] = HUGGINGFACE_API_KEY\n",
    "os.environ[\"SERPER_API_KEY\"] = SERPER_API_KEY\n",
    "\n",
    "os.environ[\"LANGCHAIN_TRACING\"] = LANGCHAIN_TRACING\n",
    "os.environ[\"LANGSMITH_ENDPOINT\"] = LANGSMITH_ENDPOINT\n"
   ]
  },
  {
   "cell_type": "code",
   "execution_count": 4,
   "id": "180e1248",
   "metadata": {},
   "outputs": [],
   "source": [
    "from langchain_groq import ChatGroq\n",
    "\n",
    "llm = ChatGroq(model_name = \"deepseek-r1-distill-llama-70b\")"
   ]
  },
  {
   "cell_type": "code",
   "execution_count": 5,
   "id": "4bbdd31a",
   "metadata": {},
   "outputs": [
    {
     "data": {
      "text/plain": [
       "AIMessage(content='<think>\\n\\n</think>\\n\\nHello! How can I assist you today? 😊', additional_kwargs={}, response_metadata={'token_usage': {'completion_tokens': 16, 'prompt_tokens': 4, 'total_tokens': 20, 'completion_time': 0.075977248, 'prompt_time': 0.009812677, 'queue_time': 0.20898452, 'total_time': 0.085789925}, 'model_name': 'deepseek-r1-distill-llama-70b', 'system_fingerprint': 'fp_1bbe7845ec', 'service_tier': 'on_demand', 'finish_reason': 'stop', 'logprobs': None}, id='run--775c0bf8-6083-436d-aee9-6af0ea39f956-0', usage_metadata={'input_tokens': 4, 'output_tokens': 16, 'total_tokens': 20})"
      ]
     },
     "execution_count": 5,
     "metadata": {},
     "output_type": "execute_result"
    }
   ],
   "source": [
    "llm.invoke(\"Hi\")"
   ]
  },
  {
   "cell_type": "code",
   "execution_count": 6,
   "id": "3a29da0e",
   "metadata": {},
   "outputs": [
    {
     "data": {
      "text/plain": [
       "\"\\n\\nHello! I'm just a computer program, so I don't have feelings, but I'm here and ready to help you with whatever you need. How can I assist you today?\""
      ]
     },
     "execution_count": 6,
     "metadata": {},
     "output_type": "execute_result"
    }
   ],
   "source": [
    "def clean_text(text):\n",
    "    import re\n",
    "    clean_text = re.sub(r\"<think>.*?</think>\", \"\", text, flags=re.DOTALL)\n",
    "    return clean_text\n",
    "\n",
    "response = llm.invoke(\"Hello!<think>this is a thought</think> How are you?\")\n",
    "clean_text(response.content)"
   ]
  },
  {
   "cell_type": "code",
   "execution_count": 7,
   "id": "ce51b70f",
   "metadata": {},
   "outputs": [
    {
     "name": "stderr",
     "output_type": "stream",
     "text": [
      "/var/folders/p_/v95prvpj4cz7y53gvmgm1d_r0000gn/T/ipykernel_55241/583234793.py:1: LangChainDeprecationWarning: The class `TavilySearchResults` was deprecated in LangChain 0.3.25 and will be removed in 1.0. An updated version of the class exists in the :class:`~langchain-tavily package and should be used instead. To use it run `pip install -U :class:`~langchain-tavily` and import as `from :class:`~langchain_tavily import TavilySearch``.\n",
      "  tavily_tool = TavilySearchResults()\n"
     ]
    }
   ],
   "source": [
    "tavily_tool = TavilySearchResults()"
   ]
  },
  {
   "cell_type": "code",
   "execution_count": 8,
   "id": "17aaad4c",
   "metadata": {},
   "outputs": [
    {
     "data": {
      "text/plain": [
       "[{'title': 'Cristiano Ronaldo',\n",
       "  'url': 'https://en.wikipedia.org/wiki/Cristiano_Ronaldo',\n",
       "  'content': 'Cristiano Ronaldo dos Santos Aveiro (Portuguese pronunciation: (/wiki/Help:IPA/Portuguese \"Help:IPA/Portuguese\") ⓘ; born 5 February 1985) is a Portuguese professional footballer who plays as a forward \"Forward (association football)\") for, and captains \"Captain (association football)\"), both Saudi Pro League club Al-Nassr and the Portugal national team. Nicknamed CR7, he is widely regarded as one of the greatest players in history, and has won numerous individual accolades throughout his [...] One of the world\\'s most marketable and famous athletes, Ronaldo was ranked the world\\'s highest-paid athlete by Forbes on five occasions, and the world\\'s most famous athlete by ESPN from 2016 to 2019. Time \"Time (magazine)\") included him on their list of the 100 most influential people in the world in 2014. He is the most popular sportsperson on social media: he counts over 1 billion total followers across Facebook, Twitter, YouTube and Instagram, making him the first person to achieve that [...] |  |  |\\n --- |\\n| |  |  | This article is part ofa series about Cristiano Ronaldo | |\\n| Portuguese professional footballer    Career  International goals  Achievements  Rivalry with Lionel Messi   Eponyms and public art    Cristiano Ronaldo International Airport  Estádio da Madeira  Museu CR7   Media    The World at His Feet (2014)  Ronaldo (2015) \"Ronaldo (film)\")   Family    Kátia Aveiro  Georgina Rodríguez   Related    Galaxy CR7  Pestana Group  UFL (video game) \"UFL (video game)\") |',\n",
       "  'score': 0.8724455},\n",
       " {'title': 'Cristiano Ronaldo | Biography, Football, & Facts | Britannica',\n",
       "  'url': 'https://www.britannica.com/biography/Cristiano-Ronaldo',\n",
       "  'content': 'Cristiano Ronaldo (born February 5, 1985, Funchal, Madeira, Portugal) is a Portuguese football (soccer) forward who is one of the greatest players of his generation. Ronaldo is the winner of five Ballon d’Or awards (2008, 2013, 2014, 2016, and 2017), and in 2024 he became the first men’s player to score 900 career goals in official matches.\\n\\n## Early life and career [...] Ronaldo was one of the most well-known sports stars off the field, and numerous studies of athletes’ popularity showed that he was the most-beloved athlete in the world during his playing peak. His extreme popularity made Ronaldo one of the highest-paid endorsers in sports history, and in November 2016 he became the third person (after basketball superstars Michael Jordan and LeBron James) to earn a “lifetime” contract from the sportswear company Nike. Moreover, he established his own [...] A tall player at 6 feet 1 inch (1.85 meters), Ronaldo was a formidable athlete on the pitch. Originally a right-winger, he developed into a forward with a free-reined attacking style. He was able to mesmerize opponents with a sleight of foot that made sufficient space for openings in opposing defenses.\\n\\nBritannica Quiz\\n\\nGreat Moments in Sports Quiz\\n\\n## Club play',\n",
       "  'score': 0.86767644},\n",
       " {'title': 'Cristiano Ronaldo: Biography, Soccer Player, Al-Nassr Star',\n",
       "  'url': 'https://www.biography.com/athletes/cristiano-ronaldo',\n",
       "  'content': 'Portuguese soccer superstar Cristiano Ronaldo is one of the greatest athletes in the sport’s history, winning the Ballon d’Or five times and becoming the first player to score 900 career goals. Considered a phenom as a teenager, 16-year-old Ronaldo signed with Manchester United in a record deal for a player of his age. He set a franchise record for goals scored in 2008, before transferring to Real Madrid the following year. He has since played for Italian Serie A club Juventus and is currently [...] Cristiano Ronaldo dos Santos Aveiro was born on February 5, 1985, in Funchal, Portugal, on the small island of Madeira off the country’s southwestern coast. He is the youngest of four children born to Maria Dolores dos Santos and José Dinis Aveiro. He was named after former U.S. President Ronald Reagan, one of his father’s favorite actors. [...] Skip to Content\\n\\n1. Famous Athletes\\n2. Cristiano Ronaldo\\n\\n# Cristiano Ronaldo\\n\\nCristiano Ronaldo is the first men’s soccer player to record 900 career goals. He currently plays for the Portuguese national team and the Saudi Arabian club Al-Nassr.\\n\\nBy Biography.com Editors and Tyler Piccotti\\n\\nGetty Images\\n\\nWe may earn commission from links on this page, but we only recommend products we back.\\n\\n> 1985–present\\n\\n## Cristiano Ronaldo News: Soccer Star Shares Engagement with Georgina Rodríguez',\n",
       "  'score': 0.84858394},\n",
       " {'title': 'Cristiano Ronaldo: The Biography: 9781474611565: Balague, Guillem',\n",
       "  'url': 'https://www.amazon.com/Cristiano-Ronaldo-Biography-Guillem-Balague/dp/1474611567',\n",
       "  'content': \"Page 1 of 1 Start over\\n\\nPrevious set of slides\\n\\n1. Cristiano Ronaldo: The Inspiring Story of One of Soccer’s Star Forwards (Soccer Biography Books)\\n\\n   Clayton Geoffreys\\n\\n   4.4 out of 5 stars\\u200963\\n\\n   Paperback\\n\\n   $9.99$9.99\\n\\n   Get it as soon as Sunday, Aug 17\\n\\n   FREE Shipping on orders over $35 shipped by Amazon\\n2. Who Is Cristiano Ronaldo? (Who HQ Now)\\n\\n   James Buckley Jr.\\n\\n   4.7 out of 5 stars\\u2009675\\n\\n   Paperback\\n\\n   $5.01$5.01\\n\\n   Get it as soon as Sunday, Aug 17 [...] The definitive biography of Cristiano Ronaldo, named Football Book of the Year at the Cross Sports Book Awards 2016  \\n  \\nFully updated to include the 2017-18 season and Ronaldo's transfer to Juventus  \\n  \\nCristiano Ronaldo is one of the greatest footballers of all time, a dream he pursued from the age of just twelve when he left his humble origins on Madeira behind. [...] It wasn't long before he had the biggest clubs in Europe knocking on his door, but it was Manchester United who won the race for his signature. Under the tutelage of Sir Alex Ferguson, Ronaldo developed into the complete footballer and athlete, winning three league titles and a Champions League along the way.\",\n",
       "  'score': 0.72884524},\n",
       " {'title': 'Cristiano Ronaldo',\n",
       "  'url': 'https://www.mlssoccer.com/players/cristiano-ronaldo/',\n",
       "  'content': \"Cristiano Ronaldo is perhaps the best player in the world, having won the 2013 Ballon d'Or. His size, speed, and athleticism sets him apart from any other player he steps on the field with. He has scored the most goals in Portuguese national team history.\\n\\nPORTUGUESE NATIONAL TEAM\\n\\nRonaldo is one of the most capped players in Portuguese history along with being the top scorer. He scored eight goals during this cycle of World Cup qualifying.\\n\\nCLUB CAREER [...] Ronaldo started his career with Sporting before signing with Manchester United prior to the 2003-04 season. He scored 66 goals in the Premier League over his last three seasons and led the Red Devils to the 2007-08 Champions League title. Over the last five seasons with Real Madrid he has scored 177 goals in La Liga and recently won his second Champions League title.\",\n",
       "  'score': 0.70799106}]"
      ]
     },
     "execution_count": 8,
     "metadata": {},
     "output_type": "execute_result"
    }
   ],
   "source": [
    "tavily_tool.invoke(\"Who is Ronaldo?\")"
   ]
  },
  {
   "cell_type": "code",
   "execution_count": 9,
   "id": "80bd1754",
   "metadata": {},
   "outputs": [],
   "source": [
    "code = \"\"\" \n",
    "x = 5\n",
    "y = 4 \n",
    "result = x + y\n",
    "print(result ** 2)\n",
    "\"\"\""
   ]
  },
  {
   "cell_type": "code",
   "execution_count": 10,
   "id": "40f5d837",
   "metadata": {},
   "outputs": [],
   "source": [
    "@tool \n",
    "def python_repl_tool(\n",
    "    code: Annotated[str, \"The python code to execute to generate your chart.\"]\n",
    "):\n",
    "    \"\"\" \n",
    "    Use this to execute python code and do math. If you want to see the output of a value, \n",
    "    you should print it out with 'print(...)'. This is visible to the user.\n",
    "    \"\"\"\n",
    "    try:\n",
    "        result = PythonREPL().run(code)\n",
    "    except BaseException as e:\n",
    "        result = f\"Failed to execute code with error: {repr(e)}\"\n",
    "\n",
    "    result_str = f\"Successfully executed:\\n\\`\\`\\`python\\n{code}\\n\\`\\`\\`\\nStdout: {result}\"\n",
    "    return result_str"
   ]
  },
  {
   "cell_type": "code",
   "execution_count": 11,
   "id": "1800d9a7",
   "metadata": {},
   "outputs": [
    {
     "name": "stderr",
     "output_type": "stream",
     "text": [
      "Python REPL can execute arbitrary code. Use with caution.\n"
     ]
    },
    {
     "name": "stdout",
     "output_type": "stream",
     "text": [
      "Successfully executed:\n",
      "\\`\\`\\`python\n",
      " \n",
      "x = 5\n",
      "y = 4 \n",
      "result = x + y\n",
      "print(result ** 2)\n",
      "\n",
      "\\`\\`\\`\n",
      "Stdout: 81\n",
      "\n"
     ]
    }
   ],
   "source": [
    "print(python_repl_tool.invoke(code))"
   ]
  },
  {
   "cell_type": "code",
   "execution_count": 12,
   "id": "226b3c8a",
   "metadata": {},
   "outputs": [],
   "source": [
    "members = [\"researcher\", \"coder\"]"
   ]
  },
  {
   "cell_type": "code",
   "execution_count": 13,
   "id": "3e8ae654",
   "metadata": {},
   "outputs": [],
   "source": [
    "options = members + [\"FINISH\"]"
   ]
  },
  {
   "cell_type": "code",
   "execution_count": 14,
   "id": "a4792955",
   "metadata": {},
   "outputs": [
    {
     "data": {
      "text/plain": [
       "['researcher', 'coder', 'FINISH']"
      ]
     },
     "execution_count": 14,
     "metadata": {},
     "output_type": "execute_result"
    }
   ],
   "source": [
    "options"
   ]
  },
  {
   "cell_type": "code",
   "execution_count": 15,
   "id": "7cd7da76",
   "metadata": {},
   "outputs": [],
   "source": [
    "class Router(TypedDict):\n",
    "    \"\"\" Worker to route to next agent. If no workers are needed, route to FINISH. \"\"\"\n",
    "    next: Literal['researcher', 'coder', 'FINISH']"
   ]
  },
  {
   "cell_type": "code",
   "execution_count": 16,
   "id": "2f34c165",
   "metadata": {},
   "outputs": [],
   "source": [
    "class State(MessagesState):\n",
    "    next: str"
   ]
  },
  {
   "cell_type": "code",
   "execution_count": 17,
   "id": "136c7364",
   "metadata": {},
   "outputs": [],
   "source": [
    "system_prompt = \"\"\" \n",
    "You are a supervisor and you are tasked with managing a conversation between the following workers: {members}.\n",
    "Given the following user request, decide which worker to route to next. If no more workers are needed, route to FINISH.\n",
    "Each worker will perform their specific task and return their results and status to you. When finished, response with FINISH.\n",
    "\"\"\""
   ]
  },
  {
   "cell_type": "code",
   "execution_count": 18,
   "id": "2fbaa9d4",
   "metadata": {},
   "outputs": [],
   "source": [
    "def supervisor_node(state: State) -> Command[Literal[\"researcher\", \"coder\", \"__end__\"]]:\n",
    "    messages = [{\"role\": \"system\", \"content\": system_prompt},] + state[\"messages\"]\n",
    "\n",
    "    response = llm.with_structured_output(Router).invoke(messages)\n",
    "\n",
    "    goto = response[\"next\"]\n",
    "    print(f\"Routing to {goto}\")\n",
    "\n",
    "    if goto == \"FINISH\":\n",
    "        goto = END\n",
    "    return Command(goto=goto, update={\"next\": goto})"
   ]
  },
  {
   "cell_type": "code",
   "execution_count": 19,
   "id": "ca91650b",
   "metadata": {},
   "outputs": [],
   "source": [
    "def research_node(state: State) -> Command[Literal[\"supervisor\"]]:\n",
    "    research_agent = create_react_agent(\n",
    "        llm,\n",
    "        tools=[tavily_tool],\n",
    "        prompt=\"You are a researcher. DO not do any math. Just research the topic and return your findings.\"\n",
    "    )\n",
    "    result = research_agent.invoke(state)\n",
    "\n",
    "    return Command(\n",
    "        update = {\n",
    "            \"messages\": [HumanMessage(content=result[\"messages\"][-1].content, name=\"researcher\")]\n",
    "        },\n",
    "        goto=\"supervisor\",\n",
    "    )"
   ]
  },
  {
   "cell_type": "code",
   "execution_count": 20,
   "id": "47a444a9",
   "metadata": {},
   "outputs": [],
   "source": [
    "def code_node(state: State) -> Command[Literal[\"supervisor\"]]:\n",
    "    code_agent = create_react_agent(\n",
    "        llm,\n",
    "        tools=[python_repl_tool],\n",
    "        prompt=\"You are a coder. You can do math and write python code. Use python to do any calculations or generate any code.\"\n",
    "    )\n",
    "    result = code_agent.invoke(state)\n",
    "\n",
    "    return Command(\n",
    "        update = {\n",
    "            \"messages\": [HumanMessage(content=result[\"messages\"][-1].content, name=\"coder\")]\n",
    "        },\n",
    "        goto=\"supervisor\",\n",
    "    )\n",
    "    "
   ]
  },
  {
   "cell_type": "code",
   "execution_count": 21,
   "id": "3c21b3d5",
   "metadata": {},
   "outputs": [],
   "source": [
    "graph = StateGraph(State)"
   ]
  },
  {
   "cell_type": "code",
   "execution_count": 22,
   "id": "7c0494ef",
   "metadata": {},
   "outputs": [
    {
     "data": {
      "text/plain": [
       "<langgraph.graph.state.StateGraph at 0x1099b3490>"
      ]
     },
     "execution_count": 22,
     "metadata": {},
     "output_type": "execute_result"
    }
   ],
   "source": [
    "graph.add_node(\"supervisor\", supervisor_node)\n",
    "graph.add_node(\"researcher\", research_node)\n",
    "graph.add_node(\"coder\", code_node)"
   ]
  },
  {
   "cell_type": "code",
   "execution_count": 23,
   "id": "9eaa802d",
   "metadata": {},
   "outputs": [
    {
     "data": {
      "text/plain": [
       "<langgraph.graph.state.StateGraph at 0x1099b3490>"
      ]
     },
     "execution_count": 23,
     "metadata": {},
     "output_type": "execute_result"
    }
   ],
   "source": [
    "graph.add_edge(START, \"supervisor\")"
   ]
  },
  {
   "cell_type": "code",
   "execution_count": 24,
   "id": "9d012c0b",
   "metadata": {},
   "outputs": [],
   "source": [
    "app = graph.compile()"
   ]
  },
  {
   "cell_type": "code",
   "execution_count": 25,
   "id": "83e21000",
   "metadata": {},
   "outputs": [],
   "source": [
    "# from IPython.display import Image, display\n",
    "\n",
    "# display(Image(app.get_graph().draw_mermaid_png()))"
   ]
  },
  {
   "cell_type": "code",
   "execution_count": 26,
   "id": "ff4cc11f",
   "metadata": {},
   "outputs": [],
   "source": [
    "# for s in app.stream({\"messages\": [(\"user\", \"What's the square root of 42?\")]}, subgraphs=True):\n",
    "#     print(s)\n",
    "#     print(\"----\")"
   ]
  },
  {
   "cell_type": "code",
   "execution_count": 27,
   "id": "6d707f04",
   "metadata": {},
   "outputs": [],
   "source": [
    "# app.invoke({\"messages\": [(\"user\", \"What's the square root of 42?\")]})"
   ]
  },
  {
   "cell_type": "code",
   "execution_count": 28,
   "id": "55c0d505",
   "metadata": {},
   "outputs": [
    {
     "name": "stdout",
     "output_type": "stream",
     "text": [
      "Routing to researcher\n",
      "Routing to FINISH\n"
     ]
    },
    {
     "data": {
      "text/plain": [
       "{'messages': [HumanMessage(content=\"What's double the age of max verstappen??\", additional_kwargs={}, response_metadata={}, id='b0f118bb-9ba0-4973-87ba-71ed7e52cf78'),\n",
       "  HumanMessage(content='Max Verstappen was born on September 30, 1997, which makes him 26 years old as of 2023. Double his age would be 52.', additional_kwargs={}, response_metadata={}, name='researcher', id='a57cf3fe-f443-4d17-a02a-3680eed089cf')],\n",
       " 'next': '__end__'}"
      ]
     },
     "execution_count": 28,
     "metadata": {},
     "output_type": "execute_result"
    }
   ],
   "source": [
    "app.invoke({\"messages\": [(\"user\", \"What's double the age of max verstappen??\")]})"
   ]
  },
  {
   "cell_type": "code",
   "execution_count": null,
   "id": "8d114b12",
   "metadata": {},
   "outputs": [],
   "source": []
  }
 ],
 "metadata": {
  "kernelspec": {
   "display_name": "Python 3",
   "language": "python",
   "name": "python3"
  },
  "language_info": {
   "codemirror_mode": {
    "name": "ipython",
    "version": 3
   },
   "file_extension": ".py",
   "mimetype": "text/x-python",
   "name": "python",
   "nbconvert_exporter": "python",
   "pygments_lexer": "ipython3",
   "version": "3.10.18"
  }
 },
 "nbformat": 4,
 "nbformat_minor": 5
}
