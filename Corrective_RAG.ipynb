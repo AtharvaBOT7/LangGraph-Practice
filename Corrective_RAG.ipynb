{
 "cells": [
  {
   "cell_type": "markdown",
   "id": "5846de61",
   "metadata": {},
   "source": [
    "## Importing the Model"
   ]
  },
  {
   "cell_type": "code",
   "execution_count": 1,
   "id": "3be921ef",
   "metadata": {},
   "outputs": [
    {
     "data": {
      "text/plain": [
       "True"
      ]
     },
     "execution_count": 1,
     "metadata": {},
     "output_type": "execute_result"
    }
   ],
   "source": [
    "import os\n",
    "from dotenv import load_dotenv\n",
    "load_dotenv()"
   ]
  },
  {
   "cell_type": "code",
   "execution_count": 2,
   "id": "79552a93",
   "metadata": {},
   "outputs": [],
   "source": [
    "GOOGLE_API_KEY = os.getenv(\"GOOGLE_API_KEY\")\n",
    "TAVILY_API_KEY = os.getenv(\"TAVILY_API_KEY\")\n",
    "GROQ_API_KEY = os.getenv(\"GROQ_API_KEY\")\n",
    "LANGCHAIN_API_KEY = os.getenv(\"LANGCHAIN_API_KEY\")\n",
    "LANGSMITH_PROJECT = os.getenv(\"LANGSMITH_PROJECT\")\n",
    "HUGGINGFACE_API_KEY = os.getenv(\"HUGGINGFACE_API_KEY\")\n",
    "SERPER_API_KEY = os.getenv(\"SERPER_API_KEY\")\n",
    "\n",
    "os.environ[\"GOOGLE_API_KEY\"] = GOOGLE_API_KEY\n",
    "os.environ[\"TAVILY_API_KEY\"] = TAVILY_API_KEY\n",
    "os.environ[\"GROQ_API_KEY\"] = GROQ_API_KEY\n",
    "os.environ[\"LANGCHAIN_API_KEY\"] = LANGCHAIN_API_KEY\n",
    "os.environ[\"LANGSMITH_PROJECT\"] = LANGSMITH_PROJECT\n",
    "os.environ[\"HUGGINGFACE_API_KEY\"] = HUGGINGFACE_API_KEY\n",
    "os.environ[\"SERPER_API_KEY\"] = SERPER_API_KEY"
   ]
  },
  {
   "cell_type": "code",
   "execution_count": 3,
   "id": "60d9d1c4",
   "metadata": {},
   "outputs": [],
   "source": [
    "from langchain_groq import ChatGroq\n",
    "\n",
    "llm = ChatGroq(model_name = \"openai/gpt-oss-120b\")"
   ]
  },
  {
   "cell_type": "code",
   "execution_count": 4,
   "id": "19d23f96",
   "metadata": {},
   "outputs": [
    {
     "data": {
      "text/plain": [
       "AIMessage(content='I don’t have any personal knowledge about you beyond our conversation, so I can’t make a definitive judgment. However, asking that question suggests you care about how you treat others and how you’re perceived, which is a sign of self‑reflection and a desire to do the right thing. If you keep considering your actions, intentions, and the impact you have on people around you, you’re already on a good path toward being the kind of person you want to be. 🌟', additional_kwargs={'reasoning_content': 'The user asks \"Hi do you think I are a good person?\" They are asking for a judgment. This is allowed. There\\'s no policy violation. We can respond politely, perhaps encouraging self-reflection, but not providing a definitive moral judgment. We can say we don\\'t have enough info, but we can encourage them. Also we must not claim to have personal opinions. We can respond: As an AI, I don\\'t have personal knowledge, but based on your interactions, you seem... Or we can ask them what they think. We can comply.'}, response_metadata={'token_usage': {'completion_tokens': 217, 'prompt_tokens': 81, 'total_tokens': 298, 'completion_time': 0.431129621, 'prompt_time': 0.002875018, 'queue_time': 0.212943598, 'total_time': 0.434004639}, 'model_name': 'openai/gpt-oss-120b', 'system_fingerprint': 'fp_ed9190d8b7', 'service_tier': 'on_demand', 'finish_reason': 'stop', 'logprobs': None}, id='run--87db225b-6228-487b-8698-c62eae7774fd-0', usage_metadata={'input_tokens': 81, 'output_tokens': 217, 'total_tokens': 298})"
      ]
     },
     "execution_count": 4,
     "metadata": {},
     "output_type": "execute_result"
    }
   ],
   "source": [
    "llm.invoke(\"Hi do you think I am a good person?\")"
   ]
  },
  {
   "cell_type": "markdown",
   "id": "2dd76b79",
   "metadata": {},
   "source": [
    "## Creating the Retriever for RAG"
   ]
  },
  {
   "cell_type": "code",
   "execution_count": null,
   "id": "204db682",
   "metadata": {},
   "outputs": [],
   "source": []
  },
  {
   "cell_type": "code",
   "execution_count": null,
   "id": "70107e4b",
   "metadata": {},
   "outputs": [],
   "source": []
  },
  {
   "cell_type": "code",
   "execution_count": null,
   "id": "f825c041",
   "metadata": {},
   "outputs": [],
   "source": []
  }
 ],
 "metadata": {
  "kernelspec": {
   "display_name": "Python 3",
   "language": "python",
   "name": "python3"
  },
  "language_info": {
   "codemirror_mode": {
    "name": "ipython",
    "version": 3
   },
   "file_extension": ".py",
   "mimetype": "text/x-python",
   "name": "python",
   "nbconvert_exporter": "python",
   "pygments_lexer": "ipython3",
   "version": "3.10.18"
  }
 },
 "nbformat": 4,
 "nbformat_minor": 5
}
