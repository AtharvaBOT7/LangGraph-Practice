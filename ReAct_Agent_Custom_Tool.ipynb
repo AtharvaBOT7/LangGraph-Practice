{
 "cells": [
  {
   "cell_type": "code",
   "execution_count": 1,
   "id": "48ce0b31",
   "metadata": {},
   "outputs": [],
   "source": [
    "import os"
   ]
  },
  {
   "cell_type": "code",
   "execution_count": 2,
   "id": "319e2842",
   "metadata": {},
   "outputs": [
    {
     "data": {
      "text/plain": [
       "True"
      ]
     },
     "execution_count": 2,
     "metadata": {},
     "output_type": "execute_result"
    }
   ],
   "source": [
    "from dotenv import load_dotenv\n",
    "load_dotenv()"
   ]
  },
  {
   "cell_type": "code",
   "execution_count": null,
   "id": "fa4177c2",
   "metadata": {},
   "outputs": [],
   "source": [
    "GOOGLE_API_KEY = os.getenv(\"GOOGLE_API_KEY\")\n",
    "TAVILY_API_KEY = os.getenv(\"TAVILY_API_KEY\")\n",
    "GROQ_API_KEY = os.getenv(\"GROQ_API_KEY\")\n",
    "LANGCHAIN_API_KEY = os.getenv(\"LANGCHAIN_API_KEY\")\n",
    "LANGSMITH_PROJECT = os.getenv(\"LANGSMITH_PROJECT\")\n",
    "HUGGINGFACE_API_KEY = os.getenv(\"HUGGINGFACE_API_KEY\")\n",
    "SERPER_API_KEY = os.getenv(\"SERPER_API_KEY\")\n",
    "\n",
    "os.environ[\"GOOGLE_API_KEY\"] = GOOGLE_API_KEY\n",
    "os.environ[\"TAVILY_API_KEY\"] = TAVILY_API_KEY\n",
    "os.environ[\"GROQ_API_KEY\"] = GROQ_API_KEY\n",
    "os.environ[\"LANGCHAIN_API_KEY\"] = LANGCHAIN_API_KEY\n",
    "os.environ[\"LANGSMITH_PROJECT\"] = LANGSMITH_PROJECT\n",
    "os.environ[\"HUGGINGFACE_API_KEY\"] = HUGGINGFACE_API_KEY\n",
    "os.environ[\"SERPER_API_KEY\"] = SERPER_API_KEY"
   ]
  },
  {
   "cell_type": "code",
   "execution_count": 4,
   "id": "2fe4eea4",
   "metadata": {},
   "outputs": [
    {
     "name": "stderr",
     "output_type": "stream",
     "text": [
      "/Users/atharvabot7/Downloads/MLOPS-Tutorials/LangGraph/langgraph/lib/python3.10/site-packages/tqdm/auto.py:21: TqdmWarning: IProgress not found. Please update jupyter and ipywidgets. See https://ipywidgets.readthedocs.io/en/stable/user_install.html\n",
      "  from .autonotebook import tqdm as notebook_tqdm\n"
     ]
    }
   ],
   "source": [
    "from langchain_google_genai import ChatGoogleGenerativeAI\n",
    "from google import genai"
   ]
  },
  {
   "cell_type": "code",
   "execution_count": 5,
   "id": "3ecbebec",
   "metadata": {},
   "outputs": [],
   "source": [
    "llm = ChatGoogleGenerativeAI(model=\"gemini-2.5-pro\", convert_system_message_to_human=True)"
   ]
  },
  {
   "cell_type": "code",
   "execution_count": 6,
   "id": "7c47fb2b",
   "metadata": {},
   "outputs": [],
   "source": [
    "from langchain.agents import AgentType, initialize_agent, load_tools\n",
    "from langchain.utilities import GoogleSerperAPIWrapper\n",
    "from langchain.tools import Tool\n",
    "from langchain.agents import create_react_agent, AgentExecutor\n",
    "from langchain.prompts import PromptTemplate\n",
    "from langchain_core.tools import tool\n"
   ]
  },
  {
   "cell_type": "code",
   "execution_count": 7,
   "id": "bb587291",
   "metadata": {},
   "outputs": [],
   "source": [
    "import json, re "
   ]
  },
  {
   "cell_type": "code",
   "execution_count": 8,
   "id": "bc01d405",
   "metadata": {},
   "outputs": [],
   "source": [
    "def _extract_str(maybe_json: str, key: str | None = None) -> str:\n",
    "    \"\"\"Accepts plain strings or JSON strings like '{\"key\": \"value\"}'.\n",
    "       If key is provided, returns obj[key] when possible.\"\"\"\n",
    "    if isinstance(maybe_json, str):\n",
    "        s = maybe_json.strip()\n",
    "        # try to parse as JSON\n",
    "        if s.startswith(\"{\") and s.endswith(\"}\"):\n",
    "            try:\n",
    "                obj = json.loads(s)\n",
    "                if isinstance(obj, dict):\n",
    "                    if key and key in obj and isinstance(obj[key], str):\n",
    "                        return obj[key]\n",
    "                    # if no key, fall back to the first string value\n",
    "                    for v in obj.values():\n",
    "                        if isinstance(v, str):\n",
    "                            return v\n",
    "            except Exception:\n",
    "                pass\n",
    "        return s\n",
    "    # if somehow a dict slips through\n",
    "    if isinstance(maybe_json, dict):\n",
    "        if key and key in maybe_json and isinstance(maybe_json[key], str):\n",
    "            return maybe_json[key]\n",
    "        for v in maybe_json.values():\n",
    "            if isinstance(v, str):\n",
    "                return v\n",
    "    return \"\""
   ]
  },
  {
   "cell_type": "code",
   "execution_count": 9,
   "id": "a94b1678",
   "metadata": {},
   "outputs": [],
   "source": [
    "\n",
    "@tool\n",
    "def get_employee_id(name: str) -> str:\n",
    "    \"\"\"INPUT: employee name (case-insensitive). OUTPUT: ID like 'E005' or 'NOT_FOUND'.\"\"\"\n",
    "    name_to_id = {\n",
    "        \"alice\":\"E001\",\"bob\":\"E002\",\"charlie\":\"E003\",\"diana\":\"E004\",\"evan\":\"E005\",\n",
    "        \"fiona\":\"E006\",\"george\":\"E007\",\"hannah\":\"E008\",\"ian\":\"E009\",\"jasmine\":\"E010\",\n",
    "    }\n",
    "    name_str = _extract_str(name, key=\"name\").lower()\n",
    "    return name_to_id.get(name_str, \"NOT_FOUND\")"
   ]
  },
  {
   "cell_type": "code",
   "execution_count": 10,
   "id": "208c587d",
   "metadata": {},
   "outputs": [
    {
     "name": "stderr",
     "output_type": "stream",
     "text": [
      "/var/folders/p_/v95prvpj4cz7y53gvmgm1d_r0000gn/T/ipykernel_30137/494535035.py:1: LangChainDeprecationWarning: The method `BaseTool.__call__` was deprecated in langchain-core 0.1.47 and will be removed in 1.0. Use :meth:`~invoke` instead.\n",
      "  get_employee_id(\"Alice\")\n"
     ]
    },
    {
     "data": {
      "text/plain": [
       "'E001'"
      ]
     },
     "execution_count": 10,
     "metadata": {},
     "output_type": "execute_result"
    }
   ],
   "source": [
    "get_employee_id(\"Alice\")"
   ]
  },
  {
   "cell_type": "code",
   "execution_count": 11,
   "id": "c9c8278b",
   "metadata": {},
   "outputs": [],
   "source": [
    "@tool\n",
    "def get_employee_salary(employee_id: str) -> str:\n",
    "    \"\"\"INPUT: employee ID like 'E003' (case-insensitive). OUTPUT: salary as text or 'INPUT_ERROR'/'NOT_FOUND'.\"\"\"\n",
    "    # Accept plain \"E003\" or JSON like {\"employee_id\":\"E003\"}\n",
    "    raw = _extract_str(employee_id, key=\"employee_id\").strip()\n",
    "    # If the model mistakenly passed a name here, nudge it\n",
    "    if not re.fullmatch(r\"(?i)E\\d{3}\", raw):\n",
    "        return \"INPUT_ERROR\"\n",
    "    emp_id = raw.upper()\n",
    "\n",
    "    salaries = {\n",
    "        \"E001\":56000,\"E002\":47000,\"E003\":52000,\"E004\":61000,\"E005\":45000,\n",
    "        \"E006\":58000,\"E007\":49000,\"E008\":53000,\"E009\":50000,\"E010\":55000\n",
    "    }\n",
    "    sal = salaries.get(emp_id)\n",
    "    return \"NOT_FOUND\" if sal is None else str(sal)"
   ]
  },
  {
   "cell_type": "code",
   "execution_count": 12,
   "id": "48bd6bcb",
   "metadata": {},
   "outputs": [
    {
     "data": {
      "text/plain": [
       "'56000'"
      ]
     },
     "execution_count": 12,
     "metadata": {},
     "output_type": "execute_result"
    }
   ],
   "source": [
    "get_employee_salary(\"E001\")"
   ]
  },
  {
   "cell_type": "code",
   "execution_count": 13,
   "id": "b8a445d2",
   "metadata": {},
   "outputs": [],
   "source": [
    "tools = [get_employee_id, get_employee_salary]"
   ]
  },
  {
   "cell_type": "code",
   "execution_count": 14,
   "id": "417dd759",
   "metadata": {},
   "outputs": [],
   "source": [
    "from langchain import hub\n",
    "base = hub.pull(\"hwchase17/react\").template"
   ]
  },
  {
   "cell_type": "code",
   "execution_count": 15,
   "id": "7595d025",
   "metadata": {},
   "outputs": [],
   "source": [
    "from langchain_core.prompts import PromptTemplate\n",
    "prompt = PromptTemplate.from_template(\n",
    "    base + \n",
    "    \"\\nTool-use guidance:\\n\"\n",
    "    \"- If the user gives a NAME, first call get_employee_id(name). \"\n",
    "    \"Then call get_employee_salary(employee_id) with the returned ID.\\n\"\n",
    "    \"- For get_employee_salary, pass only an ID like 'E003'.\\n\"\n",
    "    \"- After any Observation containing the requested value, produce Final Answer.\\n\"\n",
    "    \"After any Observation that contains the requested value, do NOT call more tools. \\n\"\n",
    ")"
   ]
  },
  {
   "cell_type": "code",
   "execution_count": 16,
   "id": "347f5933",
   "metadata": {},
   "outputs": [
    {
     "name": "stdout",
     "output_type": "stream",
     "text": [
      "input_variables=['agent_scratchpad', 'input', 'tool_names', 'tools'] input_types={} partial_variables={} template=\"Answer the following questions as best you can. You have access to the following tools:\\n\\n{tools}\\n\\nUse the following format:\\n\\nQuestion: the input question you must answer\\nThought: you should always think about what to do\\nAction: the action to take, should be one of [{tool_names}]\\nAction Input: the input to the action\\nObservation: the result of the action\\n... (this Thought/Action/Action Input/Observation can repeat N times)\\nThought: I now know the final answer\\nFinal Answer: the final answer to the original input question\\n\\nBegin!\\n\\nQuestion: {input}\\nThought:{agent_scratchpad}\\nTool-use guidance:\\n- If the user gives a NAME, first call get_employee_id(name). Then call get_employee_salary(employee_id) with the returned ID.\\n- For get_employee_salary, pass only an ID like 'E003'.\\n- After any Observation containing the requested value, produce Final Answer.\\nAfter any Observation that contains the requested value, do NOT call more tools. \\n\"\n"
     ]
    }
   ],
   "source": [
    "print(prompt)"
   ]
  },
  {
   "cell_type": "code",
   "execution_count": 17,
   "id": "6f08a5aa",
   "metadata": {},
   "outputs": [],
   "source": [
    "agent = create_react_agent(llm, tools, prompt)"
   ]
  },
  {
   "cell_type": "code",
   "execution_count": 21,
   "id": "0ce13679",
   "metadata": {},
   "outputs": [],
   "source": [
    "agent_executor = AgentExecutor(agent=agent, tools=tools, verbose=True,\n",
    "                               handle_parsing_errors=True,\n",
    "                               max_iterations=3, return_intermediate_steps=True)"
   ]
  },
  {
   "cell_type": "code",
   "execution_count": 22,
   "id": "9adf2d93",
   "metadata": {},
   "outputs": [
    {
     "name": "stdout",
     "output_type": "stream",
     "text": [
      "\n",
      "\n",
      "\u001b[1m> Entering new AgentExecutor chain...\u001b[0m\n"
     ]
    },
    {
     "name": "stderr",
     "output_type": "stream",
     "text": [
      "/Users/atharvabot7/Downloads/MLOPS-Tutorials/LangGraph/langgraph/lib/python3.10/site-packages/langchain_google_genai/chat_models.py:357: UserWarning: Convert_system_message_to_human will be deprecated!\n",
      "  warnings.warn(\"Convert_system_message_to_human will be deprecated!\")\n"
     ]
    },
    {
     "name": "stdout",
     "output_type": "stream",
     "text": [
      "\u001b[32;1m\u001b[1;3mThought: I need to find Bob's salary. First, I need to get his employee ID using the `get_employee_id` tool. Then, I can use the `get_employee_salary` tool with the obtained employee ID to find his salary.\n",
      "Action: get_employee_id\n",
      "Action Input: \"Bob\"\u001b[0m\u001b[36;1m\u001b[1;3mE002\u001b[0m"
     ]
    },
    {
     "name": "stderr",
     "output_type": "stream",
     "text": [
      "/Users/atharvabot7/Downloads/MLOPS-Tutorials/LangGraph/langgraph/lib/python3.10/site-packages/langchain_google_genai/chat_models.py:357: UserWarning: Convert_system_message_to_human will be deprecated!\n",
      "  warnings.warn(\"Convert_system_message_to_human will be deprecated!\")\n"
     ]
    },
    {
     "name": "stdout",
     "output_type": "stream",
     "text": [
      "\u001b[32;1m\u001b[1;3mThought: I have Bob's employee ID, which is E002. Now I need to use the `get_employee_salary` tool to find his salary.\n",
      "Action: get_employee_salary\n",
      "Action Input: \"E002\"\u001b[0m\u001b[33;1m\u001b[1;3m47000\u001b[0m"
     ]
    },
    {
     "name": "stderr",
     "output_type": "stream",
     "text": [
      "/Users/atharvabot7/Downloads/MLOPS-Tutorials/LangGraph/langgraph/lib/python3.10/site-packages/langchain_google_genai/chat_models.py:357: UserWarning: Convert_system_message_to_human will be deprecated!\n",
      "  warnings.warn(\"Convert_system_message_to_human will be deprecated!\")\n"
     ]
    },
    {
     "name": "stdout",
     "output_type": "stream",
     "text": [
      "\u001b[32;1m\u001b[1;3mThought: I have already found Bob's salary, which is 47000. I can now provide the final answer.\n",
      "Final Answer: Bob's salary is 47000.\u001b[0m\n",
      "\n",
      "\u001b[1m> Finished chain.\u001b[0m\n"
     ]
    },
    {
     "data": {
      "text/plain": [
       "{'input': \"What is Bob's salary?\",\n",
       " 'output': \"Bob's salary is 47000.\",\n",
       " 'intermediate_steps': [(AgentAction(tool='get_employee_id', tool_input='Bob', log='Thought: I need to find Bob\\'s salary. First, I need to get his employee ID using the `get_employee_id` tool. Then, I can use the `get_employee_salary` tool with the obtained employee ID to find his salary.\\nAction: get_employee_id\\nAction Input: \"Bob\"'),\n",
       "   'E002'),\n",
       "  (AgentAction(tool='get_employee_salary', tool_input='E002', log='Thought: I have Bob\\'s employee ID, which is E002. Now I need to use the `get_employee_salary` tool to find his salary.\\nAction: get_employee_salary\\nAction Input: \"E002\"'),\n",
       "   '47000')]}"
      ]
     },
     "execution_count": 22,
     "metadata": {},
     "output_type": "execute_result"
    }
   ],
   "source": [
    "agent_executor.invoke({\"input\": \"What is Bob's salary?\"})"
   ]
  },
  {
   "cell_type": "code",
   "execution_count": 23,
   "id": "dab13f6c",
   "metadata": {},
   "outputs": [
    {
     "name": "stdout",
     "output_type": "stream",
     "text": [
      "\n",
      "\n",
      "\u001b[1m> Entering new AgentExecutor chain...\u001b[0m\n"
     ]
    },
    {
     "name": "stderr",
     "output_type": "stream",
     "text": [
      "/Users/atharvabot7/Downloads/MLOPS-Tutorials/LangGraph/langgraph/lib/python3.10/site-packages/langchain_google_genai/chat_models.py:357: UserWarning: Convert_system_message_to_human will be deprecated!\n",
      "  warnings.warn(\"Convert_system_message_to_human will be deprecated!\")\n"
     ]
    },
    {
     "name": "stdout",
     "output_type": "stream",
     "text": [
      "\u001b[32;1m\u001b[1;3mThought: The user is asking for the salary of an employee with a given employee ID. I can use the `get_employee_salary` tool to find this information.\n",
      "Action: get_employee_salary\n",
      "Action Input: E003\u001b[0m\u001b[33;1m\u001b[1;3m52000\u001b[0m"
     ]
    },
    {
     "name": "stderr",
     "output_type": "stream",
     "text": [
      "/Users/atharvabot7/Downloads/MLOPS-Tutorials/LangGraph/langgraph/lib/python3.10/site-packages/langchain_google_genai/chat_models.py:357: UserWarning: Convert_system_message_to_human will be deprecated!\n",
      "  warnings.warn(\"Convert_system_message_to_human will be deprecated!\")\n"
     ]
    },
    {
     "name": "stdout",
     "output_type": "stream",
     "text": [
      "\u001b[32;1m\u001b[1;3mThought: The user is asking for the salary of an employee with a given employee ID. I have the tool `get_employee_salary` which takes an employee ID as input and returns the salary. I can directly use this tool to answer the question.\n",
      "Action: get_employee_salary\n",
      "Action Input: E003\u001b[0m\u001b[33;1m\u001b[1;3m52000\u001b[0m"
     ]
    },
    {
     "name": "stderr",
     "output_type": "stream",
     "text": [
      "/Users/atharvabot7/Downloads/MLOPS-Tutorials/LangGraph/langgraph/lib/python3.10/site-packages/langchain_google_genai/chat_models.py:357: UserWarning: Convert_system_message_to_human will be deprecated!\n",
      "  warnings.warn(\"Convert_system_message_to_human will be deprecated!\")\n"
     ]
    },
    {
     "name": "stdout",
     "output_type": "stream",
     "text": [
      "\u001b[32;1m\u001b[1;3mThought: The user is asking for the salary of an employee with a given employee ID, \"E003\". I have the tool `get_employee_salary` which takes an employee ID as input and returns the salary. I can directly use this tool to answer the question.\n",
      "Action: get_employee_salary\n",
      "Action Input: E003\u001b[0m\u001b[33;1m\u001b[1;3m52000\u001b[0m\u001b[32;1m\u001b[1;3m\u001b[0m\n",
      "\n",
      "\u001b[1m> Finished chain.\u001b[0m\n"
     ]
    },
    {
     "data": {
      "text/plain": [
       "{'input': 'What is the salary of employee with employee id E003?',\n",
       " 'output': 'Agent stopped due to iteration limit or time limit.',\n",
       " 'intermediate_steps': [(AgentAction(tool='get_employee_salary', tool_input='E003', log='Thought: The user is asking for the salary of an employee with a given employee ID. I can use the `get_employee_salary` tool to find this information.\\nAction: get_employee_salary\\nAction Input: E003'),\n",
       "   '52000'),\n",
       "  (AgentAction(tool='get_employee_salary', tool_input='E003', log='Thought: The user is asking for the salary of an employee with a given employee ID. I have the tool `get_employee_salary` which takes an employee ID as input and returns the salary. I can directly use this tool to answer the question.\\nAction: get_employee_salary\\nAction Input: E003'),\n",
       "   '52000'),\n",
       "  (AgentAction(tool='get_employee_salary', tool_input='E003', log='Thought: The user is asking for the salary of an employee with a given employee ID, \"E003\". I have the tool `get_employee_salary` which takes an employee ID as input and returns the salary. I can directly use this tool to answer the question.\\nAction: get_employee_salary\\nAction Input: E003'),\n",
       "   '52000')]}"
      ]
     },
     "execution_count": 23,
     "metadata": {},
     "output_type": "execute_result"
    }
   ],
   "source": [
    "agent_executor.invoke({\"input\": \"What is the salary of employee with employee id E003?\"})"
   ]
  },
  {
   "cell_type": "code",
   "execution_count": null,
   "id": "1f20c301",
   "metadata": {},
   "outputs": [],
   "source": []
  }
 ],
 "metadata": {
  "kernelspec": {
   "display_name": "Python 3",
   "language": "python",
   "name": "python3"
  },
  "language_info": {
   "codemirror_mode": {
    "name": "ipython",
    "version": 3
   },
   "file_extension": ".py",
   "mimetype": "text/x-python",
   "name": "python",
   "nbconvert_exporter": "python",
   "pygments_lexer": "ipython3",
   "version": "3.10.18"
  }
 },
 "nbformat": 4,
 "nbformat_minor": 5
}
