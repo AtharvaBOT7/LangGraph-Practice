{
 "cells": [
  {
   "cell_type": "code",
   "execution_count": 1,
   "id": "0a8a1120",
   "metadata": {},
   "outputs": [],
   "source": [
    "import os"
   ]
  },
  {
   "cell_type": "code",
   "execution_count": 2,
   "id": "6db2a1e8",
   "metadata": {},
   "outputs": [
    {
     "data": {
      "text/plain": [
       "True"
      ]
     },
     "execution_count": 2,
     "metadata": {},
     "output_type": "execute_result"
    }
   ],
   "source": [
    "from dotenv import load_dotenv\n",
    "load_dotenv()"
   ]
  },
  {
   "cell_type": "code",
   "execution_count": 3,
   "id": "70b01e95",
   "metadata": {},
   "outputs": [],
   "source": [
    "GOOGLE_API_KEY = os.getenv(\"GOOGLE_API_KEY\")\n",
    "TAVILY_API_KEY = os.getenv(\"TAVILY_API_KEY\")\n",
    "GROQ_API_KEY = os.getenv(\"GROQ_API_KEY\")\n",
    "LANGCHAIN_API_KEY = os.getenv(\"LANGCHAIN_API_KEY\")\n",
    "LANGSMITH_PROJECT = os.getenv(\"LANGSMITH_PROJECT\")\n",
    "HUGGINGFACE_API_KEY = os.getenv(\"HUGGINGFACE_API_KEY\")\n",
    "SERPER_API_KEY = os.getenv(\"SERPER_API_KEY\")\n",
    "\n",
    "os.environ[\"GOOGLE_API_KEY\"] = GOOGLE_API_KEY\n",
    "os.environ[\"TAVILY_API_KEY\"] = TAVILY_API_KEY\n",
    "os.environ[\"GROQ_API_KEY\"] = GROQ_API_KEY\n",
    "os.environ[\"LANGCHAIN_API_KEY\"] = LANGCHAIN_API_KEY\n",
    "os.environ[\"LANGSMITH_PROJECT\"] = LANGSMITH_PROJECT\n",
    "os.environ[\"HUGGINGFACE_API_KEY\"] = HUGGINGFACE_API_KEY\n",
    "os.environ[\"SERPER_API_KEY\"] = SERPER_API_KEY"
   ]
  },
  {
   "cell_type": "code",
   "execution_count": 4,
   "id": "907d9a72",
   "metadata": {},
   "outputs": [
    {
     "name": "stderr",
     "output_type": "stream",
     "text": [
      "/Users/atharvabot7/Downloads/MLOPS-Tutorials/LangGraph/langgraph/lib/python3.10/site-packages/tqdm/auto.py:21: TqdmWarning: IProgress not found. Please update jupyter and ipywidgets. See https://ipywidgets.readthedocs.io/en/stable/user_install.html\n",
      "  from .autonotebook import tqdm as notebook_tqdm\n"
     ]
    }
   ],
   "source": [
    "from langchain_google_genai import GoogleGenerativeAIEmbeddings\n",
    "from langchain_community.embeddings import HuggingFaceHubEmbeddings\n",
    "from google import genai"
   ]
  },
  {
   "cell_type": "code",
   "execution_count": 5,
   "id": "0a6ab1dc",
   "metadata": {},
   "outputs": [],
   "source": [
    "embeddings = GoogleGenerativeAIEmbeddings(\n",
    "    model=\"models/text-embedding-004\"\n",
    ")"
   ]
  },
  {
   "cell_type": "code",
   "execution_count": 6,
   "id": "ea50a658",
   "metadata": {},
   "outputs": [],
   "source": [
    "from langchain_groq import ChatGroq\n",
    "\n",
    "llm = ChatGroq(model_name = \"llama-3.3-70b-versatile\")"
   ]
  },
  {
   "cell_type": "code",
   "execution_count": 7,
   "id": "6ddedab9",
   "metadata": {},
   "outputs": [],
   "source": [
    "from langchain_core.output_parsers import StrOutputParser\n",
    "from langchain_core.prompts import ChatPromptTemplate\n",
    "from langchain_core.runnables import RunnablePassthrough\n",
    "from langchain_community.document_loaders import TextLoader, DirectoryLoader\n",
    "from langchain_community.vectorstores import Chroma\n",
    "from langchain.text_splitter import RecursiveCharacterTextSplitter"
   ]
  },
  {
   "cell_type": "code",
   "execution_count": 8,
   "id": "8ea58b10",
   "metadata": {},
   "outputs": [],
   "source": [
    "loader = DirectoryLoader(\n",
    "    path=\"data\",\n",
    "    glob=\"info3.txt\",       \n",
    "    loader_cls=TextLoader   \n",
    ")"
   ]
  },
  {
   "cell_type": "code",
   "execution_count": 9,
   "id": "bf016478",
   "metadata": {},
   "outputs": [],
   "source": [
    "docs = loader.load()"
   ]
  },
  {
   "cell_type": "code",
   "execution_count": 10,
   "id": "623127c2",
   "metadata": {},
   "outputs": [
    {
     "data": {
      "text/plain": [
       "[Document(metadata={'source': 'data/info3.txt'}, page_content='India’s economy in 2025 stands as one of the fastest growing in the world, projected at approximately $4.2 trillion in nominal GDP and maintaining an annual growth rate of 6.3% to 6.5%, making it the fourth largest globally in nominal terms and the third largest in purchasing power parity. This momentum is driven by robust domestic consumption, rising foreign direct investment, government-backed infrastructure programs, and the increasing digitization of both urban and rural sectors. Major initiatives such as the National Infrastructure Pipeline and the PM Gati Shakti masterplan are catalyzing manufacturing growth, logistics optimization, and multimodal connectivity across the country, while the Union Budget 2025 has introduced sweeping tax changes, including zero income tax up to ₹12 lakh (₹12.75 lakh with standard deduction), increased TDS thresholds, and longer filing windows to enhance compliance ease. Alongside these direct tax reforms, the most transformative fiscal step of 2025 has been the rollout of GST 2.0, a landmark overhaul that collapsed the earlier complex four-slab structure into two simplified slabs of 5% and 18%, coupled with a 40% “sin tax” on luxury items and socially harmful goods. Essential commodities such as daily food staples, life-saving medicines, insurance, and health-related services have been exempted from GST, thereby reducing the cost burden on households, while mass-market categories like small cars, electronic appliances, and consumer goods have seen substantial tax reductions. Conversely, higher rates have been levied on carbonated beverages, tobacco, and other sin products to balance fiscal revenue. Effective from 22 September 2025, the reform is expected to stimulate domestic demand, drive higher consumption in automotive, consumer durables, and retail segments, and streamline compliance by reducing classification disputes that plagued the previous GST structure. Analysts forecast that despite an estimated ₹48,000 crore near-term revenue shortfall for the government, the long-term impact of GST 2.0 will add 100 to 120 basis points to GDP growth through multiplier effects, widening the tax base, and boosting formalization in sectors that previously struggled with tax evasion. International observers including the OECD, IMF, and World Bank have reaffirmed India’s position as the fastest-growing major economy, even amidst global economic headwinds, tightening monetary policies in advanced economies, and volatile energy markets. Meanwhile, capital expenditure on roads, railways, ports, and renewable energy continues to attract foreign institutional investors, supported by India’s stable macroeconomic fundamentals and strong consumer market of over 1.4 billion people. The financial markets responded positively to GST 2.0 and Union Budget reforms, with indices for auto, FMCG, and electronics companies witnessing strong rallies, signaling investor confidence in a consumption-led growth story. At the same time, these reforms are being positioned as a strategic counterweight to external challenges, including rising global tariffs, with India leveraging domestic reforms to safeguard growth and maintain competitiveness. Collectively, these measures reflect a broader policy shift toward simplifying the tax regime, boosting compliance, empowering the middle class, and enhancing India’s global investment appeal, positioning the Indian economy not only as resilient in the face of global uncertainty but also as a transformative growth engine for the decade ahead.')]"
      ]
     },
     "execution_count": 10,
     "metadata": {},
     "output_type": "execute_result"
    }
   ],
   "source": [
    "docs"
   ]
  },
  {
   "cell_type": "code",
   "execution_count": 11,
   "id": "c50009a1",
   "metadata": {},
   "outputs": [],
   "source": [
    "text_splitter = RecursiveCharacterTextSplitter(\n",
    "    chunk_size = 100,\n",
    "    chunk_overlap = 50\n",
    ")"
   ]
  },
  {
   "cell_type": "code",
   "execution_count": 12,
   "id": "7412b130",
   "metadata": {},
   "outputs": [],
   "source": [
    "new_docs = text_splitter.split_documents(documents=docs)"
   ]
  },
  {
   "cell_type": "code",
   "execution_count": 13,
   "id": "a90f4443",
   "metadata": {},
   "outputs": [],
   "source": [
    "doc_strings = [doc.page_content for doc in new_docs]"
   ]
  },
  {
   "cell_type": "code",
   "execution_count": 14,
   "id": "cd0d97b3",
   "metadata": {},
   "outputs": [],
   "source": [
    "db = Chroma.from_documents(new_docs, embedding=embeddings) \n",
    "retriever = db.as_retriever(search_kwargs={\"k\":3})"
   ]
  },
  {
   "cell_type": "code",
   "execution_count": 15,
   "id": "e6454393",
   "metadata": {},
   "outputs": [
    {
     "name": "stderr",
     "output_type": "stream",
     "text": [
      "/var/folders/p_/v95prvpj4cz7y53gvmgm1d_r0000gn/T/ipykernel_42020/2809331465.py:2: LangChainDeprecationWarning: The method `BaseRetriever.get_relevant_documents` was deprecated in langchain-core 0.1.46 and will be removed in 1.0. Use :meth:`~invoke` instead.\n",
      "  docs = retriever.get_relevant_documents(query)\n"
     ]
    },
    {
     "name": "stdout",
     "output_type": "stream",
     "text": [
      "{'source': 'data/info3.txt'}\n",
      "India’s position as the fastest-growing major economy, even amidst global economic headwinds,\n",
      "page_content='India’s position as the fastest-growing major economy, even amidst global economic headwinds,' metadata={'source': 'data/info3.txt'}\n",
      "page_content='India’s economy in 2025 stands as one of the fastest growing in the world, projected at' metadata={'source': 'data/info3.txt'}\n",
      "page_content='and enhancing India’s global investment appeal, positioning the Indian economy not only as' metadata={'source': 'data/info3.txt'}\n"
     ]
    }
   ],
   "source": [
    "query = \"what is Indian economy?\"\n",
    "docs = retriever.get_relevant_documents(query)\n",
    "print(docs[0].metadata)\n",
    "print(docs[0].page_content)\n",
    "\n",
    "for doc in docs:\n",
    "    print(doc)"
   ]
  },
  {
   "cell_type": "code",
   "execution_count": 16,
   "id": "ba886f1b",
   "metadata": {},
   "outputs": [],
   "source": [
    "from typing import TypedDict, Annotated, Sequence\n",
    "import operator\n",
    "from langchain_core.messages import BaseMessage\n",
    "from langchain.prompts import PromptTemplate"
   ]
  },
  {
   "cell_type": "code",
   "execution_count": 17,
   "id": "8d19a6a4",
   "metadata": {},
   "outputs": [],
   "source": [
    "class AgentState(TypedDict):\n",
    "    \"\"\" \n",
    "    The 'message' field should be a sequence of strings, and we annotate it with 'operator.add'.\n",
    "    This implies we might want to \"add\" new messages to the sequence later.\n",
    "    \"\"\"\n",
    "    messages: Annotated[Sequence[BaseMessage], operator.add]"
   ]
  },
  {
   "cell_type": "code",
   "execution_count": 18,
   "id": "cbec6870",
   "metadata": {},
   "outputs": [],
   "source": [
    "from pydantic import BaseModel, Field\n",
    "\n",
    "class TopicSelectionParser(BaseModel):\n",
    "    Topic: str = Field(description='Selected Topic')\n",
    "    Reasoning: str = Field(description='Reasoning behind topic selection')"
   ]
  },
  {
   "cell_type": "code",
   "execution_count": 19,
   "id": "982974ef",
   "metadata": {},
   "outputs": [],
   "source": [
    "from langchain.output_parsers import PydanticOutputParser\n",
    "\n",
    "parser = PydanticOutputParser(pydantic_object = TopicSelectionParser)"
   ]
  },
  {
   "cell_type": "code",
   "execution_count": 20,
   "id": "f6819e39",
   "metadata": {},
   "outputs": [],
   "source": [
    "def function_1(state):\n",
    "    message=state[\"messages\"]\n",
    "    question=message[-1]\n",
    "    print(question)\n",
    "    \n",
    "    template=\"\"\"\n",
    "    Your task is to classify the given user query into one of the following categories: [India, Not Related]. \n",
    "    Only respond with the category name and nothing else.\n",
    "\n",
    "    User query: {question}\n",
    "    {format_instructions}\n",
    "    \"\"\"\n",
    "    \n",
    "    prompt = PromptTemplate(template=template,\n",
    "                                    input_variables=[question],\n",
    "                                    partial_variables={\n",
    "                                        \"format_instructions\" : parser.get_format_instructions()                                    }\n",
    "                                    )\n",
    "    chain =  prompt | llm | parser\n",
    "    \n",
    "    response = chain.invoke({\"question\":question,\"format_instructions\" : parser.get_format_instructions() })\n",
    "\n",
    "    print(response)\n",
    "\n",
    "    return {\"messages\": [response.Topic]}"
   ]
  },
  {
   "cell_type": "code",
   "execution_count": 21,
   "id": "97e6bc49",
   "metadata": {},
   "outputs": [],
   "source": [
    "def router(state):\n",
    "    print('-> Router ->')\n",
    "    \n",
    "    messages = state[\"messages\"]\n",
    "    last_message = messages[-1]\n",
    "    print(last_message)\n",
    "    if 'India' in last_message:\n",
    "        return 'RAG Call'\n",
    "    else:\n",
    "        return 'LLM Call'"
   ]
  },
  {
   "cell_type": "code",
   "execution_count": 22,
   "id": "7215c40b",
   "metadata": {},
   "outputs": [],
   "source": [
    "def function_2(state):\n",
    "    print('-> Calling RAG ->')\n",
    "    messages = state['messages']\n",
    "    question = messages[0] ## Fetching the user question\n",
    "    print(question)\n",
    "\n",
    "    template = \"\"\"Answer the question based only on the following context:\n",
    "    {context}\n",
    "\n",
    "    Question: {question}\n",
    "    \"\"\"\n",
    "    prompt = ChatPromptTemplate.from_template(template)\n",
    "    \n",
    "    print(prompt)\n",
    "\n",
    "    retrieval_chain = (\n",
    "        {\"context\": retriever, \"question\": RunnablePassthrough()}\n",
    "        | prompt\n",
    "        | llm\n",
    "        | StrOutputParser()\n",
    "        )\n",
    "    result = retrieval_chain.invoke(question)\n",
    "    return  {\"messages\": [result]}"
   ]
  },
  {
   "cell_type": "code",
   "execution_count": 23,
   "id": "ef2433f1",
   "metadata": {},
   "outputs": [],
   "source": [
    "def function_3(state):\n",
    "    print('-> Calling LLM ->')\n",
    "\n",
    "    messages = state['messages']\n",
    "    question = messages[0] ## Fetching the user question\n",
    "\n",
    "    # Normal LLM call\n",
    "    complete_query = \"Anwer the follow question with your knowledge of the real world. Following is the user question: \" + question\n",
    "    response = llm.invoke(complete_query)\n",
    "    return {\"messages\": [response.content]}"
   ]
  },
  {
   "cell_type": "code",
   "execution_count": 24,
   "id": "637b5ff6",
   "metadata": {},
   "outputs": [],
   "source": [
    "from langgraph.graph import StateGraph,END\n",
    "\n",
    "workflow5 = StateGraph(AgentState) ### StateGraph with AgentState\n",
    "\n",
    "\n",
    "workflow5.add_node(\"agent\", function_1)\n",
    "\n",
    "workflow5.add_node(\"RAG\", function_2)\n",
    "\n",
    "workflow5.add_node(\"LLM\", function_3)\n",
    "\n",
    "\n",
    "workflow5.set_entry_point(\"agent\")\n",
    "\n",
    "workflow5.add_conditional_edges(\n",
    "    \"agent\",\n",
    "    \n",
    "    \n",
    "    router,\n",
    "    {\n",
    "        \"RAG Call\": \"RAG\",\n",
    "        \"LLM Call\": \"LLM\",\n",
    "    }\n",
    ")\n",
    "\n",
    "workflow5.add_edge(\"RAG\",END)\n",
    "\n",
    "\n",
    "workflow5.add_edge(\"LLM\",END)\n",
    "\n",
    "\n",
    "app5=workflow5.compile()"
   ]
  },
  {
   "cell_type": "code",
   "execution_count": 25,
   "id": "9845245a",
   "metadata": {},
   "outputs": [
    {
     "data": {
      "image/png": "[encoded data removed]",
      "text/plain": [
       "<IPython.core.display.Image object>"
      ]
     },
     "metadata": {},
     "output_type": "display_data"
    }
   ],
   "source": [
    "from IPython.display import Image, display\n",
    "\n",
    "try:\n",
    "    display(Image(app5.get_graph().draw_mermaid_png()))\n",
    "except Exception as e:\n",
    "    # This requires some extra dependencies and is optional\n",
    "    print(e)"
   ]
  },
  {
   "cell_type": "code",
   "execution_count": 26,
   "id": "58f44092",
   "metadata": {},
   "outputs": [],
   "source": [
    "inputs = {\"messages\": [\"Tell me about India's Industrial Growth\"]}"
   ]
  },
  {
   "cell_type": "code",
   "execution_count": 27,
   "id": "ad6eb23e",
   "metadata": {},
   "outputs": [
    {
     "name": "stdout",
     "output_type": "stream",
     "text": [
      "Tell me about India's Industrial Growth\n",
      "Topic='India' Reasoning=\"The user query mentions India's Industrial Growth, which is directly related to the country.\"\n",
      "-> Router ->\n",
      "India\n",
      "-> Calling RAG ->\n",
      "Tell me about India's Industrial Growth\n",
      "input_variables=['context', 'question'] input_types={} partial_variables={} messages=[HumanMessagePromptTemplate(prompt=PromptTemplate(input_variables=['context', 'question'], input_types={}, partial_variables={}, template='Answer the question based only on the following context:\\n    {context}\\n\\n    Question: {question}\\n    '), additional_kwargs={})]\n"
     ]
    }
   ],
   "source": [
    "output = app5.invoke(inputs)"
   ]
  },
  {
   "cell_type": "code",
   "execution_count": 28,
   "id": "64eb66f7",
   "metadata": {},
   "outputs": [
    {
     "data": {
      "text/plain": [
       "{'messages': [\"Tell me about India's Industrial Growth\",\n",
       "  'India',\n",
       "  \"According to the information, India's economy, which includes its industrial growth, is projected to be one of the fastest-growing in the world in 2025. Additionally, initiatives like the Infrastructure Pipeline and the PM Gati Shakti masterplan are catalyzing manufacturing growth, contributing to the country's overall industrial development.\"]}"
      ]
     },
     "execution_count": 28,
     "metadata": {},
     "output_type": "execute_result"
    }
   ],
   "source": [
    "output"
   ]
  },
  {
   "cell_type": "code",
   "execution_count": 29,
   "id": "1509d8dd",
   "metadata": {},
   "outputs": [],
   "source": [
    "inputs1 = {\"messages\": [\"Tell me about John Wick\"]}"
   ]
  },
  {
   "cell_type": "code",
   "execution_count": 30,
   "id": "6815ff74",
   "metadata": {},
   "outputs": [
    {
     "name": "stdout",
     "output_type": "stream",
     "text": [
      "Tell me about John Wick\n",
      "Topic='Not Related' Reasoning='The user query is about John Wick, which is not related to India'\n",
      "-> Router ->\n",
      "Not Related\n",
      "-> Calling LLM ->\n"
     ]
    }
   ],
   "source": [
    "output1 = app5.invoke(inputs1)"
   ]
  },
  {
   "cell_type": "code",
   "execution_count": 31,
   "id": "65004fa6",
   "metadata": {},
   "outputs": [
    {
     "data": {
      "text/plain": [
       "{'messages': ['Tell me about John Wick',\n",
       "  'Not Related',\n",
       "  \"John Wick is a fictional character and the protagonist of a popular action-thriller film franchise. He is portrayed by Keanu Reeves, who plays a retired hitman with a unique set of skills and a penchant for taking down his enemies.\\n\\nThe first John Wick film, released in 2014, introduces us to the character, a retired hitman who has lost his wife to illness. He receives a gift from his wife, a Beagle puppy named Daisy, to help him cope with his grief. However, his peaceful life is disrupted when a group of thugs, led by Iosef Tarasov (Alfie Allen), break into his home, steal his vintage Mustang, and kill his dog. This sets off a chain of events as John Wick seeks revenge against the thugs and their powerful crime lord father, Viggo Tarasov (Michael Nyqvist).\\n\\nThe film's success led to the creation of a franchise, with three more films: John Wick: Chapter 2 (2017), John Wick: Chapter 3 – Parabellum (2019), and John Wick: Chapter 4 (2023). The series has become known for its stylish action sequences, intricate world-building, and Keanu Reeves' charismatic performance.\\n\\nThroughout the franchise, John Wick is drawn back into his old life as a hitman, facing off against various enemies, including other assassins, crime lords, and even a secret society of high-stakes killers known as the High Table. Along the way, he forms alliances and rivalries with other characters, including Charon (Lance Reddick), the concierge of the Continental Hotel, a neutral ground for hitmen; Winston (Ian McShane), the manager of the Continental; and the Bowery King (Laurence Fishburne), a powerful crime lord.\\n\\nThe John Wick franchise has received widespread critical acclaim for its innovative action sequences, stylish visuals, and Keanu Reeves' performance. The films have also spawned a range of merchandise, including video games, comic books, and even a potential TV series.\\n\\nOverall, John Wick is a compelling and complex character, driven by a mix of grief, loyalty, and a desire for revenge. The franchise has become a cultural phenomenon, with a dedicated fan base and a reputation for delivering high-octane action and suspense.\"]}"
      ]
     },
     "execution_count": 31,
     "metadata": {},
     "output_type": "execute_result"
    }
   ],
   "source": [
    "output1"
   ]
  },
  {
   "cell_type": "code",
   "execution_count": null,
   "id": "818dc256",
   "metadata": {},
   "outputs": [],
   "source": []
  }
 ],
 "metadata": {
  "kernelspec": {
   "display_name": "Python 3",
   "language": "python",
   "name": "python3"
  },
  "language_info": {
   "codemirror_mode": {
    "name": "ipython",
    "version": 3
   },
   "file_extension": ".py",
   "mimetype": "text/x-python",
   "name": "python",
   "nbconvert_exporter": "python",
   "pygments_lexer": "ipython3",
   "version": "3.10.18"
  }
 },
 "nbformat": 4,
 "nbformat_minor": 5
}
