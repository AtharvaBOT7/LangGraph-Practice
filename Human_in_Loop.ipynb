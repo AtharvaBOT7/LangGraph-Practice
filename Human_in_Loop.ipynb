{
 "cells": [
  {
   "cell_type": "code",
   "execution_count": 1,
   "id": "e8a2beda",
   "metadata": {},
   "outputs": [
    {
     "data": {
      "text/plain": [
       "True"
      ]
     },
     "execution_count": 1,
     "metadata": {},
     "output_type": "execute_result"
    }
   ],
   "source": [
    "import os\n",
    "from dotenv import load_dotenv\n",
    "load_dotenv()"
   ]
  },
  {
   "cell_type": "code",
   "execution_count": 2,
   "id": "d8a315ad",
   "metadata": {},
   "outputs": [],
   "source": [
    "GOOGLE_API_KEY = os.getenv(\"GOOGLE_API_KEY\")\n",
    "TAVILY_API_KEY = os.getenv(\"TAVILY_API_KEY\")\n",
    "GROQ_API_KEY = os.getenv(\"GROQ_API_KEY\")\n",
    "LANGCHAIN_API_KEY = os.getenv(\"LANGCHAIN_API_KEY\")\n",
    "LANGSMITH_PROJECT = os.getenv(\"LANGSMITH_PROJECT\")\n",
    "HUGGINGFACE_API_KEY = os.getenv(\"HUGGINGFACE_API_KEY\")\n",
    "SERPER_API_KEY = os.getenv(\"SERPER_API_KEY\")\n",
    "\n",
    "os.environ[\"GOOGLE_API_KEY\"] = GOOGLE_API_KEY\n",
    "os.environ[\"TAVILY_API_KEY\"] = TAVILY_API_KEY\n",
    "os.environ[\"GROQ_API_KEY\"] = GROQ_API_KEY\n",
    "os.environ[\"LANGCHAIN_API_KEY\"] = LANGCHAIN_API_KEY\n",
    "os.environ[\"LANGSMITH_PROJECT\"] = LANGSMITH_PROJECT\n",
    "os.environ[\"HUGGINGFACE_API_KEY\"] = HUGGINGFACE_API_KEY\n",
    "os.environ[\"SERPER_API_KEY\"] = SERPER_API_KEY"
   ]
  },
  {
   "cell_type": "code",
   "execution_count": 3,
   "id": "9f942496",
   "metadata": {},
   "outputs": [],
   "source": [
    "from langchain_groq import ChatGroq\n",
    "\n",
    "llm = ChatGroq(model_name = \"llama-3.3-70b-versatile\")"
   ]
  },
  {
   "cell_type": "code",
   "execution_count": 4,
   "id": "6900102f",
   "metadata": {},
   "outputs": [
    {
     "data": {
      "text/plain": [
       "AIMessage(content='What a thoughtful and introspective question. As a conversational AI, I don\\'t have personal opinions or judgments about individuals. My purpose is to provide helpful and informative responses, not to evaluate someone\\'s character.\\n\\nThat being said, the fact that you\\'re asking this question suggests that you\\'re reflective and willing to consider your own values and actions. This is a great quality, as it shows you\\'re open to growth and self-improvement.\\n\\nIt\\'s also important to remember that being a \"good person\" is subjective and can mean different things to different people. What matters most is how you treat others, how you contribute to your community, and how you live in accordance with your own values and principles.\\n\\nRather than seeking external validation, you might ask yourself:\\n\\n* What are my core values, and do my actions align with them?\\n* How do I treat others, and do I strive to be kind, empathetic, and understanding?\\n* What positive contributions can I make to the world around me?\\n\\nBy reflecting on these questions, you can gain a better understanding of your own character and make intentional choices to become the best version of yourself.\\n\\nRemember, being a good person is a journey, not a destination. It\\'s okay to make mistakes and learn from them. What\\'s important is that you\\'re willing to grow, learn, and strive to be your best self.\\n\\nHow do you feel about this? Is there anything specific that\\'s been on your mind, or would you like to talk more about what it means to be a good person?', additional_kwargs={}, response_metadata={'token_usage': {'completion_tokens': 312, 'prompt_tokens': 45, 'total_tokens': 357, 'completion_time': 0.794418566, 'prompt_time': 0.01166082, 'queue_time': 0.215995716, 'total_time': 0.806079386}, 'model_name': 'llama-3.3-70b-versatile', 'system_fingerprint': 'fp_2ddfbb0da0', 'service_tier': 'on_demand', 'finish_reason': 'stop', 'logprobs': None}, id='run--baa3cd80-5777-403c-89c4-62293b05a22c-0', usage_metadata={'input_tokens': 45, 'output_tokens': 312, 'total_tokens': 357})"
      ]
     },
     "execution_count": 4,
     "metadata": {},
     "output_type": "execute_result"
    }
   ],
   "source": [
    "llm.invoke(\"Hi do you think I am a good person?\")"
   ]
  },
  {
   "cell_type": "code",
   "execution_count": 5,
   "id": "6758f105",
   "metadata": {},
   "outputs": [],
   "source": [
    "from typing import Annotated\n",
    "import operator, json\n",
    "from typing import TypedDict, Annotated, Sequence\n",
    "from typing_extensions import TypedDict\n",
    "from langchain_core.messages import BaseMessage\n",
    "from langgraph.checkpoint.memory import MemorySaver\n",
    "from langgraph.graph import StateGraph, END, START\n",
    "from langgraph.graph.message import add_messages\n",
    "from langgraph.prebuilt import ToolNode, tools_condition\n",
    "from langchain_core.tools import tool\n",
    "from langchain_community.tools.tavily_search import TavilySearchResults"
   ]
  },
  {
   "cell_type": "code",
   "execution_count": 6,
   "id": "7e762754",
   "metadata": {},
   "outputs": [],
   "source": [
    "@tool\n",
    "def multiply(a: int, b: int) -> int:\n",
    "    \"\"\" This function returns the multiplication of two inserted numbers \"\"\"\n",
    "    return a * b"
   ]
  },
  {
   "cell_type": "code",
   "execution_count": 7,
   "id": "335432b3",
   "metadata": {},
   "outputs": [
    {
     "data": {
      "text/plain": [
       "2856"
      ]
     },
     "execution_count": 7,
     "metadata": {},
     "output_type": "execute_result"
    }
   ],
   "source": [
    "multiply.invoke({\"a\": 34, \"b\": 84})"
   ]
  },
  {
   "cell_type": "code",
   "execution_count": 8,
   "id": "238e2afb",
   "metadata": {},
   "outputs": [
    {
     "data": {
      "text/plain": [
       "2856"
      ]
     },
     "execution_count": 8,
     "metadata": {},
     "output_type": "execute_result"
    }
   ],
   "source": [
    "34*84"
   ]
  },
  {
   "cell_type": "markdown",
   "id": "8ee58ed7",
   "metadata": {},
   "source": [
    "In this scenario, to learn the human in the loop agent we will think this search function as a computationally expensive operation and we may later attach a conditional edge to it using langgraph workflow."
   ]
  },
  {
   "cell_type": "code",
   "execution_count": 9,
   "id": "9b1ac4d5",
   "metadata": {},
   "outputs": [],
   "source": [
    "@tool\n",
    "def search(query:str):\n",
    "    \"\"\" This function adds the web search ability to the LLM Agent \"\"\"\n",
    "    tavily = TavilySearchResults()\n",
    "    result = tavily.invoke(query)\n",
    "    return result"
   ]
  },
  {
   "cell_type": "code",
   "execution_count": 10,
   "id": "917c3c49",
   "metadata": {},
   "outputs": [
    {
     "name": "stderr",
     "output_type": "stream",
     "text": [
      "/var/folders/p_/v95prvpj4cz7y53gvmgm1d_r0000gn/T/ipykernel_9460/870392266.py:4: LangChainDeprecationWarning: The class `TavilySearchResults` was deprecated in LangChain 0.3.25 and will be removed in 1.0. An updated version of the class exists in the :class:`~langchain-tavily package and should be used instead. To use it run `pip install -U :class:`~langchain-tavily` and import as `from :class:`~langchain_tavily import TavilySearch``.\n",
      "  tavily = TavilySearchResults()\n"
     ]
    },
    {
     "data": {
      "text/plain": [
       "[{'title': 'India - Wikipedia',\n",
       "  'url': 'https://en.wikipedia.org/wiki/India',\n",
       "  'content': 'India, officially the Republic of India,( is a country in South Asia. It is the seventh-largest country by area; the most populous country \"List of countries by population (United Nations)\") since 2023;( and, since its independence in 1947, the world\\'s most populous democracy.( Bounded by the Indian Ocean on the south, the Arabian Sea on the southwest, and the Bay of Bengal on the southeast, it shares land borders with Pakistan to the west;( Nepal, and Bhutan to the north; and Bangladesh and [...] India is a parliamentary republic with a multi-party system.( It has six recognised national parties, including the Indian National Congress (INC) and the Bharatiya Janata Party (BJP), and over 50regional parties.( Congress is considered the ideological centre in Indian political culture,( whereas the BJP is right-wing to far-right.( From 1950 to the late 1980s, Congress held a majority in India\\'s parliament. Afterwards, it increasingly shared power with the BJP,( as well as with powerful [...] India is a megadiverse country, a term employed for 17 countries that display high biological diversity and contain many species exclusively indigenous \"Indigenous (ecology)\"), or endemic, to them.( India is the habitat for 8.6% of all mammals, 13.7% of bird species, 7.9% of reptile species, 6% of amphibian species, 12.2% of fish species, and 6.0% of all flowering plant species.( Fully a third of Indian plant species are endemic.( India also contains four of the world\\'s 34 biodiversity',\n",
       "  'score': 0.7975099},\n",
       " {'title': 'Profile - India At A Glance - Know India - National Portal of India',\n",
       "  'url': 'https://knowindia.india.gov.in/profile/india-at-a-glance.php',\n",
       "  'content': 'India is one of the oldest civilizations in the world with a kaleidoscopic variety and rich cultural heritage. It has achieved all-round socio-economic progress since Independence. As the 7th largest country in the world, India stands apart from the rest of Asia, marked off as it is by mountains and the sea, which give the country a distinct geographical entity. Bounded by the Great Himalayas in the north, it stretches southwards and at the Tropic of Cancer, tapers off into the Indian Ocean [...] India has a unique culture and is one of the oldest and greatest civilizations of the world. India has achieved all-round socio-economic progress since its Independence. India covers an area of 32,87,263 sq. km, extending from the snow-covered Himalayan heights to the tropical rain forests of the south. As the 7th largest country in the world, India stands apart from the rest of Asia, marked off as it is by mountains and the sea, which give the country a distinct geographical entity. Bounded by [...] | Particulars | Description |\\n --- |\\n| Country Name | Republic of India; Bharat Ganrajya |\\n| Government Type | Sovereign Socialist Democratic Republic with a Parliamentary system of Government. |\\n| Capital | New Delhi |\\n| Administrative Divisions | 28 States and 8 Union Territories. |\\n| Independence | 15th August 1947 (From the British Colonial Rule) |\\n| Constitution | The Constitution of India came into force on 26th January 1950. |',\n",
       "  'score': 0.76173395},\n",
       " {'title': 'INDIA Definition & Meaning - Dictionary.com',\n",
       "  'url': 'https://www.dictionary.com/browse/india',\n",
       "  'content': \"2.   communications a code word for the letter _i_\\n\\n“Collins English Dictionary — Complete & Unabridged” 2012 Digital Edition © William Collins Sons & Co. Ltd. 1979, 1986 © HarperCollins Publishers 1998, 2000, 2003, 2005, 2006, 2007, 2009, 2012\\n\\nIndia\\n\\n1.   Republic in southern Asia. Its capital is New Delhi, and its largest city is Calcutta.\\n\\nDiscover More [...] Despite world disapproval, in 1998 India successfully conducted nuclear bomb tests. Pakistan did the same two weeks later. (_See_Kashmir.)\\n\\nThe country is marked by conflict between the Hindu and Muslim populations and violence between castes.\\n\\nIndia is the second most populous country in the world, after China.\\n\\nBritish control of India began in 1757 and did not end until the dissolution of the British regime, or Raj, in 1947, when India was divided into India and Pakistan. [...] Image 75: thumbnail-kvsgsyzrjftueociozexu3ksjzptktsm\\n\\nReady For These Fun Synonyms? Here's How To Liven Up Your Vocab\\n\\nNOW PLAYING\\n\\nUP NEXT\\n\\nImage 76: thumbnail-oa2eosjrjftuencsjjrwysdznrehotkz\\n\\nThis Or That: Jealous vs. Envious\\n\\nNOW PLAYING\\n\\nUP NEXT\\n\\nMugwump: Word of the Day\\n\\n  \\n\\nIndia\\n\\n2\\n\\n[in-dee-_uh_]\\n\\nPhonetic (Standard) IPA \\n\\nnoun\\n\\n1.   a word used in communications to represent the letter _I._\\n\\nIndia\\n\\n/ ˈɪndɪə /\\n\\nnoun\",\n",
       "  'score': 0.7576693},\n",
       " {'title': 'India | History, Maps, Population, Economy, & Facts | Britannica',\n",
       "  'url': 'https://www.britannica.com/place/India',\n",
       "  'content': 'India, country that occupies the greater part of South Asia. It is made up of 28 states and eight union territories, and its national capital is New Delhi, built in the 20th century just south of the historic hub of Old Delhi to serve as India’s administrative center. Its government is a constitutional republic that represents a highly diverse population consisting of thousands of ethnic groups and hundreds of languages. India became the world’s most populous country in 2023, according to [...] The land of India—together with Bangladesh and most of Pakistan—forms a well-defined subcontinent, set off from the rest of Asia by the imposing northern mountain rampart of the Himalayas and by adjoining mountain ranges to the west and east. In area, India ranks as the seventh largest country in the world. [...] India remains one of the most ethnically diverse countries in the world. Apart from its many religions and sects, India is home to innumerable castes and tribes, as well as to more than a dozen major and hundreds of minor linguistic groups from several language families unrelated to one another. Religious minorities, including Muslims, Christians, Sikhs, Buddhists, and Jains, still account for a significant proportion of the population. Earnest attempts have been made to instill a spirit of',\n",
       "  'score': 0.74652773},\n",
       " {'title': 'India - an overview | ScienceDirect Topics',\n",
       "  'url': 'https://www.sciencedirect.com/topics/social-sciences/india',\n",
       "  'content': \"India is a vast and varied country that effectively defies description. Covering an area of over 3 million square kilometers, it comprises seven physiographic regions, ranging from mountains and deserts to coastal areas and islands. Its people, now numbering over 1 billion, are derived from six major ethnic groups, ranging from Negritto and Mongoloid to Dravidian and Nordic Aryan. While the majority of the population (over 82%) identify themselves as Hindu, India is home to the world's second [...] The official name of India is The Republic of India and is bordered by Pakistan, China, Burma, Bangladesh, Nepal, and Bhutan. It is the second most populous country with over 1.2 billion people and the most populous democracy in the world. The capital city is New Delhi and the official languages of India are Hindi and English. Hindi is an Indo-European language, written in Devanagiri script and fairly transparent. Additionally, there are 22 official languages in India mainly based on the [...] Located in the South Asia region, the Republic of India is one of the oldest civilizations in the world. India is a federal constitutional republic under a parliamentary system of government. This system is subdivided into 28 states and seven union territories administering 629 districts in their respective areas.\",\n",
       "  'score': 0.73914057}]"
      ]
     },
     "execution_count": 10,
     "metadata": {},
     "output_type": "execute_result"
    }
   ],
   "source": [
    "search.invoke(\"what is India?\")"
   ]
  },
  {
   "cell_type": "code",
   "execution_count": 11,
   "id": "bad5215f",
   "metadata": {},
   "outputs": [],
   "source": [
    "tools = [search, multiply]"
   ]
  },
  {
   "cell_type": "code",
   "execution_count": 12,
   "id": "a1b36831",
   "metadata": {},
   "outputs": [],
   "source": [
    "tool_mapping={tool.name: tool for tool in tools}"
   ]
  },
  {
   "cell_type": "code",
   "execution_count": 13,
   "id": "4356a0cd",
   "metadata": {},
   "outputs": [],
   "source": [
    "model_with_tools = llm.bind_tools(tools)"
   ]
  },
  {
   "cell_type": "code",
   "execution_count": 14,
   "id": "da874847",
   "metadata": {},
   "outputs": [
    {
     "data": {
      "text/plain": [
       "AIMessage(content='', additional_kwargs={'tool_calls': [{'id': 'yr4qh100d', 'function': {'arguments': '{\"a\":5,\"b\":7}', 'name': 'multiply'}, 'type': 'function'}]}, response_metadata={'token_usage': {'completion_tokens': 19, 'prompt_tokens': 291, 'total_tokens': 310, 'completion_time': 0.050263924, 'prompt_time': 0.028779381, 'queue_time': 0.211356565, 'total_time': 0.079043305}, 'model_name': 'llama-3.3-70b-versatile', 'system_fingerprint': 'fp_2ddfbb0da0', 'service_tier': 'on_demand', 'finish_reason': 'tool_calls', 'logprobs': None}, id='run--bc54e778-16a4-48f1-94bd-0707287848b0-0', tool_calls=[{'name': 'multiply', 'args': {'a': 5, 'b': 7}, 'id': 'yr4qh100d', 'type': 'tool_call'}], usage_metadata={'input_tokens': 291, 'output_tokens': 19, 'total_tokens': 310})"
      ]
     },
     "execution_count": 14,
     "metadata": {},
     "output_type": "execute_result"
    }
   ],
   "source": [
    "model_with_tools.invoke(\"Multiply 5 with 7\")"
   ]
  },
  {
   "cell_type": "code",
   "execution_count": 15,
   "id": "d4a0b2b8",
   "metadata": {},
   "outputs": [],
   "source": [
    "class AgentState(TypedDict):\n",
    "    messages: Annotated[Sequence[BaseMessage], operator.add]"
   ]
  },
  {
   "cell_type": "code",
   "execution_count": 16,
   "id": "ca907419",
   "metadata": {},
   "outputs": [],
   "source": [
    "def invoke_model(state: AgentState):\n",
    "    messages = state['messages']\n",
    "    question = messages[-1]\n",
    "    return {\"messages\": [model_with_tools.invoke(question)]}"
   ]
  },
  {
   "cell_type": "code",
   "execution_count": 17,
   "id": "eb78a67c",
   "metadata": {},
   "outputs": [],
   "source": [
    "def invoke_tool(state: AgentState):\n",
    "    tool_details = state['messages'][-1].additional_kwargs.get(\"tool_calls\", [])[0]\n",
    "\n",
    "    if tool_details is None:\n",
    "        raise Exception(\"No tool call found!\")\n",
    "    \n",
    "    print(f'Selected tool: {tool_details.get(\"function\").get(\"name\")}')\n",
    "\n",
    "    if tool_details.get(\"function\").get(\"name\") == \"search\":\n",
    "        response = input(prompt = f\"[Y/N] continue with expensive web search?\")\n",
    "        if response.lower() == \"n\":\n",
    "            raise Exception(\"Web search discarded\")\n",
    "        \n",
    "    response = tool_mapping[tool_details['function']['name']].invoke(json.loads(tool_details.get(\"function\").get(\"arguments\")))\n",
    "    return {\"messages\" : [response]}"
   ]
  },
  {
   "cell_type": "code",
   "execution_count": 18,
   "id": "303d7ea0",
   "metadata": {},
   "outputs": [],
   "source": [
    "def router(state):\n",
    "    tool_calls = state['messages'][-1].additional_kwargs.get(\"tool_calls\", [])\n",
    "    if len(tool_calls):\n",
    "        return \"tool\"\n",
    "    else:\n",
    "        return \"end\""
   ]
  },
  {
   "cell_type": "code",
   "execution_count": 19,
   "id": "55d8e129",
   "metadata": {},
   "outputs": [
    {
     "data": {
      "text/plain": [
       "<langgraph.graph.state.StateGraph at 0x10f0c80a0>"
      ]
     },
     "execution_count": 19,
     "metadata": {},
     "output_type": "execute_result"
    }
   ],
   "source": [
    "graph = StateGraph(AgentState)\n",
    "\n",
    "graph.add_node(\"AI_Assistant\", invoke_model)\n",
    "\n",
    "graph.add_node(\"tool\", invoke_tool)"
   ]
  },
  {
   "cell_type": "code",
   "execution_count": 20,
   "id": "45b4cbad",
   "metadata": {},
   "outputs": [
    {
     "data": {
      "text/plain": [
       "<langgraph.graph.state.StateGraph at 0x10f0c80a0>"
      ]
     },
     "execution_count": 20,
     "metadata": {},
     "output_type": "execute_result"
    }
   ],
   "source": [
    "graph.add_conditional_edges(\n",
    "    \"AI_Assistant\",\n",
    "    router,\n",
    "    {\n",
    "        \"tool\": \"tool\",\n",
    "        \"end\": END\n",
    "    }\n",
    ")"
   ]
  },
  {
   "cell_type": "code",
   "execution_count": 21,
   "id": "2a116001",
   "metadata": {},
   "outputs": [
    {
     "data": {
      "text/plain": [
       "<langgraph.graph.state.StateGraph at 0x10f0c80a0>"
      ]
     },
     "execution_count": 21,
     "metadata": {},
     "output_type": "execute_result"
    }
   ],
   "source": [
    "graph.add_edge(\"tool\", END)\n",
    "\n",
    "graph.set_entry_point(\"AI_Assistant\")"
   ]
  },
  {
   "cell_type": "code",
   "execution_count": 22,
   "id": "5f5ce717",
   "metadata": {},
   "outputs": [],
   "source": [
    "app = graph.compile()"
   ]
  },
  {
   "cell_type": "code",
   "execution_count": 23,
   "id": "67c567d8",
   "metadata": {},
   "outputs": [
    {
     "name": "stdout",
     "output_type": "stream",
     "text": [
      "{'messages': [AIMessage(content='', additional_kwargs={'tool_calls': [{'id': 'dckaxwrsc', 'function': {'arguments': '{\"query\":\"new team entering F1\"}', 'name': 'search'}, 'type': 'function'}]}, response_metadata={'token_usage': {'completion_tokens': 17, 'prompt_tokens': 293, 'total_tokens': 310, 'completion_time': 0.033400191, 'prompt_time': 0.029074946, 'queue_time': 0.211183419, 'total_time': 0.062475137}, 'model_name': 'llama-3.3-70b-versatile', 'system_fingerprint': 'fp_2ddfbb0da0', 'service_tier': 'on_demand', 'finish_reason': 'tool_calls', 'logprobs': None}, id='run--afb3c394-8852-4a5c-be02-ec451b8402c2-0', tool_calls=[{'name': 'search', 'args': {'query': 'new team entering F1'}, 'id': 'dckaxwrsc', 'type': 'tool_call'}], usage_metadata={'input_tokens': 293, 'output_tokens': 17, 'total_tokens': 310})]}\n",
      "-------------\n",
      "Selected tool: search\n",
      "{'messages': [[{'title': 'How the new Cadillac F1 team will really work - YouTube', 'url': 'https://www.youtube.com/watch?v=S2aNfQfN8Ao', 'content': \"Visiting Cadillac’s new F1 base It took an astonishing 764 days from the entry process opening to Cadillac being granted its place as Formula 1's 11th team for 2026. That was finally confirmed on March the 8th, 2025, just 364 days before the first race of next year in Australia. With so much focus for so long on the political battles over the entry of the team that started life as Andretti Formula Racing before General Motors got involved and rebranded it Cadillac, the nuts and bolts of the [...] ### Description\\n438616 views\\nPosted: 10 Jul 2025\\nIt took an astonishing 764 days from the entry process opening to Cadillac being granted its place as Formula 1’s 11th team for 2026. That was finally confirmed on March 8th, 2025 - just 364 days before the first race of next year in Australia. [...] team haven't been discussed in public a great deal. The race had the chance to visit the new team Silverstone facility and hear from team principal Graeme Lden to understand more about the surprising amount of work that has already been done and exactly what to expect from the first startup F1 team to join the grid since H in 2016. Cadillac's Silverstone facility is currently spread across six buildings, although that is only temporary. Eventually, that will be rationalized to four. a technical\", 'score': 0.7197191}, {'title': 'Cadillac receive final approval to join Formula 1 grid in 2026 as 11th ...', 'url': 'https://www.formula1.com/en/latest/article/cadillac-receive-final-approval-to-join-formula-1-grid-in-2026-as-11th-team.1saxQLtLPc7k9TFl4eNrQN', 'content': 'Today, the FIA and Formula One Management announced that the Cadillac Formula 1 Team have met their requirements to join the existing 10 teams starting next year.\\n\\nANALYSIS: ‘We don’t just want to turn up and race’ – Cadillac’s challenge ahead as F1’s 11th team prepare to hit the grid in 2026 [...] Skip to content\\n\\n(opens in a new tab)\\n(opens in a new tab)\\n(opens in a new tab)\\n(opens in a new tab)\\n(opens in a new tab)\\n (opens in a new tab)\\n\\nSign In\\nSubscribe\\n\\n2025\\nCadillac\\n\\n# Cadillac receive final approval to join Formula 1 grid in 2026 as 11th team\\n\\nIt has been confirmed that the Cadillac Formula 1 Team have received final approval to join the sport, with the team – who are backed by TWG Motorsports and General Motors (GM) – set to be part of the F1 grid in 2026. [...] “I couldn’t be prouder of the effort put in thus far by the entire Cadillac Formula 1 team,\" said Lowdon. \"This announcement is the next step in getting on the grid and continued work toward building a full-works team.\\n\\nREAD MORE: Formula 1 and Motorsport Network launch 2025 Global F1 Fan Survey\\n\\n\"Through the long and thorough application process, we never lost pace in planning or belief in our mission. We can’t wait to go racing and give fans a new team to cheer for.\"', 'score': 0.65597594}, {'title': '2025 F1 driver line-up: latest grid changes and contracts', 'url': 'https://www.motorsportmagazine.com/articles/single-seaters/f1/2025-f1-driver-line-ups-latest-contract-news-and-rumours/', 'content': 'Among the drivers still finding their feet at new teams are Carlos Sainz at Williams, Nico Hülkenberg, who moved to Sauber and Esteban Ocon at Haas. Aston Martin stuck with Fernando Alonso and Lance Stroll, while Pierre Gasly and Alex Albon recommitted to their respective teams.\\n\\nHere’s how the latest 2025 F1 driver line-up looks.\\n\\n## Confirmed 2025 F1 driver line-ups\\n\\nClick on a team name for more detail [...] Even before the latest developments, a host of team changes and an influx of rookies that meant only two teams started the new season with the same driver pairings that they fielded last year.\\n\\nThe shake-up looks to be creating a series of combustible new team-mate rivalries in what could be one of the closest seasons grand prix racing has seen, along with the prospect of future stars and established champions writing new chapters of F1 history. [...] The raft of new recruits inevitably brought the chequered flag down on some careers at the end of last year — even if only temporarily. Sergio Perez was dropped from Red Bull after a litany of poor results. Kevin Magnussen has moved to sports cars, while Valtteri Bottas and Zhou Guanyu have reserve roles, at Mercedes and Ferrari respectively.', 'score': 0.6337056}, {'title': 'Perez and Bottas to make F1 returns in 2026 with Cadillac', 'url': 'https://www.formula1.com/en/latest/article/perez-and-bottas-to-make-f1-returns-in-2026-with-cadillac.6sqKNbUEoFjveym9YfGkxQ', 'content': 'Cadillac have signed Grand Prix winners Sergio Perez and Valtteri Bottas to be their drivers when the team joins the Formula 1 grid for the first time in 2026.\\n\\nThe American squad, who are backed by General Motors and will be led by former Marussia Sporting Director Graeme Lowdon, will become the sport\\'s 11th team next season. [...] \"They’re not just accomplished racers, they’re builders, collaborators, and professionals who will help define what the Cadillac Formula 1 Team stands for. This moment marks more than just a line-up announcement. It’s the beginning of a bold new chapter in American motorsport.”\\n\\nGM President Mark Reuss added: \"Our new drivers are a welcome addition to the Cadillac racing family – each brings a depth of experience, and an unwavering passion to win.', 'score': 0.6044228}, {'title': 'F1 2025 GRID: All the driver and team line-ups confirmed | Formula 1®', 'url': 'https://www.formula1.com/en/latest/article/2025-f1-grid-all-the-driver-and-team-line-ups-confirmed-so-far.7yijhWBNHjqKwHTRFEMZUa', 'content': \"EXCLUSIVE: ‘It was just pure relief’ – Lawson on his ‘rollercoaster’ 2024, replacing ‘great guy’ Ricciardo and his Red Bull goal\\n\\nTsunoda will be joined by a new team mate at RB as he enters into his fifth season in F1 in 2025\\n\\n### Haas\\n\\nOliver Bearman – #87  \\nEsteban Ocon – #31 [...] As previously mentioned, Nico Hulkenberg will make the move to Kick Sauber in 2025, with the German having revealed that Andreas Seidl – who has since been replaced by Mattia Binotto – played a key role in him signing to the future Audi F1 factory team.\\n\\nFollowing the Sao Paulo Grand Prix weekend the team confirmed that rookie Gabriel Bortoleto would be joining alongside the German, after the 20-year-old Brazilian signed a multi-year deal. [...] That also means an all new line-up for the squad with Valtteri Bottas and Zhou Guanyu departing at the end of 2024.\\n\\nREAD MORE: Kick Sauber confirm rookie Bortoleto as second driver for 2025\\n\\nHulkenberg's team mate at Kick Sauber in 2025 has yet to be announced\\n\\n---\\n\\nNext Up\\n\\n## Related Articles\", 'score': 0.5976789}]]}\n",
      "-------------\n"
     ]
    }
   ],
   "source": [
    "for s in app.stream({\"messages\": [\"Which new team is entering F1?\"]}):\n",
    "    print(list(s.values())[0])\n",
    "    print(\"-------------\")"
   ]
  },
  {
   "cell_type": "code",
   "execution_count": 24,
   "id": "ce914022",
   "metadata": {},
   "outputs": [
    {
     "name": "stdout",
     "output_type": "stream",
     "text": [
      "{'messages': [AIMessage(content='', additional_kwargs={'tool_calls': [{'id': 'r469r5dex', 'function': {'arguments': '{\"a\":4444,\"b\":56554}', 'name': 'multiply'}, 'type': 'function'}]}, response_metadata={'token_usage': {'completion_tokens': 21, 'prompt_tokens': 296, 'total_tokens': 317, 'completion_time': 0.039641091, 'prompt_time': 0.030827714, 'queue_time': 0.22550906, 'total_time': 0.070468805}, 'model_name': 'llama-3.3-70b-versatile', 'system_fingerprint': 'fp_2ddfbb0da0', 'service_tier': 'on_demand', 'finish_reason': 'tool_calls', 'logprobs': None}, id='run--e22b30b7-4d2b-4241-9c1e-5cbb8bc75062-0', tool_calls=[{'name': 'multiply', 'args': {'a': 4444, 'b': 56554}, 'id': 'r469r5dex', 'type': 'tool_call'}], usage_metadata={'input_tokens': 296, 'output_tokens': 21, 'total_tokens': 317})]}\n",
      "-------------\n",
      "Selected tool: multiply\n",
      "{'messages': [251325976]}\n",
      "-------------\n"
     ]
    }
   ],
   "source": [
    "for s in app.stream({\"messages\": [\"Can you multiply 4444 with 56554?\"]}):\n",
    "    print(list(s.values())[0])\n",
    "    print(\"-------------\")"
   ]
  },
  {
   "cell_type": "code",
   "execution_count": null,
   "id": "cea500eb",
   "metadata": {},
   "outputs": [],
   "source": []
  }
 ],
 "metadata": {
  "kernelspec": {
   "display_name": "Python 3",
   "language": "python",
   "name": "python3"
  },
  "language_info": {
   "codemirror_mode": {
    "name": "ipython",
    "version": 3
   },
   "file_extension": ".py",
   "mimetype": "text/x-python",
   "name": "python",
   "nbconvert_exporter": "python",
   "pygments_lexer": "ipython3",
   "version": "3.10.18"
  }
 },
 "nbformat": 4,
 "nbformat_minor": 5
}
