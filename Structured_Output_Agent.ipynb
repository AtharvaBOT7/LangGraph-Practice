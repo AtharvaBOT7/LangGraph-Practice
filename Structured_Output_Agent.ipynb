{
 "cells": [
  {
   "cell_type": "code",
   "execution_count": 1,
   "id": "659fac33",
   "metadata": {},
   "outputs": [
    {
     "data": {
      "text/plain": [
       "True"
      ]
     },
     "execution_count": 1,
     "metadata": {},
     "output_type": "execute_result"
    }
   ],
   "source": [
    "import os\n",
    "from dotenv import load_dotenv\n",
    "load_dotenv()"
   ]
  },
  {
   "cell_type": "code",
   "execution_count": 2,
   "id": "d3f47d9c",
   "metadata": {},
   "outputs": [],
   "source": [
    "GOOGLE_API_KEY = os.getenv(\"GOOGLE_API_KEY\")\n",
    "TAVILY_API_KEY = os.getenv(\"TAVILY_API_KEY\")\n",
    "GROQ_API_KEY = os.getenv(\"GROQ_API_KEY\")\n",
    "LANGCHAIN_API_KEY = os.getenv(\"LANGCHAIN_API_KEY\")\n",
    "LANGSMITH_PROJECT = os.getenv(\"LANGSMITH_PROJECT\")\n",
    "HUGGINGFACE_API_KEY = os.getenv(\"HUGGINGFACE_API_KEY\")\n",
    "SERPER_API_KEY = os.getenv(\"SERPER_API_KEY\")\n",
    "\n",
    "os.environ[\"GOOGLE_API_KEY\"] = GOOGLE_API_KEY\n",
    "os.environ[\"TAVILY_API_KEY\"] = TAVILY_API_KEY\n",
    "os.environ[\"GROQ_API_KEY\"] = GROQ_API_KEY\n",
    "os.environ[\"LANGCHAIN_API_KEY\"] = LANGCHAIN_API_KEY\n",
    "os.environ[\"LANGSMITH_PROJECT\"] = LANGSMITH_PROJECT\n",
    "os.environ[\"HUGGINGFACE_API_KEY\"] = HUGGINGFACE_API_KEY\n",
    "os.environ[\"SERPER_API_KEY\"] = SERPER_API_KEY"
   ]
  },
  {
   "cell_type": "code",
   "execution_count": 3,
   "id": "deddbdb8",
   "metadata": {},
   "outputs": [],
   "source": [
    "from langchain_groq import ChatGroq\n",
    "\n",
    "llm = ChatGroq(model_name = \"llama-3.3-70b-versatile\")"
   ]
  },
  {
   "cell_type": "code",
   "execution_count": 4,
   "id": "2b4fe362",
   "metadata": {},
   "outputs": [
    {
     "data": {
      "text/plain": [
       "AIMessage(content=\"That's great to hear. Being a good boy is something to be proud of. What makes you think you're a good boy, and what kind of good things have you been doing?\", additional_kwargs={}, response_metadata={'token_usage': {'completion_tokens': 39, 'prompt_tokens': 40, 'total_tokens': 79, 'completion_time': 0.114661527, 'prompt_time': 0.010958667, 'queue_time': 0.209077091, 'total_time': 0.125620194}, 'model_name': 'llama-3.3-70b-versatile', 'system_fingerprint': 'fp_3f3b593e33', 'service_tier': 'on_demand', 'finish_reason': 'stop', 'logprobs': None}, id='run--3912bb5f-f34f-4ef9-8143-f41189f87bae-0', usage_metadata={'input_tokens': 40, 'output_tokens': 39, 'total_tokens': 79})"
      ]
     },
     "execution_count": 4,
     "metadata": {},
     "output_type": "execute_result"
    }
   ],
   "source": [
    "llm.invoke(\"I am a good boy\")"
   ]
  },
  {
   "cell_type": "code",
   "execution_count": 5,
   "id": "aeac7bac",
   "metadata": {},
   "outputs": [],
   "source": [
    "from langchain_community.tools.tavily_search import TavilySearchResults\n",
    "from langchain_core.tools import tool\n",
    "from pydantic import BaseModel, Field\n",
    "from langgraph.graph import MessagesState, StateGraph, END\n",
    "from langgraph.prebuilt import ToolNode\n",
    "from langchain_core.messages import HumanMessage"
   ]
  },
  {
   "cell_type": "code",
   "execution_count": 6,
   "id": "59c80db6",
   "metadata": {},
   "outputs": [
    {
     "name": "stderr",
     "output_type": "stream",
     "text": [
      "/var/folders/p_/v95prvpj4cz7y53gvmgm1d_r0000gn/T/ipykernel_19534/583234793.py:1: LangChainDeprecationWarning: The class `TavilySearchResults` was deprecated in LangChain 0.3.25 and will be removed in 1.0. An updated version of the class exists in the :class:`~langchain-tavily package and should be used instead. To use it run `pip install -U :class:`~langchain-tavily` and import as `from :class:`~langchain_tavily import TavilySearch``.\n",
      "  tavily_tool = TavilySearchResults()\n"
     ]
    }
   ],
   "source": [
    "tavily_tool = TavilySearchResults()"
   ]
  },
  {
   "cell_type": "code",
   "execution_count": 7,
   "id": "cd5ec91a",
   "metadata": {},
   "outputs": [],
   "source": [
    "@tool\n",
    "def get_city_details(prompt):\n",
    "    \"\"\" Does a web search to find the required city details. \"\"\"\n",
    "    response = tavily_tool.invoke(prompt)\n",
    "    return response"
   ]
  },
  {
   "cell_type": "code",
   "execution_count": 8,
   "id": "aa654a8c",
   "metadata": {},
   "outputs": [],
   "source": [
    "tools = [get_city_details]"
   ]
  },
  {
   "cell_type": "code",
   "execution_count": 9,
   "id": "0a93dd96",
   "metadata": {},
   "outputs": [],
   "source": [
    "model_with_tools = llm.bind_tools(tools)"
   ]
  },
  {
   "cell_type": "code",
   "execution_count": 10,
   "id": "bdbc9df2",
   "metadata": {},
   "outputs": [],
   "source": [
    "class CityDetails(BaseModel):\n",
    "    \"\"\" Respond to the user query in the following format \"\"\"\n",
    "\n",
    "    state_name: str = Field(description=\"The name of the state where the city is present\")\n",
    "    state_capital: str = Field(description=\"Capital of the state in which the mentioned city is present\")\n",
    "    country_name: str = Field(description=\"The name of the country where the city is present\")\n",
    "    country_capital: str = Field(description=\"Capital of the country in which the mentioned city is present\")"
   ]
  },
  {
   "cell_type": "code",
   "execution_count": 11,
   "id": "9b2f6ea0",
   "metadata": {},
   "outputs": [],
   "source": [
    "# Inherit 'messages' key from MessageState, which is a list of chat messages\n",
    "\n",
    "class AgentState(MessagesState):\n",
    "    \"\"\" This function contains the final structured response from the agent \"\"\"\n",
    "\n",
    "    final_respnse: CityDetails \n",
    "    "
   ]
  },
  {
   "cell_type": "code",
   "execution_count": 12,
   "id": "58c38da4",
   "metadata": {},
   "outputs": [],
   "source": [
    "model_with_structured_output = llm.with_structured_output(CityDetails)"
   ]
  },
  {
   "cell_type": "code",
   "execution_count": 13,
   "id": "b2ed2b5a",
   "metadata": {},
   "outputs": [],
   "source": [
    "def call_model(state: AgentState):\n",
    "\n",
    "    print(f\"This is 1st input from call model {state}\")\n",
    "    response = model_with_tools.invoke(state['messages'])\n",
    "    print(f\"This is 2nd response from call model {response}\")\n",
    "\n",
    "    return {\"messages\": [response]}"
   ]
  },
  {
   "cell_type": "code",
   "execution_count": 14,
   "id": "a6f13142",
   "metadata": {},
   "outputs": [],
   "source": [
    "def should_continue(state: AgentState):\n",
    "    messages = state['messages']\n",
    "    last_message = messages[-1]\n",
    "\n",
    "    if not last_message.tool_calls:\n",
    "        return \"respond\"\n",
    "    else:\n",
    "        return \"continue\""
   ]
  },
  {
   "cell_type": "code",
   "execution_count": 15,
   "id": "9d522d36",
   "metadata": {},
   "outputs": [],
   "source": [
    "def respond(state: AgentState):\n",
    "    print(f\"Here is 3rd state from respond function {state}\")\n",
    "    response = model_with_tools.invoke([HumanMessage(content=state['messages'][-1].content)])\n",
    "\n",
    "    print(f\"This is 4th response from respond {response}\")\n",
    "    return {\"final_response\": response}"
   ]
  },
  {
   "cell_type": "code",
   "execution_count": 16,
   "id": "96568966",
   "metadata": {},
   "outputs": [],
   "source": [
    "# Define a new graph\n",
    "workflow = StateGraph(AgentState)\n",
    "\n",
    "# Define the two nodes we will cycle between\n",
    "workflow.add_node(\"llm\", call_model)\n",
    "workflow.add_node(\"tools\", ToolNode(tools))\n",
    "workflow.add_node(\"respond\", respond)\n",
    "\n",
    "# Set the entrypoint as `agent`\n",
    "# This means that this node is the first one called\n",
    "workflow.set_entry_point(\"llm\")\n",
    "\n",
    "# We now add a conditional edge\n",
    "workflow.add_conditional_edges(\n",
    "    \"llm\",\n",
    "    \n",
    "    should_continue,\n",
    "    {\n",
    "        \"continue\": \"tools\",\n",
    "        \"respond\": \"respond\",\n",
    "    },\n",
    ")\n",
    "\n",
    "workflow.add_edge(\"tools\", \"llm\")\n",
    "workflow.add_edge(\"respond\", END)\n",
    "graph = workflow.compile()"
   ]
  },
  {
   "cell_type": "code",
   "execution_count": 17,
   "id": "a9479ef6",
   "metadata": {},
   "outputs": [
    {
     "data": {
      "image/png": "[encoded data removed]",
      "text/plain": [
       "<IPython.core.display.Image object>"
      ]
     },
     "metadata": {},
     "output_type": "display_data"
    }
   ],
   "source": [
    "from IPython.display import Image, display\n",
    "# View\n",
    "display(Image(graph.get_graph().draw_mermaid_png()))"
   ]
  },
  {
   "cell_type": "code",
   "execution_count": 19,
   "id": "24ddc790",
   "metadata": {},
   "outputs": [
    {
     "name": "stdout",
     "output_type": "stream",
     "text": [
      "This is 1st input from call model {'messages': [HumanMessage(content='Tell me about the city details for Mumbai?', additional_kwargs={}, response_metadata={}, id='e76fe763-bd61-452a-ba5a-962bb3b7e090')]}\n",
      "This is 2nd response from call model content='' additional_kwargs={'tool_calls': [{'id': 'gwd3cgyqq', 'function': {'arguments': '{\"prompt\":\"Mumbai city details\"}', 'name': 'get_city_details'}, 'type': 'function'}]} response_metadata={'token_usage': {'completion_tokens': 18, 'prompt_tokens': 229, 'total_tokens': 247, 'completion_time': 0.03244393, 'prompt_time': 0.024914878, 'queue_time': 0.211347817, 'total_time': 0.057358808}, 'model_name': 'llama-3.3-70b-versatile', 'system_fingerprint': 'fp_2ddfbb0da0', 'service_tier': 'on_demand', 'finish_reason': 'tool_calls', 'logprobs': None} id='run--ad14801c-18cb-4842-9ec9-0a888a9434b7-0' tool_calls=[{'name': 'get_city_details', 'args': {'prompt': 'Mumbai city details'}, 'id': 'gwd3cgyqq', 'type': 'tool_call'}] usage_metadata={'input_tokens': 229, 'output_tokens': 18, 'total_tokens': 247}\n",
      "This is 1st input from call model {'messages': [HumanMessage(content='Tell me about the city details for Mumbai?', additional_kwargs={}, response_metadata={}, id='e76fe763-bd61-452a-ba5a-962bb3b7e090'), AIMessage(content='', additional_kwargs={'tool_calls': [{'id': 'gwd3cgyqq', 'function': {'arguments': '{\"prompt\":\"Mumbai city details\"}', 'name': 'get_city_details'}, 'type': 'function'}]}, response_metadata={'token_usage': {'completion_tokens': 18, 'prompt_tokens': 229, 'total_tokens': 247, 'completion_time': 0.03244393, 'prompt_time': 0.024914878, 'queue_time': 0.211347817, 'total_time': 0.057358808}, 'model_name': 'llama-3.3-70b-versatile', 'system_fingerprint': 'fp_2ddfbb0da0', 'service_tier': 'on_demand', 'finish_reason': 'tool_calls', 'logprobs': None}, id='run--ad14801c-18cb-4842-9ec9-0a888a9434b7-0', tool_calls=[{'name': 'get_city_details', 'args': {'prompt': 'Mumbai city details'}, 'id': 'gwd3cgyqq', 'type': 'tool_call'}], usage_metadata={'input_tokens': 229, 'output_tokens': 18, 'total_tokens': 247}), ToolMessage(content='[{\"title\": \"Mumbai - Wikipedia\", \"url\": \"https://en.wikipedia.org/wiki/Mumbai\", \"content\": \"Mumbai (/mʊmˈbaɪ/ muum-BY; Marathi: Mumbaī, pronounced (/wiki/Help:IPA/Marathi \\\\\"Help:IPA/Marathi\\\\\") ⓘ), also known as Bombay (/bɒmˈbeɪ/ bom-BAY; its official name until 1995), is the capital city of the Indian state of Maharashtra. Mumbai is the financial capital and the most populous city proper of India with an estimated population of 12.5 million (1.25 crore). Mumbai is the centre of the Mumbai Metropolitan Region, which is among the most populous metropolitan areas in the world with a [...] Mumbai lies at the mouth of the Ulhas River on the western coast of India, in the coastal region known as the Konkan. It sits on Salsette Island (Sashti Island), which it partially shares with the Thane district. Mumbai is bounded by the Arabian Sea to the west. Many parts of the city lie just above sea level, with elevations ranging from 10 to 15 metres (33 to 49 ft); the city has an average elevation of 14 metres (46 ft). Northern Mumbai (Salsette) is hilly, and the highest point in the city [...] to as the Island City or South Mumbai. The total area of Mumbai is 603.4 square kilometres (233.0 sq mi). Of this, the island city spans 67.79 square kilometres (26.17 sq mi), while the suburban district spans 370 square kilometres (140 sq mi), together accounting for 437.71 square kilometres (169.00 sq mi) under the administration of Municipal Corporation of Greater Mumbai (MCGM). The remaining areas belong to various Defence establishments, the Mumbai Port Trust, the Atomic Energy Commission\", \"score\": 0.8029425}, {\"title\": \"An informative introduction to Mumbai, India - YouTube\", \"url\": \"https://www.youtube.com/watch?v=uMofn2_R8bI\", \"content\": \"### Description\\\\n570 views\\\\nPosted: 9 Feb 2024\\\\nMumbai (formerly called Bombay) is a densely populated city on India’s west coast. A financial center, it\\'s India\\'s largest city. On the Mumbai Harbour waterfront stands the iconic Gateway of India stone arch, built by the British Raj in 1924. Offshore, nearby Elephanta Island holds ancient cave temples dedicated to the Hindu god Shiva. The city\\'s also famous as the heart of the Bollywood film industry. [...] this video is for educational purposes Mumbai formerly known as Bombay the official name until 1995 is the capital city of the Indian state of Maharashtra Mumbai is the deao financial center and the most populous city of India with an estimated City proper population of 12.5 million 1.25 CR Mumbai is the center of the Mumbai Metropolitan region the sixth most populous metropolitan area in the world world with a population of over 23 million 2.3 CR living within the Mumbai Metropolitan region\", \"score\": 0.7823471}, {\"title\": \"Economy of Mumbai - Wikipedia\", \"url\": \"https://en.wikipedia.org/wiki/Economy_of_Mumbai\", \"content\": \"Mumbai, often described as the New York of India, is India\\'s most populous city, with an estimated city proper population of 12.5 million (1.25 crore), and is the financial centre and commercial capital of the country, generating 6.16% of the total national GDP. The city is also the entertainment, cultural, fashion, and commercial centre of South Asia. Mumbai hosts the largest urban economy of any South Asian city, contributing the largest GDP share out of a US$4 trillion total Indian economy [...] \\\\\"List of countries by GDP (nominal)\\\\\") in nominal GDP terms. According to recent estimates, Mumbai Metro\\'s nominal GDP is estimated to be US$277.98 billion, and its GDP (PPP) is estimated to be US$400 billion, Mumbai\\'s GDP (PPP) per capita rounds up to around US$23,000. It is the richest Indian city and the 12th richest city in the world, with a net wealth of approximately US$1 trillion, with 46,000 millionaires and 92 billionaires. Mumbai accounts for 10% of Indian factory employment, 30% of [...] Causeway, links the island city to the western suburbs. The three major road arteries of the city are the Eastern Express Highway from Sion to Thane, the Sion Panvel Expressway from Sion to Panvel and the Western Express Highway from Bandra to Bhayandar. Mumbai has approximately 1,900 km (1,181 mi) of roads. There are five tolled entry points to the city by road.\", \"score\": 0.77589405}, {\"title\": \"[PDF] City Profile of Greater Mumbai\", \"url\": \"https://dm.mcgm.gov.in/assets/pdf/city_profile.pdf\", \"content\": \"River. Usually, Mumbai is referred to as three different geographic entities: Mumbai City, Greater Mumbai, and Mumbai Metropolitan Region (Figure 2). Mumbai City is the core of the old port city of Mumbai during the colonial period. Since then, its territory has expanded northward to cover the suburbs and extended suburbs. The Mumbai Island City plus the Mumbai Suburban District comprise what is now called as Greater Mumbai. It is under the political administration of the Municipal Corporation [...] Mumbai DRMMP City Profile of Greater Mumbai MCGM & EMI © 2011 1 | P a g e Introduction 1.1. Physical Environment 1.1.1. Physical Description Mumbai stakes its claim as the biggest metropolitan city in India in terms of population size and economy it generates. Located in the western coast facing the Arabian Sea (Figure 1), the city, which serves as an important seaport and trade hub, is also the financial nerve-centre of the country. This capital city of the state of Maharashtra was once made up [...] lines in the vicinity. The area is classified as a Seismic Zone III region, which means an earthquake of up to magnitude 6.5 on the Richter-scale. Units Administrative Coverage Land Area (Sq. Km.) Land Area (Sq. Mi.) Mumbai City (1) Mumbai Island City District only 68.71 26.53 Mumbai Suburbs and Extended Suburbs (2) Mumbai Suburban District only 369.00 142.47 Greater Mumbai (Under MCGM) (1) + (2) Mumbai City and Mumbai Suburban Districts Greater Mumbai extends from Colaba in the south to\", \"score\": 0.7646988}, {\"title\": \"India Mumbai City - Memphis Tours\", \"url\": \"https://www.memphistours.com/india/india-travel-guide/mumbai-travel-guide/wiki/mumbai-area\", \"content\": \"Mumbai India is known as the city of dreams (Mayanagri), it is the capital city of the Indian state of Maharashtra. Mumbai is also the second most populous city in India with a population of 19.98million. Moreover, it lies on the Konkan coast, which is on the west coast of India, with its very own natural harbour. [...] As the city that never sleeps and famous for its high-end malls and lucrative streets. Mumbai City also known as Bombay, offers unique experiences, from the beautiful promenades to the cosmopolitan culture. [...] Mumbai city is blessed with numerous tourist attractions from the caves like Elephanta Cave, Kanheri Caves and the Mahakali Caves, to the beautiful studios like Bombay Talkies. Indeed, there are different sites to explore, depending on your interests and time.\", \"score\": 0.74318707}]', name='get_city_details', id='dbbcda89-2a1b-4474-8502-68900e41e600', tool_call_id='gwd3cgyqq')]}\n",
      "This is 2nd response from call model content='The city details for Mumbai include:\\n\\n* Location: Mumbai is located on the western coast of India, in the state of Maharashtra.\\n* Population: The city has a population of approximately 12.5 million people, making it the most populous city in India.\\n* Economy: Mumbai is the financial capital of India and is home to the Bombay Stock Exchange, the National Stock Exchange, and many other financial institutions. The city is also a major hub for the Indian film industry, known as Bollywood.\\n* Geography: Mumbai is situated on a peninsula, with the Arabian Sea to the west and the Ulhas River to the north. The city has a total area of 603.4 square kilometers.\\n* Climate: Mumbai has a tropical wet and dry climate, with high temperatures and high humidity throughout the year.\\n* Tourism: Mumbai is a popular tourist destination, with many attractions such as the Gateway of India, the Chhatrapati Shivaji Maharaj Terminus, and the Haji Ali Dargah.\\n* Culture: Mumbai is a cosmopolitan city, with a diverse population and a rich cultural heritage. The city is known for its vibrant arts and culture scene, with many museums, galleries, and performance venues.\\n\\nThese are some of the key details about Mumbai. If you have any specific questions or would like more information, feel free to ask!' additional_kwargs={} response_metadata={'token_usage': {'completion_tokens': 272, 'prompt_tokens': 1886, 'total_tokens': 2158, 'completion_time': 0.645553187, 'prompt_time': 0.146114457, 'queue_time': 0.209426401, 'total_time': 0.791667644}, 'model_name': 'llama-3.3-70b-versatile', 'system_fingerprint': 'fp_3f3b593e33', 'service_tier': 'on_demand', 'finish_reason': 'stop', 'logprobs': None} id='run--7c76756d-c2a2-4702-abed-7939ae411256-0' usage_metadata={'input_tokens': 1886, 'output_tokens': 272, 'total_tokens': 2158}\n",
      "Here is 3rd state from respond function {'messages': [HumanMessage(content='Tell me about the city details for Mumbai?', additional_kwargs={}, response_metadata={}, id='e76fe763-bd61-452a-ba5a-962bb3b7e090'), AIMessage(content='', additional_kwargs={'tool_calls': [{'id': 'gwd3cgyqq', 'function': {'arguments': '{\"prompt\":\"Mumbai city details\"}', 'name': 'get_city_details'}, 'type': 'function'}]}, response_metadata={'token_usage': {'completion_tokens': 18, 'prompt_tokens': 229, 'total_tokens': 247, 'completion_time': 0.03244393, 'prompt_time': 0.024914878, 'queue_time': 0.211347817, 'total_time': 0.057358808}, 'model_name': 'llama-3.3-70b-versatile', 'system_fingerprint': 'fp_2ddfbb0da0', 'service_tier': 'on_demand', 'finish_reason': 'tool_calls', 'logprobs': None}, id='run--ad14801c-18cb-4842-9ec9-0a888a9434b7-0', tool_calls=[{'name': 'get_city_details', 'args': {'prompt': 'Mumbai city details'}, 'id': 'gwd3cgyqq', 'type': 'tool_call'}], usage_metadata={'input_tokens': 229, 'output_tokens': 18, 'total_tokens': 247}), ToolMessage(content='[{\"title\": \"Mumbai - Wikipedia\", \"url\": \"https://en.wikipedia.org/wiki/Mumbai\", \"content\": \"Mumbai (/mʊmˈbaɪ/ muum-BY; Marathi: Mumbaī, pronounced (/wiki/Help:IPA/Marathi \\\\\"Help:IPA/Marathi\\\\\") ⓘ), also known as Bombay (/bɒmˈbeɪ/ bom-BAY; its official name until 1995), is the capital city of the Indian state of Maharashtra. Mumbai is the financial capital and the most populous city proper of India with an estimated population of 12.5 million (1.25 crore). Mumbai is the centre of the Mumbai Metropolitan Region, which is among the most populous metropolitan areas in the world with a [...] Mumbai lies at the mouth of the Ulhas River on the western coast of India, in the coastal region known as the Konkan. It sits on Salsette Island (Sashti Island), which it partially shares with the Thane district. Mumbai is bounded by the Arabian Sea to the west. Many parts of the city lie just above sea level, with elevations ranging from 10 to 15 metres (33 to 49 ft); the city has an average elevation of 14 metres (46 ft). Northern Mumbai (Salsette) is hilly, and the highest point in the city [...] to as the Island City or South Mumbai. The total area of Mumbai is 603.4 square kilometres (233.0 sq mi). Of this, the island city spans 67.79 square kilometres (26.17 sq mi), while the suburban district spans 370 square kilometres (140 sq mi), together accounting for 437.71 square kilometres (169.00 sq mi) under the administration of Municipal Corporation of Greater Mumbai (MCGM). The remaining areas belong to various Defence establishments, the Mumbai Port Trust, the Atomic Energy Commission\", \"score\": 0.8029425}, {\"title\": \"An informative introduction to Mumbai, India - YouTube\", \"url\": \"https://www.youtube.com/watch?v=uMofn2_R8bI\", \"content\": \"### Description\\\\n570 views\\\\nPosted: 9 Feb 2024\\\\nMumbai (formerly called Bombay) is a densely populated city on India’s west coast. A financial center, it\\'s India\\'s largest city. On the Mumbai Harbour waterfront stands the iconic Gateway of India stone arch, built by the British Raj in 1924. Offshore, nearby Elephanta Island holds ancient cave temples dedicated to the Hindu god Shiva. The city\\'s also famous as the heart of the Bollywood film industry. [...] this video is for educational purposes Mumbai formerly known as Bombay the official name until 1995 is the capital city of the Indian state of Maharashtra Mumbai is the deao financial center and the most populous city of India with an estimated City proper population of 12.5 million 1.25 CR Mumbai is the center of the Mumbai Metropolitan region the sixth most populous metropolitan area in the world world with a population of over 23 million 2.3 CR living within the Mumbai Metropolitan region\", \"score\": 0.7823471}, {\"title\": \"Economy of Mumbai - Wikipedia\", \"url\": \"https://en.wikipedia.org/wiki/Economy_of_Mumbai\", \"content\": \"Mumbai, often described as the New York of India, is India\\'s most populous city, with an estimated city proper population of 12.5 million (1.25 crore), and is the financial centre and commercial capital of the country, generating 6.16% of the total national GDP. The city is also the entertainment, cultural, fashion, and commercial centre of South Asia. Mumbai hosts the largest urban economy of any South Asian city, contributing the largest GDP share out of a US$4 trillion total Indian economy [...] \\\\\"List of countries by GDP (nominal)\\\\\") in nominal GDP terms. According to recent estimates, Mumbai Metro\\'s nominal GDP is estimated to be US$277.98 billion, and its GDP (PPP) is estimated to be US$400 billion, Mumbai\\'s GDP (PPP) per capita rounds up to around US$23,000. It is the richest Indian city and the 12th richest city in the world, with a net wealth of approximately US$1 trillion, with 46,000 millionaires and 92 billionaires. Mumbai accounts for 10% of Indian factory employment, 30% of [...] Causeway, links the island city to the western suburbs. The three major road arteries of the city are the Eastern Express Highway from Sion to Thane, the Sion Panvel Expressway from Sion to Panvel and the Western Express Highway from Bandra to Bhayandar. Mumbai has approximately 1,900 km (1,181 mi) of roads. There are five tolled entry points to the city by road.\", \"score\": 0.77589405}, {\"title\": \"[PDF] City Profile of Greater Mumbai\", \"url\": \"https://dm.mcgm.gov.in/assets/pdf/city_profile.pdf\", \"content\": \"River. Usually, Mumbai is referred to as three different geographic entities: Mumbai City, Greater Mumbai, and Mumbai Metropolitan Region (Figure 2). Mumbai City is the core of the old port city of Mumbai during the colonial period. Since then, its territory has expanded northward to cover the suburbs and extended suburbs. The Mumbai Island City plus the Mumbai Suburban District comprise what is now called as Greater Mumbai. It is under the political administration of the Municipal Corporation [...] Mumbai DRMMP City Profile of Greater Mumbai MCGM & EMI © 2011 1 | P a g e Introduction 1.1. Physical Environment 1.1.1. Physical Description Mumbai stakes its claim as the biggest metropolitan city in India in terms of population size and economy it generates. Located in the western coast facing the Arabian Sea (Figure 1), the city, which serves as an important seaport and trade hub, is also the financial nerve-centre of the country. This capital city of the state of Maharashtra was once made up [...] lines in the vicinity. The area is classified as a Seismic Zone III region, which means an earthquake of up to magnitude 6.5 on the Richter-scale. Units Administrative Coverage Land Area (Sq. Km.) Land Area (Sq. Mi.) Mumbai City (1) Mumbai Island City District only 68.71 26.53 Mumbai Suburbs and Extended Suburbs (2) Mumbai Suburban District only 369.00 142.47 Greater Mumbai (Under MCGM) (1) + (2) Mumbai City and Mumbai Suburban Districts Greater Mumbai extends from Colaba in the south to\", \"score\": 0.7646988}, {\"title\": \"India Mumbai City - Memphis Tours\", \"url\": \"https://www.memphistours.com/india/india-travel-guide/mumbai-travel-guide/wiki/mumbai-area\", \"content\": \"Mumbai India is known as the city of dreams (Mayanagri), it is the capital city of the Indian state of Maharashtra. Mumbai is also the second most populous city in India with a population of 19.98million. Moreover, it lies on the Konkan coast, which is on the west coast of India, with its very own natural harbour. [...] As the city that never sleeps and famous for its high-end malls and lucrative streets. Mumbai City also known as Bombay, offers unique experiences, from the beautiful promenades to the cosmopolitan culture. [...] Mumbai city is blessed with numerous tourist attractions from the caves like Elephanta Cave, Kanheri Caves and the Mahakali Caves, to the beautiful studios like Bombay Talkies. Indeed, there are different sites to explore, depending on your interests and time.\", \"score\": 0.74318707}]', name='get_city_details', id='dbbcda89-2a1b-4474-8502-68900e41e600', tool_call_id='gwd3cgyqq'), AIMessage(content='The city details for Mumbai include:\\n\\n* Location: Mumbai is located on the western coast of India, in the state of Maharashtra.\\n* Population: The city has a population of approximately 12.5 million people, making it the most populous city in India.\\n* Economy: Mumbai is the financial capital of India and is home to the Bombay Stock Exchange, the National Stock Exchange, and many other financial institutions. The city is also a major hub for the Indian film industry, known as Bollywood.\\n* Geography: Mumbai is situated on a peninsula, with the Arabian Sea to the west and the Ulhas River to the north. The city has a total area of 603.4 square kilometers.\\n* Climate: Mumbai has a tropical wet and dry climate, with high temperatures and high humidity throughout the year.\\n* Tourism: Mumbai is a popular tourist destination, with many attractions such as the Gateway of India, the Chhatrapati Shivaji Maharaj Terminus, and the Haji Ali Dargah.\\n* Culture: Mumbai is a cosmopolitan city, with a diverse population and a rich cultural heritage. The city is known for its vibrant arts and culture scene, with many museums, galleries, and performance venues.\\n\\nThese are some of the key details about Mumbai. If you have any specific questions or would like more information, feel free to ask!', additional_kwargs={}, response_metadata={'token_usage': {'completion_tokens': 272, 'prompt_tokens': 1886, 'total_tokens': 2158, 'completion_time': 0.645553187, 'prompt_time': 0.146114457, 'queue_time': 0.209426401, 'total_time': 0.791667644}, 'model_name': 'llama-3.3-70b-versatile', 'system_fingerprint': 'fp_3f3b593e33', 'service_tier': 'on_demand', 'finish_reason': 'stop', 'logprobs': None}, id='run--7c76756d-c2a2-4702-abed-7939ae411256-0', usage_metadata={'input_tokens': 1886, 'output_tokens': 272, 'total_tokens': 2158})]}\n",
      "This is 4th response from respond content='' additional_kwargs={'tool_calls': [{'id': 'smyk1zzc1', 'function': {'arguments': '{\"prompt\":\"Mumbai city details\"}', 'name': 'get_city_details'}, 'type': 'function'}]} response_metadata={'token_usage': {'completion_tokens': 18, 'prompt_tokens': 491, 'total_tokens': 509, 'completion_time': 0.034656931, 'prompt_time': 0.046091178, 'queue_time': 0.214613876, 'total_time': 0.080748109}, 'model_name': 'llama-3.3-70b-versatile', 'system_fingerprint': 'fp_3f3b593e33', 'service_tier': 'on_demand', 'finish_reason': 'tool_calls', 'logprobs': None} id='run--82d4c236-dd28-470d-b720-c220a7be2aa5-0' tool_calls=[{'name': 'get_city_details', 'args': {'prompt': 'Mumbai city details'}, 'id': 'smyk1zzc1', 'type': 'tool_call'}] usage_metadata={'input_tokens': 491, 'output_tokens': 18, 'total_tokens': 509}\n"
     ]
    }
   ],
   "source": [
    "answer = graph.invoke(input={\"messages\": [(\"human\", \"Tell me about the city details for Mumbai?\")]})"
   ]
  },
  {
   "cell_type": "code",
   "execution_count": 20,
   "id": "5a4068de",
   "metadata": {},
   "outputs": [
    {
     "data": {
      "text/plain": [
       "{'messages': [HumanMessage(content='Tell me about the city details for Mumbai?', additional_kwargs={}, response_metadata={}, id='e76fe763-bd61-452a-ba5a-962bb3b7e090'),\n",
       "  AIMessage(content='', additional_kwargs={'tool_calls': [{'id': 'gwd3cgyqq', 'function': {'arguments': '{\"prompt\":\"Mumbai city details\"}', 'name': 'get_city_details'}, 'type': 'function'}]}, response_metadata={'token_usage': {'completion_tokens': 18, 'prompt_tokens': 229, 'total_tokens': 247, 'completion_time': 0.03244393, 'prompt_time': 0.024914878, 'queue_time': 0.211347817, 'total_time': 0.057358808}, 'model_name': 'llama-3.3-70b-versatile', 'system_fingerprint': 'fp_2ddfbb0da0', 'service_tier': 'on_demand', 'finish_reason': 'tool_calls', 'logprobs': None}, id='run--ad14801c-18cb-4842-9ec9-0a888a9434b7-0', tool_calls=[{'name': 'get_city_details', 'args': {'prompt': 'Mumbai city details'}, 'id': 'gwd3cgyqq', 'type': 'tool_call'}], usage_metadata={'input_tokens': 229, 'output_tokens': 18, 'total_tokens': 247}),\n",
       "  ToolMessage(content='[{\"title\": \"Mumbai - Wikipedia\", \"url\": \"https://en.wikipedia.org/wiki/Mumbai\", \"content\": \"Mumbai (/mʊmˈbaɪ/ muum-BY; Marathi: Mumbaī, pronounced (/wiki/Help:IPA/Marathi \\\\\"Help:IPA/Marathi\\\\\") ⓘ), also known as Bombay (/bɒmˈbeɪ/ bom-BAY; its official name until 1995), is the capital city of the Indian state of Maharashtra. Mumbai is the financial capital and the most populous city proper of India with an estimated population of 12.5 million (1.25 crore). Mumbai is the centre of the Mumbai Metropolitan Region, which is among the most populous metropolitan areas in the world with a [...] Mumbai lies at the mouth of the Ulhas River on the western coast of India, in the coastal region known as the Konkan. It sits on Salsette Island (Sashti Island), which it partially shares with the Thane district. Mumbai is bounded by the Arabian Sea to the west. Many parts of the city lie just above sea level, with elevations ranging from 10 to 15 metres (33 to 49 ft); the city has an average elevation of 14 metres (46 ft). Northern Mumbai (Salsette) is hilly, and the highest point in the city [...] to as the Island City or South Mumbai. The total area of Mumbai is 603.4 square kilometres (233.0 sq mi). Of this, the island city spans 67.79 square kilometres (26.17 sq mi), while the suburban district spans 370 square kilometres (140 sq mi), together accounting for 437.71 square kilometres (169.00 sq mi) under the administration of Municipal Corporation of Greater Mumbai (MCGM). The remaining areas belong to various Defence establishments, the Mumbai Port Trust, the Atomic Energy Commission\", \"score\": 0.8029425}, {\"title\": \"An informative introduction to Mumbai, India - YouTube\", \"url\": \"https://www.youtube.com/watch?v=uMofn2_R8bI\", \"content\": \"### Description\\\\n570 views\\\\nPosted: 9 Feb 2024\\\\nMumbai (formerly called Bombay) is a densely populated city on India’s west coast. A financial center, it\\'s India\\'s largest city. On the Mumbai Harbour waterfront stands the iconic Gateway of India stone arch, built by the British Raj in 1924. Offshore, nearby Elephanta Island holds ancient cave temples dedicated to the Hindu god Shiva. The city\\'s also famous as the heart of the Bollywood film industry. [...] this video is for educational purposes Mumbai formerly known as Bombay the official name until 1995 is the capital city of the Indian state of Maharashtra Mumbai is the deao financial center and the most populous city of India with an estimated City proper population of 12.5 million 1.25 CR Mumbai is the center of the Mumbai Metropolitan region the sixth most populous metropolitan area in the world world with a population of over 23 million 2.3 CR living within the Mumbai Metropolitan region\", \"score\": 0.7823471}, {\"title\": \"Economy of Mumbai - Wikipedia\", \"url\": \"https://en.wikipedia.org/wiki/Economy_of_Mumbai\", \"content\": \"Mumbai, often described as the New York of India, is India\\'s most populous city, with an estimated city proper population of 12.5 million (1.25 crore), and is the financial centre and commercial capital of the country, generating 6.16% of the total national GDP. The city is also the entertainment, cultural, fashion, and commercial centre of South Asia. Mumbai hosts the largest urban economy of any South Asian city, contributing the largest GDP share out of a US$4 trillion total Indian economy [...] \\\\\"List of countries by GDP (nominal)\\\\\") in nominal GDP terms. According to recent estimates, Mumbai Metro\\'s nominal GDP is estimated to be US$277.98 billion, and its GDP (PPP) is estimated to be US$400 billion, Mumbai\\'s GDP (PPP) per capita rounds up to around US$23,000. It is the richest Indian city and the 12th richest city in the world, with a net wealth of approximately US$1 trillion, with 46,000 millionaires and 92 billionaires. Mumbai accounts for 10% of Indian factory employment, 30% of [...] Causeway, links the island city to the western suburbs. The three major road arteries of the city are the Eastern Express Highway from Sion to Thane, the Sion Panvel Expressway from Sion to Panvel and the Western Express Highway from Bandra to Bhayandar. Mumbai has approximately 1,900 km (1,181 mi) of roads. There are five tolled entry points to the city by road.\", \"score\": 0.77589405}, {\"title\": \"[PDF] City Profile of Greater Mumbai\", \"url\": \"https://dm.mcgm.gov.in/assets/pdf/city_profile.pdf\", \"content\": \"River. Usually, Mumbai is referred to as three different geographic entities: Mumbai City, Greater Mumbai, and Mumbai Metropolitan Region (Figure 2). Mumbai City is the core of the old port city of Mumbai during the colonial period. Since then, its territory has expanded northward to cover the suburbs and extended suburbs. The Mumbai Island City plus the Mumbai Suburban District comprise what is now called as Greater Mumbai. It is under the political administration of the Municipal Corporation [...] Mumbai DRMMP City Profile of Greater Mumbai MCGM & EMI © 2011 1 | P a g e Introduction 1.1. Physical Environment 1.1.1. Physical Description Mumbai stakes its claim as the biggest metropolitan city in India in terms of population size and economy it generates. Located in the western coast facing the Arabian Sea (Figure 1), the city, which serves as an important seaport and trade hub, is also the financial nerve-centre of the country. This capital city of the state of Maharashtra was once made up [...] lines in the vicinity. The area is classified as a Seismic Zone III region, which means an earthquake of up to magnitude 6.5 on the Richter-scale. Units Administrative Coverage Land Area (Sq. Km.) Land Area (Sq. Mi.) Mumbai City (1) Mumbai Island City District only 68.71 26.53 Mumbai Suburbs and Extended Suburbs (2) Mumbai Suburban District only 369.00 142.47 Greater Mumbai (Under MCGM) (1) + (2) Mumbai City and Mumbai Suburban Districts Greater Mumbai extends from Colaba in the south to\", \"score\": 0.7646988}, {\"title\": \"India Mumbai City - Memphis Tours\", \"url\": \"https://www.memphistours.com/india/india-travel-guide/mumbai-travel-guide/wiki/mumbai-area\", \"content\": \"Mumbai India is known as the city of dreams (Mayanagri), it is the capital city of the Indian state of Maharashtra. Mumbai is also the second most populous city in India with a population of 19.98million. Moreover, it lies on the Konkan coast, which is on the west coast of India, with its very own natural harbour. [...] As the city that never sleeps and famous for its high-end malls and lucrative streets. Mumbai City also known as Bombay, offers unique experiences, from the beautiful promenades to the cosmopolitan culture. [...] Mumbai city is blessed with numerous tourist attractions from the caves like Elephanta Cave, Kanheri Caves and the Mahakali Caves, to the beautiful studios like Bombay Talkies. Indeed, there are different sites to explore, depending on your interests and time.\", \"score\": 0.74318707}]', name='get_city_details', id='dbbcda89-2a1b-4474-8502-68900e41e600', tool_call_id='gwd3cgyqq'),\n",
       "  AIMessage(content='The city details for Mumbai include:\\n\\n* Location: Mumbai is located on the western coast of India, in the state of Maharashtra.\\n* Population: The city has a population of approximately 12.5 million people, making it the most populous city in India.\\n* Economy: Mumbai is the financial capital of India and is home to the Bombay Stock Exchange, the National Stock Exchange, and many other financial institutions. The city is also a major hub for the Indian film industry, known as Bollywood.\\n* Geography: Mumbai is situated on a peninsula, with the Arabian Sea to the west and the Ulhas River to the north. The city has a total area of 603.4 square kilometers.\\n* Climate: Mumbai has a tropical wet and dry climate, with high temperatures and high humidity throughout the year.\\n* Tourism: Mumbai is a popular tourist destination, with many attractions such as the Gateway of India, the Chhatrapati Shivaji Maharaj Terminus, and the Haji Ali Dargah.\\n* Culture: Mumbai is a cosmopolitan city, with a diverse population and a rich cultural heritage. The city is known for its vibrant arts and culture scene, with many museums, galleries, and performance venues.\\n\\nThese are some of the key details about Mumbai. If you have any specific questions or would like more information, feel free to ask!', additional_kwargs={}, response_metadata={'token_usage': {'completion_tokens': 272, 'prompt_tokens': 1886, 'total_tokens': 2158, 'completion_time': 0.645553187, 'prompt_time': 0.146114457, 'queue_time': 0.209426401, 'total_time': 0.791667644}, 'model_name': 'llama-3.3-70b-versatile', 'system_fingerprint': 'fp_3f3b593e33', 'service_tier': 'on_demand', 'finish_reason': 'stop', 'logprobs': None}, id='run--7c76756d-c2a2-4702-abed-7939ae411256-0', usage_metadata={'input_tokens': 1886, 'output_tokens': 272, 'total_tokens': 2158})]}"
      ]
     },
     "execution_count": 20,
     "metadata": {},
     "output_type": "execute_result"
    }
   ],
   "source": [
    "answer"
   ]
  },
  {
   "cell_type": "code",
   "execution_count": null,
   "id": "3150b861",
   "metadata": {},
   "outputs": [],
   "source": []
  }
 ],
 "metadata": {
  "kernelspec": {
   "display_name": "Python 3",
   "language": "python",
   "name": "python3"
  },
  "language_info": {
   "codemirror_mode": {
    "name": "ipython",
    "version": 3
   },
   "file_extension": ".py",
   "mimetype": "text/x-python",
   "name": "python",
   "nbconvert_exporter": "python",
   "pygments_lexer": "ipython3",
   "version": "3.10.18"
  }
 },
 "nbformat": 4,
 "nbformat_minor": 5
}
