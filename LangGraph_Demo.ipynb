{
 "cells": [
  {
   "cell_type": "code",
   "execution_count": 1,
   "id": "50dac138",
   "metadata": {},
   "outputs": [],
   "source": [
    "import os"
   ]
  },
  {
   "cell_type": "code",
   "execution_count": 2,
   "id": "2828edda",
   "metadata": {},
   "outputs": [],
   "source": [
    "from langgraph.checkpoint.memory import MemorySaver\n",
    "from langgraph.graph import END, StateGraph, MessagesState\n",
    "from langgraph.prebuilt import ToolNode"
   ]
  },
  {
   "cell_type": "code",
   "execution_count": 3,
   "id": "d9bac93a",
   "metadata": {},
   "outputs": [
    {
     "data": {
      "text/plain": [
       "True"
      ]
     },
     "execution_count": 3,
     "metadata": {},
     "output_type": "execute_result"
    }
   ],
   "source": [
    "from dotenv import load_dotenv\n",
    "load_dotenv()"
   ]
  },
  {
   "cell_type": "code",
   "execution_count": 4,
   "id": "95d72c95",
   "metadata": {},
   "outputs": [],
   "source": [
    "GOOGLE_API_KEY = os.getenv(\"GOOGLE_API_KEY\")\n",
    "TAVILY_API_KEY = os.getenv(\"TAVILY_API_KEY\")\n",
    "GROQ_API_KEY = os.getenv(\"GROQ_API_KEY\")\n",
    "LANGCHAIN_API_KEY = os.getenv(\"LANGCHAIN_API_KEY\")\n",
    "LANGSMITH_PROJECT = os.getenv(\"LANGSMITH_PROJECT\")"
   ]
  },
  {
   "cell_type": "code",
   "execution_count": 5,
   "id": "3fbe6372",
   "metadata": {},
   "outputs": [],
   "source": [
    "os.environ[\"GOOGLE_API_KEY\"] = GOOGLE_API_KEY\n",
    "os.environ[\"TAVILY_API_KEY\"] = TAVILY_API_KEY\n",
    "os.environ[\"GROQ_API_KEY\"] = GROQ_API_KEY\n",
    "os.environ[\"LANGCHAIN_API_KEY\"] = LANGCHAIN_API_KEY\n",
    "os.environ[\"LANGSMITH_PROJECT\"] = LANGSMITH_PROJECT"
   ]
  },
  {
   "cell_type": "code",
   "execution_count": 6,
   "id": "b4aaa3d9",
   "metadata": {},
   "outputs": [
    {
     "name": "stderr",
     "output_type": "stream",
     "text": [
      "/Users/atharvabot7/Downloads/MLOPS-Tutorials/LangGraph/langgraph/lib/python3.10/site-packages/tqdm/auto.py:21: TqdmWarning: IProgress not found. Please update jupyter and ipywidgets. See https://ipywidgets.readthedocs.io/en/stable/user_install.html\n",
      "  from .autonotebook import tqdm as notebook_tqdm\n"
     ]
    }
   ],
   "source": [
    "from langchain_google_genai import ChatGoogleGenerativeAI"
   ]
  },
  {
   "cell_type": "code",
   "execution_count": 7,
   "id": "8b83897a",
   "metadata": {},
   "outputs": [],
   "source": [
    "model = ChatGoogleGenerativeAI(model=\"gemini-2.5-pro\", temperature=0.7,convert_system_message_to_human=True)"
   ]
  },
  {
   "cell_type": "code",
   "execution_count": 10,
   "id": "fca69b97",
   "metadata": {},
   "outputs": [
    {
     "name": "stdout",
     "output_type": "stream",
     "text": [
      "Exiting the program.\n"
     ]
    }
   ],
   "source": [
    "while True:\n",
    "    question = input(\"Enter your question (or 'exit' to quit): \")\n",
    "    if question.lower() not in ['exit', 'quit']:\n",
    "        print(model.invoke(question).content)\n",
    "    else:\n",
    "        print(\"Exiting the program.\")\n",
    "        break"
   ]
  },
  {
   "cell_type": "markdown",
   "id": "82f03a51",
   "metadata": {},
   "source": [
    "### Adding memory to the model"
   ]
  },
  {
   "cell_type": "code",
   "execution_count": null,
   "id": "d890bd7d",
   "metadata": {},
   "outputs": [],
   "source": [
    "from langchain_core.chat_history import BaseChatMessageHistory\n",
    "from langchain_core.chat_history import InMemoryChatMessageHistory\n",
    "from langchain_core.runnables.history import RunnableWithMessageHistory\n",
    "from langchain_core.messages import AIMessage, HumanMessage"
   ]
  },
  {
   "cell_type": "code",
   "execution_count": 13,
   "id": "80870e05",
   "metadata": {},
   "outputs": [],
   "source": [
    "store = {}"
   ]
  },
  {
   "cell_type": "code",
   "execution_count": 14,
   "id": "69c40811",
   "metadata": {},
   "outputs": [],
   "source": [
    "def get_session_id(session_id: str) -> BaseChatMessageHistory:\n",
    "    if session_id not in store:\n",
    "        store[session_id] = InMemoryChatMessageHistory()\n",
    "    return store[session_id]"
   ]
  },
  {
   "cell_type": "code",
   "execution_count": 16,
   "id": "e84b98e3",
   "metadata": {},
   "outputs": [],
   "source": [
    "config = {\n",
    "    \"configurable\": {\"session_id\": \"first_session\"}\n",
    "}"
   ]
  },
  {
   "cell_type": "code",
   "execution_count": 17,
   "id": "45001da4",
   "metadata": {},
   "outputs": [],
   "source": [
    "model_with_memory = RunnableWithMessageHistory(model,get_session_id)"
   ]
  },
  {
   "cell_type": "code",
   "execution_count": 18,
   "id": "b696c211",
   "metadata": {},
   "outputs": [
    {
     "name": "stderr",
     "output_type": "stream",
     "text": [
      "/Users/atharvabot7/Downloads/MLOPS-Tutorials/LangGraph/langgraph/lib/python3.10/site-packages/langchain_google_genai/chat_models.py:357: UserWarning: Convert_system_message_to_human will be deprecated!\n",
      "  warnings.warn(\"Convert_system_message_to_human will be deprecated!\")\n"
     ]
    },
    {
     "data": {
      "text/plain": [
       "'Mr. Wick.\\n\\nA pleasure. I trust you\\'re not \"working\" tonight.\\n\\nHow may I be of service? Are you in need of:\\n\\n*   A \"dinner reservation\"?\\n*   A tactical map of the city?\\n*   The finest veterinary services for your companion?\\n*   Or simply a quiet room.\\n\\nMy services are at your disposal. Just say the word.'"
      ]
     },
     "execution_count": 18,
     "metadata": {},
     "output_type": "execute_result"
    }
   ],
   "source": [
    "model_with_memory.invoke((\"Hello I am John Wick.\"), config=config).content"
   ]
  },
  {
   "cell_type": "code",
   "execution_count": 19,
   "id": "439054d7",
   "metadata": {},
   "outputs": [
    {
     "name": "stderr",
     "output_type": "stream",
     "text": [
      "/Users/atharvabot7/Downloads/MLOPS-Tutorials/LangGraph/langgraph/lib/python3.10/site-packages/langchain_google_genai/chat_models.py:357: UserWarning: Convert_system_message_to_human will be deprecated!\n",
      "  warnings.warn(\"Convert_system_message_to_human will be deprecated!\")\n"
     ]
    },
    {
     "data": {
      "text/plain": [
       "'Mr. Wick.\\n\\nThat is a question with many answers, depending on who you ask.\\n\\nTo the criminal underworld, you are a legend. A myth. You are **Baba Yaga**. Not the Boogeyman, no... you are the one they send to *kill* the Boogeyman.\\n\\nTo men like Viggo Tarasov, you were the instrument of their ascension. The man who completed the \"impossible task,\" allowing them to build an empire. You were their finest, most terrifying asset.\\n\\nTo the High Table, you are a disruption. A ghost who returned from the grave. A broken rule. A loose thread that threatens to unravel their entire tapestry. You are **Excommunicado**. A man with a multi-million dollar bounty on his head.\\n\\nTo those who have seen you work, you are a man of focus, commitment, and sheer, unadulterated will. The artist behind the story of three men in a bar, killed with a single pencil. You are a master of gun-fu, a tactician, a force of nature that cannot be stopped, only weathered.\\n\\nTo your late wife, Helen, you were simply \"Jonathan.\" The man who left it all behind for a chance at a normal life. The man she loved.\\n\\nBut to ask me, here and now?\\n\\nYou are a guest. A professional. And a man who has been through a great deal.\\n\\nYou are John Wick.'"
      ]
     },
     "execution_count": 19,
     "metadata": {},
     "output_type": "execute_result"
    }
   ],
   "source": [
    "model_with_memory.invoke((\"Who am I?\"), config=config).content"
   ]
  },
  {
   "cell_type": "markdown",
   "id": "367307f0",
   "metadata": {},
   "source": [
    "### Adding RAG functionality using LCEL"
   ]
  },
  {
   "cell_type": "code",
   "execution_count": 20,
   "id": "f0ebcd53",
   "metadata": {},
   "outputs": [],
   "source": [
    "from langchain_community.document_loaders import TextLoader, DirectoryLoader\n",
    "from langchain.text_splitter import RecursiveCharacterTextSplitter\n",
    "from langchain.vectorstores import Chroma\n",
    "from langchain import PromptTemplate\n",
    "from langchain_core.runnables import RunnablePassthrough, RunnableLambda, RunnableParallel\n",
    "from langchain_core.output_parsers import StrOutputParser"
   ]
  },
  {
   "cell_type": "code",
   "execution_count": 21,
   "id": "8c5fd33f",
   "metadata": {},
   "outputs": [],
   "source": [
    "loader = DirectoryLoader('./data', glob=\"**/*.txt\", loader_cls=TextLoader)"
   ]
  },
  {
   "cell_type": "code",
   "execution_count": 22,
   "id": "c91b3c97",
   "metadata": {},
   "outputs": [],
   "source": [
    "docs = loader.load()"
   ]
  },
  {
   "cell_type": "code",
   "execution_count": 24,
   "id": "5bad362d",
   "metadata": {},
   "outputs": [
    {
     "data": {
      "text/plain": [
       "[Document(metadata={'source': 'data/info.txt'}, page_content='John Wick is an American media franchise created by Derek Kolstad. It centers on a neo-noir action thriller film series featuring the eponymous character portrayed by Keanu Reeves. Wick is a legendary hitman who is reluctantly drawn back into the criminal underworld after retiring. The franchise began with the release of John Wick (2014), which was followed by three sequels: Chapter 2 (2017), Chapter 3 – Parabellum (2019), and Chapter 4 (2023).[1][2] Various spin-offs expanded the franchise: the prequel comic book series John Wick: The Book of Rules (2017–2019), the prequel television miniseries The Continental (2023), and the spinoff film Ballerina (2025),[3] all incorporating elements of alternate history.\\n\\nThe films have received critical acclaim, and have been considered one of the greatest action film series of all time.[4][5][6][7] Some critics and publications consider the first film,[a] as well as Chapter 4,[25][26][27] as two of the greatest action films ever made. The films have earned a collective gross of more than $1 billion worldwide.[28]\\n\\nChad Stahelski, Basil Iwanyk, and Erica Lee serve in oversight roles for the John Wick franchise. 87Eleven Productions, Thunder Road Films, and Lionsgate produce the franchise.[29]\\n\\nJohn Wick (2014)\\nMain article: John Wick (film)\\nJohn Wick is a retired assassin who returns to his old ways after a group of Russian gangsters steal his car and kill his puppy which was given to him by his late wife Helen.[33]\\n\\nThe film was developed in 2012. Principal photography began September 25, 2013, and wrapped on December 20, 2013.\\n\\nJohn Wick: Chapter 2 (2017)\\nMain article: John Wick: Chapter 2\\nForced to honor a debt from his past life, John Wick is sent to assassinate a target he has no wish to kill, where he faces betrayal at the hands of his sponsor.\\n\\nPrincipal photography began on October 26, 2015. The film was premiered in February 2017.\\n\\nJohn Wick: Chapter 3 – Parabellum (2019)\\nMain article: John Wick: Chapter 3 – Parabellum\\nJohn Wick is declared excommunicado after killing an international crime lord on Continental grounds, where he sets out to save himself from bounty hunters and assassins.\\n\\nThe third film was announced in October 2016, production began in early 2018 and was released in May 2019.\\n\\nJohn Wick: Chapter 4 (2023)\\nMain article: John Wick: Chapter 4\\nJohn Wick takes his fight against the High Table global as he seeks out more powerful players in the underworld from different countries.\\n\\nIn May 2019, prior to the release of John Wick: Chapter 3 – Parabellum, Chad Stahelski confirmed on a Reddit \"Ask Me Anything\" thread that discussion of another film had arisen.[34] Keanu Reeves had also stated that he would continue as long as the films are successful.[35] Lionsgate announced the film during John Wick 3\\'s opening week, with a scheduled release date of May 21, 2021.[36] In April 2020, though, during an interview with Collider, Stahelski revealed that the film would most likely not make its 2021 release date due to his commitment to The Matrix Resurrections.[1] He also revealed, during the same interview, that a 100-page \"scriptment\" (part script/part outline) had been written for the film.[1] The screenplay was written by Shay Hatten and Michael Finch, as the studio decided to move on from series creator Derek Kolstad.[37][38] Production was due to commence in June 2021 in Paris and Berlin, with additional filming in Japan and New York City.[39] Partly due to the COVID-19 pandemic, the film was released on March 24, 2023.[2] In June 2021, Donnie Yen, Rina Sawayama, Shamier Anderson, Bill Skarsgård, and Hiroyuki Sanada joined the cast.[40][41][42][43] Principal photography began on June 28, 2021.[44] In October 2021, principal photography had wrapped.[45]\\n\\nJohn Wick: Chapter 5 (TBA)\\nIn August 2020, Lionsgate CEO Jon Feltheimer confirmed that a fifth film was also being developed. It was intended to be shot back-to-back with the fourth installment in early 2021, but in March 2021, Lionsgate opted to delay production and move forward with Chapter 4 first.[3][39] In May 2022, Stahelski stated that while Chapter 4 has some \"conclusion\" elements to the story, there would be a fifth installment to the franchise.[46] Stahelski stated that though Chapters 4 and 5 were originally intended to be filmed back-to-back, he didn\\'t feel like he could create two meaningfully successful and separate installments, without some time between each project to grow as a filmmaker;[47] stating that once Chapter 4 is released months later in Japan, he and Reeves will discuss and map out the future of the John Wick movies.[48] He also confirmed that he and Reeves will remain involved in the additional projects of the franchise that are currently in development, though the premise for Chapter 5 is not mapped out yet.[49] Later that same month, following the financial and critical success of Chapter 4, producer Erica Lee stated she was hopeful for a fifth film among projects expanding the universe currently in development.[50] By November 2023 following the resolution of the writers and actors strikes, Lionsgate revealed that work on the script for the fifth film had officially resumed.[51]\\n\\nIn October 2024, Stahelski stated that the script has gone through various iterations, but that it would not move forward until he, Reeves, Iwanyk, and Lee were satisfied with the story. The filmmaker revealed that the project would not continue directly from Chapter 4, but will be a separate storyline.[52] By April 2025, the movie was officially announced at CinemaCon. Reeves will reprise the eponymous role, and Stahelski will direct. Basil Iwanyk, Erica Lee, Stahelski, and Reeves will serve as producers.[53][54][55] The following month, Stahelski explained that the plot will not feature the High Table, and will instead see Wick facing new threats, after completing his confrontations with the previous organization.[56] The project will be a joint-venture production between Lionsgate, Thunder Road Films, and 87Eleven Entertainment.[53][54][55]')]"
      ]
     },
     "execution_count": 24,
     "metadata": {},
     "output_type": "execute_result"
    }
   ],
   "source": [
    "docs"
   ]
  },
  {
   "cell_type": "code",
   "execution_count": 25,
   "id": "dc44ad0d",
   "metadata": {},
   "outputs": [],
   "source": [
    "text_splitter = RecursiveCharacterTextSplitter(\n",
    "    chunk_size=500,\n",
    "    chunk_overlap=50,\n",
    "    length_function=len,\n",
    "    separators=[\"\\n\\n\", \"\\n\", \" \", \"\"],\n",
    ")"
   ]
  },
  {
   "cell_type": "code",
   "execution_count": 26,
   "id": "873b33f0",
   "metadata": {},
   "outputs": [],
   "source": [
    "new_docs = text_splitter.split_documents(documents = docs)"
   ]
  },
  {
   "cell_type": "code",
   "execution_count": 27,
   "id": "48bb5ec3",
   "metadata": {},
   "outputs": [],
   "source": [
    "doc_strings = [doc.page_content for doc in new_docs]"
   ]
  },
  {
   "cell_type": "code",
   "execution_count": 32,
   "id": "ca52fadc",
   "metadata": {},
   "outputs": [],
   "source": [
    "# Adding an embedding model to create vector store\n",
    "\n",
    "from langchain_google_genai import GoogleGenerativeAIEmbeddings\n",
    "embeddings = GoogleGenerativeAIEmbeddings(model=\"models/text-embedding-004\")"
   ]
  },
  {
   "cell_type": "code",
   "execution_count": 33,
   "id": "ac46fffe",
   "metadata": {},
   "outputs": [],
   "source": [
    "db = Chroma.from_documents(new_docs, embeddings)"
   ]
  },
  {
   "cell_type": "code",
   "execution_count": 34,
   "id": "98be184f",
   "metadata": {},
   "outputs": [],
   "source": [
    "retriever = db.as_retriever(search_type=\"similarity\", search_kwargs={\"k\":4})"
   ]
  },
  {
   "cell_type": "code",
   "execution_count": 35,
   "id": "c9b01077",
   "metadata": {},
   "outputs": [],
   "source": [
    "template = \"\"\"\n",
    "You are a helpful AI assistant. Use the following pieces of context to answer the question at the end.\n",
    "If you don't know the answer, just say that you don't know, don't try to make up an answer.\n",
    "{context}\n",
    "\n",
    "Question: {question}\"\"\"\n",
    "\n",
    "prompt = PromptTemplate.from_template(template)"
   ]
  },
  {
   "cell_type": "code",
   "execution_count": 36,
   "id": "fd0f4f17",
   "metadata": {},
   "outputs": [],
   "source": [
    "retrieval_chain = (\n",
    "    RunnableParallel({\"context\": retriever, \"question\": RunnablePassthrough()})\n",
    "    | prompt\n",
    "    | model\n",
    "    | StrOutputParser()\n",
    ")"
   ]
  },
  {
   "cell_type": "code",
   "execution_count": 37,
   "id": "3f62e74f",
   "metadata": {},
   "outputs": [],
   "source": [
    "question = \"What is John Wick's profession?\""
   ]
  },
  {
   "cell_type": "code",
   "execution_count": 39,
   "id": "ea9b7a23",
   "metadata": {},
   "outputs": [
    {
     "name": "stderr",
     "output_type": "stream",
     "text": [
      "/Users/atharvabot7/Downloads/MLOPS-Tutorials/LangGraph/langgraph/lib/python3.10/site-packages/langchain_google_genai/chat_models.py:357: UserWarning: Convert_system_message_to_human will be deprecated!\n",
      "  warnings.warn(\"Convert_system_message_to_human will be deprecated!\")\n"
     ]
    },
    {
     "name": "stdout",
     "output_type": "stream",
     "text": [
      "Based on the provided context, John Wick is a legendary hitman.\n"
     ]
    }
   ],
   "source": [
    "print(retrieval_chain.invoke(question))"
   ]
  },
  {
   "cell_type": "code",
   "execution_count": null,
   "id": "bacf049f",
   "metadata": {},
   "outputs": [],
   "source": []
  },
  {
   "cell_type": "code",
   "execution_count": null,
   "id": "d343c9e2",
   "metadata": {},
   "outputs": [],
   "source": []
  },
  {
   "cell_type": "code",
   "execution_count": null,
   "id": "c581cbad",
   "metadata": {},
   "outputs": [],
   "source": []
  },
  {
   "cell_type": "code",
   "execution_count": null,
   "id": "52231706",
   "metadata": {},
   "outputs": [],
   "source": []
  },
  {
   "cell_type": "code",
   "execution_count": null,
   "id": "c33a1a22",
   "metadata": {},
   "outputs": [],
   "source": []
  },
  {
   "cell_type": "code",
   "execution_count": null,
   "id": "cff07c49",
   "metadata": {},
   "outputs": [],
   "source": []
  },
  {
   "cell_type": "code",
   "execution_count": null,
   "id": "16f45024",
   "metadata": {},
   "outputs": [],
   "source": []
  },
  {
   "cell_type": "code",
   "execution_count": null,
   "id": "64e5a0a5",
   "metadata": {},
   "outputs": [],
   "source": []
  },
  {
   "cell_type": "code",
   "execution_count": null,
   "id": "ffcee0bc",
   "metadata": {},
   "outputs": [],
   "source": [
    "from langchain_core.tools import tool"
   ]
  },
  {
   "cell_type": "code",
   "execution_count": null,
   "id": "a86f0ac8",
   "metadata": {},
   "outputs": [],
   "source": [
    "@tool\n",
    "def search(query: str):\n",
    "    \"\"\"Call to surf the web.\"\"\"\n",
    "    if \"sf\" in query.lower() or \"san francisco\" in query.lower():\n",
    "        return \"It's 60 degrees and foggy.\"\n",
    "    return \"It's 90 degrees and sunny.\""
   ]
  },
  {
   "cell_type": "code",
   "execution_count": null,
   "id": "7d2bd214",
   "metadata": {},
   "outputs": [],
   "source": [
    "tools = [search]"
   ]
  },
  {
   "cell_type": "code",
   "execution_count": null,
   "id": "c2829278",
   "metadata": {},
   "outputs": [],
   "source": [
    "tool_node = ToolNode(tools)"
   ]
  },
  {
   "cell_type": "code",
   "execution_count": null,
   "id": "93bc9b53",
   "metadata": {},
   "outputs": [],
   "source": [
    "def call_model(state: MessagesState):\n",
    "    messages = state['messages']\n",
    "    response = model.invoke(messages)\n",
    "    # We return a list, because this will get added to the existing list\n",
    "    return {\"messages\": [response]}"
   ]
  },
  {
   "cell_type": "code",
   "execution_count": null,
   "id": "aca1c023",
   "metadata": {},
   "outputs": [],
   "source": [
    "from typing import Literal"
   ]
  },
  {
   "cell_type": "code",
   "execution_count": null,
   "id": "1b75374d",
   "metadata": {},
   "outputs": [],
   "source": [
    "def should_continue(state: MessagesState) -> Literal[\"tools\", END]:\n",
    "    messages = state['messages']\n",
    "    last_message = messages[-1]\n",
    "    \n",
    "    # If the LLM makes a tool call, then we route to the \"tools\" node\n",
    "    if last_message.tool_calls:\n",
    "        return \"tools\"\n",
    "    # Otherwise, we stop (reply to the user)\n",
    "    return END"
   ]
  },
  {
   "cell_type": "code",
   "execution_count": null,
   "id": "bab449c2",
   "metadata": {},
   "outputs": [],
   "source": [
    "workflow=StateGraph(MessagesState)"
   ]
  },
  {
   "cell_type": "code",
   "execution_count": null,
   "id": "6c6a37a6",
   "metadata": {},
   "outputs": [],
   "source": [
    "workflow.add_node(\"agent\",call_model)"
   ]
  },
  {
   "cell_type": "code",
   "execution_count": null,
   "id": "7161158b",
   "metadata": {},
   "outputs": [],
   "source": [
    "workflow.add_node(\"tools\",call_model)"
   ]
  },
  {
   "cell_type": "code",
   "execution_count": null,
   "id": "5297a461",
   "metadata": {},
   "outputs": [],
   "source": [
    "# We now add a conditional edge\n",
    "workflow.add_conditional_edges(\n",
    "    # First, we define the start node. We use `agent`.\n",
    "    # This means these are the edges taken after the `agent` node is called.\n",
    "    \"agent\",\n",
    "    # Next, we pass in the function that will determine which node is called next.\n",
    "    should_continue,\n",
    ")"
   ]
  },
  {
   "cell_type": "code",
   "execution_count": null,
   "id": "bfcf5275",
   "metadata": {},
   "outputs": [],
   "source": [
    "workflow.set_entry_point(\"agent\")"
   ]
  },
  {
   "cell_type": "code",
   "execution_count": null,
   "id": "d97ea6f3",
   "metadata": {},
   "outputs": [],
   "source": [
    "# We now add a normal edge from `tools` to `agent`.\n",
    "# This means that after `tools` is called, `agent` node is called next.\n",
    "workflow.add_edge(\"tools\", 'agent')"
   ]
  },
  {
   "cell_type": "code",
   "execution_count": null,
   "id": "17c3fca2",
   "metadata": {},
   "outputs": [],
   "source": [
    "checkpointer = MemorySaver()"
   ]
  },
  {
   "cell_type": "code",
   "execution_count": null,
   "id": "b42cb466",
   "metadata": {},
   "outputs": [],
   "source": [
    "app=workflow.compile(checkpointer=checkpointer)"
   ]
  },
  {
   "cell_type": "code",
   "execution_count": null,
   "id": "4d082002",
   "metadata": {},
   "outputs": [],
   "source": [
    "from IPython.display import Image, display\n",
    "\n",
    "try:\n",
    "    display(Image(app.get_graph().draw_mermaid_png()))\n",
    "except Exception:\n",
    "    # This requires some extra dependencies and is optional\n",
    "    pass"
   ]
  },
  {
   "cell_type": "code",
   "execution_count": null,
   "id": "0f895c21",
   "metadata": {},
   "outputs": [],
   "source": [
    "from langchain_core.messages import HumanMessage"
   ]
  },
  {
   "cell_type": "code",
   "execution_count": null,
   "id": "3aad74f4",
   "metadata": {},
   "outputs": [],
   "source": [
    "final_state = app.invoke({\"messages\": [HumanMessage(content=\"What is the weather like in Florida?\")]},config={\"configurable\": {\"thread_id\": 42}})"
   ]
  },
  {
   "cell_type": "code",
   "execution_count": null,
   "id": "eaedfa52",
   "metadata": {},
   "outputs": [],
   "source": [
    "final_state[\"messages\"][-1].content"
   ]
  },
  {
   "cell_type": "code",
   "execution_count": null,
   "id": "dd1fc27c",
   "metadata": {},
   "outputs": [],
   "source": [
    "while True:\n",
    "    user_input = input(\"User: \")\n",
    "    if user_input.lower() in [\"quit\", \"exit\", \"q\"]:\n",
    "        print(\"Goodbye!\")\n",
    "        break\n",
    "    for event in app.stream({\"messages\": (\"user\", user_input)}):\n",
    "        for value in event.values():\n",
    "            print(\"Assistant:\", value[\"messages\"][-1].content)"
   ]
  },
  {
   "cell_type": "code",
   "execution_count": null,
   "id": "30e3afcf",
   "metadata": {},
   "outputs": [],
   "source": []
  },
  {
   "cell_type": "code",
   "execution_count": null,
   "id": "80dd919d",
   "metadata": {},
   "outputs": [],
   "source": []
  }
 ],
 "metadata": {
  "kernelspec": {
   "display_name": "Python 3",
   "language": "python",
   "name": "python3"
  },
  "language_info": {
   "codemirror_mode": {
    "name": "ipython",
    "version": 3
   },
   "file_extension": ".py",
   "mimetype": "text/x-python",
   "name": "python",
   "nbconvert_exporter": "python",
   "pygments_lexer": "ipython3",
   "version": "3.10.18"
  }
 },
 "nbformat": 4,
 "nbformat_minor": 5
}
