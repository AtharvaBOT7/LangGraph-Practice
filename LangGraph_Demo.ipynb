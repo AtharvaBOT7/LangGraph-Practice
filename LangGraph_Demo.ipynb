{
 "cells": [
  {
   "cell_type": "code",
   "execution_count": 1,
   "id": "50dac138",
   "metadata": {},
   "outputs": [],
   "source": [
    "import os"
   ]
  },
  {
   "cell_type": "code",
   "execution_count": 2,
   "id": "2828edda",
   "metadata": {},
   "outputs": [],
   "source": [
    "from langgraph.checkpoint.memory import MemorySaver\n",
    "from langgraph.graph import END, StateGraph, MessagesState\n",
    "from langgraph.prebuilt import ToolNode"
   ]
  },
  {
   "cell_type": "code",
   "execution_count": 3,
   "id": "d9bac93a",
   "metadata": {},
   "outputs": [
    {
     "data": {
      "text/plain": [
       "True"
      ]
     },
     "execution_count": 3,
     "metadata": {},
     "output_type": "execute_result"
    }
   ],
   "source": [
    "from dotenv import load_dotenv\n",
    "load_dotenv()"
   ]
  },
  {
   "cell_type": "code",
   "execution_count": 4,
   "id": "95d72c95",
   "metadata": {},
   "outputs": [],
   "source": [
    "GOOGLE_API_KEY = os.getenv(\"GOOGLE_API_KEY\")\n",
    "TAVILY_API_KEY = os.getenv(\"TAVILY_API_KEY\")\n",
    "GROQ_API_KEY = os.getenv(\"GROQ_API_KEY\")\n",
    "LANGCHAIN_API_KEY = os.getenv(\"LANGCHAIN_API_KEY\")\n",
    "LANGSMITH_PROJECT = os.getenv(\"LANGSMITH_PROJECT\")"
   ]
  },
  {
   "cell_type": "code",
   "execution_count": 5,
   "id": "3fbe6372",
   "metadata": {},
   "outputs": [],
   "source": [
    "os.environ[\"GOOGLE_API_KEY\"] = GOOGLE_API_KEY\n",
    "os.environ[\"TAVILY_API_KEY\"] = TAVILY_API_KEY\n",
    "os.environ[\"GROQ_API_KEY\"] = GROQ_API_KEY\n",
    "os.environ[\"LANGCHAIN_API_KEY\"] = LANGCHAIN_API_KEY\n",
    "os.environ[\"LANGSMITH_PROJECT\"] = LANGSMITH_PROJECT"
   ]
  },
  {
   "cell_type": "code",
   "execution_count": 6,
   "id": "b4aaa3d9",
   "metadata": {},
   "outputs": [
    {
     "name": "stderr",
     "output_type": "stream",
     "text": [
      "/Users/atharvabot7/Downloads/MLOPS-Tutorials/LangGraph/langgraph/lib/python3.10/site-packages/tqdm/auto.py:21: TqdmWarning: IProgress not found. Please update jupyter and ipywidgets. See https://ipywidgets.readthedocs.io/en/stable/user_install.html\n",
      "  from .autonotebook import tqdm as notebook_tqdm\n"
     ]
    }
   ],
   "source": [
    "from langchain_google_genai import ChatGoogleGenerativeAI"
   ]
  },
  {
   "cell_type": "code",
   "execution_count": 7,
   "id": "8b83897a",
   "metadata": {},
   "outputs": [],
   "source": [
    "model = ChatGoogleGenerativeAI(model=\"gemini-2.5-pro\", temperature=0.7,convert_system_message_to_human=True)"
   ]
  },
  {
   "cell_type": "code",
   "execution_count": 10,
   "id": "fca69b97",
   "metadata": {},
   "outputs": [
    {
     "name": "stdout",
     "output_type": "stream",
     "text": [
      "Exiting the program.\n"
     ]
    }
   ],
   "source": [
    "while True:\n",
    "    question = input(\"Enter your question (or 'exit' to quit): \")\n",
    "    if question.lower() not in ['exit', 'quit']:\n",
    "        print(model.invoke(question).content)\n",
    "    else:\n",
    "        print(\"Exiting the program.\")\n",
    "        break"
   ]
  },
  {
   "cell_type": "markdown",
   "id": "82f03a51",
   "metadata": {},
   "source": [
    "### Adding memory to the model"
   ]
  },
  {
   "cell_type": "code",
   "execution_count": null,
   "id": "d890bd7d",
   "metadata": {},
   "outputs": [],
   "source": [
    "from langchain_core.chat_history import BaseChatMessageHistory\n",
    "from langchain_core.chat_history import InMemoryChatMessageHistory\n",
    "from langchain_core.runnables.history import RunnableWithMessageHistory\n",
    "from langchain_core.messages import AIMessage, HumanMessage"
   ]
  },
  {
   "cell_type": "code",
   "execution_count": 13,
   "id": "80870e05",
   "metadata": {},
   "outputs": [],
   "source": [
    "store = {}"
   ]
  },
  {
   "cell_type": "code",
   "execution_count": 14,
   "id": "69c40811",
   "metadata": {},
   "outputs": [],
   "source": [
    "def get_session_id(session_id: str) -> BaseChatMessageHistory:\n",
    "    if session_id not in store:\n",
    "        store[session_id] = InMemoryChatMessageHistory()\n",
    "    return store[session_id]"
   ]
  },
  {
   "cell_type": "code",
   "execution_count": 16,
   "id": "e84b98e3",
   "metadata": {},
   "outputs": [],
   "source": [
    "config = {\n",
    "    \"configurable\": {\"session_id\": \"first_session\"}\n",
    "}"
   ]
  },
  {
   "cell_type": "code",
   "execution_count": 17,
   "id": "45001da4",
   "metadata": {},
   "outputs": [],
   "source": [
    "model_with_memory = RunnableWithMessageHistory(model,get_session_id)"
   ]
  },
  {
   "cell_type": "code",
   "execution_count": 18,
   "id": "b696c211",
   "metadata": {},
   "outputs": [
    {
     "name": "stderr",
     "output_type": "stream",
     "text": [
      "/Users/atharvabot7/Downloads/MLOPS-Tutorials/LangGraph/langgraph/lib/python3.10/site-packages/langchain_google_genai/chat_models.py:357: UserWarning: Convert_system_message_to_human will be deprecated!\n",
      "  warnings.warn(\"Convert_system_message_to_human will be deprecated!\")\n"
     ]
    },
    {
     "data": {
      "text/plain": [
       "'Mr. Wick.\\n\\nA pleasure. I trust you\\'re not \"working\" tonight.\\n\\nHow may I be of service? Are you in need of:\\n\\n*   A \"dinner reservation\"?\\n*   A tactical map of the city?\\n*   The finest veterinary services for your companion?\\n*   Or simply a quiet room.\\n\\nMy services are at your disposal. Just say the word.'"
      ]
     },
     "execution_count": 18,
     "metadata": {},
     "output_type": "execute_result"
    }
   ],
   "source": [
    "model_with_memory.invoke((\"Hello I am John Wick.\"), config=config).content"
   ]
  },
  {
   "cell_type": "code",
   "execution_count": 19,
   "id": "439054d7",
   "metadata": {},
   "outputs": [
    {
     "name": "stderr",
     "output_type": "stream",
     "text": [
      "/Users/atharvabot7/Downloads/MLOPS-Tutorials/LangGraph/langgraph/lib/python3.10/site-packages/langchain_google_genai/chat_models.py:357: UserWarning: Convert_system_message_to_human will be deprecated!\n",
      "  warnings.warn(\"Convert_system_message_to_human will be deprecated!\")\n"
     ]
    },
    {
     "data": {
      "text/plain": [
       "'Mr. Wick.\\n\\nThat is a question with many answers, depending on who you ask.\\n\\nTo the criminal underworld, you are a legend. A myth. You are **Baba Yaga**. Not the Boogeyman, no... you are the one they send to *kill* the Boogeyman.\\n\\nTo men like Viggo Tarasov, you were the instrument of their ascension. The man who completed the \"impossible task,\" allowing them to build an empire. You were their finest, most terrifying asset.\\n\\nTo the High Table, you are a disruption. A ghost who returned from the grave. A broken rule. A loose thread that threatens to unravel their entire tapestry. You are **Excommunicado**. A man with a multi-million dollar bounty on his head.\\n\\nTo those who have seen you work, you are a man of focus, commitment, and sheer, unadulterated will. The artist behind the story of three men in a bar, killed with a single pencil. You are a master of gun-fu, a tactician, a force of nature that cannot be stopped, only weathered.\\n\\nTo your late wife, Helen, you were simply \"Jonathan.\" The man who left it all behind for a chance at a normal life. The man she loved.\\n\\nBut to ask me, here and now?\\n\\nYou are a guest. A professional. And a man who has been through a great deal.\\n\\nYou are John Wick.'"
      ]
     },
     "execution_count": 19,
     "metadata": {},
     "output_type": "execute_result"
    }
   ],
   "source": [
    "model_with_memory.invoke((\"Who am I?\"), config=config).content"
   ]
  },
  {
   "cell_type": "markdown",
   "id": "367307f0",
   "metadata": {},
   "source": [
    "### Adding RAG functionality using LCEL"
   ]
  },
  {
   "cell_type": "code",
   "execution_count": 20,
   "id": "f0ebcd53",
   "metadata": {},
   "outputs": [],
   "source": [
    "from langchain_community.document_loaders import TextLoader, DirectoryLoader\n",
    "from langchain.text_splitter import RecursiveCharacterTextSplitter\n",
    "from langchain.vectorstores import Chroma\n",
    "from langchain import PromptTemplate\n",
    "from langchain_core.runnables import RunnablePassthrough, RunnableLambda, RunnableParallel\n",
    "from langchain_core.output_parsers import StrOutputParser"
   ]
  },
  {
   "cell_type": "code",
   "execution_count": 21,
   "id": "8c5fd33f",
   "metadata": {},
   "outputs": [],
   "source": [
    "loader = DirectoryLoader('./data', glob=\"**/*.txt\", loader_cls=TextLoader)"
   ]
  },
  {
   "cell_type": "code",
   "execution_count": 22,
   "id": "c91b3c97",
   "metadata": {},
   "outputs": [],
   "source": [
    "docs = loader.load()"
   ]
  },
  {
   "cell_type": "code",
   "execution_count": 24,
   "id": "5bad362d",
   "metadata": {},
   "outputs": [
    {
     "data": {
      "text/plain": [
       "[Document(metadata={'source': 'data/info.txt'}, page_content='John Wick is an American media franchise created by Derek Kolstad. It centers on a neo-noir action thriller film series featuring the eponymous character portrayed by Keanu Reeves. Wick is a legendary hitman who is reluctantly drawn back into the criminal underworld after retiring. The franchise began with the release of John Wick (2014), which was followed by three sequels: Chapter 2 (2017), Chapter 3 – Parabellum (2019), and Chapter 4 (2023).[1][2] Various spin-offs expanded the franchise: the prequel comic book series John Wick: The Book of Rules (2017–2019), the prequel television miniseries The Continental (2023), and the spinoff film Ballerina (2025),[3] all incorporating elements of alternate history.\\n\\nThe films have received critical acclaim, and have been considered one of the greatest action film series of all time.[4][5][6][7] Some critics and publications consider the first film,[a] as well as Chapter 4,[25][26][27] as two of the greatest action films ever made. The films have earned a collective gross of more than $1 billion worldwide.[28]\\n\\nChad Stahelski, Basil Iwanyk, and Erica Lee serve in oversight roles for the John Wick franchise. 87Eleven Productions, Thunder Road Films, and Lionsgate produce the franchise.[29]\\n\\nJohn Wick (2014)\\nMain article: John Wick (film)\\nJohn Wick is a retired assassin who returns to his old ways after a group of Russian gangsters steal his car and kill his puppy which was given to him by his late wife Helen.[33]\\n\\nThe film was developed in 2012. Principal photography began September 25, 2013, and wrapped on December 20, 2013.\\n\\nJohn Wick: Chapter 2 (2017)\\nMain article: John Wick: Chapter 2\\nForced to honor a debt from his past life, John Wick is sent to assassinate a target he has no wish to kill, where he faces betrayal at the hands of his sponsor.\\n\\nPrincipal photography began on October 26, 2015. The film was premiered in February 2017.\\n\\nJohn Wick: Chapter 3 – Parabellum (2019)\\nMain article: John Wick: Chapter 3 – Parabellum\\nJohn Wick is declared excommunicado after killing an international crime lord on Continental grounds, where he sets out to save himself from bounty hunters and assassins.\\n\\nThe third film was announced in October 2016, production began in early 2018 and was released in May 2019.\\n\\nJohn Wick: Chapter 4 (2023)\\nMain article: John Wick: Chapter 4\\nJohn Wick takes his fight against the High Table global as he seeks out more powerful players in the underworld from different countries.\\n\\nIn May 2019, prior to the release of John Wick: Chapter 3 – Parabellum, Chad Stahelski confirmed on a Reddit \"Ask Me Anything\" thread that discussion of another film had arisen.[34] Keanu Reeves had also stated that he would continue as long as the films are successful.[35] Lionsgate announced the film during John Wick 3\\'s opening week, with a scheduled release date of May 21, 2021.[36] In April 2020, though, during an interview with Collider, Stahelski revealed that the film would most likely not make its 2021 release date due to his commitment to The Matrix Resurrections.[1] He also revealed, during the same interview, that a 100-page \"scriptment\" (part script/part outline) had been written for the film.[1] The screenplay was written by Shay Hatten and Michael Finch, as the studio decided to move on from series creator Derek Kolstad.[37][38] Production was due to commence in June 2021 in Paris and Berlin, with additional filming in Japan and New York City.[39] Partly due to the COVID-19 pandemic, the film was released on March 24, 2023.[2] In June 2021, Donnie Yen, Rina Sawayama, Shamier Anderson, Bill Skarsgård, and Hiroyuki Sanada joined the cast.[40][41][42][43] Principal photography began on June 28, 2021.[44] In October 2021, principal photography had wrapped.[45]\\n\\nJohn Wick: Chapter 5 (TBA)\\nIn August 2020, Lionsgate CEO Jon Feltheimer confirmed that a fifth film was also being developed. It was intended to be shot back-to-back with the fourth installment in early 2021, but in March 2021, Lionsgate opted to delay production and move forward with Chapter 4 first.[3][39] In May 2022, Stahelski stated that while Chapter 4 has some \"conclusion\" elements to the story, there would be a fifth installment to the franchise.[46] Stahelski stated that though Chapters 4 and 5 were originally intended to be filmed back-to-back, he didn\\'t feel like he could create two meaningfully successful and separate installments, without some time between each project to grow as a filmmaker;[47] stating that once Chapter 4 is released months later in Japan, he and Reeves will discuss and map out the future of the John Wick movies.[48] He also confirmed that he and Reeves will remain involved in the additional projects of the franchise that are currently in development, though the premise for Chapter 5 is not mapped out yet.[49] Later that same month, following the financial and critical success of Chapter 4, producer Erica Lee stated she was hopeful for a fifth film among projects expanding the universe currently in development.[50] By November 2023 following the resolution of the writers and actors strikes, Lionsgate revealed that work on the script for the fifth film had officially resumed.[51]\\n\\nIn October 2024, Stahelski stated that the script has gone through various iterations, but that it would not move forward until he, Reeves, Iwanyk, and Lee were satisfied with the story. The filmmaker revealed that the project would not continue directly from Chapter 4, but will be a separate storyline.[52] By April 2025, the movie was officially announced at CinemaCon. Reeves will reprise the eponymous role, and Stahelski will direct. Basil Iwanyk, Erica Lee, Stahelski, and Reeves will serve as producers.[53][54][55] The following month, Stahelski explained that the plot will not feature the High Table, and will instead see Wick facing new threats, after completing his confrontations with the previous organization.[56] The project will be a joint-venture production between Lionsgate, Thunder Road Films, and 87Eleven Entertainment.[53][54][55]')]"
      ]
     },
     "execution_count": 24,
     "metadata": {},
     "output_type": "execute_result"
    }
   ],
   "source": [
    "docs"
   ]
  },
  {
   "cell_type": "code",
   "execution_count": 25,
   "id": "dc44ad0d",
   "metadata": {},
   "outputs": [],
   "source": [
    "text_splitter = RecursiveCharacterTextSplitter(\n",
    "    chunk_size=500,\n",
    "    chunk_overlap=50,\n",
    "    length_function=len,\n",
    "    separators=[\"\\n\\n\", \"\\n\", \" \", \"\"],\n",
    ")"
   ]
  },
  {
   "cell_type": "code",
   "execution_count": 26,
   "id": "873b33f0",
   "metadata": {},
   "outputs": [],
   "source": [
    "new_docs = text_splitter.split_documents(documents = docs)"
   ]
  },
  {
   "cell_type": "code",
   "execution_count": 27,
   "id": "48bb5ec3",
   "metadata": {},
   "outputs": [],
   "source": [
    "doc_strings = [doc.page_content for doc in new_docs]"
   ]
  },
  {
   "cell_type": "code",
   "execution_count": 32,
   "id": "ca52fadc",
   "metadata": {},
   "outputs": [],
   "source": [
    "# Adding an embedding model to create vector store\n",
    "\n",
    "from langchain_google_genai import GoogleGenerativeAIEmbeddings\n",
    "embeddings = GoogleGenerativeAIEmbeddings(model=\"models/text-embedding-004\")"
   ]
  },
  {
   "cell_type": "code",
   "execution_count": 33,
   "id": "ac46fffe",
   "metadata": {},
   "outputs": [],
   "source": [
    "db = Chroma.from_documents(new_docs, embeddings)"
   ]
  },
  {
   "cell_type": "code",
   "execution_count": 34,
   "id": "98be184f",
   "metadata": {},
   "outputs": [],
   "source": [
    "retriever = db.as_retriever(search_type=\"similarity\", search_kwargs={\"k\":4})"
   ]
  },
  {
   "cell_type": "code",
   "execution_count": 35,
   "id": "c9b01077",
   "metadata": {},
   "outputs": [],
   "source": [
    "template = \"\"\"\n",
    "You are a helpful AI assistant. Use the following pieces of context to answer the question at the end.\n",
    "If you don't know the answer, just say that you don't know, don't try to make up an answer.\n",
    "{context}\n",
    "\n",
    "Question: {question}\"\"\"\n",
    "\n",
    "prompt = PromptTemplate.from_template(template)"
   ]
  },
  {
   "cell_type": "code",
   "execution_count": 36,
   "id": "fd0f4f17",
   "metadata": {},
   "outputs": [],
   "source": [
    "retrieval_chain = (\n",
    "    RunnableParallel({\"context\": retriever, \"question\": RunnablePassthrough()})\n",
    "    | prompt\n",
    "    | model\n",
    "    | StrOutputParser()\n",
    ")"
   ]
  },
  {
   "cell_type": "code",
   "execution_count": 37,
   "id": "3f62e74f",
   "metadata": {},
   "outputs": [],
   "source": [
    "question = \"What is John Wick's profession?\""
   ]
  },
  {
   "cell_type": "code",
   "execution_count": 39,
   "id": "ea9b7a23",
   "metadata": {},
   "outputs": [
    {
     "name": "stderr",
     "output_type": "stream",
     "text": [
      "/Users/atharvabot7/Downloads/MLOPS-Tutorials/LangGraph/langgraph/lib/python3.10/site-packages/langchain_google_genai/chat_models.py:357: UserWarning: Convert_system_message_to_human will be deprecated!\n",
      "  warnings.warn(\"Convert_system_message_to_human will be deprecated!\")\n"
     ]
    },
    {
     "name": "stdout",
     "output_type": "stream",
     "text": [
      "Based on the provided context, John Wick is a legendary hitman.\n"
     ]
    }
   ],
   "source": [
    "print(retrieval_chain.invoke(question))"
   ]
  },
  {
   "cell_type": "markdown",
   "id": "326cf06e",
   "metadata": {},
   "source": [
    "## Tools and Agents"
   ]
  },
  {
   "cell_type": "code",
   "execution_count": 40,
   "id": "bacf049f",
   "metadata": {},
   "outputs": [],
   "source": [
    "from langchain_community.tools import WikipediaQueryRun\n",
    "from langchain_community.utilities import WikipediaAPIWrapper"
   ]
  },
  {
   "cell_type": "markdown",
   "id": "a4efd691",
   "metadata": {},
   "source": [
    "### Adding a Wikipedia Wrapper API tool"
   ]
  },
  {
   "cell_type": "code",
   "execution_count": 41,
   "id": "a5c8fe0d",
   "metadata": {},
   "outputs": [],
   "source": [
    "api_wrapper = WikipediaAPIWrapper()"
   ]
  },
  {
   "cell_type": "code",
   "execution_count": 42,
   "id": "d343c9e2",
   "metadata": {},
   "outputs": [],
   "source": [
    "tool = WikipediaQueryRun(api_wrapper=api_wrapper)"
   ]
  },
  {
   "cell_type": "code",
   "execution_count": 45,
   "id": "36bc623e",
   "metadata": {},
   "outputs": [
    {
     "data": {
      "text/plain": [
       "'wikipedia'"
      ]
     },
     "execution_count": 45,
     "metadata": {},
     "output_type": "execute_result"
    }
   ],
   "source": [
    "tool.name"
   ]
  },
  {
   "cell_type": "code",
   "execution_count": 44,
   "id": "c581cbad",
   "metadata": {},
   "outputs": [
    {
     "data": {
      "text/plain": [
       "'A wrapper around Wikipedia. Useful for when you need to answer general questions about people, places, companies, facts, historical events, or other subjects. Input should be a search query.'"
      ]
     },
     "execution_count": 44,
     "metadata": {},
     "output_type": "execute_result"
    }
   ],
   "source": [
    "tool.description"
   ]
  },
  {
   "cell_type": "code",
   "execution_count": 46,
   "id": "52231706",
   "metadata": {},
   "outputs": [
    {
     "data": {
      "text/plain": [
       "{'query': {'description': 'query to look up on wikipedia',\n",
       "  'title': 'Query',\n",
       "  'type': 'string'}}"
      ]
     },
     "execution_count": 46,
     "metadata": {},
     "output_type": "execute_result"
    }
   ],
   "source": [
    "tool.args"
   ]
  },
  {
   "cell_type": "code",
   "execution_count": 49,
   "id": "c33a1a22",
   "metadata": {},
   "outputs": [
    {
     "name": "stdout",
     "output_type": "stream",
     "text": [
      "Page: Iron Man\n",
      "Summary: Iron Man is a superhero appearing in American comic books published by Marvel Comics. Co-created by writer and editor Stan Lee, developed by scripter Larry Lieber, and designed by artists Don Heck and Jack Kirby, the character first appeared in Tales of Suspense #39 in 1962 (cover dated March 1963) and received his own title with Iron Man #1 in 1968. Shortly after his creation, Iron Man became a founding member of the superhero team, the Avengers, alongside Thor, Ant-Man, the Wasp, and the Hulk. Iron Man stories, individually and with the Avengers, have been published consistently since the character's creation.\n",
      "Iron Man is the superhero persona of Anthony Edward \"Tony\" Stark, a businessman and engineer who runs the weapons manufacturing company Stark Industries. When Stark was captured in a war zone and sustained a severe heart wound, he built his Iron Man armor and escaped his captors. Iron Man's suits of armor grant him superhuman strength, flight, energy projection, and other abilities. The character was created in response to the Vietnam War as Lee's attempt to create a likeable pro-war character. Since his creation, Iron Man has been used to explore political themes, with early Iron Man stories being set in the Cold War. The character's role as a weapons manufacturer proved controversial, and Marvel moved away from geopolitics by the 1970s. Instead, the stories began exploring themes such as civil unrest, technological advancement, corporate espionage, alcoholism, and governmental authority.\n",
      "Major Iron Man stories include \"Demon in a Bottle\" (1979), \"Armor Wars\" (1987–1988), \"Extremis\" (2005), and \"Iron Man 2020\" (2020). He is also a leading character in the company-wide stories Civil War (2006–2007), Dark Reign (2008–2009), and Civil War II (2016). Additional superhero characters have emerged from Iron Man's supporting cast, including James Rhodes as War Machine and Riri Williams as Ironheart, as well as reformed villains, Natasha Romanova as Black Widow and Clint Barton as Hawkeye. Iron Man's list of enemies includes his archenemy, the Mandarin, various supervillains of communist origin, and many of Stark's business rivals.\n",
      "Robert Downey Jr. portrayed Tony Stark in Iron Man (2008), the first film of the Marvel Cinematic Universe, and continued to portray the character until his final live-action appearance in Avengers: Endgame (2019). Downey's portrayal popularized the character, elevating Iron Man into one of Marvel's most recognizable superheroes. Other adaptations of the character appear in animated direct-to-video films, television series, and video games.\n",
      "\n",
      "Page: Iron Man 2\n",
      "Summary: Iron Man 2 is a 2010 American superhero film based on the Marvel Comics character Iron Man. Produced by Marvel Studios and distributed by Paramount Pictures, it is the sequel to Iron Man (2008) and the third film in the Marvel Cinematic Universe (MCU). Directed by Jon Favreau and written by Justin Theroux, the film stars Robert Downey Jr. as Tony Stark / Iron Man alongside Gwyneth Paltrow, Don Cheadle, Scarlett Johansson, Sam Rockwell, Mickey Rourke, and Samuel L. Jackson. Set six months after the events of Iron Man, the film follows Stark as he rejects government demands to share his technology, which is slowly killing him, while facing the vengeful Russian scientist Ivan Vanko (Rourke).\n",
      "Development on a sequel to Iron Man began in May 2008 after the success of the first film. In July, Theroux was hired to write the script and Favreau was signed to return as director. Downey, Paltrow, and Jackson were set to reprise their roles from Iron Man, while Cheadle was brought in to replace Terrence Howard in the role of James Rhodes. In early 2009, Rourke, Rockwell, and Johansson filled out the supporting cast. Filming took place from April to July 2009, mostly in California as with the first film. A key sequence was filmed in Monaco. Unlike its predecessor, which mixed digital and practical effects, the sequel primaril\n"
     ]
    }
   ],
   "source": [
    "print(tool.run({\"query\": \"Who is Iron Man?\"}))"
   ]
  },
  {
   "cell_type": "markdown",
   "id": "bd6fe003",
   "metadata": {},
   "source": [
    "### Adding a YouTube search tool"
   ]
  },
  {
   "cell_type": "code",
   "execution_count": 52,
   "id": "cff07c49",
   "metadata": {},
   "outputs": [],
   "source": [
    "from langchain_community.tools import YouTubeSearchTool"
   ]
  },
  {
   "cell_type": "code",
   "execution_count": 53,
   "id": "6480e77e",
   "metadata": {},
   "outputs": [],
   "source": [
    "tool1 = YouTubeSearchTool()"
   ]
  },
  {
   "cell_type": "code",
   "execution_count": 54,
   "id": "1158ed6f",
   "metadata": {},
   "outputs": [
    {
     "data": {
      "text/plain": [
       "'youtube_search'"
      ]
     },
     "execution_count": 54,
     "metadata": {},
     "output_type": "execute_result"
    }
   ],
   "source": [
    "tool1.name"
   ]
  },
  {
   "cell_type": "code",
   "execution_count": 56,
   "id": "185c2cc5",
   "metadata": {},
   "outputs": [
    {
     "data": {
      "text/plain": [
       "\"['https://www.youtube.com/watch?v=K5KVEU3aaeQ&pp=ygUcUHl0aG9uIHByb2dyYW1taW5nIHR1dG9yaWFscw%3D%3D', 'https://www.youtube.com/watch?v=kqtD5dpn9C8&pp=ygUcUHl0aG9uIHByb2dyYW1taW5nIHR1dG9yaWFscw%3D%3D']\""
      ]
     },
     "execution_count": 56,
     "metadata": {},
     "output_type": "execute_result"
    }
   ],
   "source": [
    "tool1.run({\"query\": \"Python programming tutorials\"})"
   ]
  },
  {
   "cell_type": "markdown",
   "id": "5fb8a3aa",
   "metadata": {},
   "source": [
    "### Adding a Web Search Tool"
   ]
  },
  {
   "cell_type": "code",
   "execution_count": 58,
   "id": "9883f16a",
   "metadata": {},
   "outputs": [],
   "source": [
    "from langchain_community.tools.tavily_search import TavilySearchResults"
   ]
  },
  {
   "cell_type": "code",
   "execution_count": 59,
   "id": "5374f74b",
   "metadata": {},
   "outputs": [
    {
     "name": "stderr",
     "output_type": "stream",
     "text": [
      "/var/folders/p_/v95prvpj4cz7y53gvmgm1d_r0000gn/T/ipykernel_21165/4121445016.py:1: LangChainDeprecationWarning: The class `TavilySearchResults` was deprecated in LangChain 0.3.25 and will be removed in 1.0. An updated version of the class exists in the :class:`~langchain-tavily package and should be used instead. To use it run `pip install -U :class:`~langchain-tavily` and import as `from :class:`~langchain_tavily import TavilySearch``.\n",
      "  tool2 = TavilySearchResults()\n"
     ]
    }
   ],
   "source": [
    "tool2 = TavilySearchResults()"
   ]
  },
  {
   "cell_type": "code",
   "execution_count": 60,
   "id": "56f43ed1",
   "metadata": {},
   "outputs": [
    {
     "data": {
      "text/plain": [
       "[{'title': '2025 Kishtwar district flash flood - Wikipedia',\n",
       "  'url': 'https://en.wikipedia.org/wiki/2025_Kishtwar_district_flash_flood',\n",
       "  'content': 'On 14 August 2025, a flash flood occurred in Chositi (also spelled Chashoti), a village in the Kishtwar district of India-administered Jammu and Kashmir \"Jammu and Kashmir (union territory)\"), as the result of a cloudburst. The incident caused at least 67 deaths, 300 injuries, and left around 200 people missing. In addition to residents, pilgrims on the Machail Mata Yatra pilgrimage route were also impacted.\\n\\n## Background [...] Wikipedia\\nThe Free Encyclopedia\\n\\n## Contents\\n\\n# 2025 Kishtwar district flash flood\\n\\n2025 Kishtwar district flash flood\\n\\n|  |  |\\n --- |\\n| Date | 14 August 2025 (2025-08-14) |\\n| Time | 11:30 (IST) |\\n| Location | Chositi village, Kishtwar, Jammu and Kashmir \"Jammu and Kashmir (union territory)\"), India |\\n| Type | Flash flood |\\n| Cause | Cloudburst |\\n| Deaths | 67+ |\\n| Non-fatal injuries | 300+ |\\n| Missing | 71+ | [...] The Jammu and Kashmir administration cancelled all cultural programmes for the 15 August Independence Day celebrations. Chief Minister Omar Abdullah also cancelled the traditional \"At Home\" tea party scheduled for the evening, while formal events such as the speech and march past were held as planned.\\n\\nThe Machail Mata pilgrimage was suspended in the aftermaths of the floods.\\n\\n## See also\\n\\n## References',\n",
       "  'score': 0.8095324},\n",
       " {'title': 'In Jammu, unprecedented rain, 41 deaths, and questions over ...',\n",
       "  'url': 'https://indianexpress.com/article/india/jammu-floods-rain-reasi-doda-deaths-vaishno-devi-yatra-10214869/',\n",
       "  'content': 'Vehicular traffic on the Jammu-Pathankot, Jammu-Srinagar and Batote-Doda-Kishtwar national highways was suspended following damage due to the landslides and flash floods.\\n\\nIncessant rains during the past three days also created a flood-like situation in various parts of Jammu, inundating several areas under waist-deep water and prompting the NDRF, SDRF, police and Army to use boats to rescue people. More than 5,000 people were evacuated from low-lying flooded areas to safety, officials said. [...] Newsguard\\nclock_logo\\nfacebook\\ntwitter\\nwhatsapp\\nReddit\\nPrint\\nRailway authorities said they were monitoring the situation as heavy rain persisted in the catchment areas of rivers flowing through Jammu and Punjab, raising concerns over further disruptions in connectivity and possible flooding downstream. [...] Divisional Commissioner, Kashmir, Anshul Garg, said precautionary measures are in place and the water levels are being monitored. “All our deputy commissioners in south Kashmir and central Kashmir are on the ground,” he said. “The irrigation and flood control teams are monitoring the situation and tracking water flow levels.”\\n\\nThe government has announced that all schools and colleges in the Valley will remain closed on Thursday.',\n",
       "  'score': 0.74251556},\n",
       " {'title': 'India rain updates: Cloudburst, landslips in Uttarakhand - The Hindu',\n",
       "  'url': 'https://www.thehindu.com/news/national/india-rain-telangana-jammu-and-kashmir-himachal-pradesh-flood-uttarakhand-live-updates-on-august-29-2025/article69987762.ece',\n",
       "  'content': '“The 270-km-long stretch, the only all-weather road linking Kashmir with the rest of the country, was blocked by multiple landslips at several places between Jakheni and Chenani in Udhampur on Tuesday (August 26, 2025) following heavy rains and flash floods,” they said.\\n\\n“Highway is closed for the fourth day. No vehicular movement shall be allowed from Nagrota in Jammu towards Reasi, Chenani, Patnitop, Doda, Ramban, Banihal and Srinagar,” a traffic police official said. [...] Heavy rain lashed Jammu and Kashmir’s Katra region on Friday (August 29, 2025), as the pilgrimage to the Vaishno Devi shrine remained suspended for the fourth consecutive day following a recent landslide, which claimed 34 lives and left 20 others injured.\\n\\nThe Shri Mata Vaishno Devi Shrine Board (SMVDSB), which manages the Yatra, suspended the pilgrimage on Tuesday (August 26, 2025) until further orders. [...] Rescue and relief operations continued resolutely in the flood-hit areas of Punjab on Friday as multiple agencies joined hands to provide succour to the affected people.\\n\\nSeveral Punjab districts are reeling under massive floods as water levels in the Sutlej, Beas, and Ravi rivers and seasonal rivulets rose due to heavy rains in their catchment areas in Himachal Pradesh and Jammu and Kashmir.',\n",
       "  'score': 0.6420965},\n",
       " {'title': \"Exact Moment Jammu's Tawi Bridge Caves In To Flooding River ...\",\n",
       "  'url': 'https://www.youtube.com/watch?v=yANdLpu48CY',\n",
       "  'content': \"Exact Moment Jammu's Tawi Bridge Caves In To Flooding River Below, Swallowing Vehicles Jammu and Kashmir faces shocking devastation as\",\n",
       "  'score': 0.49406826},\n",
       " {'title': 'Heavy rains hit Himalayas, spread havoc in India and Pakistan',\n",
       "  'url': 'https://www.reuters.com/sustainability/climate-energy/heavy-rains-hit-himalayas-spread-havoc-india-pakistan-2025-08-27/',\n",
       "  'content': '\"We had 612 mm rainfall in Jammu region since Aug. 23 till today. This is 726% above-normal rainfall in the region during this time of the year.',\n",
       "  'score': 0.31548333}]"
      ]
     },
     "execution_count": 60,
     "metadata": {},
     "output_type": "execute_result"
    }
   ],
   "source": [
    "tool2.invoke({\"query\": \"Was there a flood in Jammu Kashmir recently?\"})"
   ]
  },
  {
   "cell_type": "code",
   "execution_count": 61,
   "id": "a3f36c87",
   "metadata": {},
   "outputs": [],
   "source": [
    "from langchain.agents import AgentType, initialize_agent, load_tools"
   ]
  },
  {
   "cell_type": "code",
   "execution_count": 65,
   "id": "f72fa1ee",
   "metadata": {},
   "outputs": [],
   "source": [
    "agent = initialize_agent(\n",
    "    tools=[tool, tool1, tool2],\n",
    "    llm=model,                                   # ChatGoogleGenerativeAI(...)\n",
    "    agent=AgentType.ZERO_SHOT_REACT_DESCRIPTION,\n",
    "    verbose=True,\n",
    "    handle_parsing_errors=True,                  # <-- auto-retry when parse fails\n",
    "    max_iterations=3,\n",
    "    early_stopping_method=\"generate\"             # if stuck, it will produce \"Final Answer:\"\n",
    ")"
   ]
  },
  {
   "cell_type": "code",
   "execution_count": 66,
   "id": "5a452831",
   "metadata": {},
   "outputs": [
    {
     "name": "stdout",
     "output_type": "stream",
     "text": [
      "\n",
      "\n",
      "\u001b[1m> Entering new AgentExecutor chain...\u001b[0m\n"
     ]
    },
    {
     "name": "stderr",
     "output_type": "stream",
     "text": [
      "/Users/atharvabot7/Downloads/MLOPS-Tutorials/LangGraph/langgraph/lib/python3.10/site-packages/langchain_google_genai/chat_models.py:357: UserWarning: Convert_system_message_to_human will be deprecated!\n",
      "  warnings.warn(\"Convert_system_message_to_human will be deprecated!\")\n"
     ]
    },
    {
     "name": "stdout",
     "output_type": "stream",
     "text": [
      "\u001b[32;1m\u001b[1;3mThought: I need to find the current population of the world. This is a value that changes constantly, so a real-time or very recent source is best. The `tavily_search_results_json` tool is the most suitable for finding up-to-date information and current events. Wikipedia might have a page on world population, but it might not be as current as a direct search.\n",
      "Action: tavily_search_results_json\n",
      "Action Input: \"current world population\"\u001b[0m\n",
      "Observation: \u001b[38;5;200m\u001b[1;3m[{'title': 'Current World Population: 8,005,176,000', 'url': 'https://worldpopulationreview.com/', 'content': 'today. [...] Articles about the ease, safety, and attractiveness of visiting a place for tourism or other purposes\\n\\n# Explore the World Population Through Data\\n\\nDiscover population, economy, health, and more with the most comprehensive global statistics\\nat your fingertips.\\n\\n## Contents\\n\\n# Current World Population: 8,005,176,000\\n\\nIndia Flag\\n\\n1,463,870,000\\n\\nChina Flag\\n\\n1,416,100,000\\n\\nUnited States Flag\\n\\n347,276,000\\n\\nIndonesia Flag\\n\\n285,721,000\\n\\nPakistan Flag\\n\\n255,220,000\\n\\nmap placeholder\\n\\n0\\n\\n10M\\n\\n25M\\n\\n50M [...] undesired.', 'score': 0.9119436}, {'title': 'World Population (1950-2025) - Macrotrends', 'url': 'https://www.macrotrends.net/global-metrics/countries/wld/world/population', 'content': 'Total current population for the world in 2025 is 8,191,988,453 , a 0.9% increase from 2024. Total population for the world in 2024 was. Total population for the world in 2023 was 8,061,876,001, a 0.9% increase from 2022. Total population for the world in 2022 was 7,989,981,520, a 0.87% increase from 2021.', 'score': 0.8812988}, {'title': 'List of Countries with the Largest Population in the World August 2025', 'url': 'https://databoks.katadata.co.id/en/demographics/statistics/ed8b35700dfd04f/list-of-countries-with-the-largest-population-in-the-world-agustus-2025', 'content': 'The world\\'\\'s population is always increasing every day. Citing World Population Review data, the world\\'\\'s population reached 8.23 billion people on August 27, 2025. This number increased by 0.86% compared to the 2024 population.\\n\\nHowever, not every country always experiences an increase in its population. During 2025, the populations of China and Russia decreased by 0.23% and 0.57% respectively compared to the previous year. [...] Currently, Indonesia\\'\\'s population has reached 285.72 million people. This number places Indonesia in the fourth position for the most populous country in the world.\\n\\nIndia still holds the first position with a population of 1.46 billion people. China follows in second place with a total population of 1.42 billion people. In third place is the United States with a population of 347.28 million people. [...] Here is the complete list of countries with the largest populations in the world according to World Population Review as of August 27, 2025, at 08:50 AM WIB.\\n\\n(Read: West Java\\'\\'s Gender Inequality Higher than National Average in 2024)\\n\\n\"Disclosure: This is an AI-generated translation of the original article. We strive for accuracy,\\nbut please note that automated translations may contain errors or slight inconsistencies.\"\\n\\n### Tags\\n\\n## Related Data', 'score': 0.81595254}, {'title': 'Countries with the largest population 2025 - Statista', 'url': 'https://www.statista.com/statistics/262879/countries-with-the-largest-population/', 'content': \"As of 2025, the world's population stands at almost 8.2 billion people and is expected to reach around 10.3 billion people in the 2080s, when it will then go into decline. Due to improved healthcare, sanitation, and general living conditions, the global population continues to increase; mortality rates (particularly among infants and children) are decreasing and the median age of the world population has steadily increased for decades. As for the average life expectancy in industrial and [...] # Countries with the largest population 2025\\n\\nIn 2025, India overtook China as the world's most populous country and now has almost 1.46 billion people. China now has the second-largest population in the world, still with just over 1.4 billion inhabitants, however, its population went into decline in 2023.\\n\\n## Global population [...] | Characteristic | Asia | Africa | Americas | Europe |\\n ---  --- \\n| India | 1,463.9  - \\n| China | 1,416.1  - \\n| United States of America  - | 347.3 \\n| Indonesia | 285.7  - \\n| Pakistan | 255.2  - \\n| Nigeria  237.5  - |\\n| Brazil  - | 212.8 \\n| Bangladesh | 175.7  - \\n| Russia  -  144 |\\n| Ethiopia  135.5  - |\\n| Mexico  - | 132 \\n| Japan | 123.1  - \\n| Egypt  118.4  - |\\n| Dem. Rep. Congo  112.8  - |\\n| Vietnam | 101.6  - \\n| Iran | 92.4  - \\n| Türkiye (Turkey)  -  87.7 |\\n| Germany  -  84.1 |\", 'score': 0.78493005}, {'title': 'World Population Day: July 11, 2025 - U.S. Census Bureau', 'url': 'https://www.census.gov/newsroom/stories/world-population-day.html', 'content': 'The world population reached 8 billion in 2023. It is projected to reach 8.1 billion this year, 9 billion in 2038, 10 billion in 2057 and peak at 10.9 billion in 2098 before declining, according to IDB projections. [...] The Census Bureau‘s International Database was developed to provide accurate and timely demographic measures of populations around the world. The IDB provides estimates and projections for 227 countries and areas with populations of 5,000 or more and are recognized by the U.S. Department of State. [...] # World Population Day: July 11, 2025\\n\\nShare\\n\\nWorld Population Day has been observed on July 11 every year since 1990.\\n\\nThe World Population Clock provides an estimate of the global population at a given moment as well as an indication of how fast it is growing.\\n\\nThe U.S. Census Bureau estimates the number of people in the world population by combining past population growth statistics with data for individual countries and areas from the International Database (IDB).', 'score': 0.77179235}]\u001b[0m\n",
      "Thought:"
     ]
    },
    {
     "name": "stderr",
     "output_type": "stream",
     "text": [
      "/Users/atharvabot7/Downloads/MLOPS-Tutorials/LangGraph/langgraph/lib/python3.10/site-packages/langchain_google_genai/chat_models.py:357: UserWarning: Convert_system_message_to_human will be deprecated!\n",
      "  warnings.warn(\"Convert_system_message_to_human will be deprecated!\")\n"
     ]
    },
    {
     "name": "stdout",
     "output_type": "stream",
     "text": [
      "\u001b[32;1m\u001b[1;3mI now know the final answer\n",
      "Final Answer: According to World Population Review, the current population of the world is approximately 8.005 billion people. Other sources, such as the U.S. Census Bureau and Statista, estimate the population to be between 8.1 and 8.2 billion in 2025.\u001b[0m\n",
      "\n",
      "\u001b[1m> Finished chain.\u001b[0m\n"
     ]
    },
    {
     "data": {
      "text/plain": [
       "'According to World Population Review, the current population of the world is approximately 8.005 billion people. Other sources, such as the U.S. Census Bureau and Statista, estimate the population to be between 8.1 and 8.2 billion in 2025.'"
      ]
     },
     "execution_count": 66,
     "metadata": {},
     "output_type": "execute_result"
    }
   ],
   "source": [
    "agent.run(\"What is the current population of the world?\")"
   ]
  },
  {
   "cell_type": "code",
   "execution_count": null,
   "id": "472fe46e",
   "metadata": {},
   "outputs": [],
   "source": []
  },
  {
   "cell_type": "code",
   "execution_count": null,
   "id": "e9ea40ff",
   "metadata": {},
   "outputs": [],
   "source": []
  },
  {
   "cell_type": "code",
   "execution_count": null,
   "id": "438e3830",
   "metadata": {},
   "outputs": [],
   "source": []
  },
  {
   "cell_type": "code",
   "execution_count": null,
   "id": "16f45024",
   "metadata": {},
   "outputs": [],
   "source": []
  },
  {
   "cell_type": "code",
   "execution_count": null,
   "id": "64e5a0a5",
   "metadata": {},
   "outputs": [],
   "source": []
  },
  {
   "cell_type": "code",
   "execution_count": null,
   "id": "ffcee0bc",
   "metadata": {},
   "outputs": [],
   "source": [
    "from langchain_core.tools import tool"
   ]
  },
  {
   "cell_type": "code",
   "execution_count": null,
   "id": "a86f0ac8",
   "metadata": {},
   "outputs": [],
   "source": [
    "@tool\n",
    "def search(query: str):\n",
    "    \"\"\"Call to surf the web.\"\"\"\n",
    "    if \"sf\" in query.lower() or \"san francisco\" in query.lower():\n",
    "        return \"It's 60 degrees and foggy.\"\n",
    "    return \"It's 90 degrees and sunny.\""
   ]
  },
  {
   "cell_type": "code",
   "execution_count": null,
   "id": "7d2bd214",
   "metadata": {},
   "outputs": [],
   "source": [
    "tools = [search]"
   ]
  },
  {
   "cell_type": "code",
   "execution_count": null,
   "id": "c2829278",
   "metadata": {},
   "outputs": [],
   "source": [
    "tool_node = ToolNode(tools)"
   ]
  },
  {
   "cell_type": "code",
   "execution_count": null,
   "id": "93bc9b53",
   "metadata": {},
   "outputs": [],
   "source": [
    "def call_model(state: MessagesState):\n",
    "    messages = state['messages']\n",
    "    response = model.invoke(messages)\n",
    "    # We return a list, because this will get added to the existing list\n",
    "    return {\"messages\": [response]}"
   ]
  },
  {
   "cell_type": "code",
   "execution_count": null,
   "id": "aca1c023",
   "metadata": {},
   "outputs": [],
   "source": [
    "from typing import Literal"
   ]
  },
  {
   "cell_type": "code",
   "execution_count": null,
   "id": "1b75374d",
   "metadata": {},
   "outputs": [],
   "source": [
    "def should_continue(state: MessagesState) -> Literal[\"tools\", END]:\n",
    "    messages = state['messages']\n",
    "    last_message = messages[-1]\n",
    "    \n",
    "    # If the LLM makes a tool call, then we route to the \"tools\" node\n",
    "    if last_message.tool_calls:\n",
    "        return \"tools\"\n",
    "    # Otherwise, we stop (reply to the user)\n",
    "    return END"
   ]
  },
  {
   "cell_type": "code",
   "execution_count": null,
   "id": "bab449c2",
   "metadata": {},
   "outputs": [],
   "source": [
    "workflow=StateGraph(MessagesState)"
   ]
  },
  {
   "cell_type": "code",
   "execution_count": null,
   "id": "6c6a37a6",
   "metadata": {},
   "outputs": [],
   "source": [
    "workflow.add_node(\"agent\",call_model)"
   ]
  },
  {
   "cell_type": "code",
   "execution_count": null,
   "id": "7161158b",
   "metadata": {},
   "outputs": [],
   "source": [
    "workflow.add_node(\"tools\",call_model)"
   ]
  },
  {
   "cell_type": "code",
   "execution_count": null,
   "id": "5297a461",
   "metadata": {},
   "outputs": [],
   "source": [
    "# We now add a conditional edge\n",
    "workflow.add_conditional_edges(\n",
    "    # First, we define the start node. We use `agent`.\n",
    "    # This means these are the edges taken after the `agent` node is called.\n",
    "    \"agent\",\n",
    "    # Next, we pass in the function that will determine which node is called next.\n",
    "    should_continue,\n",
    ")"
   ]
  },
  {
   "cell_type": "code",
   "execution_count": null,
   "id": "bfcf5275",
   "metadata": {},
   "outputs": [],
   "source": [
    "workflow.set_entry_point(\"agent\")"
   ]
  },
  {
   "cell_type": "code",
   "execution_count": null,
   "id": "d97ea6f3",
   "metadata": {},
   "outputs": [],
   "source": [
    "# We now add a normal edge from `tools` to `agent`.\n",
    "# This means that after `tools` is called, `agent` node is called next.\n",
    "workflow.add_edge(\"tools\", 'agent')"
   ]
  },
  {
   "cell_type": "code",
   "execution_count": null,
   "id": "17c3fca2",
   "metadata": {},
   "outputs": [],
   "source": [
    "checkpointer = MemorySaver()"
   ]
  },
  {
   "cell_type": "code",
   "execution_count": null,
   "id": "b42cb466",
   "metadata": {},
   "outputs": [],
   "source": [
    "app=workflow.compile(checkpointer=checkpointer)"
   ]
  },
  {
   "cell_type": "code",
   "execution_count": null,
   "id": "4d082002",
   "metadata": {},
   "outputs": [],
   "source": [
    "from IPython.display import Image, display\n",
    "\n",
    "try:\n",
    "    display(Image(app.get_graph().draw_mermaid_png()))\n",
    "except Exception:\n",
    "    # This requires some extra dependencies and is optional\n",
    "    pass"
   ]
  },
  {
   "cell_type": "code",
   "execution_count": null,
   "id": "0f895c21",
   "metadata": {},
   "outputs": [],
   "source": [
    "from langchain_core.messages import HumanMessage"
   ]
  },
  {
   "cell_type": "code",
   "execution_count": null,
   "id": "3aad74f4",
   "metadata": {},
   "outputs": [],
   "source": [
    "final_state = app.invoke({\"messages\": [HumanMessage(content=\"What is the weather like in Florida?\")]},config={\"configurable\": {\"thread_id\": 42}})"
   ]
  },
  {
   "cell_type": "code",
   "execution_count": null,
   "id": "eaedfa52",
   "metadata": {},
   "outputs": [],
   "source": [
    "final_state[\"messages\"][-1].content"
   ]
  },
  {
   "cell_type": "code",
   "execution_count": null,
   "id": "dd1fc27c",
   "metadata": {},
   "outputs": [],
   "source": [
    "while True:\n",
    "    user_input = input(\"User: \")\n",
    "    if user_input.lower() in [\"quit\", \"exit\", \"q\"]:\n",
    "        print(\"Goodbye!\")\n",
    "        break\n",
    "    for event in app.stream({\"messages\": (\"user\", user_input)}):\n",
    "        for value in event.values():\n",
    "            print(\"Assistant:\", value[\"messages\"][-1].content)"
   ]
  },
  {
   "cell_type": "code",
   "execution_count": null,
   "id": "30e3afcf",
   "metadata": {},
   "outputs": [],
   "source": []
  },
  {
   "cell_type": "code",
   "execution_count": null,
   "id": "80dd919d",
   "metadata": {},
   "outputs": [],
   "source": []
  }
 ],
 "metadata": {
  "kernelspec": {
   "display_name": "Python 3",
   "language": "python",
   "name": "python3"
  },
  "language_info": {
   "codemirror_mode": {
    "name": "ipython",
    "version": 3
   },
   "file_extension": ".py",
   "mimetype": "text/x-python",
   "name": "python",
   "nbconvert_exporter": "python",
   "pygments_lexer": "ipython3",
   "version": "3.10.18"
  }
 },
 "nbformat": 4,
 "nbformat_minor": 5
}
