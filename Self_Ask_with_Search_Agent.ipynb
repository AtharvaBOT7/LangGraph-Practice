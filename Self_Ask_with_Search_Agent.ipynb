{
 "cells": [
  {
   "cell_type": "markdown",
   "id": "5260e4a4",
   "metadata": {},
   "source": [
    "## Self Ask with Search Agent"
   ]
  },
  {
   "cell_type": "code",
   "execution_count": 1,
   "id": "d6404785",
   "metadata": {},
   "outputs": [],
   "source": [
    "import os"
   ]
  },
  {
   "cell_type": "code",
   "execution_count": 2,
   "id": "b4218aa8",
   "metadata": {},
   "outputs": [
    {
     "data": {
      "text/plain": [
       "True"
      ]
     },
     "execution_count": 2,
     "metadata": {},
     "output_type": "execute_result"
    }
   ],
   "source": [
    "from dotenv import load_dotenv\n",
    "load_dotenv()"
   ]
  },
  {
   "cell_type": "code",
   "execution_count": 3,
   "id": "896a3245",
   "metadata": {},
   "outputs": [],
   "source": [
    "GOOGLE_API_KEY = os.getenv(\"GOOGLE_API_KEY\")\n",
    "TAVILY_API_KEY = os.getenv(\"TAVILY_API_KEY\")\n",
    "GROQ_API_KEY = os.getenv(\"GROQ_API_KEY\")\n",
    "LANGCHAIN_API_KEY = os.getenv(\"LANGCHAIN_API_KEY\")\n",
    "LANGSMITH_PROJECT = os.getenv(\"LANGSMITH_PROJECT\")\n",
    "HUGGINGFACE_API_KEY = os.getenv(\"HUGGINGFACE_API_KEY\")\n",
    "SERPER_API_KEY = os.getenv(\"SERPER_API_KEY\")\n",
    "\n",
    "os.environ[\"GOOGLE_API_KEY\"] = GOOGLE_API_KEY\n",
    "os.environ[\"TAVILY_API_KEY\"] = TAVILY_API_KEY\n",
    "os.environ[\"GROQ_API_KEY\"] = GROQ_API_KEY\n",
    "os.environ[\"LANGCHAIN_API_KEY\"] = LANGCHAIN_API_KEY\n",
    "os.environ[\"LANGSMITH_PROJECT\"] = LANGSMITH_PROJECT\n",
    "os.environ[\"HUGGINGFACE_API_KEY\"] = HUGGINGFACE_API_KEY\n",
    "os.environ[\"SERPER_API_KEY\"] = SERPER_API_KEY"
   ]
  },
  {
   "cell_type": "code",
   "execution_count": 4,
   "id": "6ffe5bc0",
   "metadata": {},
   "outputs": [],
   "source": [
    "from langchain.utilities import GoogleSerperAPIWrapper\n",
    "google_search = GoogleSerperAPIWrapper()"
   ]
  },
  {
   "cell_type": "code",
   "execution_count": 5,
   "id": "e3fd6a36",
   "metadata": {},
   "outputs": [
    {
     "name": "stderr",
     "output_type": "stream",
     "text": [
      "/Users/atharvabot7/Downloads/MLOPS-Tutorials/LangGraph/langgraph/lib/python3.10/site-packages/tqdm/auto.py:21: TqdmWarning: IProgress not found. Please update jupyter and ipywidgets. See https://ipywidgets.readthedocs.io/en/stable/user_install.html\n",
      "  from .autonotebook import tqdm as notebook_tqdm\n"
     ]
    }
   ],
   "source": [
    "from langchain_google_genai import ChatGoogleGenerativeAI\n",
    "from google import genai"
   ]
  },
  {
   "cell_type": "code",
   "execution_count": 6,
   "id": "7e0e6fc5",
   "metadata": {},
   "outputs": [],
   "source": [
    "llm = ChatGoogleGenerativeAI(model=\"gemini-2.5-pro\", convert_system_message_to_human=True)"
   ]
  },
  {
   "cell_type": "markdown",
   "id": "bb8aa59f",
   "metadata": {},
   "source": [
    "The self ask with search agent is an agent type which breaks down a complex problem in simple steps, then tries to answer these intermediate problems and then come to the solution of the complex question. \n",
    "\n",
    "For example: \n",
    "Question: What is the car that the current F-1 driver used to win his most recent title. \n",
    "\n",
    "Intermediate questions might be: What is F-1, who is current F-1 champion, Which team does he belong to, What is the car that this team produces, When did he win his recent title, What was the car used then.\n",
    "\n",
    "Then it will generate the final answer after answering these questions. \n",
    "\n",
    "Unlike the ReAct agent who tries to answer the question by using tools or its own Reasoning, Thought and Action loop, if the dataset does not contain information about this, it will simply return not found."
   ]
  },
  {
   "cell_type": "code",
   "execution_count": 7,
   "id": "93c4658b",
   "metadata": {},
   "outputs": [],
   "source": [
    "from langchain_google_genai import GoogleGenerativeAIEmbeddings\n",
    "embeddings = GoogleGenerativeAIEmbeddings(model=\"models/embedding-001\")"
   ]
  },
  {
   "cell_type": "code",
   "execution_count": 8,
   "id": "2dc35a5a",
   "metadata": {},
   "outputs": [],
   "source": [
    "from langchain import hub \n",
    "from langchain.agents import create_self_ask_with_search_agent, AgentExecutor\n",
    "from langchain_community.tools.tavily_search import TavilyAnswer\n",
    "from langchain_core.tools import Tool\n",
    "from langchain.prompts import PromptTemplate"
   ]
  },
  {
   "cell_type": "code",
   "execution_count": 9,
   "id": "06b37b1f",
   "metadata": {},
   "outputs": [],
   "source": [
    "tools = [\n",
    "    Tool(\n",
    "        name = \"Intermediate Answer\",\n",
    "        func = google_search.run,\n",
    "        description = \"Useful when you need to search something on the internet.\",\n",
    "        verbose = True\n",
    "    )\n",
    "]"
   ]
  },
  {
   "cell_type": "code",
   "execution_count": 11,
   "id": "7951cf24",
   "metadata": {},
   "outputs": [],
   "source": [
    "prompt = hub.pull(\"hwchase17/self-ask-with-search\")"
   ]
  },
  {
   "cell_type": "code",
   "execution_count": 12,
   "id": "b1fdeaf6",
   "metadata": {},
   "outputs": [
    {
     "name": "stdout",
     "output_type": "stream",
     "text": [
      "Question: Who lived longer, Muhammad Ali or Alan Turing?\n",
      "Are follow up questions needed here: Yes.\n",
      "Follow up: How old was Muhammad Ali when he died?\n",
      "Intermediate answer: Muhammad Ali was 74 years old when he died.\n",
      "Follow up: How old was Alan Turing when he died?\n",
      "Intermediate answer: Alan Turing was 41 years old when he died.\n",
      "So the final answer is: Muhammad Ali\n",
      "\n",
      "Question: When was the founder of craigslist born?\n",
      "Are follow up questions needed here: Yes.\n",
      "Follow up: Who was the founder of craigslist?\n",
      "Intermediate answer: Craigslist was founded by Craig Newmark.\n",
      "Follow up: When was Craig Newmark born?\n",
      "Intermediate answer: Craig Newmark was born on December 6, 1952.\n",
      "So the final answer is: December 6, 1952\n",
      "\n",
      "Question: Who was the maternal grandfather of George Washington?\n",
      "Are follow up questions needed here: Yes.\n",
      "Follow up: Who was the mother of George Washington?\n",
      "Intermediate answer: The mother of George Washington was Mary Ball Washington.\n",
      "Follow up: Who was the father of Mary Ball Washington?\n",
      "Intermediate answer: The father of Mary Ball Washington was Joseph Ball.\n",
      "So the final answer is: Joseph Ball\n",
      "\n",
      "Question: Are both the directors of Jaws and Casino Royale from the same country?\n",
      "Are follow up questions needed here: Yes.\n",
      "Follow up: Who is the director of Jaws?\n",
      "Intermediate answer: The director of Jaws is Steven Spielberg.\n",
      "Follow up: Where is Steven Spielberg from?\n",
      "Intermediate answer: The United States.\n",
      "Follow up: Who is the director of Casino Royale?\n",
      "Intermediate answer: The director of Casino Royale is Martin Campbell.\n",
      "Follow up: Where is Martin Campbell from?\n",
      "Intermediate answer: New Zealand.\n",
      "So the final answer is: No\n",
      "\n",
      "Question: {input}\n",
      "Are followup questions needed here:{agent_scratchpad}\n"
     ]
    }
   ],
   "source": [
    "print(prompt.template)"
   ]
  },
  {
   "cell_type": "code",
   "execution_count": 13,
   "id": "689f5f42",
   "metadata": {},
   "outputs": [],
   "source": [
    "agent = create_self_ask_with_search_agent(llm,tools,prompt)"
   ]
  },
  {
   "cell_type": "code",
   "execution_count": 14,
   "id": "be6617c2",
   "metadata": {},
   "outputs": [],
   "source": [
    "agent_executor = AgentExecutor(agent=agent, tools=tools, verbose=True,\n",
    "                               handle_parsing_errors=True,\n",
    "                               max_iterations=3, return_intermediate_steps=True)"
   ]
  },
  {
   "cell_type": "code",
   "execution_count": 17,
   "id": "98dbb221",
   "metadata": {},
   "outputs": [
    {
     "name": "stdout",
     "output_type": "stream",
     "text": [
      "\n",
      "\n",
      "\u001b[1m> Entering new AgentExecutor chain...\u001b[0m\n"
     ]
    },
    {
     "name": "stderr",
     "output_type": "stream",
     "text": [
      "/Users/atharvabot7/Downloads/MLOPS-Tutorials/LangGraph/langgraph/lib/python3.10/site-packages/langchain_google_genai/chat_models.py:357: UserWarning: Convert_system_message_to_human will be deprecated!\n",
      "  warnings.warn(\"Convert_system_message_to_human will be deprecated!\")\n"
     ]
    },
    {
     "name": "stdout",
     "output_type": "stream",
     "text": [
      "\u001b[32;1m\u001b[1;3mYes.\n",
      "Follow up: Who won the most recent F-1 championship?\u001b[0m\u001b[36;1m\u001b[1;3mMax Verstappen (bottom right) is the current World Drivers' Champion, having won the championship four times consecutively. Currently, Sebastian Vettel is the youngest world champion in F1 history. He won his first F1 world title in 2010 at the age of 23 years and 134 days with the ... Third on this shortlist of champions are Sebastian Vettel, Alain Prost and Max Verstappen. They all won 4 F1 drivers' titles. Driver, Nat, Team, Pts. 1, Oscar Piastri, AUS, McLaren, 309. 2, Lando Norris, GBR, McLaren, 275. 3, Max Verstappen, NED, Red Bull, 205. 2025 Season ; 1, Oscar PiastriPIA, Australia ; 2, Lando NorrisNOR, United Kingdom ; 3, Max VerstappenVER, Netherlands ; 4, George RussellRUS, United Kingdom ... Winner: Oscar Piastri. Oscar Piastri's hopes of winning a maiden Formula 1 World Championship in only his third campaign took a big boost in ... The FIA Formula One World Championship has been one of the world's premier forms of motorsport since its inaugural running in 1950 and is often considered to be ... The current Drivers' Champion is Max Verstappen, who won his first World Championship in the 2021 season. Comments ; Will Max Verstappen Win A Record-Equalling Five Titles In A Row? FORMULA 1 · 594K views ; INSIDE STORY: How Max Verstappen Became A 2- ... Upon winning the 2024 season, Max Verstappen's breaks into the top 4, going level with Vettel and Prost. Lewis Hamilton remains atop the record ...\u001b[0m"
     ]
    },
    {
     "name": "stderr",
     "output_type": "stream",
     "text": [
      "/Users/atharvabot7/Downloads/MLOPS-Tutorials/LangGraph/langgraph/lib/python3.10/site-packages/langchain_google_genai/chat_models.py:357: UserWarning: Convert_system_message_to_human will be deprecated!\n",
      "  warnings.warn(\"Convert_system_message_to_human will be deprecated!\")\n"
     ]
    },
    {
     "name": "stdout",
     "output_type": "stream",
     "text": [
      "\u001b[32;1m\u001b[1;3mIntermediate answer: Max Verstappen won the most recent F-1 championship.\n",
      "Follow up: What car did Max Verstappen drive to win his most recent championship?\u001b[0m\u001b[36;1m\u001b[1;3mVerstappen achieved multiple race wins in his 2017 and 2018 campaigns, before finishing third in both the 2019 and 2020 World Drivers' Championships under Honda ... Verstappen secured his second consecutive Drivers' Championship driving the RB18 and Red Bull secured their fifth Constructors' Championship, their first since ... Verstappen crowned champion as Russell heads Mercedes 1-2 in Las Vegas ... Max Verstappen became a four-time world champion with an assured drive ... Max Verstappen Drives the New Ford Mustang GTD with Chris Harris | Ford Performance | Red Bull Ford Powertrains Join four-time Formula 1 ... In the hands of Max Verstappen, the RB19 proves all but invincible, with team winning all but one race en route to a second consecutive championship double. Four-time Formula One World Champion Max Verstappen has been rewriting the record books since he became F1's youngest driver. Verstappen will be driving the VCARB02 at the upcoming Japanese Grand Prix. Max expressed a desire to compare the two cars, and we decided to ... Max Verstappen is F1 World Champion for the fourth time, but throughout the 2024 F1 season, The Dutch driver and his team turned challenges into victories. When everything falls into place for Verstappen, the four-time F1 world champion looks unstoppable. Regardless of McLaren's strategy, the timing ... From February 2, 2024, the Red Bull RB16B in which Max Verstappen won the FORMULA 1 ETIHAD AIRWAYS ABU DHABI GRAND PRIX 2021 and was crowned world champion ...\u001b[0m"
     ]
    },
    {
     "name": "stderr",
     "output_type": "stream",
     "text": [
      "/Users/atharvabot7/Downloads/MLOPS-Tutorials/LangGraph/langgraph/lib/python3.10/site-packages/langchain_google_genai/chat_models.py:357: UserWarning: Convert_system_message_to_human will be deprecated!\n",
      "  warnings.warn(\"Convert_system_message_to_human will be deprecated!\")\n"
     ]
    },
    {
     "name": "stdout",
     "output_type": "stream",
     "text": [
      "\u001b[32;1m\u001b[1;3mIntermediate answer: Max Verstappen won his most recent F1 championship in the Red Bull Racing RB19.\n",
      "So the final answer is: Red Bull Racing RB19\u001b[0m\n",
      "\n",
      "\u001b[1m> Finished chain.\u001b[0m\n"
     ]
    },
    {
     "data": {
      "text/plain": [
       "{'input': 'What is the car that the current F-1 driver used to win his most recent title?',\n",
       " 'output': 'Red Bull Racing RB19',\n",
       " 'intermediate_steps': [(AgentAction(tool='Intermediate Answer', tool_input='Who won the most recent F-1 championship?', log='Yes.\\nFollow up: Who won the most recent F-1 championship?'),\n",
       "   \"Max Verstappen (bottom right) is the current World Drivers' Champion, having won the championship four times consecutively. Currently, Sebastian Vettel is the youngest world champion in F1 history. He won his first F1 world title in 2010 at the age of 23 years and 134 days with the ... Third on this shortlist of champions are Sebastian Vettel, Alain Prost and Max Verstappen. They all won 4 F1 drivers' titles. Driver, Nat, Team, Pts. 1, Oscar Piastri, AUS, McLaren, 309. 2, Lando Norris, GBR, McLaren, 275. 3, Max Verstappen, NED, Red Bull, 205. 2025 Season ; 1, Oscar PiastriPIA, Australia ; 2, Lando NorrisNOR, United Kingdom ; 3, Max VerstappenVER, Netherlands ; 4, George RussellRUS, United Kingdom ... Winner: Oscar Piastri. Oscar Piastri's hopes of winning a maiden Formula 1 World Championship in only his third campaign took a big boost in ... The FIA Formula One World Championship has been one of the world's premier forms of motorsport since its inaugural running in 1950 and is often considered to be ... The current Drivers' Champion is Max Verstappen, who won his first World Championship in the 2021 season. Comments ; Will Max Verstappen Win A Record-Equalling Five Titles In A Row? FORMULA 1 · 594K views ; INSIDE STORY: How Max Verstappen Became A 2- ... Upon winning the 2024 season, Max Verstappen's breaks into the top 4, going level with Vettel and Prost. Lewis Hamilton remains atop the record ...\"),\n",
       "  (AgentAction(tool='Intermediate Answer', tool_input='What car did Max Verstappen drive to win his most recent championship?', log='Intermediate answer: Max Verstappen won the most recent F-1 championship.\\nFollow up: What car did Max Verstappen drive to win his most recent championship?'),\n",
       "   \"Verstappen achieved multiple race wins in his 2017 and 2018 campaigns, before finishing third in both the 2019 and 2020 World Drivers' Championships under Honda ... Verstappen secured his second consecutive Drivers' Championship driving the RB18 and Red Bull secured their fifth Constructors' Championship, their first since ... Verstappen crowned champion as Russell heads Mercedes 1-2 in Las Vegas ... Max Verstappen became a four-time world champion with an assured drive ... Max Verstappen Drives the New Ford Mustang GTD with Chris Harris | Ford Performance | Red Bull Ford Powertrains Join four-time Formula 1 ... In the hands of Max Verstappen, the RB19 proves all but invincible, with team winning all but one race en route to a second consecutive championship double. Four-time Formula One World Champion Max Verstappen has been rewriting the record books since he became F1's youngest driver. Verstappen will be driving the VCARB02 at the upcoming Japanese Grand Prix. Max expressed a desire to compare the two cars, and we decided to ... Max Verstappen is F1 World Champion for the fourth time, but throughout the 2024 F1 season, The Dutch driver and his team turned challenges into victories. When everything falls into place for Verstappen, the four-time F1 world champion looks unstoppable. Regardless of McLaren's strategy, the timing ... From February 2, 2024, the Red Bull RB16B in which Max Verstappen won the FORMULA 1 ETIHAD AIRWAYS ABU DHABI GRAND PRIX 2021 and was crowned world champion ...\")]}"
      ]
     },
     "execution_count": 17,
     "metadata": {},
     "output_type": "execute_result"
    }
   ],
   "source": [
    "agent_executor.invoke({\"input\": \"What is the car that the current F-1 driver used to win his most recent title?\"})"
   ]
  },
  {
   "cell_type": "code",
   "execution_count": 19,
   "id": "cc3edeed",
   "metadata": {},
   "outputs": [
    {
     "name": "stdout",
     "output_type": "stream",
     "text": [
      "\n",
      "\n",
      "\u001b[1m> Entering new AgentExecutor chain...\u001b[0m\n"
     ]
    },
    {
     "name": "stderr",
     "output_type": "stream",
     "text": [
      "/Users/atharvabot7/Downloads/MLOPS-Tutorials/LangGraph/langgraph/lib/python3.10/site-packages/langchain_google_genai/chat_models.py:357: UserWarning: Convert_system_message_to_human will be deprecated!\n",
      "  warnings.warn(\"Convert_system_message_to_human will be deprecated!\")\n"
     ]
    },
    {
     "name": "stdout",
     "output_type": "stream",
     "text": [
      "\u001b[32;1m\u001b[1;3mYes.\n",
      "Follow up: Who is considered the founder of the McDonald's corporation?\u001b[0m\u001b[36;1m\u001b[1;3mKroc became the owner of McDonald's Corporation in 1961 and is credited as its founder, due to his influence as a franchise agent and principal role in the ... Ray Kroc, Founder and Senior Chairman of the Board of McDonald's Corporation, dies on January 14. 1990. On January 31, the first McDonald's restaurant in ... McDonald's is one of the world's largest fast-food chains. Founded by Ray Kroc, it's known for hamburgers, Big Macs, Egg McMuffins, ... Ray Kroc, founder and chairman of McDonald's Corporation, stands outside one of his franchises, holding a hamburger and a drink. Bettman ... Ray Kroc has been called \"fast food's founding father.\" He was born in 1902 and grew up to sell restaurant products including paper cups and milk-shake mixers. In 1955, Ray founded a new corporation called McDonald's Systems, Inc. (predecessor of the McDonald's Corporation) in Chicago, Ill. In 1956, one of the first ... Ray Kroc (Michael Keaton) makes his first visit to McDonald's and is quickly blown away by the speed and quality. Our story starts with one man. Back in 1954, a man named Ray Kroc discovered a small burger restaurant in California, and wrote the first page of our history. Ray Kroc (1902-1984) was a businessman and merchant famous for having bought the McDonald's restaurant and being responsible for its exponential growth.\u001b[0m"
     ]
    },
    {
     "name": "stderr",
     "output_type": "stream",
     "text": [
      "/Users/atharvabot7/Downloads/MLOPS-Tutorials/LangGraph/langgraph/lib/python3.10/site-packages/langchain_google_genai/chat_models.py:357: UserWarning: Convert_system_message_to_human will be deprecated!\n",
      "  warnings.warn(\"Convert_system_message_to_human will be deprecated!\")\n"
     ]
    },
    {
     "name": "stdout",
     "output_type": "stream",
     "text": [
      "\u001b[32;1m\u001b[1;3mIntermediate answer: Ray Kroc is considered the founder of the McDonald's corporation.\n",
      "Follow up: When was Ray Kroc born?\u001b[0m\u001b[36;1m\u001b[1;3mRay Kroc: American businessman. Raymond Albert Kroc was an American businessman who was instrumental in turning McDonald's into the most successful global fast food corporation by revenue. He purchased it from the McDonald Brothers in 1961, after several years as their... Ray Kroc Born: October 5, 1902, Oak Park, IL. Ray Kroc Died: January 14, 1984 (age 81 years), San Diego, CA. Ray Kroc Spouse: Joan Kroc (m. 1969–1984), Jane Dobbins Green (m. 1963–1968), and Ethel Fleming (m. 1922–1961). Ray Kroc Children: Marilyn Kroc Barg. Ray Kroc Organizations founded: McDonald's, Hamburger University, and Ronald McDonald House Charities. Ray Kroc Education: Oak Park and River Forest High School. Raymond Albert Kroc was born on October 5, 1902 , in Oak Park, Illinois, near Chicago, to Czech-American parents, Rose Mary [née Hrach] (1881–1959) and Alois \"Louis\" Kroc (1879–1937). byname of: Raymond Albert Kroc ; born: October 5, 1902, Chicago, Illinois, U.S. ; died: January 14, 1984, San Diego, California (aged 81). Raymond Albert Kroc was born to parents of Czech origin in Oak Park, Illinois, on October 5, 1902. As a child, he took piano lessons and ... Ray Kroc was born in Oak Park, Illinois, in 1902 to parents of Czech origin. During World War I, he lied about his age and trained to become a Red Cross ... 1902: Ray Kroc was born in Oak Park, Illinois, on October 5. Biography reported that Kroc showed early promise as an entrepreneur. As a child, ... Ray Kroc was born on 5 October 1902 in Oak Park, Illinois, USA. He was married to Joan B. Kroc, Jane Dobbins Green and Ethel Fleming. He died on 14 January ... Born. (1902-10-05)October 5, 1902 ; Birth place. Oak Park, Illinois, U.S. ; Died. January 14, 1984(1984-01-14) (aged 81) ; Education. N/A ; Occupation. Salesman/ ... Raymond Albert Kroc was born on October 5th, 1902 in Oak Park (a community outside of Chicago). His father was Louis Kroc, a worker in a telegraph company. His ... Raymond Albert Kroc was born on October 5, 1902 in Chicago, Illinois. He died of heart failure at age 81 in San Diego, California on January 14, 1984. What did ... Raymond Albert Kroc was born on October 5, 1902, in Oak Park, Illinois. This town is close to Chicago. His parents, Rose Mary and Alois Kroc, ...\u001b[0m"
     ]
    },
    {
     "name": "stderr",
     "output_type": "stream",
     "text": [
      "/Users/atharvabot7/Downloads/MLOPS-Tutorials/LangGraph/langgraph/lib/python3.10/site-packages/langchain_google_genai/chat_models.py:357: UserWarning: Convert_system_message_to_human will be deprecated!\n",
      "  warnings.warn(\"Convert_system_message_to_human will be deprecated!\")\n"
     ]
    },
    {
     "name": "stdout",
     "output_type": "stream",
     "text": [
      "\u001b[32;1m\u001b[1;3mIntermediate answer: Ray Kroc was born on October 5, 1902.\n",
      "Follow up: When did Ray Kroc found the McDonald's corporation?\u001b[0m\u001b[36;1m\u001b[1;3mKroc became the owner of McDonald's Corporation in 1961 and is credited as its founder, due to his influence as a franchise agent and principal role in the ... Ray Kroc's first McDonald's restaurant in Des Plaines, Illinois just prior to opening on April 15, 1955. · Newspaper advertisement announcing the opening of Ray ... In April 1955, Kroc launched McDonald's Systems, Inc., later known as McDonald's Corporation, in Des Plaines, Illinois, where he also opened ... In 1955, Kroc founded McDonald's System, Inc., which would later become the McDonald's Corporation. ... company was worth $8 billion. The present corporation credits its founding to franchised businessman Ray Kroc on April 15, 1955. This was the ninth opened McDonald's restaurant ... 1955. Kroc opens his first McDonald's in Des Plaines, Illinois on April 15. The attention getting red and white tiled building with the Golden Arches was ... Our story starts with one man. Back in 1954, a man named Ray Kroc discovered a small burger restaurant in California, and wrote the first page of our history. In 1954, milkshake machine salesman Ray Kroc (1902–1984) visited a McDonald's restaurant that had ordered several multi-mixer machines from him. The first McDonald's franchise under Kroc's management opened in his home state of Illinois in 1955. Kroc strove to establish standard procedures for every task ... McDonald's was founded in 1940 by two brothers, Richard \"Dick\" and Maurice \"Mac\" McDonald, and it was later taken over by businessman Ray Kroc, who turned it ...\u001b[0m\u001b[32;1m\u001b[1;3m\u001b[0m\n",
      "\n",
      "\u001b[1m> Finished chain.\u001b[0m\n"
     ]
    },
    {
     "data": {
      "text/plain": [
       "{'input': \"How old was the founder of McDonald's when he started the company?\",\n",
       " 'output': 'Agent stopped due to iteration limit or time limit.',\n",
       " 'intermediate_steps': [(AgentAction(tool='Intermediate Answer', tool_input=\"Who is considered the founder of the McDonald's corporation?\", log=\"Yes.\\nFollow up: Who is considered the founder of the McDonald's corporation?\"),\n",
       "   'Kroc became the owner of McDonald\\'s Corporation in 1961 and is credited as its founder, due to his influence as a franchise agent and principal role in the ... Ray Kroc, Founder and Senior Chairman of the Board of McDonald\\'s Corporation, dies on January 14. 1990. On January 31, the first McDonald\\'s restaurant in ... McDonald\\'s is one of the world\\'s largest fast-food chains. Founded by Ray Kroc, it\\'s known for hamburgers, Big Macs, Egg McMuffins, ... Ray Kroc, founder and chairman of McDonald\\'s Corporation, stands outside one of his franchises, holding a hamburger and a drink. Bettman ... Ray Kroc has been called \"fast food\\'s founding father.\" He was born in 1902 and grew up to sell restaurant products including paper cups and milk-shake mixers. In 1955, Ray founded a new corporation called McDonald\\'s Systems, Inc. (predecessor of the McDonald\\'s Corporation) in Chicago, Ill. In 1956, one of the first ... Ray Kroc (Michael Keaton) makes his first visit to McDonald\\'s and is quickly blown away by the speed and quality. Our story starts with one man. Back in 1954, a man named Ray Kroc discovered a small burger restaurant in California, and wrote the first page of our history. Ray Kroc (1902-1984) was a businessman and merchant famous for having bought the McDonald\\'s restaurant and being responsible for its exponential growth.'),\n",
       "  (AgentAction(tool='Intermediate Answer', tool_input='When was Ray Kroc born?', log=\"Intermediate answer: Ray Kroc is considered the founder of the McDonald's corporation.\\nFollow up: When was Ray Kroc born?\"),\n",
       "   'Ray Kroc: American businessman. Raymond Albert Kroc was an American businessman who was instrumental in turning McDonald\\'s into the most successful global fast food corporation by revenue. He purchased it from the McDonald Brothers in 1961, after several years as their... Ray Kroc Born: October 5, 1902, Oak Park, IL. Ray Kroc Died: January 14, 1984 (age 81 years), San Diego, CA. Ray Kroc Spouse: Joan Kroc (m. 1969–1984), Jane Dobbins Green (m. 1963–1968), and Ethel Fleming (m. 1922–1961). Ray Kroc Children: Marilyn Kroc Barg. Ray Kroc Organizations founded: McDonald\\'s, Hamburger University, and Ronald McDonald House Charities. Ray Kroc Education: Oak Park and River Forest High School. Raymond Albert Kroc was born on October 5, 1902 , in Oak Park, Illinois, near Chicago, to Czech-American parents, Rose Mary [née Hrach] (1881–1959) and Alois \"Louis\" Kroc (1879–1937). byname of: Raymond Albert Kroc ; born: October 5, 1902, Chicago, Illinois, U.S. ; died: January 14, 1984, San Diego, California (aged 81). Raymond Albert Kroc was born to parents of Czech origin in Oak Park, Illinois, on October 5, 1902. As a child, he took piano lessons and ... Ray Kroc was born in Oak Park, Illinois, in 1902 to parents of Czech origin. During World War I, he lied about his age and trained to become a Red Cross ... 1902: Ray Kroc was born in Oak Park, Illinois, on October 5. Biography reported that Kroc showed early promise as an entrepreneur. As a child, ... Ray Kroc was born on 5 October 1902 in Oak Park, Illinois, USA. He was married to Joan B. Kroc, Jane Dobbins Green and Ethel Fleming. He died on 14 January ... Born. (1902-10-05)October 5, 1902 ; Birth place. Oak Park, Illinois, U.S. ; Died. January 14, 1984(1984-01-14) (aged 81) ; Education. N/A ; Occupation. Salesman/ ... Raymond Albert Kroc was born on October 5th, 1902 in Oak Park (a community outside of Chicago). His father was Louis Kroc, a worker in a telegraph company. His ... Raymond Albert Kroc was born on October 5, 1902 in Chicago, Illinois. He died of heart failure at age 81 in San Diego, California on January 14, 1984. What did ... Raymond Albert Kroc was born on October 5, 1902, in Oak Park, Illinois. This town is close to Chicago. His parents, Rose Mary and Alois Kroc, ...'),\n",
       "  (AgentAction(tool='Intermediate Answer', tool_input=\"When did Ray Kroc found the McDonald's corporation?\", log=\"Intermediate answer: Ray Kroc was born on October 5, 1902.\\nFollow up: When did Ray Kroc found the McDonald's corporation?\"),\n",
       "   'Kroc became the owner of McDonald\\'s Corporation in 1961 and is credited as its founder, due to his influence as a franchise agent and principal role in the ... Ray Kroc\\'s first McDonald\\'s restaurant in Des Plaines, Illinois just prior to opening on April 15, 1955. · Newspaper advertisement announcing the opening of Ray ... In April 1955, Kroc launched McDonald\\'s Systems, Inc., later known as McDonald\\'s Corporation, in Des Plaines, Illinois, where he also opened ... In 1955, Kroc founded McDonald\\'s System, Inc., which would later become the McDonald\\'s Corporation. ... company was worth $8 billion. The present corporation credits its founding to franchised businessman Ray Kroc on April 15, 1955. This was the ninth opened McDonald\\'s restaurant ... 1955. Kroc opens his first McDonald\\'s in Des Plaines, Illinois on April 15. The attention getting red and white tiled building with the Golden Arches was ... Our story starts with one man. Back in 1954, a man named Ray Kroc discovered a small burger restaurant in California, and wrote the first page of our history. In 1954, milkshake machine salesman Ray Kroc (1902–1984) visited a McDonald\\'s restaurant that had ordered several multi-mixer machines from him. The first McDonald\\'s franchise under Kroc\\'s management opened in his home state of Illinois in 1955. Kroc strove to establish standard procedures for every task ... McDonald\\'s was founded in 1940 by two brothers, Richard \"Dick\" and Maurice \"Mac\" McDonald, and it was later taken over by businessman Ray Kroc, who turned it ...')]}"
      ]
     },
     "execution_count": 19,
     "metadata": {},
     "output_type": "execute_result"
    }
   ],
   "source": [
    "agent_executor.invoke({\"input\": \"How old was the founder of McDonald's when he started the company?\"})"
   ]
  },
  {
   "cell_type": "markdown",
   "id": "afb3e870",
   "metadata": {},
   "source": [
    "We did not get an output this time because we set the max_iterations paramter while creating an Agent Executor to 3, which means the agent will only hit the google search api 3 times at most and will return the answer "
   ]
  },
  {
   "cell_type": "code",
   "execution_count": null,
   "id": "65b58e10",
   "metadata": {},
   "outputs": [],
   "source": []
  }
 ],
 "metadata": {
  "kernelspec": {
   "display_name": "Python 3",
   "language": "python",
   "name": "python3"
  },
  "language_info": {
   "codemirror_mode": {
    "name": "ipython",
    "version": 3
   },
   "file_extension": ".py",
   "mimetype": "text/x-python",
   "name": "python",
   "nbconvert_exporter": "python",
   "pygments_lexer": "ipython3",
   "version": "3.10.18"
  }
 },
 "nbformat": 4,
 "nbformat_minor": 5
}
