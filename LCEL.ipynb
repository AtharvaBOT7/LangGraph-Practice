{
 "cells": [
  {
   "cell_type": "markdown",
   "id": "b4414e24",
   "metadata": {},
   "source": [
    "### Legacy Chaining Concept using Langchain"
   ]
  },
  {
   "cell_type": "code",
   "execution_count": 1,
   "id": "1affb27f",
   "metadata": {},
   "outputs": [],
   "source": [
    "import os\n",
    "import warnings\n",
    "warnings.filterwarnings(\"ignore\")"
   ]
  },
  {
   "cell_type": "code",
   "execution_count": 2,
   "id": "acc7cbf2",
   "metadata": {},
   "outputs": [
    {
     "data": {
      "text/plain": [
       "True"
      ]
     },
     "execution_count": 2,
     "metadata": {},
     "output_type": "execute_result"
    }
   ],
   "source": [
    "from dotenv import load_dotenv\n",
    "load_dotenv()"
   ]
  },
  {
   "cell_type": "code",
   "execution_count": 3,
   "id": "7b68e9b5",
   "metadata": {},
   "outputs": [],
   "source": [
    "GROQ_API_KEY = os.getenv(\"GROQ_API_KEY\")\n",
    "os.environ[\"GROQ_API_KEY\"] = GROQ_API_KEY"
   ]
  },
  {
   "cell_type": "code",
   "execution_count": 4,
   "id": "cb48d64e",
   "metadata": {},
   "outputs": [],
   "source": [
    "GOOGLE_API_KEY=os.getenv(\"GOOGLE_API_KEY\")\n",
    "os.environ[\"GOOGLE_API_KEY\"] = GOOGLE_API_KEY"
   ]
  },
  {
   "cell_type": "code",
   "execution_count": 5,
   "id": "ff0a6398",
   "metadata": {},
   "outputs": [],
   "source": [
    "from langchain_google_genai import ChatGoogleGenerativeAI\n",
    "from google import genai"
   ]
  },
  {
   "cell_type": "code",
   "execution_count": 6,
   "id": "ec001c5a",
   "metadata": {},
   "outputs": [
    {
     "name": "stdout",
     "output_type": "stream",
     "text": [
      "models/embedding-gecko-001\n",
      "models/gemini-1.5-pro-latest\n",
      "models/gemini-1.5-pro-002\n",
      "models/gemini-1.5-pro\n",
      "models/gemini-1.5-flash-latest\n",
      "models/gemini-1.5-flash\n",
      "models/gemini-1.5-flash-002\n",
      "models/gemini-1.5-flash-8b\n",
      "models/gemini-1.5-flash-8b-001\n",
      "models/gemini-1.5-flash-8b-latest\n",
      "models/gemini-2.5-pro-preview-03-25\n",
      "models/gemini-2.5-flash-preview-05-20\n",
      "models/gemini-2.5-flash\n",
      "models/gemini-2.5-flash-lite-preview-06-17\n",
      "models/gemini-2.5-pro-preview-05-06\n",
      "models/gemini-2.5-pro-preview-06-05\n",
      "models/gemini-2.5-pro\n",
      "models/gemini-2.0-flash-exp\n",
      "models/gemini-2.0-flash\n",
      "models/gemini-2.0-flash-001\n",
      "models/gemini-2.0-flash-exp-image-generation\n",
      "models/gemini-2.0-flash-lite-001\n",
      "models/gemini-2.0-flash-lite\n",
      "models/gemini-2.0-flash-preview-image-generation\n",
      "models/gemini-2.0-flash-lite-preview-02-05\n",
      "models/gemini-2.0-flash-lite-preview\n",
      "models/gemini-2.0-pro-exp\n",
      "models/gemini-2.0-pro-exp-02-05\n",
      "models/gemini-exp-1206\n",
      "models/gemini-2.0-flash-thinking-exp-01-21\n",
      "models/gemini-2.0-flash-thinking-exp\n",
      "models/gemini-2.0-flash-thinking-exp-1219\n",
      "models/gemini-2.5-flash-preview-tts\n",
      "models/gemini-2.5-pro-preview-tts\n",
      "models/learnlm-2.0-flash-experimental\n",
      "models/gemma-3-1b-it\n",
      "models/gemma-3-4b-it\n",
      "models/gemma-3-12b-it\n",
      "models/gemma-3-27b-it\n",
      "models/gemma-3n-e4b-it\n",
      "models/gemma-3n-e2b-it\n",
      "models/gemini-2.5-flash-lite\n",
      "models/gemini-2.5-flash-image-preview\n",
      "models/embedding-001\n",
      "models/text-embedding-004\n",
      "models/gemini-embedding-exp-03-07\n",
      "models/gemini-embedding-exp\n",
      "models/gemini-embedding-001\n",
      "models/aqa\n",
      "models/imagen-3.0-generate-002\n",
      "models/imagen-4.0-generate-preview-06-06\n",
      "models/imagen-4.0-ultra-generate-preview-06-06\n",
      "models/imagen-4.0-generate-001\n",
      "models/imagen-4.0-ultra-generate-001\n",
      "models/imagen-4.0-fast-generate-001\n",
      "models/veo-2.0-generate-001\n",
      "models/veo-3.0-generate-preview\n",
      "models/veo-3.0-fast-generate-preview\n",
      "models/gemini-2.5-flash-preview-native-audio-dialog\n",
      "models/gemini-2.5-flash-exp-native-audio-thinking-dialog\n",
      "models/gemini-2.0-flash-live-001\n",
      "models/gemini-live-2.5-flash-preview\n",
      "models/gemini-2.5-flash-live-preview\n"
     ]
    }
   ],
   "source": [
    "client = genai.Client(api_key=os.environ[\"GOOGLE_API_KEY\"])\n",
    "\n",
    "for model in client.models.list():\n",
    "    print(model.name)"
   ]
  },
  {
   "cell_type": "code",
   "execution_count": 7,
   "id": "5df542d6",
   "metadata": {},
   "outputs": [],
   "source": [
    "from langchain_google_genai import GoogleGenerativeAIEmbeddings"
   ]
  },
  {
   "cell_type": "code",
   "execution_count": 8,
   "id": "e3ac3c76",
   "metadata": {},
   "outputs": [],
   "source": [
    "embeddings = GoogleGenerativeAIEmbeddings(model=\"models/embedding-001\")"
   ]
  },
  {
   "cell_type": "code",
   "execution_count": 9,
   "id": "2c155b74",
   "metadata": {},
   "outputs": [],
   "source": [
    "from langchain_google_genai import ChatGoogleGenerativeAI"
   ]
  },
  {
   "cell_type": "code",
   "execution_count": 10,
   "id": "9ed71095",
   "metadata": {},
   "outputs": [],
   "source": [
    "chat = ChatGoogleGenerativeAI(model=\"gemini-2.5-pro\")"
   ]
  },
  {
   "cell_type": "code",
   "execution_count": 11,
   "id": "0d308540",
   "metadata": {},
   "outputs": [],
   "source": [
    "template = \"Hello I am learning about {skill}. Can you give me a brief roadmap to learn it?\""
   ]
  },
  {
   "cell_type": "code",
   "execution_count": 12,
   "id": "f8833171",
   "metadata": {},
   "outputs": [],
   "source": [
    "from langchain import PromptTemplate"
   ]
  },
  {
   "cell_type": "code",
   "execution_count": 13,
   "id": "8e0aa37f",
   "metadata": {},
   "outputs": [],
   "source": [
    "prompt = PromptTemplate(\n",
    "    template=template,\n",
    "    input_variables=[\"skill\"]\n",
    ")"
   ]
  },
  {
   "cell_type": "code",
   "execution_count": 14,
   "id": "ab751a1b",
   "metadata": {},
   "outputs": [
    {
     "name": "stdout",
     "output_type": "stream",
     "text": [
      "input_variables=['skill'] input_types={} partial_variables={} template='Hello I am learning about {skill}. Can you give me a brief roadmap to learn it?'\n"
     ]
    }
   ],
   "source": [
    "print(prompt)"
   ]
  },
  {
   "cell_type": "code",
   "execution_count": 15,
   "id": "f0d39fa9",
   "metadata": {},
   "outputs": [],
   "source": [
    "from langchain import LLMChain"
   ]
  },
  {
   "cell_type": "code",
   "execution_count": 16,
   "id": "f0359edf",
   "metadata": {},
   "outputs": [
    {
     "name": "stderr",
     "output_type": "stream",
     "text": [
      "/var/folders/p_/v95prvpj4cz7y53gvmgm1d_r0000gn/T/ipykernel_72046/1956338728.py:1: LangChainDeprecationWarning: The class `LLMChain` was deprecated in LangChain 0.1.17 and will be removed in 1.0. Use :meth:`~RunnableSequence, e.g., `prompt | llm`` instead.\n",
      "  llm_chain = LLMChain(llm=chat, prompt=prompt)\n"
     ]
    }
   ],
   "source": [
    "llm_chain = LLMChain(llm=chat, prompt=prompt)"
   ]
  },
  {
   "cell_type": "code",
   "execution_count": 17,
   "id": "fa60ea3f",
   "metadata": {},
   "outputs": [
    {
     "name": "stderr",
     "output_type": "stream",
     "text": [
      "/var/folders/p_/v95prvpj4cz7y53gvmgm1d_r0000gn/T/ipykernel_72046/1988409311.py:1: LangChainDeprecationWarning: The method `Chain.run` was deprecated in langchain 0.1.0 and will be removed in 1.0. Use :meth:`~invoke` instead.\n",
      "  print(llm_chain.run(\"Machine Learning\"))\n"
     ]
    },
    {
     "name": "stdout",
     "output_type": "stream",
     "text": [
      "Of course! It's an exciting field to get into. Here is a clear, step-by-step roadmap to guide you from beginner to proficient in Machine Learning.\n",
      "\n",
      "Think of this journey in five key phases.\n",
      "\n",
      "---\n",
      "\n",
      "### Phase 0: The Foundations (Prerequisites)\n",
      "\n",
      "You can't build a house without a strong foundation. In ML, that foundation is programming and math.\n",
      "\n",
      "1.  **Programming (Python):** Python is the language of ML. You don't need to be a software engineer, but you must be comfortable with:\n",
      "    *   **Core Python:** Variables, data types (lists, dictionaries, tuples), loops, functions, and classes.\n",
      "    *   **Key Libraries:** Get a basic understanding of these:\n",
      "        *   **NumPy:** For efficient numerical operations and working with arrays.\n",
      "        *   **Pandas:** For data manipulation and analysis (think of it as Excel in Python).\n",
      "        *   **Matplotlib / Seaborn:** For data visualization.\n",
      "\n",
      "2.  **Mathematics:** You don't need to be a math genius, but you need to grasp the core concepts.\n",
      "    *   **Linear Algebra:** Understand vectors, matrices, and their operations. Data is often represented as matrices.\n",
      "    *   **Calculus:** Grasp the concepts of derivatives and gradients. This is the heart of how models \"learn\" (optimization).\n",
      "    *   **Probability & Statistics:** Understand mean, median, variance, standard deviation, probability distributions, and basic hypothesis testing. This is crucial for understanding your data and evaluating your models.\n",
      "\n",
      "**Action Item:** Spend a few weeks getting comfortable here. Use resources like Khan Academy for math and a good Python tutorial for programming.\n",
      "\n",
      "---\n",
      "\n",
      "### Phase 1: Core Machine Learning Concepts\n",
      "\n",
      "Now you're ready to understand the \"what\" and \"why\" of Machine Learning.\n",
      "\n",
      "1.  **What is Machine Learning?** Understand the fundamental idea of teaching a computer to find patterns in data without being explicitly programmed.\n",
      "2.  **Types of Machine Learning:** This is a crucial distinction.\n",
      "    *   **Supervised Learning:** Learning from labeled data (data with a known outcome).\n",
      "        *   **Regression:** Predicting a continuous value (e.g., house price, temperature).\n",
      "        *   **Classification:** Predicting a category (e.g., spam or not spam, cat or dog).\n",
      "    *   **Unsupervised Learning:** Finding patterns in unlabeled data.\n",
      "        *   **Clustering:** Grouping similar data points together (e.g., customer segmentation).\n",
      "        *   **Dimensionality Reduction:** Simplifying data by reducing the number of variables.\n",
      "    *   **Reinforcement Learning:** An agent learns to make decisions by taking actions in an environment to maximize a reward (e.g., training a bot to play a game).\n",
      "3.  **The ML Workflow:** Learn the high-level steps of a typical project:\n",
      "    *   Frame the Problem -> Get the Data -> Explore and Clean the Data -> Train the Model -> Evaluate the Model -> Deploy and Monitor.\n",
      "4.  **Key Terminology:** Learn the vocabulary: *features, labels, training set, testing set, overfitting, underfitting, bias-variance tradeoff*.\n",
      "\n",
      "**Action Item:** Take an introductory course. **Andrew Ng's \"Machine Learning Specialization\" on Coursera** is the classic and highly recommended starting point.\n",
      "\n",
      "---\n",
      "\n",
      "### Phase 2: Diving into Algorithms with Scikit-Learn\n",
      "\n",
      "This is where theory meets practice. You'll learn the most common algorithms and how to implement them. **Scikit-Learn** is the essential Python library for this.\n",
      "\n",
      "1.  **Start with Supervised Learning:**\n",
      "    *   **Linear Regression & Logistic Regression:** The \"hello world\" of ML. Simple, interpretable, and a great starting point.\n",
      "    *   **K-Nearest Neighbors (KNN):** A very intuitive, instance-based algorithm.\n",
      "    *   **Decision Trees & Random Forests:** Powerful, versatile, and easier to understand how they make decisions.\n",
      "    *   **Support Vector Machines (SVMs):** A powerful classification algorithm.\n",
      "    *   **Gradient Boosting Machines (XGBoost, LightGBM):** These are often the winners of ML competitions. Understand the basic idea of boosting first.\n",
      "\n",
      "2.  **Move to Unsupervised Learning:**\n",
      "    *   **K-Means Clustering:** The most popular clustering algorithm.\n",
      "    *   **Principal Component Analysis (PCA):** A fundamental technique for dimensionality reduction.\n",
      "\n",
      "**Action Item:** For each algorithm, 1) understand the core intuition behind it, 2) learn its main pros and cons, and 3) implement it using Scikit-Learn on a simple dataset (like the Iris or Titanic datasets).\n",
      "\n",
      "---\n",
      "\n",
      "### Phase 3: The Deep Learning Specialization\n",
      "\n",
      "Deep Learning is a powerful subfield of ML that excels at complex problems like image recognition and natural language processing.\n",
      "\n",
      "1.  **Fundamentals of Neural Networks:** Understand the basic building blocks: neurons, layers, activation functions, and backpropagation.\n",
      "2.  **Choose a Framework:** Pick one and stick with it for a while.\n",
      "    *   **TensorFlow (with Keras):** Great for production, with a user-friendly API in Keras.\n",
      "    *   **PyTorch:** Very popular in research, known for its flexibility and Python-like feel.\n",
      "3.  **Learn Key Architectures:**\n",
      "    *   **Convolutional Neural Networks (CNNs):** The go-to for image and computer vision tasks.\n",
      "    *   **Recurrent Neural Networks (RNNs) & Transformers:** The foundation for understanding text and sequential data (Natural Language Processing - NLP).\n",
      "\n",
      "**Action Item:** Take a specialized course like the **DeepLearning.AI Specialization** (also by Andrew Ng) or **fast.ai's \"Practical Deep Learning for Coders\"**.\n",
      "\n",
      "---\n",
      "\n",
      "### Phase 4: Building Real-World Skills & Your Portfolio\n",
      "\n",
      "Knowing algorithms isn't enough. You need to know how to build an end-to-end project.\n",
      "\n",
      "1.  **Feature Engineering:** Learn the art of creating new, meaningful features from your existing data to improve model performance.\n",
      "2.  **Model Evaluation & Selection:** Go beyond accuracy. Learn about metrics like Precision, Recall, F1-Score, ROC Curves for classification, and R-squared, MSE for regression. Understand the importance of cross-validation.\n",
      "3.  **Hyperparameter Tuning:** Learn how to fine-tune your models to get the best performance (e.g., Grid Search, Random Search).\n",
      "4.  **Projects, Projects, Projects!** This is the most important part.\n",
      "    *   **Start with Kaggle:** Participate in beginner competitions. It's a great way to work with real-world datasets and see how others approach problems.\n",
      "    *   **Build Your Own Project:** Find a dataset you're passionate about (sports, finance, movies, etc.) and build a project from scratch. Document your process on a blog or GitHub. This becomes your portfolio.\n",
      "\n",
      "**Action Item:** Complete 2-3 end-to-end projects. This will solidify your learning and give you something to show potential employers.\n",
      "\n",
      "### Key Advice for Your Journey\n",
      "\n",
      "*   **Balance Theory and Practice:** Don't get stuck in \"tutorial hell.\" After you learn a concept, immediately apply it to a small project.\n",
      "*   **Don't Get Overwhelmed:** This is a marathon, not a sprint. Focus on one topic at a time.\n",
      "*   **Read Code:** Find interesting projects on GitHub and read the code to see how others solve problems.\n",
      "*   **Join a Community:** Use platforms like Stack Overflow, Reddit (r/MachineLearning), or Discord servers to ask questions and learn from others.\n",
      "\n",
      "Good luck! It's a challenging but incredibly rewarding journey.\n"
     ]
    }
   ],
   "source": [
    "print(llm_chain.run(\"Machine Learning\"))"
   ]
  },
  {
   "cell_type": "code",
   "execution_count": null,
   "id": "64dbb4c3",
   "metadata": {},
   "outputs": [],
   "source": []
  },
  {
   "cell_type": "markdown",
   "id": "25321459",
   "metadata": {},
   "source": [
    "### LCEL Chaining Concept"
   ]
  },
  {
   "cell_type": "code",
   "execution_count": null,
   "id": "13a2eccc",
   "metadata": {},
   "outputs": [],
   "source": []
  },
  {
   "cell_type": "code",
   "execution_count": null,
   "id": "9dfe41a9",
   "metadata": {},
   "outputs": [],
   "source": []
  }
 ],
 "metadata": {
  "kernelspec": {
   "display_name": "Python 3",
   "language": "python",
   "name": "python3"
  },
  "language_info": {
   "codemirror_mode": {
    "name": "ipython",
    "version": 3
   },
   "file_extension": ".py",
   "mimetype": "text/x-python",
   "name": "python",
   "nbconvert_exporter": "python",
   "pygments_lexer": "ipython3",
   "version": "3.10.18"
  }
 },
 "nbformat": 4,
 "nbformat_minor": 5
}
