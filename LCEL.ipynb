{
 "cells": [
  {
   "cell_type": "markdown",
   "id": "b4414e24",
   "metadata": {},
   "source": [
    "### Legacy Chaining Concept using Langchain"
   ]
  },
  {
   "cell_type": "code",
   "execution_count": 1,
   "id": "1affb27f",
   "metadata": {},
   "outputs": [],
   "source": [
    "import os\n",
    "import warnings\n",
    "warnings.filterwarnings(\"ignore\")"
   ]
  },
  {
   "cell_type": "code",
   "execution_count": 2,
   "id": "acc7cbf2",
   "metadata": {},
   "outputs": [
    {
     "data": {
      "text/plain": [
       "True"
      ]
     },
     "execution_count": 2,
     "metadata": {},
     "output_type": "execute_result"
    }
   ],
   "source": [
    "from dotenv import load_dotenv\n",
    "load_dotenv()"
   ]
  },
  {
   "cell_type": "code",
   "execution_count": 3,
   "id": "7b68e9b5",
   "metadata": {},
   "outputs": [],
   "source": [
    "GROQ_API_KEY = os.getenv(\"GROQ_API_KEY\")\n",
    "os.environ[\"GROQ_API_KEY\"] = GROQ_API_KEY"
   ]
  },
  {
   "cell_type": "code",
   "execution_count": 4,
   "id": "cb48d64e",
   "metadata": {},
   "outputs": [],
   "source": [
    "GOOGLE_API_KEY=os.getenv(\"GOOGLE_API_KEY\")\n",
    "os.environ[\"GOOGLE_API_KEY\"] = GOOGLE_API_KEY"
   ]
  },
  {
   "cell_type": "code",
   "execution_count": 5,
   "id": "ff0a6398",
   "metadata": {},
   "outputs": [],
   "source": [
    "from langchain_google_genai import ChatGoogleGenerativeAI\n",
    "from google import genai"
   ]
  },
  {
   "cell_type": "code",
   "execution_count": 6,
   "id": "ec001c5a",
   "metadata": {},
   "outputs": [
    {
     "name": "stdout",
     "output_type": "stream",
     "text": [
      "models/embedding-gecko-001\n",
      "models/gemini-1.5-pro-latest\n",
      "models/gemini-1.5-pro-002\n",
      "models/gemini-1.5-pro\n",
      "models/gemini-1.5-flash-latest\n",
      "models/gemini-1.5-flash\n",
      "models/gemini-1.5-flash-002\n",
      "models/gemini-1.5-flash-8b\n",
      "models/gemini-1.5-flash-8b-001\n",
      "models/gemini-1.5-flash-8b-latest\n",
      "models/gemini-2.5-pro-preview-03-25\n",
      "models/gemini-2.5-flash-preview-05-20\n",
      "models/gemini-2.5-flash\n",
      "models/gemini-2.5-flash-lite-preview-06-17\n",
      "models/gemini-2.5-pro-preview-05-06\n",
      "models/gemini-2.5-pro-preview-06-05\n",
      "models/gemini-2.5-pro\n",
      "models/gemini-2.0-flash-exp\n",
      "models/gemini-2.0-flash\n",
      "models/gemini-2.0-flash-001\n",
      "models/gemini-2.0-flash-exp-image-generation\n",
      "models/gemini-2.0-flash-lite-001\n",
      "models/gemini-2.0-flash-lite\n",
      "models/gemini-2.0-flash-preview-image-generation\n",
      "models/gemini-2.0-flash-lite-preview-02-05\n",
      "models/gemini-2.0-flash-lite-preview\n",
      "models/gemini-2.0-pro-exp\n",
      "models/gemini-2.0-pro-exp-02-05\n",
      "models/gemini-exp-1206\n",
      "models/gemini-2.0-flash-thinking-exp-01-21\n",
      "models/gemini-2.0-flash-thinking-exp\n",
      "models/gemini-2.0-flash-thinking-exp-1219\n",
      "models/gemini-2.5-flash-preview-tts\n",
      "models/gemini-2.5-pro-preview-tts\n",
      "models/learnlm-2.0-flash-experimental\n",
      "models/gemma-3-1b-it\n",
      "models/gemma-3-4b-it\n",
      "models/gemma-3-12b-it\n",
      "models/gemma-3-27b-it\n",
      "models/gemma-3n-e4b-it\n",
      "models/gemma-3n-e2b-it\n",
      "models/gemini-2.5-flash-lite\n",
      "models/gemini-2.5-flash-image-preview\n",
      "models/embedding-001\n",
      "models/text-embedding-004\n",
      "models/gemini-embedding-exp-03-07\n",
      "models/gemini-embedding-exp\n",
      "models/gemini-embedding-001\n",
      "models/aqa\n",
      "models/imagen-3.0-generate-002\n",
      "models/imagen-4.0-generate-preview-06-06\n",
      "models/imagen-4.0-ultra-generate-preview-06-06\n",
      "models/imagen-4.0-generate-001\n",
      "models/imagen-4.0-ultra-generate-001\n",
      "models/imagen-4.0-fast-generate-001\n",
      "models/veo-2.0-generate-001\n",
      "models/veo-3.0-generate-preview\n",
      "models/veo-3.0-fast-generate-preview\n",
      "models/gemini-2.5-flash-preview-native-audio-dialog\n",
      "models/gemini-2.5-flash-exp-native-audio-thinking-dialog\n",
      "models/gemini-2.0-flash-live-001\n",
      "models/gemini-live-2.5-flash-preview\n",
      "models/gemini-2.5-flash-live-preview\n"
     ]
    }
   ],
   "source": [
    "client = genai.Client(api_key=os.environ[\"GOOGLE_API_KEY\"])\n",
    "\n",
    "for model in client.models.list():\n",
    "    print(model.name)"
   ]
  },
  {
   "cell_type": "code",
   "execution_count": 7,
   "id": "5df542d6",
   "metadata": {},
   "outputs": [],
   "source": [
    "from langchain_google_genai import GoogleGenerativeAIEmbeddings"
   ]
  },
  {
   "cell_type": "code",
   "execution_count": 8,
   "id": "e3ac3c76",
   "metadata": {},
   "outputs": [],
   "source": [
    "embeddings = GoogleGenerativeAIEmbeddings(model=\"models/embedding-001\")"
   ]
  },
  {
   "cell_type": "code",
   "execution_count": 9,
   "id": "2c155b74",
   "metadata": {},
   "outputs": [],
   "source": [
    "from langchain_google_genai import ChatGoogleGenerativeAI"
   ]
  },
  {
   "cell_type": "code",
   "execution_count": 10,
   "id": "9ed71095",
   "metadata": {},
   "outputs": [],
   "source": [
    "chat = ChatGoogleGenerativeAI(model=\"gemini-2.5-pro\")"
   ]
  },
  {
   "cell_type": "code",
   "execution_count": 11,
   "id": "0d308540",
   "metadata": {},
   "outputs": [],
   "source": [
    "template = \"Hello I am learning about {skill}. Can you give me a brief roadmap to learn it?\""
   ]
  },
  {
   "cell_type": "code",
   "execution_count": 12,
   "id": "f8833171",
   "metadata": {},
   "outputs": [],
   "source": [
    "from langchain import PromptTemplate"
   ]
  },
  {
   "cell_type": "code",
   "execution_count": 13,
   "id": "8e0aa37f",
   "metadata": {},
   "outputs": [],
   "source": [
    "prompt = PromptTemplate(\n",
    "    template=template,\n",
    "    input_variables=[\"skill\"]\n",
    ")"
   ]
  },
  {
   "cell_type": "code",
   "execution_count": 14,
   "id": "ab751a1b",
   "metadata": {},
   "outputs": [
    {
     "name": "stdout",
     "output_type": "stream",
     "text": [
      "input_variables=['skill'] input_types={} partial_variables={} template='Hello I am learning about {skill}. Can you give me a brief roadmap to learn it?'\n"
     ]
    }
   ],
   "source": [
    "print(prompt)"
   ]
  },
  {
   "cell_type": "code",
   "execution_count": 15,
   "id": "f0d39fa9",
   "metadata": {},
   "outputs": [],
   "source": [
    "from langchain import LLMChain"
   ]
  },
  {
   "cell_type": "code",
   "execution_count": 16,
   "id": "f0359edf",
   "metadata": {},
   "outputs": [
    {
     "name": "stderr",
     "output_type": "stream",
     "text": [
      "/var/folders/p_/v95prvpj4cz7y53gvmgm1d_r0000gn/T/ipykernel_72046/1956338728.py:1: LangChainDeprecationWarning: The class `LLMChain` was deprecated in LangChain 0.1.17 and will be removed in 1.0. Use :meth:`~RunnableSequence, e.g., `prompt | llm`` instead.\n",
      "  llm_chain = LLMChain(llm=chat, prompt=prompt)\n"
     ]
    }
   ],
   "source": [
    "llm_chain = LLMChain(llm=chat, prompt=prompt)"
   ]
  },
  {
   "cell_type": "code",
   "execution_count": 17,
   "id": "fa60ea3f",
   "metadata": {},
   "outputs": [
    {
     "name": "stderr",
     "output_type": "stream",
     "text": [
      "/var/folders/p_/v95prvpj4cz7y53gvmgm1d_r0000gn/T/ipykernel_72046/1988409311.py:1: LangChainDeprecationWarning: The method `Chain.run` was deprecated in langchain 0.1.0 and will be removed in 1.0. Use :meth:`~invoke` instead.\n",
      "  print(llm_chain.run(\"Machine Learning\"))\n"
     ]
    },
    {
     "name": "stdout",
     "output_type": "stream",
     "text": [
      "Of course! It's an exciting field to get into. Here is a clear, step-by-step roadmap to guide you from beginner to proficient in Machine Learning.\n",
      "\n",
      "Think of this journey in five key phases.\n",
      "\n",
      "---\n",
      "\n",
      "### Phase 0: The Foundations (Prerequisites)\n",
      "\n",
      "You can't build a house without a strong foundation. In ML, that foundation is programming and math.\n",
      "\n",
      "1.  **Programming (Python):** Python is the language of ML. You don't need to be a software engineer, but you must be comfortable with:\n",
      "    *   **Core Python:** Variables, data types (lists, dictionaries, tuples), loops, functions, and classes.\n",
      "    *   **Key Libraries:** Get a basic understanding of these:\n",
      "        *   **NumPy:** For efficient numerical operations and working with arrays.\n",
      "        *   **Pandas:** For data manipulation and analysis (think of it as Excel in Python).\n",
      "        *   **Matplotlib / Seaborn:** For data visualization.\n",
      "\n",
      "2.  **Mathematics:** You don't need to be a math genius, but you need to grasp the core concepts.\n",
      "    *   **Linear Algebra:** Understand vectors, matrices, and their operations. Data is often represented as matrices.\n",
      "    *   **Calculus:** Grasp the concepts of derivatives and gradients. This is the heart of how models \"learn\" (optimization).\n",
      "    *   **Probability & Statistics:** Understand mean, median, variance, standard deviation, probability distributions, and basic hypothesis testing. This is crucial for understanding your data and evaluating your models.\n",
      "\n",
      "**Action Item:** Spend a few weeks getting comfortable here. Use resources like Khan Academy for math and a good Python tutorial for programming.\n",
      "\n",
      "---\n",
      "\n",
      "### Phase 1: Core Machine Learning Concepts\n",
      "\n",
      "Now you're ready to understand the \"what\" and \"why\" of Machine Learning.\n",
      "\n",
      "1.  **What is Machine Learning?** Understand the fundamental idea of teaching a computer to find patterns in data without being explicitly programmed.\n",
      "2.  **Types of Machine Learning:** This is a crucial distinction.\n",
      "    *   **Supervised Learning:** Learning from labeled data (data with a known outcome).\n",
      "        *   **Regression:** Predicting a continuous value (e.g., house price, temperature).\n",
      "        *   **Classification:** Predicting a category (e.g., spam or not spam, cat or dog).\n",
      "    *   **Unsupervised Learning:** Finding patterns in unlabeled data.\n",
      "        *   **Clustering:** Grouping similar data points together (e.g., customer segmentation).\n",
      "        *   **Dimensionality Reduction:** Simplifying data by reducing the number of variables.\n",
      "    *   **Reinforcement Learning:** An agent learns to make decisions by taking actions in an environment to maximize a reward (e.g., training a bot to play a game).\n",
      "3.  **The ML Workflow:** Learn the high-level steps of a typical project:\n",
      "    *   Frame the Problem -> Get the Data -> Explore and Clean the Data -> Train the Model -> Evaluate the Model -> Deploy and Monitor.\n",
      "4.  **Key Terminology:** Learn the vocabulary: *features, labels, training set, testing set, overfitting, underfitting, bias-variance tradeoff*.\n",
      "\n",
      "**Action Item:** Take an introductory course. **Andrew Ng's \"Machine Learning Specialization\" on Coursera** is the classic and highly recommended starting point.\n",
      "\n",
      "---\n",
      "\n",
      "### Phase 2: Diving into Algorithms with Scikit-Learn\n",
      "\n",
      "This is where theory meets practice. You'll learn the most common algorithms and how to implement them. **Scikit-Learn** is the essential Python library for this.\n",
      "\n",
      "1.  **Start with Supervised Learning:**\n",
      "    *   **Linear Regression & Logistic Regression:** The \"hello world\" of ML. Simple, interpretable, and a great starting point.\n",
      "    *   **K-Nearest Neighbors (KNN):** A very intuitive, instance-based algorithm.\n",
      "    *   **Decision Trees & Random Forests:** Powerful, versatile, and easier to understand how they make decisions.\n",
      "    *   **Support Vector Machines (SVMs):** A powerful classification algorithm.\n",
      "    *   **Gradient Boosting Machines (XGBoost, LightGBM):** These are often the winners of ML competitions. Understand the basic idea of boosting first.\n",
      "\n",
      "2.  **Move to Unsupervised Learning:**\n",
      "    *   **K-Means Clustering:** The most popular clustering algorithm.\n",
      "    *   **Principal Component Analysis (PCA):** A fundamental technique for dimensionality reduction.\n",
      "\n",
      "**Action Item:** For each algorithm, 1) understand the core intuition behind it, 2) learn its main pros and cons, and 3) implement it using Scikit-Learn on a simple dataset (like the Iris or Titanic datasets).\n",
      "\n",
      "---\n",
      "\n",
      "### Phase 3: The Deep Learning Specialization\n",
      "\n",
      "Deep Learning is a powerful subfield of ML that excels at complex problems like image recognition and natural language processing.\n",
      "\n",
      "1.  **Fundamentals of Neural Networks:** Understand the basic building blocks: neurons, layers, activation functions, and backpropagation.\n",
      "2.  **Choose a Framework:** Pick one and stick with it for a while.\n",
      "    *   **TensorFlow (with Keras):** Great for production, with a user-friendly API in Keras.\n",
      "    *   **PyTorch:** Very popular in research, known for its flexibility and Python-like feel.\n",
      "3.  **Learn Key Architectures:**\n",
      "    *   **Convolutional Neural Networks (CNNs):** The go-to for image and computer vision tasks.\n",
      "    *   **Recurrent Neural Networks (RNNs) & Transformers:** The foundation for understanding text and sequential data (Natural Language Processing - NLP).\n",
      "\n",
      "**Action Item:** Take a specialized course like the **DeepLearning.AI Specialization** (also by Andrew Ng) or **fast.ai's \"Practical Deep Learning for Coders\"**.\n",
      "\n",
      "---\n",
      "\n",
      "### Phase 4: Building Real-World Skills & Your Portfolio\n",
      "\n",
      "Knowing algorithms isn't enough. You need to know how to build an end-to-end project.\n",
      "\n",
      "1.  **Feature Engineering:** Learn the art of creating new, meaningful features from your existing data to improve model performance.\n",
      "2.  **Model Evaluation & Selection:** Go beyond accuracy. Learn about metrics like Precision, Recall, F1-Score, ROC Curves for classification, and R-squared, MSE for regression. Understand the importance of cross-validation.\n",
      "3.  **Hyperparameter Tuning:** Learn how to fine-tune your models to get the best performance (e.g., Grid Search, Random Search).\n",
      "4.  **Projects, Projects, Projects!** This is the most important part.\n",
      "    *   **Start with Kaggle:** Participate in beginner competitions. It's a great way to work with real-world datasets and see how others approach problems.\n",
      "    *   **Build Your Own Project:** Find a dataset you're passionate about (sports, finance, movies, etc.) and build a project from scratch. Document your process on a blog or GitHub. This becomes your portfolio.\n",
      "\n",
      "**Action Item:** Complete 2-3 end-to-end projects. This will solidify your learning and give you something to show potential employers.\n",
      "\n",
      "### Key Advice for Your Journey\n",
      "\n",
      "*   **Balance Theory and Practice:** Don't get stuck in \"tutorial hell.\" After you learn a concept, immediately apply it to a small project.\n",
      "*   **Don't Get Overwhelmed:** This is a marathon, not a sprint. Focus on one topic at a time.\n",
      "*   **Read Code:** Find interesting projects on GitHub and read the code to see how others solve problems.\n",
      "*   **Join a Community:** Use platforms like Stack Overflow, Reddit (r/MachineLearning), or Discord servers to ask questions and learn from others.\n",
      "\n",
      "Good luck! It's a challenging but incredibly rewarding journey.\n"
     ]
    }
   ],
   "source": [
    "print(llm_chain.run(\"Machine Learning\"))"
   ]
  },
  {
   "cell_type": "code",
   "execution_count": null,
   "id": "64dbb4c3",
   "metadata": {},
   "outputs": [],
   "source": []
  },
  {
   "cell_type": "markdown",
   "id": "25321459",
   "metadata": {},
   "source": [
    "### LCEL Chaining Concept"
   ]
  },
  {
   "cell_type": "code",
   "execution_count": 18,
   "id": "13a2eccc",
   "metadata": {},
   "outputs": [
    {
     "data": {
      "text/plain": [
       "ChatGoogleGenerativeAI(model='models/gemini-2.5-pro', google_api_key=SecretStr('**********'), client=<google.ai.generativelanguage_v1beta.services.generative_service.client.GenerativeServiceClient object at 0x12397bb20>, default_metadata=())"
      ]
     },
     "execution_count": 18,
     "metadata": {},
     "output_type": "execute_result"
    }
   ],
   "source": [
    "chat "
   ]
  },
  {
   "cell_type": "code",
   "execution_count": 19,
   "id": "9dfe41a9",
   "metadata": {},
   "outputs": [
    {
     "data": {
      "text/plain": [
       "PromptTemplate(input_variables=['skill'], input_types={}, partial_variables={}, template='Hello I am learning about {skill}. Can you give me a brief roadmap to learn it?')"
      ]
     },
     "execution_count": 19,
     "metadata": {},
     "output_type": "execute_result"
    }
   ],
   "source": [
    "prompt"
   ]
  },
  {
   "cell_type": "code",
   "execution_count": 20,
   "id": "0cce5f62",
   "metadata": {},
   "outputs": [],
   "source": [
    "chain = prompt | chat"
   ]
  },
  {
   "cell_type": "markdown",
   "id": "cabb549f",
   "metadata": {},
   "source": [
    "Here we can directly use the invoke method instead of creating an object and then using the method because both of the classes prompttemplate and chatgooglegenerativeai consist of the invoke method."
   ]
  },
  {
   "cell_type": "code",
   "execution_count": 21,
   "id": "7db6ab46",
   "metadata": {},
   "outputs": [
    {
     "name": "stdout",
     "output_type": "stream",
     "text": [
      "content='Of course! Welcome to the exciting world of Cloud Computing. It\\'s a vast field, but you can approach it systematically. Here is a brief, step-by-step roadmap designed for a beginner.\\n\\n---\\n\\n### **Cloud Computing Learning Roadmap**\\n\\nThis roadmap is broken down into four key phases. Don\\'t feel rushed; focus on understanding the concepts in each phase before moving to the next.\\n\\n---\\n\\n### **Phase 0: The Foundation (Prerequisites)**\\n\\nBefore you even touch the cloud, you need a basic understanding of the technologies it\\'s built upon. You don\\'t need to be an expert, but you should be comfortable with these concepts.\\n\\n*   **1. Networking Fundamentals:**\\n    *   **What to learn:** IP Addresses, DNS (Domain Name System), TCP/IP, Firewalls, Routers, and VPNs.\\n    *   **Why it\\'s important:** The cloud is a network of computers. You need to know how they talk to each other and how to secure them.\\n\\n*   **2. Operating System Basics (especially Linux):**\\n    *   **What to learn:** Basic command-line operations (`ls`, `cd`, `grep`, `ssh`), user permissions, and package management (like `apt` or `yum`).\\n    *   **Why it\\'s important:** Most cloud servers run on Linux. Knowing your way around the command line is essential.\\n\\n*   **3. Virtualization and Containers:**\\n    *   **What to learn:** Understand what a Virtual Machine (VM) is and how a hypervisor works. Then, learn the basic concept of containers (like Docker) and how they differ from VMs.\\n    *   **Why it\\'s important:** Virtualization is the core technology that makes cloud computing possible. Containers are the modern way to build and deploy applications.\\n\\n---\\n\\n### **Phase 1: Core Cloud Concepts (The \"What\" and \"Why\")**\\n\\nThis phase is all about theory. You need to understand the language and fundamental principles of the cloud.\\n\\n*   **1. The Three Service Models (The \"as-a-Service\" stack):**\\n    *   **IaaS (Infrastructure as a Service):** You manage the OS and applications; the cloud provider manages the hardware. (e.g., Virtual Machines).\\n    *   **PaaS (Platform as a Service):** You manage the application; the provider manages the OS and hardware. (e.g., Heroku, AWS Elastic Beanstalk).\\n    *   **SaaS (Software as a Service):** You just use the software; the provider manages everything. (e.g., Gmail, Salesforce).\\n\\n*   **2. The Four Deployment Models:**\\n    *   **Public Cloud:** Services are offered over the public internet (e.g., AWS, Azure, GCP).\\n    *   **Private Cloud:** Cloud infrastructure operated solely for a single organization.\\n    *   **Hybrid Cloud:** A mix of public and private clouds.\\n    *   **Multi-Cloud:** Using more than one public cloud provider.\\n\\n*   **3. Key Cloud Characteristics & Benefits:**\\n    *   **Characteristics:** On-demand self-service, rapid elasticity, resource pooling, measured service.\\n    *   **Benefits:** Cost savings (Pay-as-you-go), scalability, agility, reliability, and global reach.\\n\\n---\\n\\n### **Phase 2: Choose a Platform & Get Hands-On**\\n\\nTheory is great, but practical skills are what get you a job. It\\'s time to pick one of the major cloud providers and start building.\\n\\n*   **1. Pick ONE Major Provider to Start:**\\n    *   **Amazon Web Services (AWS):** The market leader, has the most services and the largest community. Great for general-purpose learning.\\n    *   **Microsoft Azure:** Second largest, very strong in the enterprise space, and excellent integration with Microsoft products.\\n    *   **Google Cloud Platform (GCP):** Third largest, known for its strengths in data analytics, machine learning, and container orchestration (Kubernetes).\\n\\n    **Advice:** Don\\'t try to learn all three at once. Pick one, learn it well, and the skills will be transferable. AWS is often the most recommended for beginners.\\n\\n*   **2. Sign Up for a Free Tier Account:**\\n    *   All three major providers offer a generous free tier. This is your playground. **Remember to set up billing alerts to avoid unexpected charges!**\\n\\n*   **3. Study for a Foundational Certification:**\\n    *   This gives you a structured learning path and a great goal.\\n    *   **AWS:** AWS Certified Cloud Practitioner (CLF-C01)\\n    *   **Azure:** Microsoft Certified: Azure Fundamentals (AZ-900)\\n    *   **GCP:** Cloud Digital Leader\\n\\n*   **4. Learn the Core Services (Hands-On):**\\n    *   **Compute:** Launch a virtual machine (AWS EC2, Azure VM, GCP Compute Engine).\\n    *   **Storage:** Store and retrieve a file from object storage (AWS S3, Azure Blob Storage, GCP Cloud Storage).\\n    *   **Networking:** Create a simple Virtual Private Cloud (VPC/VNet) and configure basic security rules.\\n    *   **Databases:** Set up a simple managed database (AWS RDS, Azure SQL Database).\\n    *   **Identity & Access Management (IAM):** Create a user and assign permissions. This is critical for security.\\n\\n---\\n\\n### **Phase 3: Intermediate Skills & Specialization**\\n\\nOnce you\\'re comfortable with the basics, you can move on to more advanced and in-demand skills.\\n\\n*   **1. Infrastructure as Code (IaC):**\\n    *   Learn to define and manage your infrastructure using code instead of clicking in the console.\\n    *   **Tools:** Terraform (cloud-agnostic) or a platform-specific tool like AWS CloudFormation.\\n\\n*   **2. Containers & Orchestration:**\\n    *   Go deeper with **Docker**. Then, learn the basics of **Kubernetes** for managing containers at scale.\\n    *   Explore managed Kubernetes services (AWS EKS, Azure AKS, GCP GKE).\\n\\n*   **3. CI/CD & DevOps:**\\n    *   Understand how to build automated pipelines to test and deploy your code to the cloud.\\n    *   **Tools:** Jenkins, GitHub Actions, AWS CodePipeline, Azure DevOps.\\n\\n*   **4. Serverless Computing:**\\n    *   Learn how to run code without managing any servers.\\n    *   **Services:** AWS Lambda, Azure Functions, Google Cloud Functions.\\n\\n*   **5. Choose a Specialization Path:**\\n    *   **Solutions Architect:** Designing cloud environments.\\n    *   **DevOps Engineer:** Automating infrastructure and deployments.\\n    *   **Cloud Security Engineer:** Securing cloud resources.\\n    *   **Data Engineer:** Building data pipelines and analytics platforms in the cloud.\\n\\n### **Tips for Success**\\n\\n*   **Hands-On is Everything:** You can\\'t learn cloud by just reading. You *must* build things. Create small projects for yourself.\\n*   **Don\\'t Get Overwhelmed:** This is a huge field. Focus on one topic at a time.\\n*   **Certifications are a Guide, Not the Goal:** They provide a great learning structure, but practical skills are more important. Use them as a roadmap for your learning.\\n*   **Stay Curious and Keep Learning:** The cloud evolves daily. Follow official blogs and news to stay up-to-date.\\n\\nGood luck on your journey! It\\'s a challenging but incredibly rewarding field to be in.' additional_kwargs={} response_metadata={'prompt_feedback': {'block_reason': 0, 'safety_ratings': []}, 'finish_reason': 'STOP', 'safety_ratings': []} id='run--f9b097a0-58ce-40ae-a78c-ca3e2e29d346-0' usage_metadata={'input_tokens': 20, 'output_tokens': 1638, 'total_tokens': 3399, 'input_token_details': {'cache_read': 0}}\n"
     ]
    }
   ],
   "source": [
    "print(chain.invoke({\"skill\": \"Cloud Computing\"}))"
   ]
  },
  {
   "cell_type": "code",
   "execution_count": 22,
   "id": "d42b5a10",
   "metadata": {},
   "outputs": [],
   "source": [
    "from langchain_core.output_parsers import StrOutputParser"
   ]
  },
  {
   "cell_type": "code",
   "execution_count": 24,
   "id": "a7c32d63",
   "metadata": {},
   "outputs": [],
   "source": [
    "parser = StrOutputParser()"
   ]
  },
  {
   "cell_type": "code",
   "execution_count": 25,
   "id": "5d57d776",
   "metadata": {},
   "outputs": [],
   "source": [
    "new_chain = prompt | chat | parser"
   ]
  },
  {
   "cell_type": "code",
   "execution_count": 26,
   "id": "95d155f8",
   "metadata": {},
   "outputs": [
    {
     "name": "stdout",
     "output_type": "stream",
     "text": [
      "Of course! Welcome to the exciting world of Big Data. It's a vast field, so having a roadmap is a fantastic idea to keep you focused.\n",
      "\n",
      "Here is a brief, step-by-step roadmap designed for a beginner. We'll move from the fundamental concepts to the practical tools used in the industry.\n",
      "\n",
      "---\n",
      "\n",
      "### **Phase 1: The Fundamentals (The \"Why & What\")**\n",
      "\n",
      "**Goal:** Understand the problem Big Data solves and the core concepts. Don't touch any complex tools yet.\n",
      "\n",
      "1.  **What is Big Data? The \"V's\":**\n",
      "    *   Start with the classic definition. Understand the **3 V's**:\n",
      "        *   **Volume:** The sheer scale of data.\n",
      "        *   **Velocity:** The high speed at which data is generated and needs to be processed.\n",
      "        *   **Variety:** The different forms of data (structured like tables, semi-structured like JSON, and unstructured like text, images, video).\n",
      "    *   Also, learn about the newer V's like **Veracity** (data quality) and **Value** (turning data into profit/insights).\n",
      "\n",
      "2.  **The Big Data Ecosystem:**\n",
      "    *   Get a high-level overview of the entire data pipeline. Every project follows a similar pattern:\n",
      "        *   **Ingestion:** Getting the data from sources.\n",
      "        *   **Storage:** Storing the massive amount of data.\n",
      "        *   **Processing:** Cleaning, transforming, and analyzing the data.\n",
      "        *   **Analysis & Visualization:** Making sense of the results and presenting them.\n",
      "\n",
      "---\n",
      "\n",
      "### **Phase 2: Core Skills & Foundational Technologies (The \"Toolkit\")**\n",
      "\n",
      "**Goal:** Build the essential skills you'll need, regardless of which specific tools you use later.\n",
      "\n",
      "1.  **Programming Language (Pick one):**\n",
      "    *   **Python (Highly Recommended):** It's the dominant language in the data world. Learn the basics of Python, then focus on key libraries:\n",
      "        *   **Pandas:** For data manipulation and analysis (on a single machine).\n",
      "        *   **NumPy:** For numerical operations.\n",
      "    *   **SQL:** This is **non-negotiable**. You will use SQL everywhere to query data. Master the fundamentals: `SELECT`, `WHERE`, `GROUP BY`, `JOIN`.\n",
      "\n",
      "2.  **Linux Command Line:**\n",
      "    *   Big Data systems almost always run on Linux servers. You don't need to be an expert, but you **must** be comfortable with the basics: navigating directories (`cd`, `ls`), managing files (`cp`, `mv`, `rm`), and checking processes (`ps`).\n",
      "\n",
      "3.  **Understanding Distributed Systems:**\n",
      "    *   This is the core concept behind Big Data. Understand *why* we need more than one computer.\n",
      "    *   **Hadoop (The Foundation):** Learn the concepts, even if you don't use it deeply.\n",
      "        *   **HDFS (Hadoop Distributed File System):** How data is stored across many machines.\n",
      "        *   **MapReduce:** The original programming model for processing data in parallel. Understand the concept of \"mapping\" and \"reducing.\"\n",
      "\n",
      "---\n",
      "\n",
      "### **Phase 3: The Modern Big Data Stack (The \"How-To\")**\n",
      "\n",
      "**Goal:** Learn the industry-standard tools for large-scale data processing.\n",
      "\n",
      "1.  **Apache Spark (The King of Processing):**\n",
      "    *   This is the most important tool to learn. Spark is a powerful, fast, and versatile engine for big data processing. It largely replaced MapReduce.\n",
      "    *   **Core Concepts:** Understand Resilient Distributed Datasets (RDDs), DataFrames, and lazy evaluation.\n",
      "    *   **Spark's APIs:** Learn to use Spark with Python (**PySpark**) or Scala. Start with DataFrames, as they are simpler and highly optimized.\n",
      "    *   **Spark SQL:** Use your SQL knowledge to query massive datasets directly within Spark.\n",
      "\n",
      "2.  **Data Ingestion & Messaging:**\n",
      "    *   How does data get into your system in real-time?\n",
      "    *   **Apache Kafka:** Learn the basics of this event-streaming platform. Understand topics, producers, and consumers.\n",
      "\n",
      "3.  **Data Storage & Warehousing:**\n",
      "    *   Where does all this data live?\n",
      "    *   **Data Lakes:** Understand the concept of a central repository for raw data (e.g., storing files in Amazon S3, Google Cloud Storage).\n",
      "    *   **NoSQL Databases:** Get familiar with the different types and when to use them.\n",
      "        *   **Document Stores** (e.g., MongoDB) for flexible, JSON-like data.\n",
      "        *   **Columnar Stores** (e.g., Apache Cassandra) for high-performance reads on specific columns.\n",
      "    *   **Data Warehouses:** Learn about systems designed for large-scale analytics (e.g., Snowflake, Google BigQuery, Amazon Redshift).\n",
      "\n",
      "---\n",
      "\n",
      "### **Phase 4: Putting It All Together (The \"Payoff\")**\n",
      "\n",
      "**Goal:** Use your skills and tools to build a complete project and deliver value.\n",
      "\n",
      "1.  **Cloud Platforms (Essential):**\n",
      "    *   Most companies don't build their own data centers anymore. You **must** learn one of the major cloud providers.\n",
      "    *   Pick one and explore its data services:\n",
      "        *   **Amazon Web Services (AWS):** S3 (Storage), EMR (Spark), Redshift (Warehouse).\n",
      "        *   **Google Cloud Platform (GCP):** Cloud Storage, Dataproc (Spark), BigQuery (Warehouse).\n",
      "        *   **Microsoft Azure:** Blob Storage, Databricks/Synapse Analytics.\n",
      "\n",
      "2.  **Workflow Orchestration:**\n",
      "    *   How do you schedule and automate your data pipelines (e.g., \"run this job every day at 3 AM\")?\n",
      "    *   **Apache Airflow:** This is the industry standard. Learn how to define tasks and dependencies in a DAG (Directed Acyclic Graph).\n",
      "\n",
      "3.  **Analysis & Visualization:**\n",
      "    *   Connect your processed data to a Business Intelligence (BI) tool to create dashboards and reports.\n",
      "    *   **Tableau** or **Power BI** are the market leaders.\n",
      "\n",
      "---\n",
      "\n",
      "### **Your Learning Journey in a Nutshell**\n",
      "\n",
      "1.  **Months 1-2: Foundations.** Read about the V's. Master Python basics, Pandas, and SQL. Get comfortable with the Linux command line.\n",
      "2.  **Months 3-4: Core Tech.** Understand the concepts of HDFS and MapReduce. Then, dive deep into **Apache Spark**. This is your main focus.\n",
      "3.  **Months 5-6: The Ecosystem.** Learn about a cloud platform (like AWS), a storage solution (like S3), and an ingestion tool (like Kafka).\n",
      "4.  **Ongoing: Practice!** Build a personal project. For example:\n",
      "    *   Analyze a large public dataset (e.g., Reddit comments, NYC taxi data).\n",
      "    *   Set up a simple pipeline: Ingest data, process it with Spark on a cloud service, and build a simple dashboard in Tableau.\n",
      "\n",
      "**Final Advice:**\n",
      "\n",
      "*   **Don't Get Overwhelmed:** This list looks long, but each step builds on the last.\n",
      "*   **Focus on Concepts, Not Just Tools:** Tools change, but the fundamental principles of distributed computing stay the same.\n",
      "*   **Hands-On is Everything:** You can't learn Big Data by just reading. You have to write code, break things, fix them, and process real data.\n",
      "\n",
      "Good luck on your journey! It's a challenging but incredibly rewarding field.\n"
     ]
    }
   ],
   "source": [
    "print(new_chain.invoke({\"skill\": \"Big Data\"}))"
   ]
  },
  {
   "cell_type": "code",
   "execution_count": null,
   "id": "925b8c9e",
   "metadata": {},
   "outputs": [],
   "source": []
  },
  {
   "cell_type": "markdown",
   "id": "6a09ce7b",
   "metadata": {},
   "source": [
    "### Runnables"
   ]
  },
  {
   "cell_type": "code",
   "execution_count": 27,
   "id": "ddc09b5c",
   "metadata": {},
   "outputs": [],
   "source": [
    "from langchain_core.runnables import RunnableParallel, RunnableLambda, RunnablePassthrough"
   ]
  },
  {
   "cell_type": "code",
   "execution_count": 28,
   "id": "ae48236e",
   "metadata": {},
   "outputs": [],
   "source": [
    "chain = RunnablePassthrough()"
   ]
  },
  {
   "cell_type": "code",
   "execution_count": 29,
   "id": "a5902114",
   "metadata": {},
   "outputs": [
    {
     "data": {
      "text/plain": [
       "'Hello World'"
      ]
     },
     "execution_count": 29,
     "metadata": {},
     "output_type": "execute_result"
    }
   ],
   "source": [
    "chain.invoke(\"Hello World\")"
   ]
  },
  {
   "cell_type": "markdown",
   "id": "718cdf20",
   "metadata": {},
   "source": [
    "This method is simply used to pass the runtime input / prompt to the LLM without any distracted text. It only takes in input, works just like the python input function."
   ]
  },
  {
   "cell_type": "code",
   "execution_count": 30,
   "id": "56085096",
   "metadata": {},
   "outputs": [],
   "source": [
    "def string_upper(input: str) -> str:\n",
    "    return input.upper()"
   ]
  },
  {
   "cell_type": "code",
   "execution_count": 31,
   "id": "8062d693",
   "metadata": {},
   "outputs": [],
   "source": [
    "chain2 = RunnablePassthrough() | RunnableLambda(string_upper)"
   ]
  },
  {
   "cell_type": "code",
   "execution_count": 32,
   "id": "7d3f3dd6",
   "metadata": {},
   "outputs": [
    {
     "name": "stdout",
     "output_type": "stream",
     "text": [
      "HELLO WORLD\n"
     ]
    }
   ],
   "source": [
    "print(chain2.invoke(\"hello world\"))"
   ]
  },
  {
   "cell_type": "markdown",
   "id": "ab0f9ffa",
   "metadata": {},
   "source": [
    "The runnable lambda method is used to pass a function in the input, if we want to pass some sensitive information we simply capitalise it and send to the LLM. This is just an example we can perform \n",
    "many other functionalities using runnnable lambda."
   ]
  },
  {
   "cell_type": "code",
   "execution_count": 33,
   "id": "f0d4a22e",
   "metadata": {},
   "outputs": [],
   "source": [
    "parallel_chain = RunnableParallel({'x':RunnablePassthrough(), 'y':RunnableLambda(string_upper)})"
   ]
  },
  {
   "cell_type": "code",
   "execution_count": 34,
   "id": "c8027ade",
   "metadata": {},
   "outputs": [
    {
     "data": {
      "text/plain": [
       "{'x': 'Welcome to this GitHub Repository, it contains Langchain and LangGraph tutorials',\n",
       " 'y': 'WELCOME TO THIS GITHUB REPOSITORY, IT CONTAINS LANGCHAIN AND LANGGRAPH TUTORIALS'}"
      ]
     },
     "execution_count": 34,
     "metadata": {},
     "output_type": "execute_result"
    }
   ],
   "source": [
    "parallel_chain.invoke(\"Welcome to this GitHub Repository, it contains Langchain and LangGraph tutorials\")"
   ]
  },
  {
   "cell_type": "code",
   "execution_count": null,
   "id": "b8537283",
   "metadata": {},
   "outputs": [],
   "source": []
  },
  {
   "cell_type": "code",
   "execution_count": null,
   "id": "209f431c",
   "metadata": {},
   "outputs": [],
   "source": []
  }
 ],
 "metadata": {
  "kernelspec": {
   "display_name": "Python 3",
   "language": "python",
   "name": "python3"
  },
  "language_info": {
   "codemirror_mode": {
    "name": "ipython",
    "version": 3
   },
   "file_extension": ".py",
   "mimetype": "text/x-python",
   "name": "python",
   "nbconvert_exporter": "python",
   "pygments_lexer": "ipython3",
   "version": "3.10.18"
  }
 },
 "nbformat": 4,
 "nbformat_minor": 5
}
