{
 "cells": [
  {
   "cell_type": "code",
   "execution_count": 1,
   "id": "98cff57f",
   "metadata": {},
   "outputs": [
    {
     "data": {
      "text/plain": [
       "True"
      ]
     },
     "execution_count": 1,
     "metadata": {},
     "output_type": "execute_result"
    }
   ],
   "source": [
    "import os\n",
    "from dotenv import load_dotenv\n",
    "load_dotenv()"
   ]
  },
  {
   "cell_type": "code",
   "execution_count": 2,
   "id": "27647ed8",
   "metadata": {},
   "outputs": [],
   "source": [
    "GOOGLE_API_KEY = os.getenv(\"GOOGLE_API_KEY\")\n",
    "TAVILY_API_KEY = os.getenv(\"TAVILY_API_KEY\")\n",
    "GROQ_API_KEY = os.getenv(\"GROQ_API_KEY\")\n",
    "LANGCHAIN_API_KEY = os.getenv(\"LANGCHAIN_API_KEY\")\n",
    "LANGSMITH_PROJECT = os.getenv(\"LANGSMITH_PROJECT\")\n",
    "HUGGINGFACE_API_KEY = os.getenv(\"HUGGINGFACE_API_KEY\")\n",
    "SERPER_API_KEY = os.getenv(\"SERPER_API_KEY\")\n",
    "\n",
    "os.environ[\"GOOGLE_API_KEY\"] = GOOGLE_API_KEY\n",
    "os.environ[\"TAVILY_API_KEY\"] = TAVILY_API_KEY\n",
    "os.environ[\"GROQ_API_KEY\"] = GROQ_API_KEY\n",
    "os.environ[\"LANGCHAIN_API_KEY\"] = LANGCHAIN_API_KEY\n",
    "os.environ[\"LANGSMITH_PROJECT\"] = LANGSMITH_PROJECT\n",
    "os.environ[\"HUGGINGFACE_API_KEY\"] = HUGGINGFACE_API_KEY\n",
    "os.environ[\"SERPER_API_KEY\"] = SERPER_API_KEY"
   ]
  },
  {
   "cell_type": "code",
   "execution_count": 3,
   "id": "cdb891d9",
   "metadata": {},
   "outputs": [],
   "source": [
    "from langchain_groq import ChatGroq\n",
    "\n",
    "llm = ChatGroq(model_name = \"llama-3.3-70b-versatile\")"
   ]
  },
  {
   "cell_type": "code",
   "execution_count": 4,
   "id": "553552d0",
   "metadata": {},
   "outputs": [
    {
     "data": {
      "text/plain": [
       "AIMessage(content=\"That's great to hear. Being a good person is something to be proud of. What makes you think you're a good boy, and what kind of positive things have you been doing lately?\", additional_kwargs={}, response_metadata={'token_usage': {'completion_tokens': 40, 'prompt_tokens': 40, 'total_tokens': 80, 'completion_time': 0.105622925, 'prompt_time': 0.010702898, 'queue_time': 0.212187128, 'total_time': 0.116325823}, 'model_name': 'llama-3.3-70b-versatile', 'system_fingerprint': 'fp_2ddfbb0da0', 'service_tier': 'on_demand', 'finish_reason': 'stop', 'logprobs': None}, id='run--70f61479-059c-44bc-9e41-905678b003f2-0', usage_metadata={'input_tokens': 40, 'output_tokens': 40, 'total_tokens': 80})"
      ]
     },
     "execution_count": 4,
     "metadata": {},
     "output_type": "execute_result"
    }
   ],
   "source": [
    "llm.invoke(\"I am a good boy\")"
   ]
  },
  {
   "cell_type": "code",
   "execution_count": 5,
   "id": "41ccb1df",
   "metadata": {},
   "outputs": [],
   "source": [
    "from langgraph.graph import StateGraph, MessagesState, START, END\n",
    "from langgraph.graph.message import add_messages\n",
    "from typing import Annotated, Literal, TypedDict\n",
    "from langchain_core.tools import tool\n",
    "from langchain_core.messages import HumanMessage\n",
    "from langgraph.checkpoint.memory import MemorySaver\n",
    "from langgraph.prebuilt import ToolNode"
   ]
  },
  {
   "cell_type": "code",
   "execution_count": 6,
   "id": "c6695b6d",
   "metadata": {},
   "outputs": [],
   "source": [
    "def call_model(state: MessagesState):\n",
    "    messages = state['messages']\n",
    "    response = llm.invoke(messages)\n",
    "    return {\"messages\": [response]}"
   ]
  },
  {
   "cell_type": "code",
   "execution_count": 7,
   "id": "4e5bc8b8",
   "metadata": {},
   "outputs": [],
   "source": [
    "workflow = StateGraph(MessagesState)\n",
    "workflow.add_node(\"chatbot\", call_model)\n",
    "workflow.add_edge(START, \"chatbot\")\n",
    "workflow.add_edge(\"chatbot\", END)\n",
    "app = workflow.compile()"
   ]
  },
  {
   "cell_type": "code",
   "execution_count": 8,
   "id": "33851b30",
   "metadata": {},
   "outputs": [
    {
     "data": {
      "image/png": "[encoded data removed]",
      "text/plain": [
       "<IPython.core.display.Image object>"
      ]
     },
     "metadata": {},
     "output_type": "display_data"
    }
   ],
   "source": [
    "from IPython.display import Image, display\n",
    "display(Image(app.get_graph().draw_mermaid_png()))"
   ]
  },
  {
   "cell_type": "code",
   "execution_count": 9,
   "id": "c19da373",
   "metadata": {},
   "outputs": [],
   "source": [
    "input = {\"messages\": [\"Hi, I am Atharva\"]}"
   ]
  },
  {
   "cell_type": "code",
   "execution_count": 10,
   "id": "aea1dbb3",
   "metadata": {},
   "outputs": [
    {
     "data": {
      "text/plain": [
       "{'messages': [HumanMessage(content='Hi, I am Atharva', additional_kwargs={}, response_metadata={}, id='9fb16419-fb02-4e2b-99b7-0796565bc7ca'),\n",
       "  AIMessage(content=\"Hello Atharva! It's nice to meet you. Is there something I can help you with or would you like to chat?\", additional_kwargs={}, response_metadata={'token_usage': {'completion_tokens': 28, 'prompt_tokens': 42, 'total_tokens': 70, 'completion_time': 0.04565666, 'prompt_time': 0.017904484, 'queue_time': 0.213117961, 'total_time': 0.063561144}, 'model_name': 'llama-3.3-70b-versatile', 'system_fingerprint': 'fp_2ddfbb0da0', 'service_tier': 'on_demand', 'finish_reason': 'stop', 'logprobs': None}, id='run--8f97ba6a-c724-4d53-95bd-e222795b51d0-0', usage_metadata={'input_tokens': 42, 'output_tokens': 28, 'total_tokens': 70})]}"
      ]
     },
     "execution_count": 10,
     "metadata": {},
     "output_type": "execute_result"
    }
   ],
   "source": [
    "app.invoke(input)"
   ]
  },
  {
   "cell_type": "code",
   "execution_count": 11,
   "id": "7c8523bd",
   "metadata": {},
   "outputs": [
    {
     "name": "stdout",
     "output_type": "stream",
     "text": [
      "Output from chatbot node\n",
      "________________________\n",
      "{'messages': [AIMessage(content=\"Hello Atharva! It's nice to meet you. Is there something I can help you with or would you like to chat?\", additional_kwargs={}, response_metadata={'token_usage': {'completion_tokens': 28, 'prompt_tokens': 42, 'total_tokens': 70, 'completion_time': 0.042903994, 'prompt_time': 0.011101057, 'queue_time': 0.21287669, 'total_time': 0.054005051}, 'model_name': 'llama-3.3-70b-versatile', 'system_fingerprint': 'fp_2ddfbb0da0', 'service_tier': 'on_demand', 'finish_reason': 'stop', 'logprobs': None}, id='run--1d624c7a-ca90-462b-8468-c67bfb0f19ee-0', usage_metadata={'input_tokens': 42, 'output_tokens': 28, 'total_tokens': 70})]}\n",
      "\n",
      "\n"
     ]
    }
   ],
   "source": [
    "for output in app.stream(input):\n",
    "    for key, value in output.items():\n",
    "        print(f\"Output from {key} node\")\n",
    "        print(\"________________________\")\n",
    "        print(value)\n",
    "        print(\"\\n\")"
   ]
  },
  {
   "cell_type": "markdown",
   "id": "c289b0b3",
   "metadata": {},
   "source": [
    "### Adding simple custom tool"
   ]
  },
  {
   "cell_type": "code",
   "execution_count": 12,
   "id": "40c2e691",
   "metadata": {},
   "outputs": [],
   "source": [
    "@tool\n",
    "def search(query: str):\n",
    "    \"\"\" Custom Tool\"\"\"\n",
    "    if \"sf\" in query.lower() or \"san francisco\" in query.lower():\n",
    "        return \"It is 60 degree and foogy outside.\"\n",
    "    return \"It is 90 degrees and hot outside\""
   ]
  },
  {
   "cell_type": "code",
   "execution_count": 13,
   "id": "de5e2744",
   "metadata": {},
   "outputs": [
    {
     "data": {
      "text/plain": [
       "'It is 60 degree and foogy outside.'"
      ]
     },
     "execution_count": 13,
     "metadata": {},
     "output_type": "execute_result"
    }
   ],
   "source": [
    "search.invoke(\"What is the temperature in sf?\")"
   ]
  },
  {
   "cell_type": "code",
   "execution_count": 14,
   "id": "2ab43fc7",
   "metadata": {},
   "outputs": [
    {
     "data": {
      "text/plain": [
       "'It is 90 degrees and hot outside'"
      ]
     },
     "execution_count": 14,
     "metadata": {},
     "output_type": "execute_result"
    }
   ],
   "source": [
    "search.invoke(\"What is the weather in India\")"
   ]
  },
  {
   "cell_type": "code",
   "execution_count": 15,
   "id": "1f473366",
   "metadata": {},
   "outputs": [],
   "source": [
    "tools = [search]"
   ]
  },
  {
   "cell_type": "code",
   "execution_count": 16,
   "id": "d3dbd544",
   "metadata": {},
   "outputs": [],
   "source": [
    "tool_node = ToolNode(tools)"
   ]
  },
  {
   "cell_type": "code",
   "execution_count": 17,
   "id": "ea48bc22",
   "metadata": {},
   "outputs": [],
   "source": [
    "llm_with_tool = llm.bind_tools(tools)"
   ]
  },
  {
   "cell_type": "code",
   "execution_count": 18,
   "id": "ee9afbd6",
   "metadata": {},
   "outputs": [],
   "source": [
    "def call_model2(state: MessagesState):\n",
    "    messages1 = state['messages']\n",
    "    response1 = llm_with_tool.invoke(messages1)\n",
    "    return {\"messages\": [response1]}"
   ]
  },
  {
   "cell_type": "markdown",
   "id": "ffd91274",
   "metadata": {},
   "source": [
    "Now this call_model function has an updated LLM, i.e. it also has the tool functionality. So it will decide whether it needs to call the tool or it needs to call the LLM in order to answer the input question."
   ]
  },
  {
   "cell_type": "code",
   "execution_count": 19,
   "id": "7f9eb08e",
   "metadata": {},
   "outputs": [],
   "source": [
    "response1 = call_model2({\"messages\": [\"Hello, I am Atharva\"]})"
   ]
  },
  {
   "cell_type": "code",
   "execution_count": 20,
   "id": "3c432250",
   "metadata": {},
   "outputs": [],
   "source": [
    "messages1 = response1['messages']"
   ]
  },
  {
   "cell_type": "code",
   "execution_count": 21,
   "id": "861e17d4",
   "metadata": {},
   "outputs": [],
   "source": [
    "last_message = messages1[-1]"
   ]
  },
  {
   "cell_type": "code",
   "execution_count": 22,
   "id": "43abcf28",
   "metadata": {},
   "outputs": [
    {
     "data": {
      "text/plain": [
       "[]"
      ]
     },
     "execution_count": 22,
     "metadata": {},
     "output_type": "execute_result"
    }
   ],
   "source": [
    "last_message.tool_calls"
   ]
  },
  {
   "cell_type": "code",
   "execution_count": 23,
   "id": "dd52f3cc",
   "metadata": {},
   "outputs": [],
   "source": [
    "response = call_model2({\"messages\": [\"What is the weather in India\"]})"
   ]
  },
  {
   "cell_type": "code",
   "execution_count": 24,
   "id": "a9d406f6",
   "metadata": {},
   "outputs": [
    {
     "data": {
      "text/plain": [
       "{'messages': [AIMessage(content='', additional_kwargs={'tool_calls': [{'id': 'ras40czvd', 'function': {'arguments': '{\"query\":\"India weather forecast\"}', 'name': 'search'}, 'type': 'function'}]}, response_metadata={'token_usage': {'completion_tokens': 15, 'prompt_tokens': 208, 'total_tokens': 223, 'completion_time': 0.049727152, 'prompt_time': 0.023348131, 'queue_time': 0.213142204, 'total_time': 0.073075283}, 'model_name': 'llama-3.3-70b-versatile', 'system_fingerprint': 'fp_3f3b593e33', 'service_tier': 'on_demand', 'finish_reason': 'tool_calls', 'logprobs': None}, id='run--b9270587-13c2-4ecd-b449-ca61bc02b385-0', tool_calls=[{'name': 'search', 'args': {'query': 'India weather forecast'}, 'id': 'ras40czvd', 'type': 'tool_call'}], usage_metadata={'input_tokens': 208, 'output_tokens': 15, 'total_tokens': 223})]}"
      ]
     },
     "execution_count": 24,
     "metadata": {},
     "output_type": "execute_result"
    }
   ],
   "source": [
    "response"
   ]
  },
  {
   "cell_type": "code",
   "execution_count": 25,
   "id": "4da652b4",
   "metadata": {},
   "outputs": [],
   "source": [
    "messages = response['messages']"
   ]
  },
  {
   "cell_type": "code",
   "execution_count": 26,
   "id": "8c88d36e",
   "metadata": {},
   "outputs": [],
   "source": [
    "last_message = messages[-1]"
   ]
  },
  {
   "cell_type": "code",
   "execution_count": null,
   "id": "c549bd34",
   "metadata": {},
   "outputs": [
    {
     "data": {
      "text/plain": [
       "[{'name': 'search',\n",
       "  'args': {'query': 'India weather forecast'},\n",
       "  'id': 'ras40czvd',\n",
       "  'type': 'tool_call'}]"
      ]
     },
     "execution_count": 27,
     "metadata": {},
     "output_type": "execute_result"
    }
   ],
   "source": [
    "last_message.tool_calls"
   ]
  },
  {
   "cell_type": "code",
   "execution_count": 30,
   "id": "0cd69636",
   "metadata": {},
   "outputs": [],
   "source": [
    "response = call_model2({\"messages\": [\"What is the weather in sf?\"]})"
   ]
  },
  {
   "cell_type": "code",
   "execution_count": 31,
   "id": "0766f800",
   "metadata": {},
   "outputs": [
    {
     "data": {
      "text/plain": [
       "{'messages': [AIMessage(content='', additional_kwargs={'tool_calls': [{'id': 'fw6mhmx65', 'function': {'arguments': '{\"query\":\"San Francisco weather\"}', 'name': 'search'}, 'type': 'function'}]}, response_metadata={'token_usage': {'completion_tokens': 15, 'prompt_tokens': 209, 'total_tokens': 224, 'completion_time': 0.040380251, 'prompt_time': 0.024356285, 'queue_time': 0.214662361, 'total_time': 0.064736536}, 'model_name': 'llama-3.3-70b-versatile', 'system_fingerprint': 'fp_2ddfbb0da0', 'service_tier': 'on_demand', 'finish_reason': 'tool_calls', 'logprobs': None}, id='run--d9698c43-74d3-460a-8e7e-d6b8c34d1028-0', tool_calls=[{'name': 'search', 'args': {'query': 'San Francisco weather'}, 'id': 'fw6mhmx65', 'type': 'tool_call'}], usage_metadata={'input_tokens': 209, 'output_tokens': 15, 'total_tokens': 224})]}"
      ]
     },
     "execution_count": 31,
     "metadata": {},
     "output_type": "execute_result"
    }
   ],
   "source": [
    "response"
   ]
  },
  {
   "cell_type": "code",
   "execution_count": 32,
   "id": "67b6addb",
   "metadata": {},
   "outputs": [],
   "source": [
    "last_message = messages[-1]"
   ]
  },
  {
   "cell_type": "code",
   "execution_count": 33,
   "id": "f766a751",
   "metadata": {},
   "outputs": [
    {
     "data": {
      "text/plain": [
       "[{'name': 'search',\n",
       "  'args': {'query': 'India weather forecast'},\n",
       "  'id': 'ras40czvd',\n",
       "  'type': 'tool_call'}]"
      ]
     },
     "execution_count": 33,
     "metadata": {},
     "output_type": "execute_result"
    }
   ],
   "source": [
    "last_message.tool_calls"
   ]
  },
  {
   "cell_type": "code",
   "execution_count": null,
   "id": "96ab7ac1",
   "metadata": {},
   "outputs": [],
   "source": []
  }
 ],
 "metadata": {
  "kernelspec": {
   "display_name": "Python 3",
   "language": "python",
   "name": "python3"
  },
  "language_info": {
   "codemirror_mode": {
    "name": "ipython",
    "version": 3
   },
   "file_extension": ".py",
   "mimetype": "text/x-python",
   "name": "python",
   "nbconvert_exporter": "python",
   "pygments_lexer": "ipython3",
   "version": "3.10.18"
  }
 },
 "nbformat": 4,
 "nbformat_minor": 5
}
