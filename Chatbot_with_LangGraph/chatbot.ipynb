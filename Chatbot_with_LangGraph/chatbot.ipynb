{
 "cells": [
  {
   "cell_type": "code",
   "execution_count": 1,
   "id": "98cff57f",
   "metadata": {},
   "outputs": [
    {
     "data": {
      "text/plain": [
       "True"
      ]
     },
     "execution_count": 1,
     "metadata": {},
     "output_type": "execute_result"
    }
   ],
   "source": [
    "import os\n",
    "from dotenv import load_dotenv\n",
    "load_dotenv()"
   ]
  },
  {
   "cell_type": "code",
   "execution_count": 2,
   "id": "27647ed8",
   "metadata": {},
   "outputs": [],
   "source": [
    "GOOGLE_API_KEY = os.getenv(\"GOOGLE_API_KEY\")\n",
    "TAVILY_API_KEY = os.getenv(\"TAVILY_API_KEY\")\n",
    "GROQ_API_KEY = os.getenv(\"GROQ_API_KEY\")\n",
    "LANGCHAIN_API_KEY = os.getenv(\"LANGCHAIN_API_KEY\")\n",
    "LANGSMITH_PROJECT = os.getenv(\"LANGSMITH_PROJECT\")\n",
    "HUGGINGFACE_API_KEY = os.getenv(\"HUGGINGFACE_API_KEY\")\n",
    "SERPER_API_KEY = os.getenv(\"SERPER_API_KEY\")\n",
    "\n",
    "os.environ[\"GOOGLE_API_KEY\"] = GOOGLE_API_KEY\n",
    "os.environ[\"TAVILY_API_KEY\"] = TAVILY_API_KEY\n",
    "os.environ[\"GROQ_API_KEY\"] = GROQ_API_KEY\n",
    "os.environ[\"LANGCHAIN_API_KEY\"] = LANGCHAIN_API_KEY\n",
    "os.environ[\"LANGSMITH_PROJECT\"] = LANGSMITH_PROJECT\n",
    "os.environ[\"HUGGINGFACE_API_KEY\"] = HUGGINGFACE_API_KEY\n",
    "os.environ[\"SERPER_API_KEY\"] = SERPER_API_KEY"
   ]
  },
  {
   "cell_type": "code",
   "execution_count": 3,
   "id": "cdb891d9",
   "metadata": {},
   "outputs": [],
   "source": [
    "from langchain_groq import ChatGroq\n",
    "\n",
    "llm = ChatGroq(model_name = \"llama-3.3-70b-versatile\")"
   ]
  },
  {
   "cell_type": "code",
   "execution_count": 4,
   "id": "553552d0",
   "metadata": {},
   "outputs": [
    {
     "data": {
      "text/plain": [
       "AIMessage(content=\"That's great to hear. Being a good boy is something to be proud of. What makes you think you're a good boy, and what kind of good things have you been doing?\", additional_kwargs={}, response_metadata={'token_usage': {'completion_tokens': 39, 'prompt_tokens': 40, 'total_tokens': 79, 'completion_time': 0.095965715, 'prompt_time': 0.010952688, 'queue_time': 0.214215258, 'total_time': 0.106918403}, 'model_name': 'llama-3.3-70b-versatile', 'system_fingerprint': 'fp_3f3b593e33', 'service_tier': 'on_demand', 'finish_reason': 'stop', 'logprobs': None}, id='run--2c51f46b-80c8-481a-a4c3-64a5d6d0ef13-0', usage_metadata={'input_tokens': 40, 'output_tokens': 39, 'total_tokens': 79})"
      ]
     },
     "execution_count": 4,
     "metadata": {},
     "output_type": "execute_result"
    }
   ],
   "source": [
    "llm.invoke(\"I am a good boy\")"
   ]
  },
  {
   "cell_type": "code",
   "execution_count": 5,
   "id": "41ccb1df",
   "metadata": {},
   "outputs": [],
   "source": [
    "from langgraph.graph import StateGraph, MessagesState, START, END\n",
    "from langgraph.graph.message import add_messages\n",
    "from typing import Annotated, Literal, TypedDict\n",
    "from langchain_core.tools import tool\n",
    "from langchain_core.messages import HumanMessage\n",
    "from langgraph.checkpoint.memory import MemorySaver\n",
    "from langgraph.prebuilt import ToolNode"
   ]
  },
  {
   "cell_type": "code",
   "execution_count": 6,
   "id": "c6695b6d",
   "metadata": {},
   "outputs": [],
   "source": [
    "def call_model(state: MessagesState):\n",
    "    messages = state['messages']\n",
    "    response = llm.invoke(messages)\n",
    "    return {\"messages\": [response]}"
   ]
  },
  {
   "cell_type": "code",
   "execution_count": 7,
   "id": "4e5bc8b8",
   "metadata": {},
   "outputs": [],
   "source": [
    "workflow = StateGraph(MessagesState)\n",
    "workflow.add_node(\"chatbot\", call_model)\n",
    "workflow.add_edge(START, \"chatbot\")\n",
    "workflow.add_edge(\"chatbot\", END)\n",
    "app = workflow.compile()"
   ]
  },
  {
   "cell_type": "code",
   "execution_count": 8,
   "id": "33851b30",
   "metadata": {},
   "outputs": [
    {
     "data": {
      "image/png": "[encoded data removed]",
      "text/plain": [
       "<IPython.core.display.Image object>"
      ]
     },
     "metadata": {},
     "output_type": "display_data"
    }
   ],
   "source": [
    "from IPython.display import Image, display\n",
    "display(Image(app.get_graph().draw_mermaid_png()))"
   ]
  },
  {
   "cell_type": "code",
   "execution_count": 9,
   "id": "c19da373",
   "metadata": {},
   "outputs": [],
   "source": [
    "input = {\"messages\": [\"Hi, I am Atharva\"]}"
   ]
  },
  {
   "cell_type": "code",
   "execution_count": 10,
   "id": "aea1dbb3",
   "metadata": {},
   "outputs": [
    {
     "data": {
      "text/plain": [
       "{'messages': [HumanMessage(content='Hi, I am Atharva', additional_kwargs={}, response_metadata={}, id='d76f655a-4378-4081-9aff-0603e72f09ea'),\n",
       "  AIMessage(content=\"Hello Atharva, it's nice to meet you. Is there something I can help you with or would you like to chat?\", additional_kwargs={}, response_metadata={'token_usage': {'completion_tokens': 28, 'prompt_tokens': 42, 'total_tokens': 70, 'completion_time': 0.05457933, 'prompt_time': 0.015576749, 'queue_time': 0.210086997, 'total_time': 0.070156079}, 'model_name': 'llama-3.3-70b-versatile', 'system_fingerprint': 'fp_3f3b593e33', 'service_tier': 'on_demand', 'finish_reason': 'stop', 'logprobs': None}, id='run--d421461c-e3fe-4ef8-bffe-1f346843d8c1-0', usage_metadata={'input_tokens': 42, 'output_tokens': 28, 'total_tokens': 70})]}"
      ]
     },
     "execution_count": 10,
     "metadata": {},
     "output_type": "execute_result"
    }
   ],
   "source": [
    "app.invoke(input)"
   ]
  },
  {
   "cell_type": "code",
   "execution_count": 11,
   "id": "7c8523bd",
   "metadata": {},
   "outputs": [
    {
     "name": "stdout",
     "output_type": "stream",
     "text": [
      "Output from chatbot node\n",
      "________________________\n",
      "{'messages': [AIMessage(content=\"Hello Atharva! It's nice to meet you. Is there something I can help you with or would you like to chat?\", additional_kwargs={}, response_metadata={'token_usage': {'completion_tokens': 28, 'prompt_tokens': 42, 'total_tokens': 70, 'completion_time': 0.042452106, 'prompt_time': 0.011166749, 'queue_time': 0.213593008, 'total_time': 0.053618855}, 'model_name': 'llama-3.3-70b-versatile', 'system_fingerprint': 'fp_2ddfbb0da0', 'service_tier': 'on_demand', 'finish_reason': 'stop', 'logprobs': None}, id='run--1ffc1e74-36b8-4888-865b-460ebf5b0de0-0', usage_metadata={'input_tokens': 42, 'output_tokens': 28, 'total_tokens': 70})]}\n",
      "\n",
      "\n"
     ]
    }
   ],
   "source": [
    "for output in app.stream(input):\n",
    "    for key, value in output.items():\n",
    "        print(f\"Output from {key} node\")\n",
    "        print(\"________________________\")\n",
    "        print(value)\n",
    "        print(\"\\n\")"
   ]
  },
  {
   "cell_type": "markdown",
   "id": "c289b0b3",
   "metadata": {},
   "source": [
    "### Adding simple dummy custom tool"
   ]
  },
  {
   "cell_type": "code",
   "execution_count": 12,
   "id": "40c2e691",
   "metadata": {},
   "outputs": [],
   "source": [
    "@tool\n",
    "def search(query: str):\n",
    "    \"\"\" Custom Tool\"\"\"\n",
    "    if \"sf\" in query.lower() or \"san francisco\" in query.lower():\n",
    "        return \"It is 60 degree and foogy outside.\"\n",
    "    return \"It is 90 degrees and hot outside\""
   ]
  },
  {
   "cell_type": "code",
   "execution_count": 13,
   "id": "de5e2744",
   "metadata": {},
   "outputs": [
    {
     "data": {
      "text/plain": [
       "'It is 60 degree and foogy outside.'"
      ]
     },
     "execution_count": 13,
     "metadata": {},
     "output_type": "execute_result"
    }
   ],
   "source": [
    "search.invoke(\"What is the temperature in sf?\")"
   ]
  },
  {
   "cell_type": "code",
   "execution_count": 14,
   "id": "2ab43fc7",
   "metadata": {},
   "outputs": [
    {
     "data": {
      "text/plain": [
       "'It is 90 degrees and hot outside'"
      ]
     },
     "execution_count": 14,
     "metadata": {},
     "output_type": "execute_result"
    }
   ],
   "source": [
    "search.invoke(\"What is the weather in India\")"
   ]
  },
  {
   "cell_type": "code",
   "execution_count": 15,
   "id": "1f473366",
   "metadata": {},
   "outputs": [],
   "source": [
    "tools = [search]"
   ]
  },
  {
   "cell_type": "code",
   "execution_count": 16,
   "id": "d3dbd544",
   "metadata": {},
   "outputs": [],
   "source": [
    "tool_node = ToolNode(tools)"
   ]
  },
  {
   "cell_type": "code",
   "execution_count": 17,
   "id": "ea48bc22",
   "metadata": {},
   "outputs": [],
   "source": [
    "llm_with_tool = llm.bind_tools(tools)"
   ]
  },
  {
   "cell_type": "code",
   "execution_count": 18,
   "id": "ee9afbd6",
   "metadata": {},
   "outputs": [],
   "source": [
    "def call_model2(state: MessagesState):\n",
    "    messages1 = state['messages']\n",
    "    response1 = llm_with_tool.invoke(messages1)\n",
    "    return {\"messages\": [response1]}"
   ]
  },
  {
   "cell_type": "markdown",
   "id": "ffd91274",
   "metadata": {},
   "source": [
    "Now this call_model function has an updated LLM, i.e. it also has the tool functionality. So it will decide whether it needs to call the tool or it needs to call the LLM in order to answer the input question."
   ]
  },
  {
   "cell_type": "code",
   "execution_count": 19,
   "id": "7f9eb08e",
   "metadata": {},
   "outputs": [],
   "source": [
    "response1 = call_model2({\"messages\": [\"Hello, I am Atharva\"]})"
   ]
  },
  {
   "cell_type": "code",
   "execution_count": 20,
   "id": "3c432250",
   "metadata": {},
   "outputs": [],
   "source": [
    "messages1 = response1['messages']"
   ]
  },
  {
   "cell_type": "code",
   "execution_count": 21,
   "id": "861e17d4",
   "metadata": {},
   "outputs": [],
   "source": [
    "last_message = messages1[-1]"
   ]
  },
  {
   "cell_type": "code",
   "execution_count": 22,
   "id": "43abcf28",
   "metadata": {},
   "outputs": [
    {
     "data": {
      "text/plain": [
       "[]"
      ]
     },
     "execution_count": 22,
     "metadata": {},
     "output_type": "execute_result"
    }
   ],
   "source": [
    "last_message.tool_calls"
   ]
  },
  {
   "cell_type": "code",
   "execution_count": 24,
   "id": "dd52f3cc",
   "metadata": {},
   "outputs": [],
   "source": [
    "response = call_model2({\"messages\": [\"What is the weather in India\"]})"
   ]
  },
  {
   "cell_type": "code",
   "execution_count": 25,
   "id": "a9d406f6",
   "metadata": {},
   "outputs": [
    {
     "data": {
      "text/plain": [
       "{'messages': [AIMessage(content='', additional_kwargs={'tool_calls': [{'id': 'h84pv1tpf', 'function': {'arguments': '{\"query\":\"India weather forecast\"}', 'name': 'search'}, 'type': 'function'}]}, response_metadata={'token_usage': {'completion_tokens': 15, 'prompt_tokens': 208, 'total_tokens': 223, 'completion_time': 0.047530149, 'prompt_time': 0.024190404, 'queue_time': 0.213737901, 'total_time': 0.071720553}, 'model_name': 'llama-3.3-70b-versatile', 'system_fingerprint': 'fp_2ddfbb0da0', 'service_tier': 'on_demand', 'finish_reason': 'tool_calls', 'logprobs': None}, id='run--85b35f6f-ea0e-4193-9694-6df7c9012ab6-0', tool_calls=[{'name': 'search', 'args': {'query': 'India weather forecast'}, 'id': 'h84pv1tpf', 'type': 'tool_call'}], usage_metadata={'input_tokens': 208, 'output_tokens': 15, 'total_tokens': 223})]}"
      ]
     },
     "execution_count": 25,
     "metadata": {},
     "output_type": "execute_result"
    }
   ],
   "source": [
    "response"
   ]
  },
  {
   "cell_type": "code",
   "execution_count": 26,
   "id": "4da652b4",
   "metadata": {},
   "outputs": [],
   "source": [
    "messages = response['messages']"
   ]
  },
  {
   "cell_type": "code",
   "execution_count": 27,
   "id": "8c88d36e",
   "metadata": {},
   "outputs": [],
   "source": [
    "last_message = messages[-1]"
   ]
  },
  {
   "cell_type": "code",
   "execution_count": 28,
   "id": "c549bd34",
   "metadata": {},
   "outputs": [
    {
     "data": {
      "text/plain": [
       "[{'name': 'search',\n",
       "  'args': {'query': 'India weather forecast'},\n",
       "  'id': 'h84pv1tpf',\n",
       "  'type': 'tool_call'}]"
      ]
     },
     "execution_count": 28,
     "metadata": {},
     "output_type": "execute_result"
    }
   ],
   "source": [
    "last_message.tool_calls"
   ]
  },
  {
   "cell_type": "code",
   "execution_count": 29,
   "id": "0cd69636",
   "metadata": {},
   "outputs": [],
   "source": [
    "response = call_model2({\"messages\": [\"What is the weather in sf?\"]})"
   ]
  },
  {
   "cell_type": "code",
   "execution_count": 30,
   "id": "0766f800",
   "metadata": {},
   "outputs": [
    {
     "data": {
      "text/plain": [
       "{'messages': [AIMessage(content='', additional_kwargs={'tool_calls': [{'id': '1kkje7ner', 'function': {'arguments': '{\"query\":\"San Francisco weather\"}', 'name': 'search'}, 'type': 'function'}]}, response_metadata={'token_usage': {'completion_tokens': 15, 'prompt_tokens': 209, 'total_tokens': 224, 'completion_time': 0.03860274, 'prompt_time': 0.023265127, 'queue_time': 0.210258218, 'total_time': 0.061867867}, 'model_name': 'llama-3.3-70b-versatile', 'system_fingerprint': 'fp_2ddfbb0da0', 'service_tier': 'on_demand', 'finish_reason': 'tool_calls', 'logprobs': None}, id='run--fda06cf3-a905-476a-bab9-c6e1116d40b5-0', tool_calls=[{'name': 'search', 'args': {'query': 'San Francisco weather'}, 'id': '1kkje7ner', 'type': 'tool_call'}], usage_metadata={'input_tokens': 209, 'output_tokens': 15, 'total_tokens': 224})]}"
      ]
     },
     "execution_count": 30,
     "metadata": {},
     "output_type": "execute_result"
    }
   ],
   "source": [
    "response"
   ]
  },
  {
   "cell_type": "code",
   "execution_count": 31,
   "id": "67b6addb",
   "metadata": {},
   "outputs": [],
   "source": [
    "last_message = messages[-1]"
   ]
  },
  {
   "cell_type": "code",
   "execution_count": 32,
   "id": "f766a751",
   "metadata": {},
   "outputs": [
    {
     "data": {
      "text/plain": [
       "[{'name': 'search',\n",
       "  'args': {'query': 'India weather forecast'},\n",
       "  'id': 'h84pv1tpf',\n",
       "  'type': 'tool_call'}]"
      ]
     },
     "execution_count": 32,
     "metadata": {},
     "output_type": "execute_result"
    }
   ],
   "source": [
    "last_message.tool_calls"
   ]
  },
  {
   "cell_type": "code",
   "execution_count": 33,
   "id": "96ab7ac1",
   "metadata": {},
   "outputs": [],
   "source": [
    "def router_function(state: MessagesState) -> Literal[\"tools\", END]:\n",
    "    messages = state[\"messages\"]\n",
    "    last_message = messages[-1]\n",
    "\n",
    "    if last_message.tool_calls:\n",
    "        return \"tools\"\n",
    "    return END"
   ]
  },
  {
   "cell_type": "code",
   "execution_count": 34,
   "id": "b4c58669",
   "metadata": {},
   "outputs": [],
   "source": [
    "workflow2 = StateGraph(MessagesState)\n",
    "\n",
    "workflow2.add_node(\"agent\", call_model2)\n",
    "workflow2.add_node(\"tools\", tool_node)\n",
    "\n",
    "workflow2.add_edge(START, \"agent\")\n",
    "\n",
    "workflow2.add_conditional_edges(\n",
    "    \"agent\",\n",
    "    router_function, \n",
    "    {\n",
    "        \"tools\": \"tools\",\n",
    "        END: END\n",
    "    }\n",
    ")\n",
    "\n",
    "app2 = workflow2.compile()"
   ]
  },
  {
   "cell_type": "code",
   "execution_count": 35,
   "id": "8f3b066d",
   "metadata": {},
   "outputs": [
    {
     "data": {
      "image/png": "[encoded data removed]",
      "text/plain": [
       "<IPython.core.display.Image object>"
      ]
     },
     "metadata": {},
     "output_type": "display_data"
    }
   ],
   "source": [
    "from IPython.display import Image, display\n",
    "display(Image(app2.get_graph().draw_mermaid_png()))"
   ]
  },
  {
   "cell_type": "code",
   "execution_count": 36,
   "id": "a299094d",
   "metadata": {},
   "outputs": [
    {
     "data": {
      "text/plain": [
       "{'messages': [HumanMessage(content='Hello, how are you?', additional_kwargs={}, response_metadata={}, id='5328cc5d-3e59-4cfe-bb8f-3ff403726c09'),\n",
       "  AIMessage(content=\"I'm doing well, thanks for asking. Is there something I can help you with or would you like to chat?\", additional_kwargs={}, response_metadata={'token_usage': {'completion_tokens': 25, 'prompt_tokens': 208, 'total_tokens': 233, 'completion_time': 0.050938961, 'prompt_time': 0.028592506, 'queue_time': 0.213548139, 'total_time': 0.079531467}, 'model_name': 'llama-3.3-70b-versatile', 'system_fingerprint': 'fp_3f3b593e33', 'service_tier': 'on_demand', 'finish_reason': 'stop', 'logprobs': None}, id='run--c8b51a0b-6af9-4ae0-80d6-7e7d6379aeee-0', usage_metadata={'input_tokens': 208, 'output_tokens': 25, 'total_tokens': 233})]}"
      ]
     },
     "execution_count": 36,
     "metadata": {},
     "output_type": "execute_result"
    }
   ],
   "source": [
    "app2.invoke({\"messages\": [\"Hello, how are you?\"]})"
   ]
  },
  {
   "cell_type": "code",
   "execution_count": 38,
   "id": "45ac7e8f",
   "metadata": {},
   "outputs": [
    {
     "data": {
      "text/plain": [
       "{'messages': [HumanMessage(content='Hello, can you tell me about the weather in SF?', additional_kwargs={}, response_metadata={}, id='5128a742-a02e-4d00-b489-a2348434f7d9'),\n",
       "  AIMessage(content='', additional_kwargs={'tool_calls': [{'id': 'xcfx6ak3k', 'function': {'arguments': '{\"query\":\"San Francisco weather\"}', 'name': 'search'}, 'type': 'function'}]}, response_metadata={'token_usage': {'completion_tokens': 15, 'prompt_tokens': 214, 'total_tokens': 229, 'completion_time': 0.041353899, 'prompt_time': 0.02506411, 'queue_time': 0.211438145, 'total_time': 0.066418009}, 'model_name': 'llama-3.3-70b-versatile', 'system_fingerprint': 'fp_3f3b593e33', 'service_tier': 'on_demand', 'finish_reason': 'tool_calls', 'logprobs': None}, id='run--20210493-d2eb-4dcc-b578-d164d4301b43-0', tool_calls=[{'name': 'search', 'args': {'query': 'San Francisco weather'}, 'id': 'xcfx6ak3k', 'type': 'tool_call'}], usage_metadata={'input_tokens': 214, 'output_tokens': 15, 'total_tokens': 229}),\n",
       "  ToolMessage(content='It is 60 degree and foogy outside.', name='search', id='eb03c092-7e94-4239-b26f-b90ce7e81d34', tool_call_id='xcfx6ak3k')]}"
      ]
     },
     "execution_count": 38,
     "metadata": {},
     "output_type": "execute_result"
    }
   ],
   "source": [
    "app2.invoke({\"messages\": [\"Hello, can you tell me about the weather in SF?\"]})"
   ]
  },
  {
   "cell_type": "code",
   "execution_count": 39,
   "id": "289dbbb4",
   "metadata": {},
   "outputs": [
    {
     "name": "stderr",
     "output_type": "stream",
     "text": [
      "Adding an edge to a graph that has already been compiled. This will not be reflected in the compiled graph.\n"
     ]
    },
    {
     "data": {
      "text/plain": [
       "<langgraph.graph.state.StateGraph at 0x11b281d20>"
      ]
     },
     "execution_count": 39,
     "metadata": {},
     "output_type": "execute_result"
    }
   ],
   "source": [
    "workflow2.add_edge(\"tools\", \"agent\")"
   ]
  },
  {
   "cell_type": "code",
   "execution_count": 40,
   "id": "f7dd033c",
   "metadata": {},
   "outputs": [],
   "source": [
    "app2 = workflow2.compile()"
   ]
  },
  {
   "cell_type": "code",
   "execution_count": 41,
   "id": "b88ead6b",
   "metadata": {},
   "outputs": [
    {
     "data": {
      "text/plain": [
       "{'messages': [HumanMessage(content='Hello, can you tell me about the weather in SF?', additional_kwargs={}, response_metadata={}, id='ce64e7c5-5e1e-467c-9af2-bf9a33dc0d6f'),\n",
       "  AIMessage(content='<function=search{\"query\": \"San Francisco weather\"}</function>', additional_kwargs={}, response_metadata={'token_usage': {'completion_tokens': 15, 'prompt_tokens': 214, 'total_tokens': 229, 'completion_time': 0.039135362, 'prompt_time': 0.026145374, 'queue_time': 0.212293271, 'total_time': 0.065280736}, 'model_name': 'llama-3.3-70b-versatile', 'system_fingerprint': 'fp_3f3b593e33', 'service_tier': 'on_demand', 'finish_reason': 'stop', 'logprobs': None}, id='run--f14a3d6b-fc4d-4780-a5f6-e22ca24e0fb4-0', usage_metadata={'input_tokens': 214, 'output_tokens': 15, 'total_tokens': 229})]}"
      ]
     },
     "execution_count": 41,
     "metadata": {},
     "output_type": "execute_result"
    }
   ],
   "source": [
    "app2.invoke({\"messages\": [\"Hello, can you tell me about the weather in SF?\"]})"
   ]
  },
  {
   "cell_type": "code",
   "execution_count": 46,
   "id": "59a0ba25",
   "metadata": {},
   "outputs": [],
   "source": [
    "input2 = {\"messages\": \"can you tell me about the weather in SF?\"}"
   ]
  },
  {
   "cell_type": "code",
   "execution_count": 47,
   "id": "89dcb26c",
   "metadata": {},
   "outputs": [
    {
     "name": "stdout",
     "output_type": "stream",
     "text": [
      "Output from agent node\n",
      "________________________\n",
      "{'messages': [AIMessage(content='', additional_kwargs={'tool_calls': [{'id': 'p72z6tv9v', 'function': {'arguments': '{\"query\":\"San Francisco weather\"}', 'name': 'search'}, 'type': 'function'}]}, response_metadata={'token_usage': {'completion_tokens': 15, 'prompt_tokens': 212, 'total_tokens': 227, 'completion_time': 0.040174178, 'prompt_time': 0.02335928, 'queue_time': 0.210259456, 'total_time': 0.063533458}, 'model_name': 'llama-3.3-70b-versatile', 'system_fingerprint': 'fp_3f3b593e33', 'service_tier': 'on_demand', 'finish_reason': 'tool_calls', 'logprobs': None}, id='run--5bfb4073-db34-4319-9154-81ebdc30bfe5-0', tool_calls=[{'name': 'search', 'args': {'query': 'San Francisco weather'}, 'id': 'p72z6tv9v', 'type': 'tool_call'}], usage_metadata={'input_tokens': 212, 'output_tokens': 15, 'total_tokens': 227})]}\n",
      "\n",
      "\n",
      "Output from tools node\n",
      "________________________\n",
      "{'messages': [ToolMessage(content='It is 60 degree and foogy outside.', name='search', id='8c0db973-e707-43e1-a2bf-5cd1440a21f0', tool_call_id='p72z6tv9v')]}\n",
      "\n",
      "\n",
      "Output from agent node\n",
      "________________________\n",
      "{'messages': [AIMessage(content='I hope that helps you plan your day in San Francisco. If you need any more information, feel free to ask.', additional_kwargs={}, response_metadata={'token_usage': {'completion_tokens': 25, 'prompt_tokens': 247, 'total_tokens': 272, 'completion_time': 0.080030933, 'prompt_time': 0.02920102, 'queue_time': 0.212059445, 'total_time': 0.109231953}, 'model_name': 'llama-3.3-70b-versatile', 'system_fingerprint': 'fp_3f3b593e33', 'service_tier': 'on_demand', 'finish_reason': 'stop', 'logprobs': None}, id='run--23b86125-4514-44d3-8ac1-60a7712cb826-0', usage_metadata={'input_tokens': 247, 'output_tokens': 25, 'total_tokens': 272})]}\n",
      "\n",
      "\n"
     ]
    }
   ],
   "source": [
    "for output in app2.stream(input2):\n",
    "    for key, value in output.items():\n",
    "        print(f\"Output from {key} node\")\n",
    "        print(\"________________________\")\n",
    "        print(value)\n",
    "        print(\"\\n\")"
   ]
  },
  {
   "cell_type": "code",
   "execution_count": 48,
   "id": "bb625c82",
   "metadata": {},
   "outputs": [],
   "source": [
    "from langgraph.checkpoint.memory import MemorySaver\n",
    "\n",
    "memory = MemorySaver()"
   ]
  },
  {
   "cell_type": "code",
   "execution_count": 53,
   "id": "6d8058b3",
   "metadata": {},
   "outputs": [
    {
     "data": {
      "text/plain": [
       "<langgraph.graph.state.StateGraph at 0x11bdde0e0>"
      ]
     },
     "execution_count": 53,
     "metadata": {},
     "output_type": "execute_result"
    }
   ],
   "source": [
    "workflow3 = StateGraph(MessagesState)\n",
    "\n",
    "workflow3.add_node(\"agent\", call_model2)\n",
    "workflow3.add_node(\"tools\", tool_node)\n",
    "\n",
    "workflow3.add_edge(START, \"agent\")\n",
    "\n",
    "workflow3.add_conditional_edges(\n",
    "    \"agent\",\n",
    "    router_function, \n",
    "    {\n",
    "        \"tools\": \"tools\",\n",
    "        END: END\n",
    "    }\n",
    ")\n",
    "\n",
    "workflow3.add_edge(\"tools\", \"agent\")"
   ]
  },
  {
   "cell_type": "code",
   "execution_count": 54,
   "id": "953c34b1",
   "metadata": {},
   "outputs": [],
   "source": [
    "app3 = workflow3.compile(checkpointer=memory)"
   ]
  },
  {
   "cell_type": "code",
   "execution_count": 55,
   "id": "f5e0bdf8",
   "metadata": {},
   "outputs": [
    {
     "data": {
      "image/png": "[encoded data removed]",
      "text/plain": [
       "<IPython.core.display.Image object>"
      ]
     },
     "metadata": {},
     "output_type": "display_data"
    }
   ],
   "source": [
    "from IPython.display import Image, display\n",
    "display(Image(app3.get_graph().draw_mermaid_png()))"
   ]
  },
  {
   "cell_type": "code",
   "execution_count": 56,
   "id": "83c320a5",
   "metadata": {},
   "outputs": [],
   "source": [
    "config = {\"configurable\": {\"thread_id\": \"1\"}}"
   ]
  },
  {
   "cell_type": "code",
   "execution_count": 57,
   "id": "f24e150b",
   "metadata": {},
   "outputs": [],
   "source": [
    "events = app3.stream({\"messages\": [\"Hi there! I am Atharva\"]}, config, stream_mode=\"values\")"
   ]
  },
  {
   "cell_type": "code",
   "execution_count": 58,
   "id": "696b6542",
   "metadata": {},
   "outputs": [
    {
     "name": "stdout",
     "output_type": "stream",
     "text": [
      "================================\u001b[1m Human Message \u001b[0m=================================\n",
      "\n",
      "Hi there! I am Atharva\n",
      "==================================\u001b[1m Ai Message \u001b[0m==================================\n",
      "\n",
      "Hello Atharva! It's nice to meet you. Is there something I can help you with or would you like to chat?\n"
     ]
    }
   ],
   "source": [
    "for event in events:\n",
    "    event[\"messages\"][-1].pretty_print()"
   ]
  },
  {
   "cell_type": "code",
   "execution_count": 59,
   "id": "78318442",
   "metadata": {},
   "outputs": [],
   "source": [
    "events = app3.stream({\"messages\": [\"I forgot my name, do you recall?\"]}, config, stream_mode=\"values\")"
   ]
  },
  {
   "cell_type": "code",
   "execution_count": 60,
   "id": "421b3577",
   "metadata": {},
   "outputs": [
    {
     "name": "stdout",
     "output_type": "stream",
     "text": [
      "================================\u001b[1m Human Message \u001b[0m=================================\n",
      "\n",
      "I forgot my name, do you recall?\n",
      "==================================\u001b[1m Ai Message \u001b[0m==================================\n",
      "\n",
      "You told me earlier that your name is Atharva.\n"
     ]
    }
   ],
   "source": [
    "for event in events:\n",
    "    event[\"messages\"][-1].pretty_print()"
   ]
  },
  {
   "cell_type": "code",
   "execution_count": 61,
   "id": "93f11b5b",
   "metadata": {},
   "outputs": [
    {
     "data": {
      "text/plain": [
       "{'v': 4,\n",
       " 'ts': '2025-09-10T03:55:50.323945+00:00',\n",
       " 'id': '1f08dfa0-a561-6574-8004-c1326822120e',\n",
       " 'channel_versions': {'__start__': '00000000000000000000000000000005.0.13661940286208507',\n",
       "  'messages': '00000000000000000000000000000006.0.9101396647963066',\n",
       "  'branch:to:agent': '00000000000000000000000000000006.0.9101396647963066'},\n",
       " 'versions_seen': {'__input__': {},\n",
       "  '__start__': {'__start__': '00000000000000000000000000000004.0.38514738948609617'},\n",
       "  'agent': {'branch:to:agent': '00000000000000000000000000000005.0.13661940286208507'}},\n",
       " 'updated_channels': ['messages'],\n",
       " 'channel_values': {'messages': [HumanMessage(content='Hi there! I am Atharva', additional_kwargs={}, response_metadata={}, id='4ea9c969-6359-4bc4-aff7-ae51865c2418'),\n",
       "   AIMessage(content=\"Hello Atharva! It's nice to meet you. Is there something I can help you with or would you like to chat?\", additional_kwargs={}, response_metadata={'token_usage': {'completion_tokens': 28, 'prompt_tokens': 210, 'total_tokens': 238, 'completion_time': 0.052767702, 'prompt_time': 0.028737181, 'queue_time': 0.211786824, 'total_time': 0.081504883}, 'model_name': 'llama-3.3-70b-versatile', 'system_fingerprint': 'fp_2ddfbb0da0', 'service_tier': 'on_demand', 'finish_reason': 'stop', 'logprobs': None}, id='run--fdae2bb2-263f-4187-953f-c3184a659f84-0', usage_metadata={'input_tokens': 210, 'output_tokens': 28, 'total_tokens': 238}),\n",
       "   HumanMessage(content='I forgot my name, do you recall?', additional_kwargs={}, response_metadata={}, id='70884b5e-ef7f-4136-bb14-0d68870480ce'),\n",
       "   AIMessage(content='You told me earlier that your name is Atharva.', additional_kwargs={}, response_metadata={'token_usage': {'completion_tokens': 13, 'prompt_tokens': 256, 'total_tokens': 269, 'completion_time': 0.025870719, 'prompt_time': 0.033676165, 'queue_time': 0.21044652, 'total_time': 0.059546884}, 'model_name': 'llama-3.3-70b-versatile', 'system_fingerprint': 'fp_2ddfbb0da0', 'service_tier': 'on_demand', 'finish_reason': 'stop', 'logprobs': None}, id='run--8162ca51-67f6-46ed-a7c7-b82e2d857bfa-0', usage_metadata={'input_tokens': 256, 'output_tokens': 13, 'total_tokens': 269})]}}"
      ]
     },
     "execution_count": 61,
     "metadata": {},
     "output_type": "execute_result"
    }
   ],
   "source": [
    "memory.get(config)"
   ]
  },
  {
   "cell_type": "code",
   "execution_count": null,
   "id": "bd769daf",
   "metadata": {},
   "outputs": [],
   "source": []
  }
 ],
 "metadata": {
  "kernelspec": {
   "display_name": "Python 3",
   "language": "python",
   "name": "python3"
  },
  "language_info": {
   "codemirror_mode": {
    "name": "ipython",
    "version": 3
   },
   "file_extension": ".py",
   "mimetype": "text/x-python",
   "name": "python",
   "nbconvert_exporter": "python",
   "pygments_lexer": "ipython3",
   "version": "3.10.18"
  }
 },
 "nbformat": 4,
 "nbformat_minor": 5
}
