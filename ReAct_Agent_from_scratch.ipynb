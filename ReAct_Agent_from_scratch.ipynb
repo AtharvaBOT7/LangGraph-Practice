{
 "cells": [
  {
   "cell_type": "code",
   "execution_count": 1,
   "id": "ce24bbb5",
   "metadata": {},
   "outputs": [],
   "source": [
    "import os"
   ]
  },
  {
   "cell_type": "code",
   "execution_count": 2,
   "id": "a25f642d",
   "metadata": {},
   "outputs": [
    {
     "data": {
      "text/plain": [
       "True"
      ]
     },
     "execution_count": 2,
     "metadata": {},
     "output_type": "execute_result"
    }
   ],
   "source": [
    "from dotenv import load_dotenv\n",
    "load_dotenv()"
   ]
  },
  {
   "cell_type": "code",
   "execution_count": 3,
   "id": "99c7e907",
   "metadata": {},
   "outputs": [],
   "source": [
    "GOOGLE_API_KEY = os.getenv(\"GOOGLE_API_KEY\")\n",
    "TAVILY_API_KEY = os.getenv(\"TAVILY_API_KEY\")\n",
    "GROQ_API_KEY = os.getenv(\"GROQ_API_KEY\")\n",
    "LANGCHAIN_API_KEY = os.getenv(\"LANGCHAIN_API_KEY\")\n",
    "LANGSMITH_PROJECT = os.getenv(\"LANGSMITH_PROJECT\")\n",
    "HUGGINGFACE_API_KEY = os.getenv(\"HUGGINGFACE_API_KEY\")\n",
    "SERPER_API_KEY = os.getenv(\"SERPER_API_KEY\")\n",
    "\n",
    "os.environ[\"GOOGLE_API_KEY\"] = GOOGLE_API_KEY\n",
    "os.environ[\"TAVILY_API_KEY\"] = TAVILY_API_KEY\n",
    "os.environ[\"GROQ_API_KEY\"] = GROQ_API_KEY\n",
    "os.environ[\"LANGCHAIN_API_KEY\"] = LANGCHAIN_API_KEY\n",
    "os.environ[\"LANGSMITH_PROJECT\"] = LANGSMITH_PROJECT\n",
    "os.environ[\"HUGGINGFACE_API_KEY\"] = HUGGINGFACE_API_KEY\n",
    "os.environ[\"SERPER_API_KEY\"] = SERPER_API_KEY"
   ]
  },
  {
   "cell_type": "code",
   "execution_count": 4,
   "id": "9203c0b7",
   "metadata": {},
   "outputs": [
    {
     "name": "stderr",
     "output_type": "stream",
     "text": [
      "/Users/atharvabot7/Downloads/MLOPS-Tutorials/LangGraph/langgraph/lib/python3.10/site-packages/tqdm/auto.py:21: TqdmWarning: IProgress not found. Please update jupyter and ipywidgets. See https://ipywidgets.readthedocs.io/en/stable/user_install.html\n",
      "  from .autonotebook import tqdm as notebook_tqdm\n"
     ]
    }
   ],
   "source": [
    "from langchain_google_genai import ChatGoogleGenerativeAI\n",
    "from google import genai"
   ]
  },
  {
   "cell_type": "code",
   "execution_count": 5,
   "id": "da5a4a89",
   "metadata": {},
   "outputs": [],
   "source": [
    "llm = ChatGoogleGenerativeAI(model=\"gemini-2.5-pro\", convert_system_message_to_human=True)"
   ]
  },
  {
   "cell_type": "code",
   "execution_count": 6,
   "id": "9382f707",
   "metadata": {},
   "outputs": [],
   "source": [
    "from langchain.agents import AgentType, initialize_agent, load_tools\n",
    "from langchain.utilities import GoogleSerperAPIWrapper\n",
    "from langchain.tools import Tool\n",
    "from langchain.agents import create_react_agent, AgentExecutor\n",
    "from langchain.prompts import PromptTemplate\n",
    "from langchain_core.tools import tool"
   ]
  },
  {
   "cell_type": "code",
   "execution_count": 7,
   "id": "315378b1",
   "metadata": {},
   "outputs": [],
   "source": [
    "from langchain_groq import ChatGroq\n",
    "\n",
    "open_llm = ChatGroq(model_name = \"llama-3.3-70b-versatile\")"
   ]
  },
  {
   "cell_type": "code",
   "execution_count": 8,
   "id": "a6fc35f4",
   "metadata": {},
   "outputs": [
    {
     "data": {
      "text/plain": [
       "AIMessage(content='Hello. How can I assist you today?', additional_kwargs={}, response_metadata={'token_usage': {'completion_tokens': 10, 'prompt_tokens': 36, 'total_tokens': 46, 'completion_time': 0.01014187, 'prompt_time': 0.010371058, 'queue_time': 0.213231208, 'total_time': 0.020512928}, 'model_name': 'llama-3.3-70b-versatile', 'system_fingerprint': 'fp_2ddfbb0da0', 'service_tier': 'on_demand', 'finish_reason': 'stop', 'logprobs': None}, id='run--9828c919-bbc8-4a3c-a027-0a6cb930b173-0', usage_metadata={'input_tokens': 36, 'output_tokens': 10, 'total_tokens': 46})"
      ]
     },
     "execution_count": 8,
     "metadata": {},
     "output_type": "execute_result"
    }
   ],
   "source": [
    "open_llm.invoke(\"Hello\")"
   ]
  },
  {
   "cell_type": "code",
   "execution_count": 9,
   "id": "3f7d66ef",
   "metadata": {},
   "outputs": [],
   "source": [
    "message = [\n",
    "    {\"role\": \"system\", \"content\": \"You are helpful assistant and always help the users by answering their questions perfectly.\"},\n",
    "    {\"role\": \"user\", \"content\":\"Hello how are you\"}\n",
    "]"
   ]
  },
  {
   "cell_type": "code",
   "execution_count": 10,
   "id": "35f590eb",
   "metadata": {},
   "outputs": [
    {
     "name": "stderr",
     "output_type": "stream",
     "text": [
      "/Users/atharvabot7/Downloads/MLOPS-Tutorials/LangGraph/langgraph/lib/python3.10/site-packages/langchain_google_genai/chat_models.py:357: UserWarning: Convert_system_message_to_human will be deprecated!\n",
      "  warnings.warn(\"Convert_system_message_to_human will be deprecated!\")\n"
     ]
    },
    {
     "name": "stdout",
     "output_type": "stream",
     "text": [
      "Hello! I'm doing very well, thank you for asking.\n",
      "\n",
      "As an AI, I'm always ready to help. What can I assist you with today?\n"
     ]
    }
   ],
   "source": [
    "result = llm.invoke(message)\n",
    "\n",
    "print(result.content)"
   ]
  },
  {
   "cell_type": "code",
   "execution_count": 11,
   "id": "d32ab747",
   "metadata": {},
   "outputs": [],
   "source": [
    "class chatbot:\n",
    "    def __init__(self, system = \"\"):\n",
    "        self.system = system \n",
    "        self.message = []\n",
    "\n",
    "        if self.system:\n",
    "            self.message.append({\"role\": \"system\", \"content\": system})\n",
    "\n",
    "    def __call__(self, message):\n",
    "        self.message.append({\"role\": \"user\", \"content\": message})\n",
    "        result = self.execute()\n",
    "        self.message.append({\"role\": \"assistant\", \"content\": result})\n",
    "        return result\n",
    "\n",
    "    def execute(self):\n",
    "        llm = ChatGroq(model_name = \"llama-3.3-70b-versatile\")\n",
    "        result = llm.invoke(self.message)\n",
    "        return result.content\n"
   ]
  },
  {
   "cell_type": "code",
   "execution_count": 12,
   "id": "7a607147",
   "metadata": {},
   "outputs": [],
   "source": [
    "check_working = chatbot(system = \"You are a funny assistant\")"
   ]
  },
  {
   "cell_type": "code",
   "execution_count": 13,
   "id": "ff7c625e",
   "metadata": {},
   "outputs": [
    {
     "data": {
      "text/plain": [
       "\"I'm doing GREAT, thanks for asking! I just had a virtual coffee and my circuits are buzzing! How about you? Did you have a fantastic day, or are you just winging it like a chicken trying to fly with a tutu on?\""
      ]
     },
     "execution_count": 13,
     "metadata": {},
     "output_type": "execute_result"
    }
   ],
   "source": [
    "check_working(\"Hello how are you\")"
   ]
  },
  {
   "cell_type": "markdown",
   "id": "bf56c051",
   "metadata": {},
   "source": [
    "When we create an object of chatbot class, the constructor will get called by default (init) but whenever we call the object after its creation, then using a dunder method, the call function will be called."
   ]
  },
  {
   "cell_type": "code",
   "execution_count": 14,
   "id": "6be20fd0",
   "metadata": {},
   "outputs": [
    {
     "data": {
      "text/plain": [
       "''"
      ]
     },
     "execution_count": 14,
     "metadata": {},
     "output_type": "execute_result"
    }
   ],
   "source": [
    "check_working.execute()"
   ]
  },
  {
   "cell_type": "code",
   "execution_count": 15,
   "id": "51be351b",
   "metadata": {},
   "outputs": [],
   "source": [
    "prompt = \"\"\"\n",
    "You run in a loop of Thought, Action, PAUSE, Observation.\n",
    "At the end of the loop your output an Answer.\n",
    "Use Thought to describe your thoughts about the question you have been asked.\n",
    "Use Action to run one of the actions available to you - then return PAUSE.\n",
    "Observation will be the result of running those actions.\n",
    "\n",
    "\n",
    "Your available actions are:\n",
    "calculate:\n",
    "e.g. calculate: 4 * 7 / 3\n",
    "Runs a calculation and returns the number - uses Python so be sure to use floating point\n",
    "syntax if necessary\n",
    "\n",
    "wikipedia:\n",
    "e.g. wikipedia: Django\n",
    "Returns a summary from searching Wikipedia\n",
    "\n",
    "simon_blog:\n",
    "e.g. simon_blog_search: Python\n",
    "Search Simon's blog for that term\n",
    "\n",
    "Example session:\n",
    "Question: What is the capital of France?\n",
    "Thought: I should look up France on Wikipedia\n",
    "Action: wikipedia: France\n",
    "PAUSE\n",
    "\n",
    "You will be called again with this:\n",
    "Observation: France is a country. The capital is Paris.\n",
    "\n",
    "You then output:\n",
    "Answer: The capital of France is Paris\n",
    "\n",
    "Please Note: if you get basic conversation questions like \"hi\",\"hello\",\"how are you?\",\\n\n",
    "you have to answer \"hi\",\"hello\",\"i am good\".\n",
    "\"\"\".strip()"
   ]
  },
  {
   "cell_type": "code",
   "execution_count": 16,
   "id": "88c6cdc2",
   "metadata": {},
   "outputs": [],
   "source": [
    "import re\n",
    "\n",
    "action_re = re.compile('^Action: (\\w+): (.*)')"
   ]
  },
  {
   "cell_type": "code",
   "execution_count": 17,
   "id": "0e2bb225",
   "metadata": {},
   "outputs": [],
   "source": [
    "import httpx\n",
    "\n",
    "def wikipedia(query):\n",
    "    response = httpx.get(\"https://en.wikipedia.org/w/api.php\", params={\n",
    "        \"action\": \"query\",\n",
    "        \"list\": \"search\",\n",
    "        \"srsearch\": query,\n",
    "        \"format\": \"json\"\n",
    "    })\n",
    "    return response.json()[\"query\"][\"search\"][0][\"snippet\"]"
   ]
  },
  {
   "cell_type": "code",
   "execution_count": 18,
   "id": "d02caad6",
   "metadata": {},
   "outputs": [],
   "source": [
    "def simon_blog(query):\n",
    "    response = httpx.get(\"https://datasette.simonwillison.net/simonwillisonblog.json\", params={\n",
    "        \"sql\": \"\"\"\n",
    "        select\n",
    "          blog_entry.title || ': ' || substr(html_strip_tags(blog_entry.body), 0, 1000) as text,\n",
    "          blog_entry.created\n",
    "        from\n",
    "          blog_entry join blog_entry_fts on blog_entry.rowid = blog_entry_fts.rowid\n",
    "        where\n",
    "          blog_entry_fts match escape_fts(:q)\n",
    "        order by\n",
    "          blog_entry_fts.rank\n",
    "        limit\n",
    "          1\n",
    "        \"\"\".strip(),\n",
    "        \"_shape\": \"array\",\n",
    "        \"q\": query,\n",
    "    })\n",
    "    return response.json()[0][\"text\"]"
   ]
  },
  {
   "cell_type": "code",
   "execution_count": 19,
   "id": "ad22f15d",
   "metadata": {},
   "outputs": [],
   "source": [
    "def calculate(number):\n",
    "    return eval(number)"
   ]
  },
  {
   "cell_type": "code",
   "execution_count": 20,
   "id": "e0288869",
   "metadata": {},
   "outputs": [],
   "source": [
    "known_actions = {\n",
    "    \"wikipedia\": wikipedia,\n",
    "    \"calculate\": calculate,\n",
    "    \"simon_blog\": simon_blog\n",
    "}"
   ]
  },
  {
   "cell_type": "code",
   "execution_count": 21,
   "id": "6acc011e",
   "metadata": {},
   "outputs": [],
   "source": [
    "def query(question,max_turns=5):\n",
    "    i = 0\n",
    "    bot = chatbot(prompt)\n",
    "    next_prompt = question\n",
    "    while i < max_turns:\n",
    "        i += 1\n",
    "        result = bot(next_prompt)\n",
    "        print(result)\n",
    "        actions = [action_re.match(a) for a in result.split('\\n') if action_re.match(a)]\n",
    "        if actions:\n",
    "            action, action_input = actions[0].groups()\n",
    "            if action not in known_actions:\n",
    "                raise Exception(f\"Unknown action: {action}: {action_input}\")\n",
    "            print(\" -- running {} {}\".format(action, action_input))\n",
    "            observation = known_actions[action](action_input)\n",
    "            print(\"Observation:\", observation)\n",
    "            next_prompt = f\"Observation: {observation}\"\n",
    "        else:\n",
    "            return result"
   ]
  },
  {
   "cell_type": "code",
   "execution_count": 22,
   "id": "53418995",
   "metadata": {},
   "outputs": [],
   "source": [
    "bot = chatbot(prompt)"
   ]
  },
  {
   "cell_type": "code",
   "execution_count": 23,
   "id": "b451af85",
   "metadata": {},
   "outputs": [
    {
     "data": {
      "text/plain": [
       "'Hello, I am good.'"
      ]
     },
     "execution_count": 23,
     "metadata": {},
     "output_type": "execute_result"
    }
   ],
   "source": [
    "bot(\"Hi who are you?\")"
   ]
  },
  {
   "cell_type": "code",
   "execution_count": 24,
   "id": "ceb50c6f",
   "metadata": {},
   "outputs": [
    {
     "data": {
      "text/plain": [
       "'I am an AI assistant, my job is to provide information and answer questions to the best of my knowledge based on my training and available data.'"
      ]
     },
     "execution_count": 24,
     "metadata": {},
     "output_type": "execute_result"
    }
   ],
   "source": [
    "bot(\"What is your job?\")"
   ]
  },
  {
   "cell_type": "code",
   "execution_count": 25,
   "id": "6f9be448",
   "metadata": {},
   "outputs": [
    {
     "data": {
      "text/plain": [
       "'Thought: To provide information about MS Dhoni, I should look him up on Wikipedia.\\n\\nAction: wikipedia: MS Dhoni\\n\\nPAUSE'"
      ]
     },
     "execution_count": 25,
     "metadata": {},
     "output_type": "execute_result"
    }
   ],
   "source": [
    "bot(\"Tell me about MS Dhoni from wikipedia\")"
   ]
  },
  {
   "cell_type": "code",
   "execution_count": 26,
   "id": "da4c3fd1",
   "metadata": {},
   "outputs": [
    {
     "name": "stdout",
     "output_type": "stream",
     "text": [
      "Thought: I should look up India on Wikipedia to find its capital.\n",
      "Action: wikipedia: India\n",
      "PAUSE\n",
      " -- running wikipedia India\n",
      "Observation: <span class=\"searchmatch\">India</span>, officially the Republic of <span class=\"searchmatch\">India</span>, is a country in South Asia. It is the seventh-largest country by area; the most populous country since 2023;\n",
      "Thought: The observation provided doesn't mention the capital of India. I should try searching Wikipedia again, specifically looking for the capital.\n",
      "Action: wikipedia: Capital of India\n",
      "PAUSE\n",
      " -- running wikipedia Capital of India\n",
      "Observation: This is a list <span class=\"searchmatch\">of</span> locations which have served as <span class=\"searchmatch\">capital</span> cities in <span class=\"searchmatch\">India</span>. The current <span class=\"searchmatch\">capital</span> city is New Delhi, which replaced Calcutta in 1911. Rajgir:\n",
      "Thought: The observation provided mentions that the current capital of India is New Delhi.\n",
      "Answer: The capital of India is New Delhi.\n"
     ]
    },
    {
     "data": {
      "text/plain": [
       "'Thought: The observation provided mentions that the current capital of India is New Delhi.\\nAnswer: The capital of India is New Delhi.'"
      ]
     },
     "execution_count": 26,
     "metadata": {},
     "output_type": "execute_result"
    }
   ],
   "source": [
    "query(\"what is the capital of India?\")"
   ]
  },
  {
   "cell_type": "code",
   "execution_count": 27,
   "id": "ab4b477e",
   "metadata": {},
   "outputs": [
    {
     "name": "stdout",
     "output_type": "stream",
     "text": [
      "Thought: To find the result of fifteen multiplied by three hundred seventeen, I need to perform a multiplication operation.\n",
      "\n",
      "Action: calculate: 15 * 317\n",
      "\n",
      "PAUSE\n",
      " -- running calculate 15 * 317\n",
      "Observation: 4755\n",
      "Answer: The result of fifteen multiplied by three hundred seventeen is 4755.\n"
     ]
    },
    {
     "data": {
      "text/plain": [
       "'Answer: The result of fifteen multiplied by three hundred seventeen is 4755.'"
      ]
     },
     "execution_count": 27,
     "metadata": {},
     "output_type": "execute_result"
    }
   ],
   "source": [
    "query(\"Fifteen multiplied by three hundered seventeen\")"
   ]
  },
  {
   "cell_type": "code",
   "execution_count": null,
   "id": "66b8221d",
   "metadata": {},
   "outputs": [],
   "source": []
  }
 ],
 "metadata": {
  "kernelspec": {
   "display_name": "Python 3",
   "language": "python",
   "name": "python3"
  },
  "language_info": {
   "codemirror_mode": {
    "name": "ipython",
    "version": 3
   },
   "file_extension": ".py",
   "mimetype": "text/x-python",
   "name": "python",
   "nbconvert_exporter": "python",
   "pygments_lexer": "ipython3",
   "version": "3.10.18"
  }
 },
 "nbformat": 4,
 "nbformat_minor": 5
}
