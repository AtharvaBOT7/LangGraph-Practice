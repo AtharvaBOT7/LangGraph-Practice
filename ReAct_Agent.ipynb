{
 "cells": [
  {
   "cell_type": "markdown",
   "id": "2d462327",
   "metadata": {},
   "source": [
    "## ReAct Agent using LangGraph"
   ]
  },
  {
   "cell_type": "code",
   "execution_count": 1,
   "id": "ea6d86fb",
   "metadata": {},
   "outputs": [
    {
     "data": {
      "text/plain": [
       "True"
      ]
     },
     "execution_count": 1,
     "metadata": {},
     "output_type": "execute_result"
    }
   ],
   "source": [
    "import os\n",
    "from dotenv import load_dotenv\n",
    "load_dotenv()"
   ]
  },
  {
   "cell_type": "code",
   "execution_count": 2,
   "id": "6697c377",
   "metadata": {},
   "outputs": [],
   "source": [
    "GOOGLE_API_KEY = os.getenv(\"GOOGLE_API_KEY\")\n",
    "TAVILY_API_KEY = os.getenv(\"TAVILY_API_KEY\")\n",
    "GROQ_API_KEY = os.getenv(\"GROQ_API_KEY\")\n",
    "LANGCHAIN_API_KEY = os.getenv(\"LANGCHAIN_API_KEY\")\n",
    "LANGSMITH_PROJECT = os.getenv(\"LANGSMITH_PROJECT\")\n",
    "HUGGINGFACE_API_KEY = os.getenv(\"HUGGINGFACE_API_KEY\")\n",
    "SERPER_API_KEY = os.getenv(\"SERPER_API_KEY\")\n",
    "\n",
    "os.environ[\"GOOGLE_API_KEY\"] = GOOGLE_API_KEY\n",
    "os.environ[\"TAVILY_API_KEY\"] = TAVILY_API_KEY\n",
    "os.environ[\"GROQ_API_KEY\"] = GROQ_API_KEY\n",
    "os.environ[\"LANGCHAIN_API_KEY\"] = LANGCHAIN_API_KEY\n",
    "os.environ[\"LANGSMITH_PROJECT\"] = LANGSMITH_PROJECT\n",
    "os.environ[\"HUGGINGFACE_API_KEY\"] = HUGGINGFACE_API_KEY\n",
    "os.environ[\"SERPER_API_KEY\"] = SERPER_API_KEY"
   ]
  },
  {
   "cell_type": "code",
   "execution_count": 3,
   "id": "ed029c1a",
   "metadata": {},
   "outputs": [],
   "source": [
    "from langchain_groq import ChatGroq\n",
    "\n",
    "llm = ChatGroq(model_name = \"llama-3.3-70b-versatile\")"
   ]
  },
  {
   "cell_type": "code",
   "execution_count": 4,
   "id": "01ada5d3",
   "metadata": {},
   "outputs": [
    {
     "data": {
      "text/plain": [
       "AIMessage(content='That\\'s a thoughtful question. I don\\'t have personal opinions, but I can tell you that being a \"good person\" is subjective and can vary depending on individual perspectives and values. What one person considers \"good,\" another person might not.\\n\\nInstead of making a judgment, I\\'d like to ask: What makes you wonder if you\\'re a good person? Is there something specific that\\'s been on your mind, or are you looking for reassurance? I\\'m here to listen and offer support if you\\'d like to talk about it.', additional_kwargs={}, response_metadata={'token_usage': {'completion_tokens': 109, 'prompt_tokens': 45, 'total_tokens': 154, 'completion_time': 0.304293166, 'prompt_time': 0.011398079, 'queue_time': 0.931466895, 'total_time': 0.315691245}, 'model_name': 'llama-3.3-70b-versatile', 'system_fingerprint': 'fp_3f3b593e33', 'service_tier': 'on_demand', 'finish_reason': 'stop', 'logprobs': None}, id='run--b6522914-c2f1-408c-9936-bdee92debf39-0', usage_metadata={'input_tokens': 45, 'output_tokens': 109, 'total_tokens': 154})"
      ]
     },
     "execution_count": 4,
     "metadata": {},
     "output_type": "execute_result"
    }
   ],
   "source": [
    "llm.invoke(\"Hi do you think I am a good person?\")"
   ]
  },
  {
   "cell_type": "code",
   "execution_count": 5,
   "id": "13b2c2dd",
   "metadata": {},
   "outputs": [],
   "source": [
    "from langgraph.graph import MessagesState, StateGraph, END, START\n",
    "from langchain_core.messages import HumanMessage, SystemMessage, AnyMessage\n",
    "from langchain_community.tools import DuckDuckGoSearchRun\n",
    "from langgraph.prebuilt import tools_condition, ToolNode\n",
    "from IPython.display import Image, display\n",
    "from typing import Annotated, TypedDict\n",
    "import operator\n",
    "from langchain_core.tools import tool\n",
    "from langgraph.graph.message import add_messages\n"
   ]
  },
  {
   "cell_type": "code",
   "execution_count": 6,
   "id": "b1231510",
   "metadata": {},
   "outputs": [],
   "source": [
    "@tool\n",
    "def multiply(a: int, b: int) -> int:\n",
    "    \"\"\" Multiply the two numbers a and b and return the result \"\"\"\n",
    "    return a*b"
   ]
  },
  {
   "cell_type": "code",
   "execution_count": 7,
   "id": "ebf115ff",
   "metadata": {},
   "outputs": [],
   "source": [
    "@tool\n",
    "def add(a: int, b: int) -> int:\n",
    "    \"\"\" Add the two numbers a and b and return the result \"\"\"\n",
    "    return a+b"
   ]
  },
  {
   "cell_type": "code",
   "execution_count": 8,
   "id": "ad7e12e8",
   "metadata": {},
   "outputs": [],
   "source": [
    "@tool\n",
    "def divide(a: int, b: int) -> int:\n",
    "    \"\"\" Divide a by b and return return the result \"\"\"\n",
    "    return a / b"
   ]
  },
  {
   "cell_type": "code",
   "execution_count": 9,
   "id": "ceec6223",
   "metadata": {},
   "outputs": [],
   "source": [
    "from langchain_community.utilities import GoogleSerperAPIWrapper\n",
    "serper = GoogleSerperAPIWrapper()"
   ]
  },
  {
   "cell_type": "code",
   "execution_count": 10,
   "id": "21e309e8",
   "metadata": {},
   "outputs": [],
   "source": [
    "@tool\n",
    "def web_search(query: str) -> str:\n",
    "     \"\"\" This is a websearch tool functionality which lets the Agent search the internet if the user desires so\"\"\"\n",
    "     return serper.run(query)"
   ]
  },
  {
   "cell_type": "code",
   "execution_count": 11,
   "id": "e9e1d35c",
   "metadata": {},
   "outputs": [],
   "source": [
    "tools = [add, multiply, divide, web_search]"
   ]
  },
  {
   "cell_type": "code",
   "execution_count": 12,
   "id": "32f7d260",
   "metadata": {},
   "outputs": [],
   "source": [
    "llm_with_tools = llm.bind_tools(tools)"
   ]
  },
  {
   "cell_type": "code",
   "execution_count": 13,
   "id": "814dab3c",
   "metadata": {},
   "outputs": [],
   "source": [
    "sys_msg = SystemMessage(content=\"You are a helpful assistant tasked with using search and performing arithmetic on a set of inputs.\")"
   ]
  },
  {
   "cell_type": "code",
   "execution_count": 14,
   "id": "f96ef7ae",
   "metadata": {},
   "outputs": [],
   "source": [
    "def reasoner(state: MessagesState):\n",
    "    return {\"messages\": [llm_with_tools.invoke([sys_msg] + state[\"messages\"])]}"
   ]
  },
  {
   "cell_type": "code",
   "execution_count": 15,
   "id": "959fe460",
   "metadata": {},
   "outputs": [],
   "source": [
    "builder = StateGraph(MessagesState)"
   ]
  },
  {
   "cell_type": "code",
   "execution_count": 16,
   "id": "bd2fbcad",
   "metadata": {},
   "outputs": [
    {
     "data": {
      "text/plain": [
       "<langgraph.graph.state.StateGraph at 0x1273fe080>"
      ]
     },
     "execution_count": 16,
     "metadata": {},
     "output_type": "execute_result"
    }
   ],
   "source": [
    "builder.add_node(\"reasoner\", reasoner)\n",
    "\n",
    "builder.add_node(\"tools\", ToolNode(tools))"
   ]
  },
  {
   "cell_type": "code",
   "execution_count": 17,
   "id": "adfa55e1",
   "metadata": {},
   "outputs": [
    {
     "data": {
      "text/plain": [
       "<langgraph.graph.state.StateGraph at 0x1273fe080>"
      ]
     },
     "execution_count": 17,
     "metadata": {},
     "output_type": "execute_result"
    }
   ],
   "source": [
    "builder.add_edge(START, \"reasoner\")"
   ]
  },
  {
   "cell_type": "code",
   "execution_count": 18,
   "id": "491ecd95",
   "metadata": {},
   "outputs": [
    {
     "data": {
      "text/plain": [
       "<langgraph.graph.state.StateGraph at 0x1273fe080>"
      ]
     },
     "execution_count": 18,
     "metadata": {},
     "output_type": "execute_result"
    }
   ],
   "source": [
    "builder.add_conditional_edges(\n",
    "    \"reasoner\",\n",
    "    tools_condition,\n",
    ")"
   ]
  },
  {
   "cell_type": "code",
   "execution_count": 19,
   "id": "0d6d7a4a",
   "metadata": {},
   "outputs": [
    {
     "data": {
      "text/plain": [
       "<langgraph.graph.state.StateGraph at 0x1273fe080>"
      ]
     },
     "execution_count": 19,
     "metadata": {},
     "output_type": "execute_result"
    }
   ],
   "source": [
    "builder.add_edge(\"tools\", \"reasoner\")"
   ]
  },
  {
   "cell_type": "code",
   "execution_count": 20,
   "id": "e55f90e3",
   "metadata": {},
   "outputs": [],
   "source": [
    "react_graph = builder.compile()"
   ]
  },
  {
   "cell_type": "code",
   "execution_count": 21,
   "id": "a632333e",
   "metadata": {},
   "outputs": [
    {
     "data": {
      "image/png": "[encoded data removed]",
      "text/plain": [
       "<IPython.core.display.Image object>"
      ]
     },
     "metadata": {},
     "output_type": "display_data"
    }
   ],
   "source": [
    "display(Image(react_graph.get_graph(xray=True).draw_mermaid_png()))"
   ]
  },
  {
   "cell_type": "code",
   "execution_count": 22,
   "id": "e08c35f3",
   "metadata": {},
   "outputs": [],
   "source": [
    "message = [HumanMessage(content=\"What is 2 times of age of Max Verstappen?\")]"
   ]
  },
  {
   "cell_type": "code",
   "execution_count": 23,
   "id": "07caf957",
   "metadata": {},
   "outputs": [],
   "source": [
    "messsages = react_graph.invoke({\"messages\": message})"
   ]
  },
  {
   "cell_type": "code",
   "execution_count": 24,
   "id": "3f4d686e",
   "metadata": {},
   "outputs": [
    {
     "name": "stdout",
     "output_type": "stream",
     "text": [
      "================================\u001b[1m Human Message \u001b[0m=================================\n",
      "\n",
      "What is 2 times of age of Max Verstappen?\n",
      "==================================\u001b[1m Ai Message \u001b[0m==================================\n",
      "Tool Calls:\n",
      "  web_search (a4ne12kh6)\n",
      " Call ID: a4ne12kh6\n",
      "  Args:\n",
      "    query: Max Verstappen age\n",
      "=================================\u001b[1m Tool Message \u001b[0m=================================\n",
      "Name: web_search\n",
      "\n",
      "Max Verstappen. Verstappen at the 2024 Dutch Grand Prix. Born. Max Emilian Verstappen. (1997-09-30) 30 September 1997 (age 27). Hasselt, Limburg, Belgium. MaxVerstappen ; Pole Positions: 45 ; World Championships: 4 ; DNFs: 33 ; Date of Birth: 30/09/1997 ; Place of Birth: Hasselt, Belgium. In full: Max Emilian Verstappen ; Born: September 30, 1997, Hasselt, Belgium (age 27) ; Awards And Honors: Formula One racing (2023) · Formula One ... Max Verstappen. Verstappen at the 2024 Dutch Grand Prix. Born, Max Emilian Verstappen (1997-09-30) 30 September 1997 (age 27) Hasselt, Belgium · Formula One ... At 17 years and 166 days old, he became the youngest driver ever to start in a Formula One World Championship race. Family Life. His father is retired ... Max Emilian Verstappen was born on September 30, 1997 in the Hasselt hospital. Max showed excellent timing as it meant both parents could enjoy the company of ... Max Verstappen 1. Now firmly established as one of the ... Information. Country of origin: Netherlands (the); Date of birth: 29th September 1997; Age: 27 ... Verstappen is the youngest F1 driver to ever enter the sport. He was 17 years and 3 days old when doing his first test in free practice 1 at the 2014 Japanese ... Verstappen was born on 30 September 1997 in Hasselt, Belgium and now is 25 years old. Max's father is former F1 driver Jos Verstappen and mother is Sophie ... Born: September 30, 1997. Hasselt, Belgium (age 27) ; Region: Europe ; Status: Active ; Role(s):. Driver ; Team: Red Bull Racing.\n",
      "==================================\u001b[1m Ai Message \u001b[0m==================================\n",
      "Tool Calls:\n",
      "  multiply (qjjc6qkbm)\n",
      " Call ID: qjjc6qkbm\n",
      "  Args:\n",
      "    a: 2\n",
      "    b: 27\n",
      "=================================\u001b[1m Tool Message \u001b[0m=================================\n",
      "Name: multiply\n",
      "\n",
      "54\n",
      "==================================\u001b[1m Ai Message \u001b[0m==================================\n",
      "\n",
      "The age of Max Verstappen is 27. 2 times of his age is 54.\n"
     ]
    }
   ],
   "source": [
    "for m in messsages['messages']:\n",
    "    m.pretty_print()"
   ]
  },
  {
   "cell_type": "code",
   "execution_count": 27,
   "id": "21e0e7a5",
   "metadata": {},
   "outputs": [],
   "source": [
    "message = [HumanMessage(content=\"can you add the age of Cristiano Ronaldo and Lionel Messi?\")]"
   ]
  },
  {
   "cell_type": "code",
   "execution_count": 28,
   "id": "887a49e3",
   "metadata": {},
   "outputs": [],
   "source": [
    "messsages = react_graph.invoke({\"messages\": message})"
   ]
  },
  {
   "cell_type": "code",
   "execution_count": 29,
   "id": "13bcc96c",
   "metadata": {},
   "outputs": [
    {
     "name": "stdout",
     "output_type": "stream",
     "text": [
      "================================\u001b[1m Human Message \u001b[0m=================================\n",
      "\n",
      "can you add the age of Cristiano Ronaldo and Lionel Messi?\n",
      "==================================\u001b[1m Ai Message \u001b[0m==================================\n",
      "Tool Calls:\n",
      "  web_search (zk2spdcwj)\n",
      " Call ID: zk2spdcwj\n",
      "  Args:\n",
      "    query: Cristiano Ronaldo age Lionel Messi age\n",
      "=================================\u001b[1m Tool Message \u001b[0m=================================\n",
      "Name: web_search\n",
      "\n",
      "Ronaldo is two years older than Messi, and as such two years deeper into his career. But how did his stats at the age of 35 compare to his era-defining rival? Messi and Ronaldo are two years apart, but here you can compare their goals and stat totals at each age! Lionel Messi's record at 38 compared to Cristiano Ronaldo at the same age speaks volumes. Lionel Messi turned 38 on Thursday. Cristiano Ronaldo joined Juventus at age 33 and left at 36 with 101 goals Lionel Messi joined PSG at age 33 and left at 36 with 32 goals ... That means Cristiano is nearly two and a half years older than Lionel. Ronaldo turned 38 in early 2023, which coincided with his move to Saudi ... Explore the age difference between Messi at 23 and Ronaldo at 45. Discover insights on their careers and skills. 🇦🇷 Lionel Messi at the age of 37: 🏟️ 1065 Games ⚽ 837 Goals 🇵🇹 Cristiano Ronaldo at the age of 37: 🏟️ 1103 Games ⚽ 803 Goals 🇧🇷 Pelé at the age ... Ronaldo is the older of the two, has played in more games and scored more goals than Messi. Lionel Messi has won the Ballon d'Or for a record 4 times. Ronaldo also had better statistics at ages 34 and 33, while Messi surpassed him at age 31. Between ages 28-30, Ronaldo had the statistical edge, ... Early life. Cristiano Ronaldo dos Santos Aveiro was born on 5 February 1985 in the São Pedro parish of Funchal, the capital of the Portuguese island of Madeira ...\n",
      "==================================\u001b[1m Ai Message \u001b[0m==================================\n",
      "Tool Calls:\n",
      "  web_search (qmdxd7fr6)\n",
      " Call ID: qmdxd7fr6\n",
      "  Args:\n",
      "    query: Cristiano Ronaldo current age\n",
      "  web_search (6z2aq7n57)\n",
      " Call ID: 6z2aq7n57\n",
      "  Args:\n",
      "    query: Lionel Messi current age\n",
      "=================================\u001b[1m Tool Message \u001b[0m=================================\n",
      "Name: web_search\n",
      "\n",
      "Cristiano Ronaldo dos Santos Aveiro · (1985-02-05) 5 February 1985 (age 40) · Funchal, Madeira, Portugal ; Cristiano Ronaldo dos Santos Aveiro · (1985-02-05) 5 ... Name in home country: Cristiano Ronaldo dos Santos Aveiro. Date of birth/Age: Feb 5, 1985 (40). Place of birth: Funchal Portugal (Santo António). Cristiano Ronaldo (Soccer Player): his birthday, what he did before fame, his family life, fun trivia facts, popularity rankings, and more. HT/WT. 6' 2\", 183 lbs · Birthdate. 2/5/1985 (40) · Nationality. Portugal. Age. 40 ; Date of Birth. 2/5/1985 ; Height, Weight. 6'0\", 176 lbs ; From. Funchal. Cristiano Ronaldo dos Santos Aveiro was born on February 5, 1985, on the island of Madeira, Portugal. He was the youngest of four children in a ... Full Name, Cristiano Ronaldo dos Santos Aveiro ; Born, February 05, 1985 ; Age, 40 Years, 7 Months, 4 Days ; National Side, Portugal ; Playing Position, Forward. How Ronaldo Maintains a Biological Age of Just 28.9 – Inside His Diet and Workout Routine. He may have entered his 40s, but the football legend ... Cristiano Ronaldo (born February 5, 1985, Funchal, Madeira, Portugal) is a Portuguese football (soccer) forward who is one of the greatest players of his ... Cristiano Ronaldo. Cristiano Ronaldo dos Santos Aveiro. Position: FW-MF (WM) ▫ Footed: Right. 187cm, 83kg (6-1½, 184lb). Born: February 5, 1985 in Funchal, ...\n",
      "=================================\u001b[1m Tool Message \u001b[0m=================================\n",
      "Name: web_search\n",
      "\n",
      "(1987-06-24) 24 June 1987 (age 38). Place of birth, Rosario, Santa Fe, Argentina. Height, 1.70 m (5 ft 7 in). Position(s), Forward. Team information. Current ... Lionel Messi, 38, from Argentina ➤ Inter Miami CF, since 2023 ➤ Right Winger ➤ Market value: €18.00m ➤ * Jun 24, 1987 in Rosario, Argentina. HT/WT. 5' 7\", 148 lbs · Birthdate. 6/24/1987 (38) · Birthplace. Rosario, Argentina. Lionel Messi (born June 24, 1987, Rosario, Argentina) is an Argentine-born football (soccer) player who received a record-setting eight Ballon d'Or awards. Age: 38 ; Source of Wealth: Soccer ; Salary/Winnings: $60 M ; Endorsements: $75 M ; Residence: Castelldefels, Spain. Age, 38 (Born 24 Jun, 1987) ; Height, 5ft 6in (1.68m) ; Weight, 10st 5lb (65.76kg) ; Place of birth, Rosario, Argentina ; Nationality, Argentina. Full Name, Lionel Andres Messi Cuccittini ; Born, June 24, 1987 ; Age, 38 Years, 2 Months, 19 Days ; National Side, Argentina ; Playing Position, Forward. Lionel Messi. Lionel Andrés Messi Cuccittini. Position: FW-MF (AM-WM, right) ▫ Footed: Left. 170cm, 72kg (5-7, 159lb). Born: June 24, 1987 in Rosario, ... Lionel Messi's Overall Rating is 86. Lionel Messi has the Tiki Taka+ PlayStyle+ ability. Age. 38. Nation. Argentina. League. MLS. Team. Inter Miami CF. Similar ... Age. 38 ; Date of Birth. 6/24/1987 ; Height, Weight. 5'6\", 147 lbs ; From. Rosario.\n",
      "==================================\u001b[1m Ai Message \u001b[0m==================================\n",
      "Tool Calls:\n",
      "  add (vjvanq098)\n",
      " Call ID: vjvanq098\n",
      "  Args:\n",
      "    a: 38\n",
      "    b: 40\n",
      "=================================\u001b[1m Tool Message \u001b[0m=================================\n",
      "Name: add\n",
      "\n",
      "78\n",
      "==================================\u001b[1m Ai Message \u001b[0m==================================\n",
      "\n",
      "The age of Cristiano Ronaldo and Lionel Messi added together is 78.\n"
     ]
    }
   ],
   "source": [
    "for m in messsages['messages']:\n",
    "    m.pretty_print()"
   ]
  },
  {
   "cell_type": "markdown",
   "id": "09663301",
   "metadata": {},
   "source": [
    "## Creating a Small Finance Bot"
   ]
  },
  {
   "cell_type": "code",
   "execution_count": 30,
   "id": "9aae5487",
   "metadata": {},
   "outputs": [],
   "source": [
    "import yfinance as yf\n",
    "\n",
    "@tool\n",
    "def get_stock_price(ticker: str) -> float:\n",
    "    \"\"\" Gets the price of a stocker using its ticker from Yahoo Finance\"\"\"\n",
    "\n",
    "    stock = yf.Ticker(ticker)\n",
    "    return stock.info['previousClose']"
   ]
  },
  {
   "cell_type": "code",
   "execution_count": 31,
   "id": "e9567203",
   "metadata": {},
   "outputs": [
    {
     "name": "stderr",
     "output_type": "stream",
     "text": [
      "/var/folders/p_/v95prvpj4cz7y53gvmgm1d_r0000gn/T/ipykernel_89320/1558992921.py:1: LangChainDeprecationWarning: The method `BaseTool.__call__` was deprecated in langchain-core 0.1.47 and will be removed in 1.0. Use :meth:`~invoke` instead.\n",
      "  get_stock_price(\"AAPL\")\n"
     ]
    },
    {
     "data": {
      "text/plain": [
       "234.35"
      ]
     },
     "execution_count": 31,
     "metadata": {},
     "output_type": "execute_result"
    }
   ],
   "source": [
    "get_stock_price(\"AAPL\")"
   ]
  },
  {
   "cell_type": "code",
   "execution_count": 32,
   "id": "a5d55a46",
   "metadata": {},
   "outputs": [],
   "source": [
    "def reasoner(state):\n",
    "    query = state[\"query\"]\n",
    "    messages = state[\"messages\"]\n",
    "\n",
    "    sys_msg = SystemMessage(content=\"You are a helpful assistant tasked with using search, the yahoo finance tool and performing arithmetic on a set of inputs.\")\n",
    "\n",
    "    message = HumanMessage(content=query)\n",
    "\n",
    "    messages.append(message)\n",
    "\n",
    "    result = llm_with_tools.invoke([sys_msg] + messages)\n",
    "\n",
    "    return {\"messages\": result}"
   ]
  },
  {
   "cell_type": "code",
   "execution_count": 33,
   "id": "eb545119",
   "metadata": {},
   "outputs": [],
   "source": [
    "tools = [add, multiply, divide, web_search, get_stock_price]"
   ]
  },
  {
   "cell_type": "code",
   "execution_count": 34,
   "id": "89a978c8",
   "metadata": {},
   "outputs": [],
   "source": [
    "llm_with_tools = llm.bind_tools(tools)"
   ]
  },
  {
   "cell_type": "code",
   "execution_count": 35,
   "id": "63733c99",
   "metadata": {},
   "outputs": [],
   "source": [
    "class GraphState(TypedDict):\n",
    "    \"\"\" State of the graph \"\"\"\n",
    "\n",
    "    query: str\n",
    "    finance: str\n",
    "    final_answer: str\n",
    "\n",
    "    messages: Annotated[list[AnyMessage], operator.add]"
   ]
  },
  {
   "cell_type": "code",
   "execution_count": 36,
   "id": "ccb25bac",
   "metadata": {},
   "outputs": [],
   "source": [
    "workflow = StateGraph(GraphState)"
   ]
  },
  {
   "cell_type": "code",
   "execution_count": 37,
   "id": "ac72eed9",
   "metadata": {},
   "outputs": [
    {
     "data": {
      "text/plain": [
       "<langgraph.graph.state.StateGraph at 0x15f73f250>"
      ]
     },
     "execution_count": 37,
     "metadata": {},
     "output_type": "execute_result"
    }
   ],
   "source": [
    "workflow.add_node(\"reasoner\", reasoner)\n",
    "workflow.add_node(\"tools\", ToolNode(tools))"
   ]
  },
  {
   "cell_type": "code",
   "execution_count": 38,
   "id": "26e1ac54",
   "metadata": {},
   "outputs": [
    {
     "data": {
      "text/plain": [
       "<langgraph.graph.state.StateGraph at 0x15f73f250>"
      ]
     },
     "execution_count": 38,
     "metadata": {},
     "output_type": "execute_result"
    }
   ],
   "source": [
    "workflow.add_edge(START, \"reasoner\")"
   ]
  },
  {
   "cell_type": "code",
   "execution_count": 39,
   "id": "85106a1a",
   "metadata": {},
   "outputs": [
    {
     "data": {
      "text/plain": [
       "<langgraph.graph.state.StateGraph at 0x15f73f250>"
      ]
     },
     "execution_count": 39,
     "metadata": {},
     "output_type": "execute_result"
    }
   ],
   "source": [
    "workflow.add_conditional_edges(\n",
    "    \"reasoner\",\n",
    "    tools_condition,\n",
    ")"
   ]
  },
  {
   "cell_type": "code",
   "execution_count": 40,
   "id": "e4f3593c",
   "metadata": {},
   "outputs": [
    {
     "data": {
      "text/plain": [
       "<langgraph.graph.state.StateGraph at 0x15f73f250>"
      ]
     },
     "execution_count": 40,
     "metadata": {},
     "output_type": "execute_result"
    }
   ],
   "source": [
    "workflow.add_edge(\"tools\", \"reasoner\")"
   ]
  },
  {
   "cell_type": "code",
   "execution_count": 41,
   "id": "73557b0c",
   "metadata": {},
   "outputs": [],
   "source": [
    "react_graph2 = workflow.compile()"
   ]
  },
  {
   "cell_type": "code",
   "execution_count": 42,
   "id": "4502fd6f",
   "metadata": {},
   "outputs": [
    {
     "data": {
      "image/png": "[encoded data removed]",
      "text/plain": [
       "<IPython.core.display.Image object>"
      ]
     },
     "metadata": {},
     "output_type": "display_data"
    }
   ],
   "source": [
    "display(Image(react_graph.get_graph(xray=True).draw_mermaid_png()))"
   ]
  },
  {
   "cell_type": "code",
   "execution_count": null,
   "id": "88314b0d",
   "metadata": {},
   "outputs": [],
   "source": []
  },
  {
   "cell_type": "code",
   "execution_count": null,
   "id": "174612cb",
   "metadata": {},
   "outputs": [],
   "source": []
  },
  {
   "cell_type": "code",
   "execution_count": null,
   "id": "0725847d",
   "metadata": {},
   "outputs": [],
   "source": []
  }
 ],
 "metadata": {
  "kernelspec": {
   "display_name": "Python 3",
   "language": "python",
   "name": "python3"
  },
  "language_info": {
   "codemirror_mode": {
    "name": "ipython",
    "version": 3
   },
   "file_extension": ".py",
   "mimetype": "text/x-python",
   "name": "python",
   "nbconvert_exporter": "python",
   "pygments_lexer": "ipython3",
   "version": "3.10.18"
  }
 },
 "nbformat": 4,
 "nbformat_minor": 5
}
