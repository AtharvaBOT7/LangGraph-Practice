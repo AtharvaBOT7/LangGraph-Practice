{
 "cells": [
  {
   "cell_type": "markdown",
   "id": "2d462327",
   "metadata": {},
   "source": [
    "## ReAct Agent using LangGraph"
   ]
  },
  {
   "cell_type": "code",
   "execution_count": 1,
   "id": "ea6d86fb",
   "metadata": {},
   "outputs": [
    {
     "data": {
      "text/plain": [
       "True"
      ]
     },
     "execution_count": 1,
     "metadata": {},
     "output_type": "execute_result"
    }
   ],
   "source": [
    "import os\n",
    "from dotenv import load_dotenv\n",
    "load_dotenv()"
   ]
  },
  {
   "cell_type": "code",
   "execution_count": 2,
   "id": "6697c377",
   "metadata": {},
   "outputs": [],
   "source": [
    "GOOGLE_API_KEY = os.getenv(\"GOOGLE_API_KEY\")\n",
    "TAVILY_API_KEY = os.getenv(\"TAVILY_API_KEY\")\n",
    "GROQ_API_KEY = os.getenv(\"GROQ_API_KEY\")\n",
    "LANGCHAIN_API_KEY = os.getenv(\"LANGCHAIN_API_KEY\")\n",
    "LANGSMITH_PROJECT = os.getenv(\"LANGSMITH_PROJECT\")\n",
    "HUGGINGFACE_API_KEY = os.getenv(\"HUGGINGFACE_API_KEY\")\n",
    "SERPER_API_KEY = os.getenv(\"SERPER_API_KEY\")\n",
    "\n",
    "os.environ[\"GOOGLE_API_KEY\"] = GOOGLE_API_KEY\n",
    "os.environ[\"TAVILY_API_KEY\"] = TAVILY_API_KEY\n",
    "os.environ[\"GROQ_API_KEY\"] = GROQ_API_KEY\n",
    "os.environ[\"LANGCHAIN_API_KEY\"] = LANGCHAIN_API_KEY\n",
    "os.environ[\"LANGSMITH_PROJECT\"] = LANGSMITH_PROJECT\n",
    "os.environ[\"HUGGINGFACE_API_KEY\"] = HUGGINGFACE_API_KEY\n",
    "os.environ[\"SERPER_API_KEY\"] = SERPER_API_KEY"
   ]
  },
  {
   "cell_type": "code",
   "execution_count": 3,
   "id": "ed029c1a",
   "metadata": {},
   "outputs": [],
   "source": [
    "from langchain_groq import ChatGroq\n",
    "\n",
    "llm = ChatGroq(model_name = \"llama-3.3-70b-versatile\")"
   ]
  },
  {
   "cell_type": "code",
   "execution_count": 4,
   "id": "01ada5d3",
   "metadata": {},
   "outputs": [
    {
     "data": {
      "text/plain": [
       "AIMessage(content='What a thoughtful and introspective question! As a conversational AI, I don\\'t have personal opinions or judgments about individuals. However, I can tell you that being a good person is often subjective and can depend on various factors, such as personal values, cultural norms, and relationships.\\n\\nThat being said, the fact that you\\'re asking this question suggests that you\\'re reflecting on your own character and behavior, which is a positive sign. It implies that you\\'re interested in self-improvement, empathy, and possibly making a positive impact on those around you.\\n\\nRather than seeking external validation, you might consider asking yourself:\\n\\n* What are my core values, and do my actions align with them?\\n* How do I treat others, and can I be more compassionate and understanding?\\n* What are my strengths and weaknesses, and how can I work on personal growth?\\n\\nBy exploring these questions and engaging in self-reflection, you can gain a deeper understanding of yourself and your values. Remember that being a \"good person\" is a continuous process, and it\\'s okay to make mistakes and learn from them.\\n\\nUltimately, it\\'s up to you to decide what being a good person means to you and to strive towards becoming the best version of yourself. How do you think you can work on becoming the person you aspire to be?', additional_kwargs={}, response_metadata={'token_usage': {'completion_tokens': 265, 'prompt_tokens': 45, 'total_tokens': 310, 'completion_time': 0.685503567, 'prompt_time': 0.01161922, 'queue_time': 0.216528646, 'total_time': 0.697122787}, 'model_name': 'llama-3.3-70b-versatile', 'system_fingerprint': 'fp_2ddfbb0da0', 'service_tier': 'on_demand', 'finish_reason': 'stop', 'logprobs': None}, id='run--d308a542-e2a1-4fd9-b141-1f6f18dbe1c5-0', usage_metadata={'input_tokens': 45, 'output_tokens': 265, 'total_tokens': 310})"
      ]
     },
     "execution_count": 4,
     "metadata": {},
     "output_type": "execute_result"
    }
   ],
   "source": [
    "llm.invoke(\"Hi do you think I am a good person?\")"
   ]
  },
  {
   "cell_type": "code",
   "execution_count": 6,
   "id": "13b2c2dd",
   "metadata": {},
   "outputs": [],
   "source": [
    "from langgraph.graph import MessagesState, StateGraph, END, START\n",
    "from langchain_core.messages import HumanMessage, SystemMessage, AnyMessage\n",
    "from langchain_community.tools import DuckDuckGoSearchResults\n",
    "from langgraph.prebuilt import tools_condition, ToolNode\n",
    "from IPython.display import Image, display\n",
    "from typing import Annotated, TypedDict\n",
    "import operator\n",
    "from langgraph.graph.message import add_messages\n"
   ]
  },
  {
   "cell_type": "code",
   "execution_count": 1,
   "id": "b1231510",
   "metadata": {},
   "outputs": [],
   "source": [
    "def multiply(a: int, b: int) -> int:\n",
    "    \"\"\" Multiply the two numbers a and b and return the result \"\"\"\n",
    "    return a*b"
   ]
  },
  {
   "cell_type": "code",
   "execution_count": null,
   "id": "ebf115ff",
   "metadata": {},
   "outputs": [],
   "source": []
  },
  {
   "cell_type": "code",
   "execution_count": null,
   "id": "ad7e12e8",
   "metadata": {},
   "outputs": [],
   "source": []
  },
  {
   "cell_type": "code",
   "execution_count": null,
   "id": "7477f002",
   "metadata": {},
   "outputs": [],
   "source": []
  },
  {
   "cell_type": "code",
   "execution_count": null,
   "id": "af0ce256",
   "metadata": {},
   "outputs": [],
   "source": []
  },
  {
   "cell_type": "code",
   "execution_count": null,
   "id": "ceec6223",
   "metadata": {},
   "outputs": [],
   "source": []
  },
  {
   "cell_type": "code",
   "execution_count": null,
   "id": "e9e1d35c",
   "metadata": {},
   "outputs": [],
   "source": []
  },
  {
   "cell_type": "code",
   "execution_count": null,
   "id": "32f7d260",
   "metadata": {},
   "outputs": [],
   "source": []
  }
 ],
 "metadata": {
  "kernelspec": {
   "display_name": "Python 3",
   "language": "python",
   "name": "python3"
  },
  "language_info": {
   "codemirror_mode": {
    "name": "ipython",
    "version": 3
   },
   "file_extension": ".py",
   "mimetype": "text/x-python",
   "name": "python",
   "nbconvert_exporter": "python",
   "pygments_lexer": "ipython3",
   "version": "3.10.18"
  }
 },
 "nbformat": 4,
 "nbformat_minor": 5
}
