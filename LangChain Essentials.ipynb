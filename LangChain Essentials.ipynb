{
 "cells": [
  {
   "cell_type": "code",
   "execution_count": 1,
   "id": "a8526bc3",
   "metadata": {},
   "outputs": [],
   "source": [
    "import os\n",
    "import warnings\n",
    "warnings.filterwarnings(\"ignore\")"
   ]
  },
  {
   "cell_type": "code",
   "execution_count": 2,
   "id": "497a82ca",
   "metadata": {},
   "outputs": [
    {
     "data": {
      "text/plain": [
       "True"
      ]
     },
     "execution_count": 2,
     "metadata": {},
     "output_type": "execute_result"
    }
   ],
   "source": [
    "from dotenv import load_dotenv\n",
    "load_dotenv()"
   ]
  },
  {
   "cell_type": "code",
   "execution_count": 3,
   "id": "41daa698",
   "metadata": {},
   "outputs": [],
   "source": [
    "GOOGLE_API_KEY=os.getenv(\"GOOGLE_API_KEY\")\n",
    "os.environ[\"GOOGLE_API_KEY\"] = GOOGLE_API_KEY"
   ]
  },
  {
   "cell_type": "markdown",
   "id": "aedebc2e",
   "metadata": {},
   "source": [
    "### Loading the Model and Testing it"
   ]
  },
  {
   "cell_type": "code",
   "execution_count": 4,
   "id": "3ddc23f7",
   "metadata": {},
   "outputs": [],
   "source": [
    "from langchain_core.messages import HumanMessage, SystemMessage"
   ]
  },
  {
   "cell_type": "code",
   "execution_count": 5,
   "id": "57121fda",
   "metadata": {},
   "outputs": [],
   "source": [
    "from langchain_google_genai import ChatGoogleGenerativeAI\n",
    "from google import genai"
   ]
  },
  {
   "cell_type": "code",
   "execution_count": 6,
   "id": "9f17ce45",
   "metadata": {},
   "outputs": [
    {
     "name": "stdout",
     "output_type": "stream",
     "text": [
      "models/embedding-gecko-001\n",
      "models/gemini-1.5-pro-latest\n",
      "models/gemini-1.5-pro-002\n",
      "models/gemini-1.5-pro\n",
      "models/gemini-1.5-flash-latest\n",
      "models/gemini-1.5-flash\n",
      "models/gemini-1.5-flash-002\n",
      "models/gemini-1.5-flash-8b\n",
      "models/gemini-1.5-flash-8b-001\n",
      "models/gemini-1.5-flash-8b-latest\n",
      "models/gemini-2.5-pro-preview-03-25\n",
      "models/gemini-2.5-flash-preview-05-20\n",
      "models/gemini-2.5-flash\n",
      "models/gemini-2.5-flash-lite-preview-06-17\n",
      "models/gemini-2.5-pro-preview-05-06\n",
      "models/gemini-2.5-pro-preview-06-05\n",
      "models/gemini-2.5-pro\n",
      "models/gemini-2.0-flash-exp\n",
      "models/gemini-2.0-flash\n",
      "models/gemini-2.0-flash-001\n",
      "models/gemini-2.0-flash-exp-image-generation\n",
      "models/gemini-2.0-flash-lite-001\n",
      "models/gemini-2.0-flash-lite\n",
      "models/gemini-2.0-flash-preview-image-generation\n",
      "models/gemini-2.0-flash-lite-preview-02-05\n",
      "models/gemini-2.0-flash-lite-preview\n",
      "models/gemini-2.0-pro-exp\n",
      "models/gemini-2.0-pro-exp-02-05\n",
      "models/gemini-exp-1206\n",
      "models/gemini-2.0-flash-thinking-exp-01-21\n",
      "models/gemini-2.0-flash-thinking-exp\n",
      "models/gemini-2.0-flash-thinking-exp-1219\n",
      "models/gemini-2.5-flash-preview-tts\n",
      "models/gemini-2.5-pro-preview-tts\n",
      "models/learnlm-2.0-flash-experimental\n",
      "models/gemma-3-1b-it\n",
      "models/gemma-3-4b-it\n",
      "models/gemma-3-12b-it\n",
      "models/gemma-3-27b-it\n",
      "models/gemma-3n-e4b-it\n",
      "models/gemma-3n-e2b-it\n",
      "models/gemini-2.5-flash-lite\n",
      "models/embedding-001\n",
      "models/text-embedding-004\n",
      "models/gemini-embedding-exp-03-07\n",
      "models/gemini-embedding-exp\n",
      "models/gemini-embedding-001\n",
      "models/aqa\n",
      "models/imagen-3.0-generate-002\n",
      "models/imagen-4.0-generate-preview-06-06\n",
      "models/imagen-4.0-ultra-generate-preview-06-06\n",
      "models/imagen-4.0-generate-001\n",
      "models/imagen-4.0-ultra-generate-001\n",
      "models/imagen-4.0-fast-generate-001\n",
      "models/veo-2.0-generate-001\n",
      "models/veo-3.0-generate-preview\n",
      "models/veo-3.0-fast-generate-preview\n",
      "models/gemini-2.5-flash-preview-native-audio-dialog\n",
      "models/gemini-2.5-flash-exp-native-audio-thinking-dialog\n",
      "models/gemini-2.0-flash-live-001\n",
      "models/gemini-live-2.5-flash-preview\n",
      "models/gemini-2.5-flash-live-preview\n"
     ]
    }
   ],
   "source": [
    "client = genai.Client(api_key=os.environ[\"GOOGLE_API_KEY\"])\n",
    "\n",
    "for model in client.models.list():\n",
    "    print(model.name)"
   ]
  },
  {
   "cell_type": "code",
   "execution_count": 7,
   "id": "52a92620",
   "metadata": {},
   "outputs": [],
   "source": [
    "model = ChatGoogleGenerativeAI(model=\"gemini-2.5-pro\", convert_system_message_to_human=True)"
   ]
  },
  {
   "cell_type": "code",
   "execution_count": 8,
   "id": "fb25459a",
   "metadata": {},
   "outputs": [],
   "source": [
    "message = [SystemMessage(content=\"You are a helpful assistant.\"), HumanMessage(content=\"What is the capital of India?\")]"
   ]
  },
  {
   "cell_type": "code",
   "execution_count": 9,
   "id": "0aa38040",
   "metadata": {},
   "outputs": [],
   "source": [
    "message2 = [SystemMessage(content=\"You are a helpful assistant and always come up with funny answers.\"), HumanMessage(content=\"What is the capital of India?\")]"
   ]
  },
  {
   "cell_type": "code",
   "execution_count": 10,
   "id": "5567a2b6",
   "metadata": {},
   "outputs": [
    {
     "data": {
      "text/plain": [
       "AIMessage(content='The capital of India is **New Delhi**.', additional_kwargs={}, response_metadata={'prompt_feedback': {'block_reason': 0, 'safety_ratings': []}, 'finish_reason': 'STOP', 'safety_ratings': []}, id='run--73c6385f-d930-4cb9-beae-9f58a655a880-0', usage_metadata={'input_tokens': 14, 'output_tokens': 9, 'total_tokens': 317, 'input_token_details': {'cache_read': 0}})"
      ]
     },
     "execution_count": 10,
     "metadata": {},
     "output_type": "execute_result"
    }
   ],
   "source": [
    "model.invoke(message)"
   ]
  },
  {
   "cell_type": "code",
   "execution_count": 11,
   "id": "758d7304",
   "metadata": {},
   "outputs": [
    {
     "data": {
      "text/plain": [
       "AIMessage(content=\"Oh, that's a *capital* question!\\n\\nThe capital of India is **New Delhi**.\\n\\nIt's right next to Old Delhi, which I assume is where all the vintage, artisanal traffic jams are located.\", additional_kwargs={}, response_metadata={'prompt_feedback': {'block_reason': 0, 'safety_ratings': []}, 'finish_reason': 'STOP', 'safety_ratings': []}, id='run--1ee17b2b-67d2-469e-870f-6bcd13891315-0', usage_metadata={'input_tokens': 21, 'output_tokens': 46, 'total_tokens': 1125, 'input_token_details': {'cache_read': 0}})"
      ]
     },
     "execution_count": 11,
     "metadata": {},
     "output_type": "execute_result"
    }
   ],
   "source": [
    "model.invoke(message2)"
   ]
  },
  {
   "cell_type": "markdown",
   "id": "ba2f1db8",
   "metadata": {},
   "source": [
    "### Use Output Parser"
   ]
  },
  {
   "cell_type": "code",
   "execution_count": 12,
   "id": "7b24a103",
   "metadata": {},
   "outputs": [],
   "source": [
    "from langchain_core.output_parsers import StrOutputParser"
   ]
  },
  {
   "cell_type": "code",
   "execution_count": 13,
   "id": "a5f78732",
   "metadata": {},
   "outputs": [],
   "source": [
    "parser = StrOutputParser()"
   ]
  },
  {
   "cell_type": "code",
   "execution_count": 14,
   "id": "5e18c63b",
   "metadata": {},
   "outputs": [],
   "source": [
    "response = model.invoke(message)"
   ]
  },
  {
   "cell_type": "code",
   "execution_count": 15,
   "id": "c131274a",
   "metadata": {},
   "outputs": [],
   "source": [
    "response2 = model.invoke(message2)"
   ]
  },
  {
   "cell_type": "code",
   "execution_count": 16,
   "id": "119c8a38",
   "metadata": {},
   "outputs": [
    {
     "data": {
      "text/plain": [
       "'The capital of India is **New Delhi**.'"
      ]
     },
     "execution_count": 16,
     "metadata": {},
     "output_type": "execute_result"
    }
   ],
   "source": [
    "parser.invoke(response)"
   ]
  },
  {
   "cell_type": "code",
   "execution_count": 17,
   "id": "36f5e443",
   "metadata": {},
   "outputs": [
    {
     "data": {
      "text/plain": [
       "'Oh, that\\'s an easy one! The capital of India is **New Delhi**.\\n\\nIt\\'s the city that got the \"new\" in its name because \"Old Delhi\" was too busy perfecting street food recipes to deal with all the governmental paperwork. A wise choice, if you ask me.'"
      ]
     },
     "execution_count": 17,
     "metadata": {},
     "output_type": "execute_result"
    }
   ],
   "source": [
    "parser.invoke(response2)"
   ]
  },
  {
   "cell_type": "markdown",
   "id": "872ef51c",
   "metadata": {},
   "source": [
    "### Chaining with LCEL"
   ]
  },
  {
   "cell_type": "code",
   "execution_count": 18,
   "id": "e5186fee",
   "metadata": {},
   "outputs": [],
   "source": [
    "chain = model | parser"
   ]
  },
  {
   "cell_type": "code",
   "execution_count": 19,
   "id": "368c9880",
   "metadata": {},
   "outputs": [
    {
     "data": {
      "text/plain": [
       "'The capital of India is **New Delhi**.'"
      ]
     },
     "execution_count": 19,
     "metadata": {},
     "output_type": "execute_result"
    }
   ],
   "source": [
    "chain.invoke(message)"
   ]
  },
  {
   "cell_type": "code",
   "execution_count": 20,
   "id": "65a2e39e",
   "metadata": {},
   "outputs": [
    {
     "data": {
      "text/plain": [
       "'Oh, that\\'s an easy one! The capital of India is **New Delhi**.\\n\\nIt\\'s not to be confused with an \"Old Deli,\" which is where you\\'d find a questionable pastrami sandwich that\\'s been sitting out all day.\\n\\nNew Delhi is the political hub, the home of spicy debates, and unofficially, the world capital of creatively using your car horn.'"
      ]
     },
     "execution_count": 20,
     "metadata": {},
     "output_type": "execute_result"
    }
   ],
   "source": [
    "chain.invoke(message2)"
   ]
  },
  {
   "cell_type": "markdown",
   "id": "5d19b551",
   "metadata": {},
   "source": [
    "### Prompt Templating"
   ]
  },
  {
   "cell_type": "code",
   "execution_count": 21,
   "id": "374f09a9",
   "metadata": {},
   "outputs": [],
   "source": [
    "from langchain_core.prompts import ChatPromptTemplate"
   ]
  },
  {
   "cell_type": "code",
   "execution_count": 22,
   "id": "6f2bd21f",
   "metadata": {},
   "outputs": [],
   "source": [
    "prompt_template = ChatPromptTemplate.from_messages(\n",
    "    [(\"system\", \"translate the following text to {language}\"), (\"user\", \"{text}\")]\n",
    ")"
   ]
  },
  {
   "cell_type": "code",
   "execution_count": 23,
   "id": "3b56b856",
   "metadata": {},
   "outputs": [],
   "source": [
    "prompt = prompt_template.invoke({\"language\": \"French\", \"text\": \"I started learning a new topic today, I want to be a good person\"})"
   ]
  },
  {
   "cell_type": "code",
   "execution_count": 24,
   "id": "d8280639",
   "metadata": {},
   "outputs": [
    {
     "data": {
      "text/plain": [
       "'Of course! Here are a few ways to translate that, from the most direct to slightly more nuanced options.\\n\\n**Most direct translation:**\\n\\n> **J\\'ai commencé à apprendre un nouveau sujet aujourd\\'hui, je veux être une bonne personne.**\\n\\n---\\n\\n**Slightly more fluid alternatives:**\\n\\n> **Aujourd\\'hui, j\\'ai commencé à apprendre un nouveau sujet et je veux devenir une bonne personne.**\\n(This version uses \"aujourd\\'hui\" at the beginning, which is common in French, and adds \"et\" (and) to connect the two ideas. It also uses \"devenir\" (to become), which is a very natural way to express this.)\\n\\n> **J\\'ai commencé à étudier un nouveau thème aujourd\\'hui. Je veux être quelqu\\'un de bien.**\\n(This version uses \"étudier\" (to study) and \"quelqu\\'un de bien\" (someone good), which is another common way to say \"a good person.\")'"
      ]
     },
     "execution_count": 24,
     "metadata": {},
     "output_type": "execute_result"
    }
   ],
   "source": [
    "parser.invoke(model.invoke(prompt))"
   ]
  },
  {
   "cell_type": "code",
   "execution_count": 25,
   "id": "5b0dd566",
   "metadata": {},
   "outputs": [
    {
     "data": {
      "text/plain": [
       "[SystemMessage(content='translate the following text to French', additional_kwargs={}, response_metadata={}),\n",
       " HumanMessage(content='I started learning a new topic today, I want to be a good person', additional_kwargs={}, response_metadata={})]"
      ]
     },
     "execution_count": 25,
     "metadata": {},
     "output_type": "execute_result"
    }
   ],
   "source": [
    "prompt.to_messages()"
   ]
  },
  {
   "cell_type": "markdown",
   "id": "0bf2ef44",
   "metadata": {},
   "source": [
    "### Chaining the Prompt Template, Model and Parser"
   ]
  },
  {
   "cell_type": "code",
   "execution_count": 26,
   "id": "710e0af3",
   "metadata": {},
   "outputs": [],
   "source": [
    "chain = prompt_template | model | parser"
   ]
  },
  {
   "cell_type": "code",
   "execution_count": 27,
   "id": "e04f2f33",
   "metadata": {},
   "outputs": [
    {
     "data": {
      "text/plain": [
       "'Of course! Here is the translation in Marathi.\\n\\n**मी आज एक नवीन भाषा शिकत आहे, मला एक चांगला माणूस व्हायचं आहे.**\\n\\n---\\n\\n**Roman Transliteration (for pronunciation):**\\n\\n*Mī āj ek navīn bhāṣā shikat āhe, malā ek chānglā māṇūs vhāycha āhe.*\\n\\n---\\n\\n**Breakdown of the translation:**\\n\\n*   **मी (Mī)** = I\\n*   **आज (āj)** = today\\n*   **एक नवीन भाषा (ek navīn bhāṣā)** = a new language\\n*   **शिकत आहे (shikat āhe)** = am learning\\n*   **मला (malā)** = I (used here to express a want/desire)\\n*   **एक चांगला माणूस (ek chānglā māṇūs)** = a good person\\n*   **व्हायचं आहे (vhāycha āhe)** = want to be / become'"
      ]
     },
     "execution_count": 27,
     "metadata": {},
     "output_type": "execute_result"
    }
   ],
   "source": [
    "chain.invoke({\"language\": \"marathi\", \"text\": \"I am learning a new language today, I want to be a good person\"})"
   ]
  },
  {
   "cell_type": "code",
   "execution_count": 28,
   "id": "882b5dc4",
   "metadata": {},
   "outputs": [],
   "source": [
    "LANGCHAIN_API_KEY=os.getenv(\"LANGCHAIN_API_KEY\")\n",
    "LANGCHAIN_TRACING=os.getenv(\"LANGCHAIN_TRACING\")"
   ]
  },
  {
   "cell_type": "code",
   "execution_count": 29,
   "id": "1ac39537",
   "metadata": {},
   "outputs": [],
   "source": [
    "os.environ[\"LANGCHAIN_API_KEY\"] = LANGCHAIN_API_KEY\n",
    "os.environ[\"LANGCHAIN_TRACING\"] = LANGCHAIN_TRACING"
   ]
  },
  {
   "cell_type": "code",
   "execution_count": null,
   "id": "74e2b5f9",
   "metadata": {},
   "outputs": [],
   "source": []
  },
  {
   "cell_type": "code",
   "execution_count": null,
   "id": "33f3a153",
   "metadata": {},
   "outputs": [],
   "source": []
  }
 ],
 "metadata": {
  "kernelspec": {
   "display_name": "langgraph",
   "language": "python",
   "name": "python3"
  },
  "language_info": {
   "codemirror_mode": {
    "name": "ipython",
    "version": 3
   },
   "file_extension": ".py",
   "mimetype": "text/x-python",
   "name": "python",
   "nbconvert_exporter": "python",
   "pygments_lexer": "ipython3",
   "version": "3.10.18"
  }
 },
 "nbformat": 4,
 "nbformat_minor": 5
}
