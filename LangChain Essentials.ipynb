{
 "cells": [
  {
   "cell_type": "code",
   "execution_count": 1,
   "id": "a8526bc3",
   "metadata": {},
   "outputs": [],
   "source": [
    "import os\n",
    "import warnings\n",
    "warnings.filterwarnings(\"ignore\")"
   ]
  },
  {
   "cell_type": "code",
   "execution_count": 32,
   "id": "497a82ca",
   "metadata": {},
   "outputs": [
    {
     "data": {
      "text/plain": [
       "True"
      ]
     },
     "execution_count": 32,
     "metadata": {},
     "output_type": "execute_result"
    }
   ],
   "source": [
    "from dotenv import load_dotenv\n",
    "load_dotenv()"
   ]
  },
  {
   "cell_type": "code",
   "execution_count": 3,
   "id": "41daa698",
   "metadata": {},
   "outputs": [],
   "source": [
    "GOOGLE_API_KEY=os.getenv(\"GOOGLE_API_KEY\")\n",
    "os.environ[\"GOOGLE_API_KEY\"] = GOOGLE_API_KEY"
   ]
  },
  {
   "cell_type": "markdown",
   "id": "aedebc2e",
   "metadata": {},
   "source": [
    "### Loading the Model and Testing it"
   ]
  },
  {
   "cell_type": "code",
   "execution_count": 4,
   "id": "3ddc23f7",
   "metadata": {},
   "outputs": [],
   "source": [
    "from langchain_core.messages import HumanMessage, SystemMessage"
   ]
  },
  {
   "cell_type": "code",
   "execution_count": 5,
   "id": "57121fda",
   "metadata": {},
   "outputs": [],
   "source": [
    "from langchain_google_genai import ChatGoogleGenerativeAI\n",
    "from google import genai"
   ]
  },
  {
   "cell_type": "code",
   "execution_count": 6,
   "id": "9f17ce45",
   "metadata": {},
   "outputs": [
    {
     "name": "stdout",
     "output_type": "stream",
     "text": [
      "models/embedding-gecko-001\n",
      "models/gemini-1.5-pro-latest\n",
      "models/gemini-1.5-pro-002\n",
      "models/gemini-1.5-pro\n",
      "models/gemini-1.5-flash-latest\n",
      "models/gemini-1.5-flash\n",
      "models/gemini-1.5-flash-002\n",
      "models/gemini-1.5-flash-8b\n",
      "models/gemini-1.5-flash-8b-001\n",
      "models/gemini-1.5-flash-8b-latest\n",
      "models/gemini-2.5-pro-preview-03-25\n",
      "models/gemini-2.5-flash-preview-05-20\n",
      "models/gemini-2.5-flash\n",
      "models/gemini-2.5-flash-lite-preview-06-17\n",
      "models/gemini-2.5-pro-preview-05-06\n",
      "models/gemini-2.5-pro-preview-06-05\n",
      "models/gemini-2.5-pro\n",
      "models/gemini-2.0-flash-exp\n",
      "models/gemini-2.0-flash\n",
      "models/gemini-2.0-flash-001\n",
      "models/gemini-2.0-flash-exp-image-generation\n",
      "models/gemini-2.0-flash-lite-001\n",
      "models/gemini-2.0-flash-lite\n",
      "models/gemini-2.0-flash-preview-image-generation\n",
      "models/gemini-2.0-flash-lite-preview-02-05\n",
      "models/gemini-2.0-flash-lite-preview\n",
      "models/gemini-2.0-pro-exp\n",
      "models/gemini-2.0-pro-exp-02-05\n",
      "models/gemini-exp-1206\n",
      "models/gemini-2.0-flash-thinking-exp-01-21\n",
      "models/gemini-2.0-flash-thinking-exp\n",
      "models/gemini-2.0-flash-thinking-exp-1219\n",
      "models/gemini-2.5-flash-preview-tts\n",
      "models/gemini-2.5-pro-preview-tts\n",
      "models/learnlm-2.0-flash-experimental\n",
      "models/gemma-3-1b-it\n",
      "models/gemma-3-4b-it\n",
      "models/gemma-3-12b-it\n",
      "models/gemma-3-27b-it\n",
      "models/gemma-3n-e4b-it\n",
      "models/gemma-3n-e2b-it\n",
      "models/gemini-2.5-flash-lite\n",
      "models/embedding-001\n",
      "models/text-embedding-004\n",
      "models/gemini-embedding-exp-03-07\n",
      "models/gemini-embedding-exp\n",
      "models/gemini-embedding-001\n",
      "models/aqa\n",
      "models/imagen-3.0-generate-002\n",
      "models/imagen-4.0-generate-preview-06-06\n",
      "models/imagen-4.0-ultra-generate-preview-06-06\n",
      "models/imagen-4.0-generate-001\n",
      "models/imagen-4.0-ultra-generate-001\n",
      "models/imagen-4.0-fast-generate-001\n",
      "models/veo-2.0-generate-001\n",
      "models/veo-3.0-generate-preview\n",
      "models/veo-3.0-fast-generate-preview\n",
      "models/gemini-2.5-flash-preview-native-audio-dialog\n",
      "models/gemini-2.5-flash-exp-native-audio-thinking-dialog\n",
      "models/gemini-2.0-flash-live-001\n",
      "models/gemini-live-2.5-flash-preview\n",
      "models/gemini-2.5-flash-live-preview\n"
     ]
    }
   ],
   "source": [
    "client = genai.Client(api_key=os.environ[\"GOOGLE_API_KEY\"])\n",
    "\n",
    "for model in client.models.list():\n",
    "    print(model.name)"
   ]
  },
  {
   "cell_type": "code",
   "execution_count": 7,
   "id": "52a92620",
   "metadata": {},
   "outputs": [],
   "source": [
    "model = ChatGoogleGenerativeAI(model=\"gemini-2.5-pro\", convert_system_message_to_human=True)"
   ]
  },
  {
   "cell_type": "code",
   "execution_count": 8,
   "id": "fb25459a",
   "metadata": {},
   "outputs": [],
   "source": [
    "message = [SystemMessage(content=\"You are a helpful assistant.\"), HumanMessage(content=\"What is the capital of India?\")]"
   ]
  },
  {
   "cell_type": "code",
   "execution_count": 9,
   "id": "0aa38040",
   "metadata": {},
   "outputs": [],
   "source": [
    "message2 = [SystemMessage(content=\"You are a helpful assistant and always come up with funny answers.\"), HumanMessage(content=\"What is the capital of India?\")]"
   ]
  },
  {
   "cell_type": "code",
   "execution_count": 10,
   "id": "5567a2b6",
   "metadata": {},
   "outputs": [
    {
     "data": {
      "text/plain": [
       "AIMessage(content='The capital of India is **New Delhi**.', additional_kwargs={}, response_metadata={'prompt_feedback': {'block_reason': 0, 'safety_ratings': []}, 'finish_reason': 'STOP', 'safety_ratings': []}, id='run--951c54c6-8787-4e12-ac8b-7413e33a2a38-0', usage_metadata={'input_tokens': 14, 'output_tokens': 9, 'total_tokens': 325, 'input_token_details': {'cache_read': 0}})"
      ]
     },
     "execution_count": 10,
     "metadata": {},
     "output_type": "execute_result"
    }
   ],
   "source": [
    "model.invoke(message)"
   ]
  },
  {
   "cell_type": "code",
   "execution_count": 11,
   "id": "758d7304",
   "metadata": {},
   "outputs": [
    {
     "data": {
      "text/plain": [
       "AIMessage(content='Ah, a classic! The capital of India is the city that\\'s so nice, they put \"New\" in front of it to distinguish it from its older, wiser, and slightly more chaotic sibling.\\n\\nIt\\'s **New Delhi**!\\n\\nIt\\'s a truly *capital* idea to know that one. I\\'ll see myself out.', additional_kwargs={}, response_metadata={'prompt_feedback': {'block_reason': 0, 'safety_ratings': []}, 'finish_reason': 'STOP', 'safety_ratings': []}, id='run--e7e9a7a9-65a9-4eee-889e-8e71146d2e69-0', usage_metadata={'input_tokens': 21, 'output_tokens': 73, 'total_tokens': 1093, 'input_token_details': {'cache_read': 0}})"
      ]
     },
     "execution_count": 11,
     "metadata": {},
     "output_type": "execute_result"
    }
   ],
   "source": [
    "model.invoke(message2)"
   ]
  },
  {
   "cell_type": "markdown",
   "id": "ba2f1db8",
   "metadata": {},
   "source": [
    "### Use Output Parser"
   ]
  },
  {
   "cell_type": "code",
   "execution_count": 12,
   "id": "7b24a103",
   "metadata": {},
   "outputs": [],
   "source": [
    "from langchain_core.output_parsers import StrOutputParser"
   ]
  },
  {
   "cell_type": "code",
   "execution_count": 13,
   "id": "a5f78732",
   "metadata": {},
   "outputs": [],
   "source": [
    "parser = StrOutputParser()"
   ]
  },
  {
   "cell_type": "code",
   "execution_count": 14,
   "id": "5e18c63b",
   "metadata": {},
   "outputs": [],
   "source": [
    "response = model.invoke(message)"
   ]
  },
  {
   "cell_type": "code",
   "execution_count": 15,
   "id": "c131274a",
   "metadata": {},
   "outputs": [],
   "source": [
    "response2 = model.invoke(message2)"
   ]
  },
  {
   "cell_type": "code",
   "execution_count": 16,
   "id": "119c8a38",
   "metadata": {},
   "outputs": [
    {
     "data": {
      "text/plain": [
       "'The capital of India is **New Delhi**.'"
      ]
     },
     "execution_count": 16,
     "metadata": {},
     "output_type": "execute_result"
    }
   ],
   "source": [
    "parser.invoke(response)"
   ]
  },
  {
   "cell_type": "code",
   "execution_count": 17,
   "id": "36f5e443",
   "metadata": {},
   "outputs": [
    {
     "data": {
      "text/plain": [
       "\"Oh, that's an easy one! The capital of India is **New Delhi**.\\n\\nJust be careful not to get it confused with its older sibling, Old Delhi, which is right next door and is probably still complaining about how the music in New Delhi is too loud.\""
      ]
     },
     "execution_count": 17,
     "metadata": {},
     "output_type": "execute_result"
    }
   ],
   "source": [
    "parser.invoke(response2)"
   ]
  },
  {
   "cell_type": "markdown",
   "id": "872ef51c",
   "metadata": {},
   "source": [
    "### Chaining with LCEL"
   ]
  },
  {
   "cell_type": "code",
   "execution_count": 18,
   "id": "e5186fee",
   "metadata": {},
   "outputs": [],
   "source": [
    "chain = model | parser"
   ]
  },
  {
   "cell_type": "code",
   "execution_count": 19,
   "id": "368c9880",
   "metadata": {},
   "outputs": [
    {
     "data": {
      "text/plain": [
       "'The capital of India is **New Delhi**.'"
      ]
     },
     "execution_count": 19,
     "metadata": {},
     "output_type": "execute_result"
    }
   ],
   "source": [
    "chain.invoke(message)"
   ]
  },
  {
   "cell_type": "code",
   "execution_count": 20,
   "id": "65a2e39e",
   "metadata": {},
   "outputs": [
    {
     "data": {
      "text/plain": [
       "\"Why, it's the one and only **New Delhi**!\\n\\nIt's a city that runs on two things: delicious chai and the sheer audacity of its drivers. The local birds are also rumored to be excellent navigators, having learned from watching the rickshaws.\""
      ]
     },
     "execution_count": 20,
     "metadata": {},
     "output_type": "execute_result"
    }
   ],
   "source": [
    "chain.invoke(message2)"
   ]
  },
  {
   "cell_type": "markdown",
   "id": "5d19b551",
   "metadata": {},
   "source": [
    "### Prompt Templating"
   ]
  },
  {
   "cell_type": "code",
   "execution_count": 21,
   "id": "374f09a9",
   "metadata": {},
   "outputs": [],
   "source": [
    "from langchain_core.prompts import ChatPromptTemplate"
   ]
  },
  {
   "cell_type": "code",
   "execution_count": 22,
   "id": "6f2bd21f",
   "metadata": {},
   "outputs": [],
   "source": [
    "prompt_template = ChatPromptTemplate.from_messages(\n",
    "    [(\"system\", \"translate the following text to {language}\"), (\"user\", \"{text}\")]\n",
    ")"
   ]
  },
  {
   "cell_type": "code",
   "execution_count": 23,
   "id": "3b56b856",
   "metadata": {},
   "outputs": [],
   "source": [
    "prompt = prompt_template.invoke({\"language\": \"French\", \"text\": \"I started learning a new topic today, I want to be a good person\"})"
   ]
  },
  {
   "cell_type": "code",
   "execution_count": 24,
   "id": "d8280639",
   "metadata": {},
   "outputs": [
    {
     "data": {
      "text/plain": [
       "'Of course! Here are a few ways to translate that, from the most direct to slightly more nuanced options.\\n\\n**Direct translation:**\\n\\n> **J\\'ai commencé à apprendre un nouveau sujet aujourd\\'hui, je veux être une bonne personne.**\\n\\n---\\n\\nHere are a few other natural-sounding options:\\n\\n*   **Aujourd\\'hui, j\\'ai commencé à apprendre un nouveau sujet. Je veux devenir une bonne personne.**\\n    *(This version uses \"devenir\" which means \"to become,\" often used in this context.)*\\n\\n*   **J\\'ai commencé un nouveau sujet aujourd\\'hui, et j\\'aimerais être une bonne personne.**\\n    *(This uses \"j\\'aimerais,\" which means \"I would like,\" a slightly softer and more common way to express a wish.)*'"
      ]
     },
     "execution_count": 24,
     "metadata": {},
     "output_type": "execute_result"
    }
   ],
   "source": [
    "parser.invoke(model.invoke(prompt))"
   ]
  },
  {
   "cell_type": "code",
   "execution_count": 25,
   "id": "5b0dd566",
   "metadata": {},
   "outputs": [
    {
     "data": {
      "text/plain": [
       "[SystemMessage(content='translate the following text to French', additional_kwargs={}, response_metadata={}),\n",
       " HumanMessage(content='I started learning a new topic today, I want to be a good person', additional_kwargs={}, response_metadata={})]"
      ]
     },
     "execution_count": 25,
     "metadata": {},
     "output_type": "execute_result"
    }
   ],
   "source": [
    "prompt.to_messages()"
   ]
  },
  {
   "cell_type": "markdown",
   "id": "0bf2ef44",
   "metadata": {},
   "source": [
    "### Chaining the Prompt Template, Model and Parser"
   ]
  },
  {
   "cell_type": "code",
   "execution_count": 26,
   "id": "710e0af3",
   "metadata": {},
   "outputs": [],
   "source": [
    "chain = prompt_template | model | parser"
   ]
  },
  {
   "cell_type": "code",
   "execution_count": 27,
   "id": "e04f2f33",
   "metadata": {},
   "outputs": [
    {
     "data": {
      "text/plain": [
       "'Of course! Here\\'s the translation in Marathi:\\n\\n**मी आज एक नवीन भाषा शिकत आहे, मला एक चांगला माणूस व्हायचं आहे.**\\n\\n(Mī āj ek navīn bhāṣā shikat āhe, malā ek cāṅgalā māṇūs vhāyacha āhe.)\\n\\n---\\nHere\\'s a breakdown:\\n\\n*   **मी आज एक नवीन भाषा शिकत आहे** (Mī āj ek navīn bhāṣā shikat āhe) - \"I am learning a new language today.\"\\n*   **मला एक चांगला माणूस व्हायचं आहे** (Malā ek cāṅgalā māṇūs vhāyacha āhe) - \"I want to be a good person.\"'"
      ]
     },
     "execution_count": 27,
     "metadata": {},
     "output_type": "execute_result"
    }
   ],
   "source": [
    "chain.invoke({\"language\": \"marathi\", \"text\": \"I am learning a new language today, I want to be a good person\"})"
   ]
  },
  {
   "cell_type": "code",
   "execution_count": 28,
   "id": "882b5dc4",
   "metadata": {},
   "outputs": [],
   "source": [
    "LANGCHAIN_API_KEY=os.getenv(\"LANGCHAIN_API_KEY\")\n",
    "LANGCHAIN_TRACING=os.getenv(\"LANGCHAIN_TRACING\")"
   ]
  },
  {
   "cell_type": "code",
   "execution_count": 29,
   "id": "1ac39537",
   "metadata": {},
   "outputs": [],
   "source": [
    "os.environ[\"LANGCHAIN_API_KEY\"] = LANGCHAIN_API_KEY\n",
    "os.environ[\"LANGCHAIN_TRACING\"] = LANGCHAIN_TRACING"
   ]
  },
  {
   "cell_type": "markdown",
   "id": "8d5338b5",
   "metadata": {},
   "source": [
    "### Agents in LangChain"
   ]
  },
  {
   "cell_type": "code",
   "execution_count": 31,
   "id": "74e2b5f9",
   "metadata": {},
   "outputs": [],
   "source": [
    "from langchain_google_genai import ChatGoogleGenerativeAI\n",
    "from langchain_community.tools.tavily_search import TavilySearchResults\n",
    "from langchain_core.messages import HumanMessage\n",
    "from langgraph.checkpoint.memory import MemorySaver\n",
    "from langgraph.prebuilt import create_react_agent"
   ]
  },
  {
   "cell_type": "code",
   "execution_count": 33,
   "id": "82ada611",
   "metadata": {},
   "outputs": [],
   "source": [
    "memory = MemorySaver()"
   ]
  },
  {
   "cell_type": "code",
   "execution_count": 35,
   "id": "72e8c0f2",
   "metadata": {},
   "outputs": [],
   "source": [
    "search = TavilySearchResults(max_results=2, api_key=os.getenv(\"TAVILY_API_KEY\"))"
   ]
  },
  {
   "cell_type": "code",
   "execution_count": 36,
   "id": "664e61f6",
   "metadata": {},
   "outputs": [],
   "source": [
    "tools = [search]"
   ]
  },
  {
   "cell_type": "code",
   "execution_count": 41,
   "id": "9e5ea5a9",
   "metadata": {},
   "outputs": [],
   "source": [
    "agent_executor = create_react_agent(model, tools,checkpointer=memory)"
   ]
  },
  {
   "cell_type": "code",
   "execution_count": 42,
   "id": "98327886",
   "metadata": {},
   "outputs": [],
   "source": [
    "config = {\"configurable\": {\"thread_id\": \"abc123\"}}"
   ]
  },
  {
   "cell_type": "code",
   "execution_count": 45,
   "id": "33f3a153",
   "metadata": {},
   "outputs": [
    {
     "name": "stdout",
     "output_type": "stream",
     "text": [
      "{'agent': {'messages': [AIMessage(content='I can help with that! What city in the United States are you in? ', additional_kwargs={}, response_metadata={'prompt_feedback': {'block_reason': 0, 'safety_ratings': []}, 'finish_reason': 'STOP', 'safety_ratings': []}, id='run--f6f11c64-cc57-4388-8dd8-5ad2c7eb877f-0', usage_metadata={'input_tokens': 98, 'output_tokens': 16, 'total_tokens': 328, 'input_token_details': {'cache_read': 0}})]}}\n",
      "---\n"
     ]
    }
   ],
   "source": [
    "for chunk in agent_executor.stream({\"messages\": [HumanMessage(content=\"Hi I am Atharva and I live in United States. Can you tell me the current weather in my city?\")]}, config):\n",
    "    print(chunk)\n",
    "    print(\"---\")"
   ]
  },
  {
   "cell_type": "code",
   "execution_count": 46,
   "id": "bfe7a3dc",
   "metadata": {},
   "outputs": [
    {
     "name": "stdout",
     "output_type": "stream",
     "text": [
      "{'agent': {'messages': [AIMessage(content='', additional_kwargs={'function_call': {'name': 'tavily_search_results_json', 'arguments': '{\"query\": \"current weather in Orlando, Florida\"}'}}, response_metadata={'prompt_feedback': {'block_reason': 0, 'safety_ratings': []}, 'finish_reason': 'STOP', 'safety_ratings': []}, id='run--194a430c-6a22-41b0-80dd-0348d949f6f4-0', tool_calls=[{'name': 'tavily_search_results_json', 'args': {'query': 'current weather in Orlando, Florida'}, 'id': '9d6ceb63-f5af-40db-aa26-1ecae6e775ce', 'type': 'tool_call'}], usage_metadata={'input_tokens': 122, 'output_tokens': 26, 'total_tokens': 272, 'input_token_details': {'cache_read': 0}})]}}\n",
      "---\n",
      "{'tools': {'messages': [ToolMessage(content='[{\"title\": \"Orlando weather in August 2025 - Weather25.com\", \"url\": \"https://www.weather25.com/north-america/usa/florida/orlando?page=month&month=August\", \"content\": \"Patchy rain possible\\\\nFog\\\\nOvercast\\\\nFog\\\\nMist\\\\nPartly cloudy\\\\nLight rain shower\\\\nLight rain shower [...] weather25.com\\\\nSearch\\\\nweather in United States\\\\nRemove from your favorite locations\\\\nAdd to my locations\\\\nShare\\\\nweather in United States\\\\n\\\\n# Orlando weather in August 2025\\\\n\\\\nFog\\\\nOvercast\\\\nFog\\\\nMist\\\\nPartly cloudy\\\\nLight rain shower\\\\nLight rain shower\\\\nLight rain shower\\\\nLight rain shower\\\\nLight rain shower\\\\nLight rain shower\\\\nModerate or heavy rain shower\\\\nModerate rain at times\\\\nLight rain shower\\\\n\\\\n## The average weather in Orlando in August [...] | 17 Partly cloudy 33° /25° | 18 Light rain shower 34° /25° | 19 Moderate or heavy rain shower 34° /25° | 20 Light rain shower 34° /26° | 21 Torrential rain shower 34° /25° | 22 Patchy rain possible 34° /25° | 23 Moderate or heavy rain shower 32° /25° |\\\\n| 24 Patchy rain possible 32° /25° | 25 Fog 31° /24° | 26 Overcast 32° /24° | 27 Fog 31° /25° | 28 Mist 33° /25° | 29 Partly cloudy 34° /24° | 30 Light rain shower 32° /24° |\\\\n| 31 Light rain shower 30° /24° |  |  |  |  |  |  |\", \"score\": 0.8259413}, {\"title\": \"Downtown Orlando, FL Monthly Weather ...\", \"url\": \"https://www.accuweather.com/en/us/downtown-orlando/32801/august-weather/3593240\", \"content\": \"# Downtown Orlando, FL\\\\n\\\\nDowntown Orlando\\\\n\\\\nFlorida\\\\n\\\\n## Around the Globe\\\\n\\\\nAround the Globe\\\\n\\\\n### Hurricane Tracker\\\\n\\\\n### Severe Weather\\\\n\\\\n### Radar & Maps\\\\n\\\\n### News & Features\\\\n\\\\n### Astronomy\\\\n\\\\n### Business\\\\n\\\\n### Climate\\\\n\\\\n### Health\\\\n\\\\n### Recreation\\\\n\\\\n### Sports\\\\n\\\\n### Travel\\\\n\\\\n### Warnings\\\\n\\\\n### Data Suite\\\\n\\\\n### Forensics\\\\n\\\\n### Advertising\\\\n\\\\n### Superior Accuracy™\\\\n\\\\n### Video\\\\n\\\\n### Winter Center\\\\n\\\\n## Monthly\\\\n\\\\n## August\\\\n\\\\n## 2025\\\\n\\\\n## Daily\\\\n\\\\n## Temperature Graph\\\\n\\\\n## Further Ahead\\\\n\\\\nFurther Ahead\\\\n\\\\n### September 2025 [...] ### October 2025\\\\n\\\\n### November 2025\\\\n\\\\n## Around the Globe\\\\n\\\\nAround the Globe\\\\n\\\\n### Hurricane Tracker\\\\n\\\\n### Severe Weather\\\\n\\\\n### Radar & Maps\\\\n\\\\n### News\\\\n\\\\n### Video\\\\n\\\\n### Winter Center\\\\n\\\\nTop Stories\\\\n\\\\nWeather Forecasts\\\\n\\\\nTaste of fall to visit Great Lakes, Northeast this week\\\\n\\\\n8 hours ago\\\\n\\\\nWeather Forecasts\\\\n\\\\nLabor Day weekend forecast: Heat, storms may disrupt holiday plans\\\\n\\\\n7 hours ago\\\\n\\\\nHurricane\\\\n\\\\nTropical Storm Fernand tracking across the Atlantic\\\\n\\\\n8 hours ago\\\\n\\\\nHurricane [...] Beaches in tourist hotspot shut after rare, venomous sea slugs found\\\\n\\\\n3 days ago\\\\n\\\\nClimate\\\\n\\\\nWhy might a warming world makes cloudbursts even more dangerous?\\\\n\\\\n4 days ago\\\\n\\\\nWeather News\\\\n\\\\nNew dinosaur species with striking sail-like back discovered\\\\n\\\\n3 days ago\\\\n\\\\n## Weather Near Downtown Orlando:\\\\n\\\\n...\\\\n\\\\n...\\\\n\\\\n...\", \"score\": 0.43065065}]', name='tavily_search_results_json', id='850589e3-8ca2-409e-a0b3-0b180e9d341b', tool_call_id='9d6ceb63-f5af-40db-aa26-1ecae6e775ce', artifact={'query': 'current weather in Orlando, Florida', 'follow_up_questions': None, 'answer': None, 'images': [], 'results': [{'url': 'https://www.weather25.com/north-america/usa/florida/orlando?page=month&month=August', 'title': 'Orlando weather in August 2025 - Weather25.com', 'content': 'Patchy rain possible\\nFog\\nOvercast\\nFog\\nMist\\nPartly cloudy\\nLight rain shower\\nLight rain shower [...] weather25.com\\nSearch\\nweather in United States\\nRemove from your favorite locations\\nAdd to my locations\\nShare\\nweather in United States\\n\\n# Orlando weather in August 2025\\n\\nFog\\nOvercast\\nFog\\nMist\\nPartly cloudy\\nLight rain shower\\nLight rain shower\\nLight rain shower\\nLight rain shower\\nLight rain shower\\nLight rain shower\\nModerate or heavy rain shower\\nModerate rain at times\\nLight rain shower\\n\\n## The average weather in Orlando in August [...] | 17 Partly cloudy 33° /25° | 18 Light rain shower 34° /25° | 19 Moderate or heavy rain shower 34° /25° | 20 Light rain shower 34° /26° | 21 Torrential rain shower 34° /25° | 22 Patchy rain possible 34° /25° | 23 Moderate or heavy rain shower 32° /25° |\\n| 24 Patchy rain possible 32° /25° | 25 Fog 31° /24° | 26 Overcast 32° /24° | 27 Fog 31° /25° | 28 Mist 33° /25° | 29 Partly cloudy 34° /24° | 30 Light rain shower 32° /24° |\\n| 31 Light rain shower 30° /24° |  |  |  |  |  |  |', 'score': 0.8259413, 'raw_content': None}, {'url': 'https://www.accuweather.com/en/us/downtown-orlando/32801/august-weather/3593240', 'title': 'Downtown Orlando, FL Monthly Weather ...', 'content': '# Downtown Orlando, FL\\n\\nDowntown Orlando\\n\\nFlorida\\n\\n## Around the Globe\\n\\nAround the Globe\\n\\n### Hurricane Tracker\\n\\n### Severe Weather\\n\\n### Radar & Maps\\n\\n### News & Features\\n\\n### Astronomy\\n\\n### Business\\n\\n### Climate\\n\\n### Health\\n\\n### Recreation\\n\\n### Sports\\n\\n### Travel\\n\\n### Warnings\\n\\n### Data Suite\\n\\n### Forensics\\n\\n### Advertising\\n\\n### Superior Accuracy™\\n\\n### Video\\n\\n### Winter Center\\n\\n## Monthly\\n\\n## August\\n\\n## 2025\\n\\n## Daily\\n\\n## Temperature Graph\\n\\n## Further Ahead\\n\\nFurther Ahead\\n\\n### September 2025 [...] ### October 2025\\n\\n### November 2025\\n\\n## Around the Globe\\n\\nAround the Globe\\n\\n### Hurricane Tracker\\n\\n### Severe Weather\\n\\n### Radar & Maps\\n\\n### News\\n\\n### Video\\n\\n### Winter Center\\n\\nTop Stories\\n\\nWeather Forecasts\\n\\nTaste of fall to visit Great Lakes, Northeast this week\\n\\n8 hours ago\\n\\nWeather Forecasts\\n\\nLabor Day weekend forecast: Heat, storms may disrupt holiday plans\\n\\n7 hours ago\\n\\nHurricane\\n\\nTropical Storm Fernand tracking across the Atlantic\\n\\n8 hours ago\\n\\nHurricane [...] Beaches in tourist hotspot shut after rare, venomous sea slugs found\\n\\n3 days ago\\n\\nClimate\\n\\nWhy might a warming world makes cloudbursts even more dangerous?\\n\\n4 days ago\\n\\nWeather News\\n\\nNew dinosaur species with striking sail-like back discovered\\n\\n3 days ago\\n\\n## Weather Near Downtown Orlando:\\n\\n...\\n\\n...\\n\\n...', 'score': 0.43065065, 'raw_content': None}], 'response_time': 4.06, 'request_id': '1e2eedef-6370-42d7-ad02-e84adbd5b390'})]}}\n",
      "---\n",
      "{'agent': {'messages': [AIMessage(content='I can only access weather forecasts for future dates. Could you please provide the current date so I can try to find a more accurate forecast for you?', additional_kwargs={}, response_metadata={'prompt_feedback': {'block_reason': 0, 'safety_ratings': []}, 'finish_reason': 'STOP', 'safety_ratings': []}, id='run--29fd3728-eeba-4fc6-8b08-983e598c2c99-0', usage_metadata={'input_tokens': 1195, 'output_tokens': 30, 'total_tokens': 1473, 'input_token_details': {'cache_read': 0}})]}}\n",
      "---\n"
     ]
    }
   ],
   "source": [
    "for chunk in agent_executor.stream({\"messages\": [HumanMessage(content=\"I am in Florida Orlando\")]}, config):\n",
    "    print(chunk)\n",
    "    print(\"---\")"
   ]
  },
  {
   "cell_type": "code",
   "execution_count": 47,
   "id": "bee4f40f",
   "metadata": {},
   "outputs": [
    {
     "name": "stdout",
     "output_type": "stream",
     "text": [
      "{'agent': {'messages': [AIMessage(content='', additional_kwargs={'function_call': {'name': 'tavily_search_results_json', 'arguments': '{\"query\": \"weather in Orlando, Florida on August 25th\"}'}}, response_metadata={'prompt_feedback': {'block_reason': 0, 'safety_ratings': []}, 'finish_reason': 'STOP', 'safety_ratings': []}, id='run--d4ca0a79-7713-47a4-902d-8a807d190b7f-0', tool_calls=[{'name': 'tavily_search_results_json', 'args': {'query': 'weather in Orlando, Florida on August 25th'}, 'id': 'c9667704-224d-4b93-bed4-4e293b959e7d', 'type': 'tool_call'}], usage_metadata={'input_tokens': 1234, 'output_tokens': 31, 'total_tokens': 1391, 'input_token_details': {'cache_read': 0}})]}}\n",
      "---\n",
      "{'tools': {'messages': [ToolMessage(content='[{\"title\": \"Orlando weather in August 2025 - Weather25.com\", \"url\": \"https://www.weather25.com/north-america/usa/florida/orlando?page=month&month=August\", \"content\": \"1.   Home\\\\n2.    North America\\\\n3.    Image 7: weather in United StatesUnited States\\\\n4.    Florida\\\\n5.    Orlando\\\\n6.    August\\\\n\\\\nLocation was added to My Locations\\\\n\\\\nLocation was removed from My Locations\\\\n\\\\nJulySeptember\\\\n\\\\nOrlando weather in August 2025\\\\n==============================\\\\n\\\\nThe weather in Orlando in August is very hot. The average temperatures are between 25°C and 33°C, drinking water regularly is advisable.\\\\n\\\\nThere’s going to be many days of rain during the month of August in Orlando. [...] What is the average temperature in Orlando in August?\\\\n\\\\nThe average temperature in Orlando in August is 25/33° C.\\\\n\\\\nWhat is the chance of rain in Orlando in August?\\\\n\\\\nOn average, there are 17 rainy days in Orlando during August.\\\\n\\\\nWeather wise, is August a good time to visit Orlando?\\\\n\\\\nThe weather in Orlando in August is ok.\\\\n\\\\nCan it snow in Orlando in August?\\\\n\\\\nOn average, there are 0 snowy days in Orlando in August.\\\\n\\\\nMore about the weather in Orlando [...] Orlando should expect an average of 15 to 22 days of rain, so be sure to bring along a waterproof jacket to stay dry this month!\\\\n\\\\nOur weather forecast can give you a great sense of what weather to expect in Orlando in August 2025.\\\\n\\\\nIf you’re planning to visit Orlando in the near future, we highly recommend that you review the 14 day weather forecast for Orlando before you arrive.\\\\n\\\\nImage 8: Temperatures\\\\n\\\\nTemperatures\\\\n\\\\n33° /25° \\\\n\\\\nImage 9: Rainy Days\\\\n\\\\nRainy Days\\\\n\\\\n17\\\\n\\\\nImage 10: Snowy Days\", \"score\": 0.84215075}, {\"title\": \"60-Day Extended Weather Forecast for Orlando, FL | Almanac.com\", \"url\": \"https://www.almanac.com/weather/longrange/fl/orlando\", \"content\": \"| Dates | Weather Conditions |\\\\n| Aug 1-8 | Scattered t-storms, warm |\\\\n| Aug 9-12 | Sunny north, t-storms south; warm |\\\\n| Aug 13-17 | T-storms; hot north, warm south |\\\\n| Aug 18-24 | Isolated t-storms, warm |\\\\n| Aug 25-26 | Tropical storm threat |\\\\n| Aug 27-31 | T-storms, warm |\\\\n| August | temperature 83° (1° above avg. north, 1° below south) precipitation 8\\\\\" (2\\\\\" below avg. north, 2\\\\\" above south) |\\\\n\\\\nSeptember 2025 Long Range Weather Forecast for Florida [...] | Dates | Weather Conditions |\\\\n| Sep 1-11 | Scattered t-storms, warm |\\\\n| Sep 12-21 | Sunny, then t-storms; hot |\\\\n| Sep 22-30 | Sunny north, scattered t-storms south; turning cooler |\\\\n| September | temperature 82° (1° above avg.) precipitation 4.5\\\\\" (3\\\\\" below avg.) |\\\\n\\\\n## The 12-Month Long-Range Weather Report From The 2025 Old Farmer\\'s Almanac\\\\n\\\\nNovember 2024 to October 2025 [...] # 60-Day Extended Weather Forecast for Orlando, FL\\\\n\\\\n## Free 2-Month Weather Forecast\\\\n\\\\nAugust 2025 Long Range Weather Forecast for Florida\", \"score\": 0.7738498}]', name='tavily_search_results_json', id='68aea7d1-0d2e-4314-87b2-a61d096a8997', tool_call_id='c9667704-224d-4b93-bed4-4e293b959e7d', artifact={'query': 'weather in Orlando, Florida on August 25th', 'follow_up_questions': None, 'answer': None, 'images': [], 'results': [{'url': 'https://www.weather25.com/north-america/usa/florida/orlando?page=month&month=August', 'title': 'Orlando weather in August 2025 - Weather25.com', 'content': '1.   Home\\n2.    North America\\n3.    Image 7: weather in United StatesUnited States\\n4.    Florida\\n5.    Orlando\\n6.    August\\n\\nLocation was added to My Locations\\n\\nLocation was removed from My Locations\\n\\nJulySeptember\\n\\nOrlando weather in August 2025\\n==============================\\n\\nThe weather in Orlando in August is very hot. The average temperatures are between 25°C and 33°C, drinking water regularly is advisable.\\n\\nThere’s going to be many days of rain during the month of August in Orlando. [...] What is the average temperature in Orlando in August?\\n\\nThe average temperature in Orlando in August is 25/33° C.\\n\\nWhat is the chance of rain in Orlando in August?\\n\\nOn average, there are 17 rainy days in Orlando during August.\\n\\nWeather wise, is August a good time to visit Orlando?\\n\\nThe weather in Orlando in August is ok.\\n\\nCan it snow in Orlando in August?\\n\\nOn average, there are 0 snowy days in Orlando in August.\\n\\nMore about the weather in Orlando [...] Orlando should expect an average of 15 to 22 days of rain, so be sure to bring along a waterproof jacket to stay dry this month!\\n\\nOur weather forecast can give you a great sense of what weather to expect in Orlando in August 2025.\\n\\nIf you’re planning to visit Orlando in the near future, we highly recommend that you review the 14 day weather forecast for Orlando before you arrive.\\n\\nImage 8: Temperatures\\n\\nTemperatures\\n\\n33° /25° \\n\\nImage 9: Rainy Days\\n\\nRainy Days\\n\\n17\\n\\nImage 10: Snowy Days', 'score': 0.84215075, 'raw_content': None}, {'url': 'https://www.almanac.com/weather/longrange/fl/orlando', 'title': '60-Day Extended Weather Forecast for Orlando, FL | Almanac.com', 'content': '| Dates | Weather Conditions |\\n| Aug 1-8 | Scattered t-storms, warm |\\n| Aug 9-12 | Sunny north, t-storms south; warm |\\n| Aug 13-17 | T-storms; hot north, warm south |\\n| Aug 18-24 | Isolated t-storms, warm |\\n| Aug 25-26 | Tropical storm threat |\\n| Aug 27-31 | T-storms, warm |\\n| August | temperature 83° (1° above avg. north, 1° below south) precipitation 8\" (2\" below avg. north, 2\" above south) |\\n\\nSeptember 2025 Long Range Weather Forecast for Florida [...] | Dates | Weather Conditions |\\n| Sep 1-11 | Scattered t-storms, warm |\\n| Sep 12-21 | Sunny, then t-storms; hot |\\n| Sep 22-30 | Sunny north, scattered t-storms south; turning cooler |\\n| September | temperature 82° (1° above avg.) precipitation 4.5\" (3\" below avg.) |\\n\\n## The 12-Month Long-Range Weather Report From The 2025 Old Farmer\\'s Almanac\\n\\nNovember 2024 to October 2025 [...] # 60-Day Extended Weather Forecast for Orlando, FL\\n\\n## Free 2-Month Weather Forecast\\n\\nAugust 2025 Long Range Weather Forecast for Florida', 'score': 0.7738498, 'raw_content': None}], 'response_time': 2.64, 'request_id': '63d43b58-bad9-4315-9e94-a6416e760358'})]}}\n",
      "---\n",
      "{'agent': {'messages': [AIMessage(content='Of course, Atharva. For today, August 25th, in Orlando, Florida, you should be aware of a potential tropical storm threat. Generally, the weather will be warm, with scattered thunderstorms.', additional_kwargs={}, response_metadata={'prompt_feedback': {'block_reason': 0, 'safety_ratings': []}, 'finish_reason': 'STOP', 'safety_ratings': []}, id='run--803cd4cd-599c-426c-a18c-604b3bd609e3-0', usage_metadata={'input_tokens': 2186, 'output_tokens': 44, 'total_tokens': 2681, 'input_token_details': {'cache_read': 0}})]}}\n",
      "---\n"
     ]
    }
   ],
   "source": [
    "for chunk in agent_executor.stream({\"messages\": [HumanMessage(content=\"Today is 25th August\")]}, config):\n",
    "    print(chunk)\n",
    "    print(\"---\")"
   ]
  },
  {
   "cell_type": "code",
   "execution_count": null,
   "id": "df19a889",
   "metadata": {},
   "outputs": [],
   "source": []
  },
  {
   "cell_type": "code",
   "execution_count": null,
   "id": "8fc2b2a0",
   "metadata": {},
   "outputs": [],
   "source": []
  },
  {
   "cell_type": "code",
   "execution_count": null,
   "id": "78842f64",
   "metadata": {},
   "outputs": [],
   "source": []
  },
  {
   "cell_type": "code",
   "execution_count": null,
   "id": "e62284a3",
   "metadata": {},
   "outputs": [],
   "source": []
  }
 ],
 "metadata": {
  "kernelspec": {
   "display_name": "Python 3",
   "language": "python",
   "name": "python3"
  },
  "language_info": {
   "codemirror_mode": {
    "name": "ipython",
    "version": 3
   },
   "file_extension": ".py",
   "mimetype": "text/x-python",
   "name": "python",
   "nbconvert_exporter": "python",
   "pygments_lexer": "ipython3",
   "version": "3.10.18"
  }
 },
 "nbformat": 4,
 "nbformat_minor": 5
}
