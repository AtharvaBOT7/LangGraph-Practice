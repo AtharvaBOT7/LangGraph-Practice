{
 "cells": [
  {
   "cell_type": "code",
   "execution_count": 1,
   "id": "2288dc47",
   "metadata": {},
   "outputs": [],
   "source": [
    "import os"
   ]
  },
  {
   "cell_type": "code",
   "execution_count": 2,
   "id": "6bf7f7f8",
   "metadata": {},
   "outputs": [
    {
     "data": {
      "text/plain": [
       "True"
      ]
     },
     "execution_count": 2,
     "metadata": {},
     "output_type": "execute_result"
    }
   ],
   "source": [
    "from dotenv import load_dotenv\n",
    "load_dotenv()"
   ]
  },
  {
   "cell_type": "code",
   "execution_count": 3,
   "id": "fedd0116",
   "metadata": {},
   "outputs": [],
   "source": [
    "GOOGLE_API_KEY = os.getenv(\"GOOGLE_API_KEY\")\n",
    "TAVILY_API_KEY = os.getenv(\"TAVILY_API_KEY\")\n",
    "GROQ_API_KEY = os.getenv(\"GROQ_API_KEY\")\n",
    "LANGCHAIN_API_KEY = os.getenv(\"LANGCHAIN_API_KEY\")\n",
    "LANGSMITH_PROJECT = os.getenv(\"LANGSMITH_PROJECT\")\n",
    "HUGGINGFACE_API_KEY = os.getenv(\"HUGGINGFACE_API_KEY\")\n",
    "SERPER_API_KEY = os.getenv(\"SERPER_API_KEY\")\n",
    "\n",
    "os.environ[\"GOOGLE_API_KEY\"] = GOOGLE_API_KEY\n",
    "os.environ[\"TAVILY_API_KEY\"] = TAVILY_API_KEY\n",
    "os.environ[\"GROQ_API_KEY\"] = GROQ_API_KEY\n",
    "os.environ[\"LANGCHAIN_API_KEY\"] = LANGCHAIN_API_KEY\n",
    "os.environ[\"LANGSMITH_PROJECT\"] = LANGSMITH_PROJECT\n",
    "os.environ[\"HUGGINGFACE_API_KEY\"] = HUGGINGFACE_API_KEY\n",
    "os.environ[\"SERPER_API_KEY\"] = SERPER_API_KEY"
   ]
  },
  {
   "cell_type": "code",
   "execution_count": null,
   "id": "d5c786f5",
   "metadata": {},
   "outputs": [],
   "source": [
    "from langchain_huggingface import HuggingFaceEmbeddings\n",
    "embeddings = HuggingFaceEmbeddings(model_name=\"all-MiniLM-L6-v2\")"
   ]
  },
  {
   "cell_type": "code",
   "execution_count": 5,
   "id": "b464ec9e",
   "metadata": {},
   "outputs": [
    {
     "name": "stderr",
     "output_type": "stream",
     "text": [
      "/Users/atharvabot7/Downloads/MLOPS-Tutorials/LangGraph/langgraph/lib/python3.10/site-packages/tqdm/auto.py:21: TqdmWarning: IProgress not found. Please update jupyter and ipywidgets. See https://ipywidgets.readthedocs.io/en/stable/user_install.html\n",
      "  from .autonotebook import tqdm as notebook_tqdm\n"
     ]
    }
   ],
   "source": [
    "from langchain_google_genai import ChatGoogleGenerativeAI\n",
    "from google import genai\n",
    "llm = ChatGoogleGenerativeAI(model=\"gemini-2.5-pro\", convert_system_message_to_human=True)"
   ]
  },
  {
   "cell_type": "code",
   "execution_count": null,
   "id": "93100fcd",
   "metadata": {},
   "outputs": [],
   "source": [
    "embeddings"
   ]
  },
  {
   "cell_type": "code",
   "execution_count": null,
   "id": "3f05e105",
   "metadata": {},
   "outputs": [],
   "source": [
    "llm"
   ]
  },
  {
   "cell_type": "code",
   "execution_count": null,
   "id": "52a55dea",
   "metadata": {},
   "outputs": [],
   "source": [
    "llm.invoke(\"What is the capital of France?\").content"
   ]
  },
  {
   "cell_type": "markdown",
   "id": "33d7fb2d",
   "metadata": {},
   "source": [
    "## Tools"
   ]
  },
  {
   "cell_type": "code",
   "execution_count": null,
   "id": "4b269959",
   "metadata": {},
   "outputs": [],
   "source": [
    "from langchain_community.tools import WikipediaQueryRun\n",
    "from langchain_community.utilities import WikipediaAPIWrapper"
   ]
  },
  {
   "cell_type": "code",
   "execution_count": null,
   "id": "e11195fe",
   "metadata": {},
   "outputs": [],
   "source": [
    "api_wrapper = WikipediaAPIWrapper()\n",
    "tool = WikipediaQueryRun(api_wrapper=api_wrapper, return_direct=True, verbose=True)"
   ]
  },
  {
   "cell_type": "code",
   "execution_count": null,
   "id": "82bd9c28",
   "metadata": {},
   "outputs": [],
   "source": [
    "print(tool.run(\"Who is Max Verstappen?\"))"
   ]
  },
  {
   "cell_type": "markdown",
   "id": "98445798",
   "metadata": {},
   "source": [
    "## Create your custom tool"
   ]
  },
  {
   "cell_type": "code",
   "execution_count": null,
   "id": "11c98b1b",
   "metadata": {},
   "outputs": [],
   "source": [
    "from langchain.agents import tool\n",
    "\n",
    "@tool\n",
    "def get_word_length(word: str) -> int:\n",
    "    \"\"\"Get the length of a word.\"\"\"\n",
    "    return len(word)\n",
    "\n",
    "\n",
    "# We have to define a docstring for the tool to work properly, without it, it won't show up in the list of tools the agent can use and give error."
   ]
  },
  {
   "cell_type": "code",
   "execution_count": null,
   "id": "5d53f964",
   "metadata": {},
   "outputs": [],
   "source": [
    "get_word_length.invoke(\"Hello World\")"
   ]
  },
  {
   "cell_type": "code",
   "execution_count": null,
   "id": "b57314fb",
   "metadata": {},
   "outputs": [],
   "source": [
    "@tool\n",
    "def add_numbers(a: int, b: int) -> int:\n",
    "    \"\"\"Add two numbers.\"\"\"\n",
    "    return a + b"
   ]
  },
  {
   "cell_type": "code",
   "execution_count": null,
   "id": "d5e6e6de",
   "metadata": {},
   "outputs": [],
   "source": [
    "add_numbers.invoke({\"a\": 5, \"b\": 10})"
   ]
  },
  {
   "cell_type": "markdown",
   "id": "820f4583",
   "metadata": {},
   "source": [
    "## Concept of Agents"
   ]
  },
  {
   "cell_type": "code",
   "execution_count": null,
   "id": "b448e822",
   "metadata": {},
   "outputs": [],
   "source": [
    "from langchain.agents import AgentType, initialize_agent, load_tools"
   ]
  },
  {
   "cell_type": "code",
   "execution_count": null,
   "id": "ae311999",
   "metadata": {},
   "outputs": [],
   "source": [
    "tools = load_tools([\"wikipedia\"], llm=llm)"
   ]
  },
  {
   "cell_type": "code",
   "execution_count": null,
   "id": "be3e276b",
   "metadata": {},
   "outputs": [],
   "source": [
    "agent = initialize_agent(\n",
    "    tools=tools,\n",
    "    llm=llm,\n",
    "    agent=AgentType.ZERO_SHOT_REACT_DESCRIPTION,\n",
    "    verbose=True,\n",
    ")\n"
   ]
  },
  {
   "cell_type": "code",
   "execution_count": null,
   "id": "d2f7e27d",
   "metadata": {},
   "outputs": [],
   "source": [
    "agent.run(\"Hello how are you?\")"
   ]
  },
  {
   "cell_type": "code",
   "execution_count": null,
   "id": "7ac0102b",
   "metadata": {},
   "outputs": [],
   "source": [
    "agent.run(\"Who is the current world champion in Formula 1 racing?\")"
   ]
  },
  {
   "cell_type": "code",
   "execution_count": null,
   "id": "57bb2515",
   "metadata": {},
   "outputs": [],
   "source": [
    "agent.run(\"What is GPT-2?\")"
   ]
  },
  {
   "cell_type": "code",
   "execution_count": null,
   "id": "957078ab",
   "metadata": {},
   "outputs": [],
   "source": [
    "from langchain_community.tools.tavily_search import TavilySearchResults\n",
    "\n",
    "# Tavily basically provides a search engine tool that can be used to fetch real-time information from the web."
   ]
  },
  {
   "cell_type": "code",
   "execution_count": null,
   "id": "5177f5b9",
   "metadata": {},
   "outputs": [],
   "source": [
    "search = TavilySearchResults()"
   ]
  },
  {
   "cell_type": "code",
   "execution_count": null,
   "id": "e9232aca",
   "metadata": {},
   "outputs": [],
   "source": [
    "search.run(\"Who is the current world champion in Formula 1 racing?\")"
   ]
  },
  {
   "cell_type": "code",
   "execution_count": null,
   "id": "4f6e09f2",
   "metadata": {},
   "outputs": [],
   "source": [
    "search.invoke(\"Who is the current world champion in Formula 1 racing?\")"
   ]
  },
  {
   "cell_type": "code",
   "execution_count": null,
   "id": "587a7a6c",
   "metadata": {},
   "outputs": [],
   "source": [
    "tools = [search]"
   ]
  },
  {
   "cell_type": "code",
   "execution_count": null,
   "id": "9edb30ed",
   "metadata": {},
   "outputs": [],
   "source": [
    "from langchain import hub"
   ]
  },
  {
   "cell_type": "code",
   "execution_count": null,
   "id": "bc00aae7",
   "metadata": {},
   "outputs": [],
   "source": [
    "prompt = hub.pull(\"hwchase17/openai-functions-agent\")"
   ]
  },
  {
   "cell_type": "code",
   "execution_count": null,
   "id": "5932eeb6",
   "metadata": {},
   "outputs": [],
   "source": [
    "prompt.messages"
   ]
  },
  {
   "cell_type": "code",
   "execution_count": null,
   "id": "da525d09",
   "metadata": {},
   "outputs": [],
   "source": [
    "from langchain.agents import create_tool_calling_agent\n",
    "\n",
    "agent1 = create_tool_calling_agent(llm, tools, prompt)"
   ]
  },
  {
   "cell_type": "code",
   "execution_count": null,
   "id": "e61724b6",
   "metadata": {},
   "outputs": [],
   "source": [
    "from langchain.agents import AgentExecutor"
   ]
  },
  {
   "cell_type": "code",
   "execution_count": null,
   "id": "d724aea8",
   "metadata": {},
   "outputs": [],
   "source": [
    "agent_executor = AgentExecutor(\n",
    "    agent=agent,\n",
    "    tools=tools,\n",
    "    verbose=True,\n",
    "    max_iterations=6,\n",
    "    early_stopping_method=\"generate\",   # <- if it’s stuck, ask LLM to write a final answer\n",
    ")"
   ]
  },
  {
   "cell_type": "code",
   "execution_count": null,
   "id": "b70e2621",
   "metadata": {},
   "outputs": [],
   "source": [
    "agent_executor.invoke({\"input\": \"Who is John Wick?\"})"
   ]
  },
  {
   "cell_type": "markdown",
   "id": "09b7edda",
   "metadata": {},
   "source": [
    "## Self Ask with Search Agent Langgraph"
   ]
  },
  {
   "cell_type": "code",
   "execution_count": null,
   "id": "fbf945ce",
   "metadata": {},
   "outputs": [],
   "source": [
    "from langchain_community.document_loaders import WebBaseLoader\n",
    "from langchain_community.vectorstores import FAISS\n",
    "from langchain_text_splitters import RecursiveCharacterTextSplitter"
   ]
  },
  {
   "cell_type": "code",
   "execution_count": null,
   "id": "3eb5d59e",
   "metadata": {},
   "outputs": [],
   "source": [
    "loader = WebBaseLoader(\"https://en.wikipedia.org/wiki/John_Wick\")\n",
    "docs = loader.load()"
   ]
  },
  {
   "cell_type": "code",
   "execution_count": null,
   "id": "a4b0006e",
   "metadata": {},
   "outputs": [],
   "source": [
    "docs"
   ]
  },
  {
   "cell_type": "code",
   "execution_count": null,
   "id": "031885ad",
   "metadata": {},
   "outputs": [],
   "source": [
    "documents = RecursiveCharacterTextSplitter(chunk_size=1000, chunk_overlap=200).split_documents(docs)"
   ]
  },
  {
   "cell_type": "code",
   "execution_count": null,
   "id": "122a940f",
   "metadata": {},
   "outputs": [],
   "source": [
    "vector  = FAISS.from_documents(documents, embeddings)\n",
    "retriever = vector.as_retriever()"
   ]
  },
  {
   "cell_type": "code",
   "execution_count": null,
   "id": "6b0cd26d",
   "metadata": {},
   "outputs": [],
   "source": [
    "retriever.invoke(\"Who is John Wick?\")[0].page_content"
   ]
  },
  {
   "cell_type": "code",
   "execution_count": null,
   "id": "764c9ae5",
   "metadata": {},
   "outputs": [],
   "source": [
    "from langchain.tools.retriever import create_retriever_tool"
   ]
  },
  {
   "cell_type": "code",
   "execution_count": null,
   "id": "315d16de",
   "metadata": {},
   "outputs": [],
   "source": [
    "retriever_tool = create_retriever_tool(\n",
    "    retriever=retriever,\n",
    "    name=\"JohnWickRetriever\",\n",
    "    description=\"Useful for when you need to find information about John Wick from Wikipedia.\",\n",
    ")"
   ]
  },
  {
   "cell_type": "code",
   "execution_count": null,
   "id": "d3a287b5",
   "metadata": {},
   "outputs": [],
   "source": [
    "tools1 = [search, retriever_tool]"
   ]
  },
  {
   "cell_type": "code",
   "execution_count": null,
   "id": "6d28aa3a",
   "metadata": {},
   "outputs": [],
   "source": [
    "from langchain.agents import create_tool_calling_agent\n",
    "from langchain.agents import AgentExecutor"
   ]
  },
  {
   "cell_type": "code",
   "execution_count": null,
   "id": "5dfbd705",
   "metadata": {},
   "outputs": [],
   "source": [
    "agent2 = create_tool_calling_agent(llm, tools1, prompt)"
   ]
  },
  {
   "cell_type": "code",
   "execution_count": null,
   "id": "1004e143",
   "metadata": {},
   "outputs": [],
   "source": [
    "agent_executor = AgentExecutor(agent=agent2, tools=tools1, verbose=True)"
   ]
  },
  {
   "cell_type": "code",
   "execution_count": null,
   "id": "42ec874e",
   "metadata": {},
   "outputs": [],
   "source": [
    "agent_executor.invoke({\"input\": \"What is Johns profession?\"})"
   ]
  },
  {
   "cell_type": "code",
   "execution_count": null,
   "id": "5e25cc75",
   "metadata": {},
   "outputs": [],
   "source": [
    "agent_executor.invoke({\"input\": \"What is the weather in New York?\"})"
   ]
  },
  {
   "cell_type": "code",
   "execution_count": null,
   "id": "18df25f1",
   "metadata": {},
   "outputs": [],
   "source": [
    "search2 = TavilySearchResults(k=3)\n",
    "tool2 = [search2]"
   ]
  },
  {
   "cell_type": "code",
   "execution_count": null,
   "id": "f906666c",
   "metadata": {},
   "outputs": [],
   "source": [
    "agent3 = create_tool_calling_agent(llm, tool2, prompt)"
   ]
  },
  {
   "cell_type": "code",
   "execution_count": null,
   "id": "5e037871",
   "metadata": {},
   "outputs": [],
   "source": [
    "agent_executor1 = AgentExecutor(agent=agent3, tools=tool2, verbose=True, max_iterations=4, early_stopping_method=\"generate\")"
   ]
  },
  {
   "cell_type": "code",
   "execution_count": null,
   "id": "1c5fa3a0",
   "metadata": {},
   "outputs": [],
   "source": [
    "agent_executor1.invoke({\"input\": \"What is the weather in New York as of 29th August 2025?\"})"
   ]
  },
  {
   "cell_type": "code",
   "execution_count": null,
   "id": "3f34756f",
   "metadata": {},
   "outputs": [],
   "source": []
  },
  {
   "cell_type": "markdown",
   "id": "525091b4",
   "metadata": {},
   "source": [
    "## ReAct Agent (Reasoning and Action Agent)"
   ]
  },
  {
   "cell_type": "code",
   "execution_count": 4,
   "id": "381d52c8",
   "metadata": {},
   "outputs": [],
   "source": [
    "from langchain.utilities import GoogleSerperAPIWrapper\n",
    "from langchain.tools import Tool\n",
    "from langchain.agents import create_react_agent, AgentExecutor\n",
    "from langchain.prompts import PromptTemplate"
   ]
  },
  {
   "cell_type": "code",
   "execution_count": 6,
   "id": "b3058114",
   "metadata": {},
   "outputs": [],
   "source": [
    "llm = ChatGoogleGenerativeAI(model=\"gemini-2.5-pro\", convert_system_message_to_human=True)"
   ]
  },
  {
   "cell_type": "code",
   "execution_count": 7,
   "id": "52f601dd",
   "metadata": {},
   "outputs": [],
   "source": [
    "google_search = GoogleSerperAPIWrapper()"
   ]
  },
  {
   "cell_type": "code",
   "execution_count": 8,
   "id": "09fe6966",
   "metadata": {},
   "outputs": [],
   "source": [
    "tools = [\n",
    "    Tool(\n",
    "        name = \"Web Search Functionality\",\n",
    "        func = google_search.run,\n",
    "        description = \"Useful for when you need to find information about current events or topics that are not in your training data. Input should be a search query.\",\n",
    "        verbose = True\n",
    "    )\n",
    "]"
   ]
  },
  {
   "cell_type": "code",
   "execution_count": 9,
   "id": "991fecdd",
   "metadata": {},
   "outputs": [],
   "source": [
    "template = '''Answer the following questions as best you can. You have access to the following tools:\n",
    "{tools}\n",
    "Use the following format:\n",
    "Question: the input question you must answer\n",
    "Thought: you should always think about what to do\n",
    "Action: the action to take, should be one of [{tool_names}]\n",
    "Action Input: the input to the action\n",
    "Observation: the result of the action\n",
    "... (this Thought/Action/Action Input/Observation can repeat N times)\n",
    "Thought: I now know the final answer\n",
    "Final Answer: the final answer to the original input question\n",
    "Begin!\n",
    "Question: {input}\n",
    "Thought:{agent_scratchpad}'''"
   ]
  },
  {
   "cell_type": "code",
   "execution_count": 10,
   "id": "0604f1ae",
   "metadata": {},
   "outputs": [],
   "source": [
    "prompt = PromptTemplate.from_template(template)"
   ]
  },
  {
   "cell_type": "code",
   "execution_count": 11,
   "id": "6fa6620b",
   "metadata": {},
   "outputs": [],
   "source": [
    "search_agent_react = create_react_agent(llm,tools,prompt)"
   ]
  },
  {
   "cell_type": "code",
   "execution_count": 12,
   "id": "4c9230cd",
   "metadata": {},
   "outputs": [],
   "source": [
    "agent_executor = AgentExecutor(\n",
    "    agent = search_agent_react,\n",
    "    tools = tools,\n",
    "    verbose = True,\n",
    "    return_intermediate_steps=True\n",
    ")"
   ]
  },
  {
   "cell_type": "code",
   "execution_count": 13,
   "id": "4a3d65f9",
   "metadata": {},
   "outputs": [
    {
     "name": "stdout",
     "output_type": "stream",
     "text": [
      "\n",
      "\n",
      "\u001b[1m> Entering new AgentExecutor chain...\u001b[0m\n"
     ]
    },
    {
     "name": "stderr",
     "output_type": "stream",
     "text": [
      "/Users/atharvabot7/Downloads/MLOPS-Tutorials/LangGraph/langgraph/lib/python3.10/site-packages/langchain_google_genai/chat_models.py:357: UserWarning: Convert_system_message_to_human will be deprecated!\n",
      "  warnings.warn(\"Convert_system_message_to_human will be deprecated!\")\n"
     ]
    },
    {
     "name": "stdout",
     "output_type": "stream",
     "text": [
      "\u001b[32;1m\u001b[1;3mThought: I need to find out who won the most recent football (soccer) World Cup. This is a specific event that has a definitive answer, but I should use the web search tool to ensure I have the most current information.\n",
      "Action: Web Search Functionality\n",
      "Action Input: \"who won the latest football world cup\"\u001b[0m\u001b[36;1m\u001b[1;3mThe reigning champions are Argentina, who won their third title at the 2022 World Cup by defeating France. FIFA World Cup. Organising body, FIFA. Founded ... Argentina won the most recent World Cup in 2022, defeating France in a thrilling final. Brazil holds the record with 5 World Cup championships. 8 different ... France started their World Cup campaign as the defending world champions, having won the most recent tournament in Russia, and was drawn in group D. ... With the ... AWARDS ; 2022. Argentina Flag · Argentina ; 2018. France Flag · France ; 2014. Germany Flag · Germany ; 2010. Spain Flag · Spain ; 2006. Italy Flag · Italy. The Moment When Argentina Won The 2022 FIFA World Cup. 1.3M views · 1 ... Lionel Scaloni's Reaction To FIFA World Cup Final Penalty Shootout. Argentina won its third World Cup victory in the tournament after defeating France in the final match. Argentina v France: 2022 FIFA World Cup Final (December 18, 2022) Relive the 2022 #FIFAWorldCup on FIFA+ ... Comments · Argentina v France: Full Penalty Shoot-out | 2022 #FIFAWorldCup Final · Lionel Scaloni's Reaction To FIFA World Cup Final Penalty ... Men's World Cup titles won from 1930 to 2022, by country ; 2010, Spain*, 1 ; 2014, Germany*, 1 ; 2018, France, 4 ; 2022, Argentina**, 3 ...\u001b[0m"
     ]
    },
    {
     "name": "stderr",
     "output_type": "stream",
     "text": [
      "/Users/atharvabot7/Downloads/MLOPS-Tutorials/LangGraph/langgraph/lib/python3.10/site-packages/langchain_google_genai/chat_models.py:357: UserWarning: Convert_system_message_to_human will be deprecated!\n",
      "  warnings.warn(\"Convert_system_message_to_human will be deprecated!\")\n"
     ]
    },
    {
     "name": "stdout",
     "output_type": "stream",
     "text": [
      "\u001b[32;1m\u001b[1;3mI now know the final answer\n",
      "Final Answer: Argentina won the latest football World Cup, which was the 2022 FIFA World Cup. They defeated France in the final.\u001b[0m\n",
      "\n",
      "\u001b[1m> Finished chain.\u001b[0m\n"
     ]
    },
    {
     "data": {
      "text/plain": [
       "{'input': 'Who won the latest football world cup?',\n",
       " 'output': 'Argentina won the latest football World Cup, which was the 2022 FIFA World Cup. They defeated France in the final.',\n",
       " 'intermediate_steps': [(AgentAction(tool='Web Search Functionality', tool_input='who won the latest football world cup', log='Thought: I need to find out who won the most recent football (soccer) World Cup. This is a specific event that has a definitive answer, but I should use the web search tool to ensure I have the most current information.\\nAction: Web Search Functionality\\nAction Input: \"who won the latest football world cup\"'),\n",
       "   \"The reigning champions are Argentina, who won their third title at the 2022 World Cup by defeating France. FIFA World Cup. Organising body, FIFA. Founded ... Argentina won the most recent World Cup in 2022, defeating France in a thrilling final. Brazil holds the record with 5 World Cup championships. 8 different ... France started their World Cup campaign as the defending world champions, having won the most recent tournament in Russia, and was drawn in group D. ... With the ... AWARDS ; 2022. Argentina Flag · Argentina ; 2018. France Flag · France ; 2014. Germany Flag · Germany ; 2010. Spain Flag · Spain ; 2006. Italy Flag · Italy. The Moment When Argentina Won The 2022 FIFA World Cup. 1.3M views · 1 ... Lionel Scaloni's Reaction To FIFA World Cup Final Penalty Shootout. Argentina won its third World Cup victory in the tournament after defeating France in the final match. Argentina v France: 2022 FIFA World Cup Final (December 18, 2022) Relive the 2022 #FIFAWorldCup on FIFA+ ... Comments · Argentina v France: Full Penalty Shoot-out | 2022 #FIFAWorldCup Final · Lionel Scaloni's Reaction To FIFA World Cup Final Penalty ... Men's World Cup titles won from 1930 to 2022, by country ; 2010, Spain*, 1 ; 2014, Germany*, 1 ; 2018, France, 4 ; 2022, Argentina**, 3 ...\")]}"
      ]
     },
     "execution_count": 13,
     "metadata": {},
     "output_type": "execute_result"
    }
   ],
   "source": [
    "agent_executor.invoke({\"input\": \"Who won the latest football world cup?\"})"
   ]
  },
  {
   "cell_type": "code",
   "execution_count": null,
   "id": "ed9703e3",
   "metadata": {},
   "outputs": [],
   "source": []
  }
 ],
 "metadata": {
  "kernelspec": {
   "display_name": "Python 3",
   "language": "python",
   "name": "python3"
  },
  "language_info": {
   "codemirror_mode": {
    "name": "ipython",
    "version": 3
   },
   "file_extension": ".py",
   "mimetype": "text/x-python",
   "name": "python",
   "nbconvert_exporter": "python",
   "pygments_lexer": "ipython3",
   "version": "3.10.18"
  }
 },
 "nbformat": 4,
 "nbformat_minor": 5
}
