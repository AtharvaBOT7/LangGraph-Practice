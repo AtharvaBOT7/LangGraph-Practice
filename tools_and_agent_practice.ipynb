{
 "cells": [
  {
   "cell_type": "code",
   "execution_count": 1,
   "id": "2288dc47",
   "metadata": {},
   "outputs": [],
   "source": [
    "import os"
   ]
  },
  {
   "cell_type": "code",
   "execution_count": 2,
   "id": "6bf7f7f8",
   "metadata": {},
   "outputs": [
    {
     "data": {
      "text/plain": [
       "True"
      ]
     },
     "execution_count": 2,
     "metadata": {},
     "output_type": "execute_result"
    }
   ],
   "source": [
    "from dotenv import load_dotenv\n",
    "load_dotenv()"
   ]
  },
  {
   "cell_type": "code",
   "execution_count": 3,
   "id": "fedd0116",
   "metadata": {},
   "outputs": [],
   "source": [
    "GOOGLE_API_KEY = os.getenv(\"GOOGLE_API_KEY\")\n",
    "TAVILY_API_KEY = os.getenv(\"TAVILY_API_KEY\")\n",
    "GROQ_API_KEY = os.getenv(\"GROQ_API_KEY\")\n",
    "LANGCHAIN_API_KEY = os.getenv(\"LANGCHAIN_API_KEY\")\n",
    "LANGSMITH_PROJECT = os.getenv(\"LANGSMITH_PROJECT\")\n",
    "HUGGINGFACE_API_KEY = os.getenv(\"HUGGINGFACE_API_KEY\")\n",
    "SERPER_API_KEY = os.getenv(\"SERPER_API_KEY\")\n",
    "\n",
    "os.environ[\"GOOGLE_API_KEY\"] = GOOGLE_API_KEY\n",
    "os.environ[\"TAVILY_API_KEY\"] = TAVILY_API_KEY\n",
    "os.environ[\"GROQ_API_KEY\"] = GROQ_API_KEY\n",
    "os.environ[\"LANGCHAIN_API_KEY\"] = LANGCHAIN_API_KEY\n",
    "os.environ[\"LANGSMITH_PROJECT\"] = LANGSMITH_PROJECT\n",
    "os.environ[\"HUGGINGFACE_API_KEY\"] = HUGGINGFACE_API_KEY\n",
    "os.environ[\"SERPER_API_KEY\"] = SERPER_API_KEY"
   ]
  },
  {
   "cell_type": "code",
   "execution_count": null,
   "id": "d5c786f5",
   "metadata": {},
   "outputs": [],
   "source": [
    "from langchain_huggingface import HuggingFaceEmbeddings\n",
    "embeddings = HuggingFaceEmbeddings(model_name=\"all-MiniLM-L6-v2\")"
   ]
  },
  {
   "cell_type": "code",
   "execution_count": 4,
   "id": "b464ec9e",
   "metadata": {},
   "outputs": [
    {
     "name": "stderr",
     "output_type": "stream",
     "text": [
      "/Users/atharvabot7/Downloads/MLOPS-Tutorials/LangGraph/langgraph/lib/python3.10/site-packages/tqdm/auto.py:21: TqdmWarning: IProgress not found. Please update jupyter and ipywidgets. See https://ipywidgets.readthedocs.io/en/stable/user_install.html\n",
      "  from .autonotebook import tqdm as notebook_tqdm\n"
     ]
    }
   ],
   "source": [
    "from langchain_google_genai import ChatGoogleGenerativeAI\n",
    "from google import genai\n",
    "llm = ChatGoogleGenerativeAI(model=\"gemini-2.5-pro\", convert_system_message_to_human=True)"
   ]
  },
  {
   "cell_type": "code",
   "execution_count": null,
   "id": "93100fcd",
   "metadata": {},
   "outputs": [],
   "source": [
    "embeddings"
   ]
  },
  {
   "cell_type": "code",
   "execution_count": null,
   "id": "3f05e105",
   "metadata": {},
   "outputs": [],
   "source": [
    "llm"
   ]
  },
  {
   "cell_type": "code",
   "execution_count": null,
   "id": "52a55dea",
   "metadata": {},
   "outputs": [],
   "source": [
    "llm.invoke(\"What is the capital of France?\").content"
   ]
  },
  {
   "cell_type": "markdown",
   "id": "33d7fb2d",
   "metadata": {},
   "source": [
    "## Tools"
   ]
  },
  {
   "cell_type": "code",
   "execution_count": 5,
   "id": "4b269959",
   "metadata": {},
   "outputs": [],
   "source": [
    "from langchain_community.tools import WikipediaQueryRun\n",
    "from langchain_community.utilities import WikipediaAPIWrapper"
   ]
  },
  {
   "cell_type": "code",
   "execution_count": null,
   "id": "e11195fe",
   "metadata": {},
   "outputs": [],
   "source": [
    "api_wrapper = WikipediaAPIWrapper()\n",
    "tool = WikipediaQueryRun(api_wrapper=api_wrapper, return_direct=True, verbose=True)"
   ]
  },
  {
   "cell_type": "code",
   "execution_count": null,
   "id": "82bd9c28",
   "metadata": {},
   "outputs": [],
   "source": [
    "print(tool.run(\"Who is Max Verstappen?\"))"
   ]
  },
  {
   "cell_type": "markdown",
   "id": "98445798",
   "metadata": {},
   "source": [
    "## Create your custom tool"
   ]
  },
  {
   "cell_type": "code",
   "execution_count": null,
   "id": "11c98b1b",
   "metadata": {},
   "outputs": [],
   "source": [
    "from langchain.agents import tool\n",
    "\n",
    "@tool\n",
    "def get_word_length(word: str) -> int:\n",
    "    \"\"\"Get the length of a word.\"\"\"\n",
    "    return len(word)\n",
    "\n",
    "\n",
    "# We have to define a docstring for the tool to work properly, without it, it won't show up in the list of tools the agent can use and give error."
   ]
  },
  {
   "cell_type": "code",
   "execution_count": null,
   "id": "5d53f964",
   "metadata": {},
   "outputs": [],
   "source": [
    "get_word_length.invoke(\"Hello World\")"
   ]
  },
  {
   "cell_type": "code",
   "execution_count": null,
   "id": "b57314fb",
   "metadata": {},
   "outputs": [],
   "source": [
    "@tool\n",
    "def add_numbers(a: int, b: int) -> int:\n",
    "    \"\"\"Add two numbers.\"\"\"\n",
    "    return a + b"
   ]
  },
  {
   "cell_type": "code",
   "execution_count": null,
   "id": "d5e6e6de",
   "metadata": {},
   "outputs": [],
   "source": [
    "add_numbers.invoke({\"a\": 5, \"b\": 10})"
   ]
  },
  {
   "cell_type": "markdown",
   "id": "820f4583",
   "metadata": {},
   "source": [
    "## Concept of Agents"
   ]
  },
  {
   "cell_type": "code",
   "execution_count": 6,
   "id": "b448e822",
   "metadata": {},
   "outputs": [],
   "source": [
    "from langchain.agents import AgentType, initialize_agent, load_tools"
   ]
  },
  {
   "cell_type": "code",
   "execution_count": null,
   "id": "ae311999",
   "metadata": {},
   "outputs": [],
   "source": [
    "tools = load_tools([\"wikipedia\"], llm=llm)"
   ]
  },
  {
   "cell_type": "code",
   "execution_count": null,
   "id": "be3e276b",
   "metadata": {},
   "outputs": [],
   "source": [
    "agent = initialize_agent(\n",
    "    tools=tools,\n",
    "    llm=llm,\n",
    "    agent=AgentType.ZERO_SHOT_REACT_DESCRIPTION,\n",
    "    verbose=True,\n",
    ")\n"
   ]
  },
  {
   "cell_type": "code",
   "execution_count": null,
   "id": "d2f7e27d",
   "metadata": {},
   "outputs": [],
   "source": [
    "agent.run(\"Hello how are you?\")"
   ]
  },
  {
   "cell_type": "code",
   "execution_count": null,
   "id": "7ac0102b",
   "metadata": {},
   "outputs": [],
   "source": [
    "agent.run(\"Who is the current world champion in Formula 1 racing?\")"
   ]
  },
  {
   "cell_type": "code",
   "execution_count": null,
   "id": "57bb2515",
   "metadata": {},
   "outputs": [],
   "source": [
    "agent.run(\"What is GPT-2?\")"
   ]
  },
  {
   "cell_type": "code",
   "execution_count": null,
   "id": "957078ab",
   "metadata": {},
   "outputs": [],
   "source": [
    "from langchain_community.tools.tavily_search import TavilySearchResults\n",
    "\n",
    "# Tavily basically provides a search engine tool that can be used to fetch real-time information from the web."
   ]
  },
  {
   "cell_type": "code",
   "execution_count": null,
   "id": "5177f5b9",
   "metadata": {},
   "outputs": [],
   "source": [
    "search = TavilySearchResults()"
   ]
  },
  {
   "cell_type": "code",
   "execution_count": null,
   "id": "e9232aca",
   "metadata": {},
   "outputs": [],
   "source": [
    "search.run(\"Who is the current world champion in Formula 1 racing?\")"
   ]
  },
  {
   "cell_type": "code",
   "execution_count": null,
   "id": "4f6e09f2",
   "metadata": {},
   "outputs": [],
   "source": [
    "search.invoke(\"Who is the current world champion in Formula 1 racing?\")"
   ]
  },
  {
   "cell_type": "code",
   "execution_count": null,
   "id": "587a7a6c",
   "metadata": {},
   "outputs": [],
   "source": [
    "tools = [search]"
   ]
  },
  {
   "cell_type": "code",
   "execution_count": null,
   "id": "9edb30ed",
   "metadata": {},
   "outputs": [],
   "source": [
    "from langchain import hub"
   ]
  },
  {
   "cell_type": "code",
   "execution_count": null,
   "id": "bc00aae7",
   "metadata": {},
   "outputs": [],
   "source": [
    "prompt = hub.pull(\"hwchase17/openai-functions-agent\")"
   ]
  },
  {
   "cell_type": "code",
   "execution_count": null,
   "id": "5932eeb6",
   "metadata": {},
   "outputs": [],
   "source": [
    "prompt.messages"
   ]
  },
  {
   "cell_type": "code",
   "execution_count": null,
   "id": "da525d09",
   "metadata": {},
   "outputs": [],
   "source": [
    "from langchain.agents import create_tool_calling_agent\n",
    "\n",
    "agent1 = create_tool_calling_agent(llm, tools, prompt)"
   ]
  },
  {
   "cell_type": "code",
   "execution_count": null,
   "id": "e61724b6",
   "metadata": {},
   "outputs": [],
   "source": [
    "from langchain.agents import AgentExecutor"
   ]
  },
  {
   "cell_type": "code",
   "execution_count": null,
   "id": "d724aea8",
   "metadata": {},
   "outputs": [],
   "source": [
    "agent_executor = AgentExecutor(\n",
    "    agent=agent,\n",
    "    tools=tools,\n",
    "    verbose=True,\n",
    "    max_iterations=6,\n",
    "    early_stopping_method=\"generate\",   # <- if it’s stuck, ask LLM to write a final answer\n",
    ")"
   ]
  },
  {
   "cell_type": "code",
   "execution_count": null,
   "id": "b70e2621",
   "metadata": {},
   "outputs": [],
   "source": [
    "agent_executor.invoke({\"input\": \"Who is John Wick?\"})"
   ]
  },
  {
   "cell_type": "markdown",
   "id": "09b7edda",
   "metadata": {},
   "source": [
    "## Self Ask with Search Agent Langgraph"
   ]
  },
  {
   "cell_type": "code",
   "execution_count": 7,
   "id": "fbf945ce",
   "metadata": {},
   "outputs": [
    {
     "name": "stderr",
     "output_type": "stream",
     "text": [
      "USER_AGENT environment variable not set, consider setting it to identify your requests.\n"
     ]
    }
   ],
   "source": [
    "from langchain_community.document_loaders import WebBaseLoader\n",
    "from langchain_community.vectorstores import FAISS\n",
    "from langchain_text_splitters import RecursiveCharacterTextSplitter"
   ]
  },
  {
   "cell_type": "code",
   "execution_count": null,
   "id": "3eb5d59e",
   "metadata": {},
   "outputs": [],
   "source": [
    "loader = WebBaseLoader(\"https://en.wikipedia.org/wiki/John_Wick\")\n",
    "docs = loader.load()"
   ]
  },
  {
   "cell_type": "code",
   "execution_count": null,
   "id": "a4b0006e",
   "metadata": {},
   "outputs": [],
   "source": [
    "docs"
   ]
  },
  {
   "cell_type": "code",
   "execution_count": null,
   "id": "031885ad",
   "metadata": {},
   "outputs": [],
   "source": [
    "documents = RecursiveCharacterTextSplitter(chunk_size=1000, chunk_overlap=200).split_documents(docs)"
   ]
  },
  {
   "cell_type": "code",
   "execution_count": null,
   "id": "122a940f",
   "metadata": {},
   "outputs": [],
   "source": [
    "vector  = FAISS.from_documents(documents, embeddings)\n",
    "retriever = vector.as_retriever()"
   ]
  },
  {
   "cell_type": "code",
   "execution_count": null,
   "id": "6b0cd26d",
   "metadata": {},
   "outputs": [],
   "source": [
    "retriever.invoke(\"Who is John Wick?\")[0].page_content"
   ]
  },
  {
   "cell_type": "code",
   "execution_count": null,
   "id": "764c9ae5",
   "metadata": {},
   "outputs": [],
   "source": [
    "from langchain.tools.retriever import create_retriever_tool"
   ]
  },
  {
   "cell_type": "code",
   "execution_count": null,
   "id": "315d16de",
   "metadata": {},
   "outputs": [],
   "source": [
    "retriever_tool = create_retriever_tool(\n",
    "    retriever=retriever,\n",
    "    name=\"JohnWickRetriever\",\n",
    "    description=\"Useful for when you need to find information about John Wick from Wikipedia.\",\n",
    ")"
   ]
  },
  {
   "cell_type": "code",
   "execution_count": null,
   "id": "d3a287b5",
   "metadata": {},
   "outputs": [],
   "source": [
    "tools1 = [search, retriever_tool]"
   ]
  },
  {
   "cell_type": "code",
   "execution_count": 8,
   "id": "6d28aa3a",
   "metadata": {},
   "outputs": [],
   "source": [
    "from langchain.agents import create_tool_calling_agent\n",
    "from langchain.agents import AgentExecutor"
   ]
  },
  {
   "cell_type": "code",
   "execution_count": null,
   "id": "5dfbd705",
   "metadata": {},
   "outputs": [],
   "source": [
    "agent2 = create_tool_calling_agent(llm, tools1, prompt)"
   ]
  },
  {
   "cell_type": "code",
   "execution_count": null,
   "id": "1004e143",
   "metadata": {},
   "outputs": [],
   "source": [
    "agent_executor = AgentExecutor(agent=agent2, tools=tools1, verbose=True)"
   ]
  },
  {
   "cell_type": "code",
   "execution_count": null,
   "id": "42ec874e",
   "metadata": {},
   "outputs": [],
   "source": [
    "agent_executor.invoke({\"input\": \"What is Johns profession?\"})"
   ]
  },
  {
   "cell_type": "code",
   "execution_count": null,
   "id": "5e25cc75",
   "metadata": {},
   "outputs": [],
   "source": [
    "agent_executor.invoke({\"input\": \"What is the weather in New York?\"})"
   ]
  },
  {
   "cell_type": "code",
   "execution_count": null,
   "id": "18df25f1",
   "metadata": {},
   "outputs": [],
   "source": [
    "search2 = TavilySearchResults(k=3)\n",
    "tool2 = [search2]"
   ]
  },
  {
   "cell_type": "code",
   "execution_count": null,
   "id": "f906666c",
   "metadata": {},
   "outputs": [],
   "source": [
    "agent3 = create_tool_calling_agent(llm, tool2, prompt)"
   ]
  },
  {
   "cell_type": "code",
   "execution_count": null,
   "id": "5e037871",
   "metadata": {},
   "outputs": [],
   "source": [
    "agent_executor1 = AgentExecutor(agent=agent3, tools=tool2, verbose=True, max_iterations=4, early_stopping_method=\"generate\")"
   ]
  },
  {
   "cell_type": "code",
   "execution_count": null,
   "id": "1c5fa3a0",
   "metadata": {},
   "outputs": [],
   "source": [
    "agent_executor1.invoke({\"input\": \"What is the weather in New York as of 29th August 2025?\"})"
   ]
  },
  {
   "cell_type": "code",
   "execution_count": null,
   "id": "3f34756f",
   "metadata": {},
   "outputs": [],
   "source": []
  },
  {
   "cell_type": "markdown",
   "id": "525091b4",
   "metadata": {},
   "source": [
    "## ReAct Agent (Reasoning and Action Agent)"
   ]
  },
  {
   "cell_type": "code",
   "execution_count": 9,
   "id": "381d52c8",
   "metadata": {},
   "outputs": [],
   "source": [
    "from langchain.utilities import GoogleSerperAPIWrapper\n",
    "from langchain.tools import Tool\n",
    "from langchain.agents import create_react_agent, AgentExecutor\n",
    "from langchain.prompts import PromptTemplate"
   ]
  },
  {
   "cell_type": "code",
   "execution_count": null,
   "id": "b3058114",
   "metadata": {},
   "outputs": [],
   "source": [
    "llm = ChatGoogleGenerativeAI(model=\"gemini-2.5-pro\", convert_system_message_to_human=True)"
   ]
  },
  {
   "cell_type": "code",
   "execution_count": null,
   "id": "52f601dd",
   "metadata": {},
   "outputs": [],
   "source": [
    "google_search = GoogleSerperAPIWrapper()"
   ]
  },
  {
   "cell_type": "code",
   "execution_count": null,
   "id": "09fe6966",
   "metadata": {},
   "outputs": [],
   "source": [
    "tools = [\n",
    "    Tool(\n",
    "        name = \"Web Search Functionality\",\n",
    "        func = google_search.run,\n",
    "        description = \"Useful for when you need to find information about current events or topics that are not in your training data. Input should be a search query.\",\n",
    "        verbose = True\n",
    "    )\n",
    "]"
   ]
  },
  {
   "cell_type": "code",
   "execution_count": null,
   "id": "991fecdd",
   "metadata": {},
   "outputs": [],
   "source": [
    "template = '''Answer the following questions as best you can. You have access to the following tools:\n",
    "{tools}\n",
    "Use the following format:\n",
    "Question: the input question you must answer\n",
    "Thought: you should always think about what to do\n",
    "Action: the action to take, should be one of [{tool_names}]\n",
    "Action Input: the input to the action\n",
    "Observation: the result of the action\n",
    "... (this Thought/Action/Action Input/Observation can repeat N times)\n",
    "Thought: I now know the final answer\n",
    "Final Answer: the final answer to the original input question\n",
    "Begin!\n",
    "Question: {input}\n",
    "Thought:{agent_scratchpad}'''"
   ]
  },
  {
   "cell_type": "code",
   "execution_count": null,
   "id": "0604f1ae",
   "metadata": {},
   "outputs": [],
   "source": [
    "prompt = PromptTemplate.from_template(template)"
   ]
  },
  {
   "cell_type": "code",
   "execution_count": null,
   "id": "6fa6620b",
   "metadata": {},
   "outputs": [],
   "source": [
    "search_agent_react = create_react_agent(llm,tools,prompt)"
   ]
  },
  {
   "cell_type": "code",
   "execution_count": null,
   "id": "4c9230cd",
   "metadata": {},
   "outputs": [],
   "source": [
    "agent_executor = AgentExecutor(\n",
    "    agent = search_agent_react,\n",
    "    tools = tools,\n",
    "    verbose = True,\n",
    "    return_intermediate_steps=True,\n",
    "    handle_parsing_errors=(\n",
    "        \"Please follow the required format. Either choose an Action and Action Input, \"\n",
    "        \"or finish with 'Final Answer: <answer>'.\")\n",
    ")"
   ]
  },
  {
   "cell_type": "code",
   "execution_count": null,
   "id": "4a3d65f9",
   "metadata": {},
   "outputs": [],
   "source": [
    "agent_executor.invoke({\"input\": \"Who won the latest football world cup?\"})"
   ]
  },
  {
   "cell_type": "code",
   "execution_count": null,
   "id": "ed9703e3",
   "metadata": {},
   "outputs": [],
   "source": [
    "agent_executor.invoke({\"input\": \"Give me a list of movies in which spiderman is present?\"})"
   ]
  },
  {
   "cell_type": "markdown",
   "id": "26df1d54",
   "metadata": {},
   "source": [
    "## ReAct with Custom Tool"
   ]
  },
  {
   "cell_type": "code",
   "execution_count": 20,
   "id": "14f805c0",
   "metadata": {},
   "outputs": [],
   "source": [
    "from langchain.tools import Tool\n",
    "from langchain_core.tools import tool"
   ]
  },
  {
   "cell_type": "code",
   "execution_count": 21,
   "id": "9ff88f42",
   "metadata": {},
   "outputs": [],
   "source": [
    "@tool\n",
    "def get_employee_id(name: str) -> str:\n",
    "    \"\"\"Return employee ID for the given employee name (case-insensitive).\"\"\"\n",
    "    fake_employees = {\n",
    "        \"alice\": \"E001\",\n",
    "        \"bob\": \"E002\",\n",
    "        \"charlie\": \"E003\",\n",
    "        \"diana\": \"E004\",\n",
    "        \"evan\": \"E005\",\n",
    "        \"fiona\": \"E006\",\n",
    "        \"george\": \"E007\",\n",
    "        \"hannah\": \"E008\",\n",
    "        \"ian\": \"E009\",\n",
    "        \"jasmine\": \"E010\",\n",
    "    }\n",
    "    key = name.strip().lower()\n",
    "    return fake_employees.get(key, \"NOT_FOUND\")"
   ]
  },
  {
   "cell_type": "code",
   "execution_count": 22,
   "id": "878e9098",
   "metadata": {},
   "outputs": [
    {
     "data": {
      "text/plain": [
       "'E001'"
      ]
     },
     "execution_count": 22,
     "metadata": {},
     "output_type": "execute_result"
    }
   ],
   "source": [
    "get_employee_id(\"Alice\")"
   ]
  },
  {
   "cell_type": "code",
   "execution_count": 24,
   "id": "dfc79698",
   "metadata": {},
   "outputs": [],
   "source": [
    "# Custom tool for the Agent \n",
    "@tool\n",
    "def get_employee_salary(employee_id):\n",
    "  \"\"\"\n",
    "  To get the salary of an employee, it takes employee_id as input and return salary\n",
    "  \"\"\"\n",
    "  employee_salaries = {\n",
    "    \"E001\": 56000,\n",
    "    \"E002\": 47000,\n",
    "    \"E003\": 52000,\n",
    "    \"E004\": 61000,\n",
    "    \"E005\": 45000,\n",
    "    \"E006\": 58000,\n",
    "    \"E007\": 49000,\n",
    "    \"E008\": 53000,\n",
    "    \"E009\": 50000,\n",
    "    \"E010\": 55000\n",
    "    }\n",
    "  return employee_salaries.get(employee_id,\"Employee not found\")"
   ]
  },
  {
   "cell_type": "code",
   "execution_count": 25,
   "id": "c6d82390",
   "metadata": {},
   "outputs": [],
   "source": [
    "tools = [get_employee_id, get_employee_salary]"
   ]
  },
  {
   "cell_type": "code",
   "execution_count": 26,
   "id": "baac4f8a",
   "metadata": {},
   "outputs": [],
   "source": [
    "from langchain import hub\n",
    "prompt = hub.pull(\"hwchase17/react\")"
   ]
  },
  {
   "cell_type": "code",
   "execution_count": 27,
   "id": "f037fd66",
   "metadata": {},
   "outputs": [
    {
     "name": "stdout",
     "output_type": "stream",
     "text": [
      "Answer the following questions as best you can. You have access to the following tools:\n",
      "\n",
      "{tools}\n",
      "\n",
      "Use the following format:\n",
      "\n",
      "Question: the input question you must answer\n",
      "Thought: you should always think about what to do\n",
      "Action: the action to take, should be one of [{tool_names}]\n",
      "Action Input: the input to the action\n",
      "Observation: the result of the action\n",
      "... (this Thought/Action/Action Input/Observation can repeat N times)\n",
      "Thought: I now know the final answer\n",
      "Final Answer: the final answer to the original input question\n",
      "\n",
      "Begin!\n",
      "\n",
      "Question: {input}\n",
      "Thought:{agent_scratchpad}\n"
     ]
    }
   ],
   "source": [
    "print(prompt.template)"
   ]
  },
  {
   "cell_type": "code",
   "execution_count": 28,
   "id": "dc58a320",
   "metadata": {},
   "outputs": [],
   "source": [
    "agent = create_react_agent(llm,tools,prompt)"
   ]
  },
  {
   "cell_type": "code",
   "execution_count": 31,
   "id": "0813daab",
   "metadata": {},
   "outputs": [],
   "source": [
    "agent_executor = AgentExecutor(agent=agent, tools=tools, handle_parsing_errors=True ,verbose=True)"
   ]
  },
  {
   "cell_type": "code",
   "execution_count": 32,
   "id": "2d879e89",
   "metadata": {},
   "outputs": [
    {
     "name": "stdout",
     "output_type": "stream",
     "text": [
      "\n",
      "\n",
      "\u001b[1m> Entering new AgentExecutor chain...\u001b[0m\n"
     ]
    },
    {
     "name": "stderr",
     "output_type": "stream",
     "text": [
      "/Users/atharvabot7/Downloads/MLOPS-Tutorials/LangGraph/langgraph/lib/python3.10/site-packages/langchain_google_genai/chat_models.py:357: UserWarning: Convert_system_message_to_human will be deprecated!\n",
      "  warnings.warn(\"Convert_system_message_to_human will be deprecated!\")\n"
     ]
    },
    {
     "name": "stdout",
     "output_type": "stream",
     "text": [
      "\u001b[32;1m\u001b[1;3mThought: The user is asking for the salary of Evan. To get the salary, I first need to find Evan's employee ID. I can use the `get_employee_id` tool for this. After I have the employee ID, I can use the `get_employee_salary` tool to find his salary.\n",
      "Action: get_employee_id\n",
      "Action Input: {\"name\": \"Evan\"}\u001b[0m\u001b[36;1m\u001b[1;3mNOT_FOUND\u001b[0m"
     ]
    },
    {
     "name": "stderr",
     "output_type": "stream",
     "text": [
      "/Users/atharvabot7/Downloads/MLOPS-Tutorials/LangGraph/langgraph/lib/python3.10/site-packages/langchain_google_genai/chat_models.py:357: UserWarning: Convert_system_message_to_human will be deprecated!\n",
      "  warnings.warn(\"Convert_system_message_to_human will be deprecated!\")\n"
     ]
    },
    {
     "name": "stdout",
     "output_type": "stream",
     "text": [
      "\u001b[32;1m\u001b[1;3mI could not find an employee with the name Evan. I cannot proceed to find the salary.\n",
      "Final Answer: I am sorry, but I cannot find an employee with the name Evan.\u001b[0m\n",
      "\n",
      "\u001b[1m> Finished chain.\u001b[0m\n"
     ]
    },
    {
     "data": {
      "text/plain": [
       "{'input': 'What is the salary of Evan?',\n",
       " 'output': 'I am sorry, but I cannot find an employee with the name Evan.'}"
      ]
     },
     "execution_count": 32,
     "metadata": {},
     "output_type": "execute_result"
    }
   ],
   "source": [
    "agent_executor.invoke({\"input\": \"What is the salary of Evan?\"})"
   ]
  },
  {
   "cell_type": "code",
   "execution_count": null,
   "id": "42ae4e92",
   "metadata": {},
   "outputs": [],
   "source": []
  },
  {
   "cell_type": "code",
   "execution_count": null,
   "id": "df0f9ef9",
   "metadata": {},
   "outputs": [],
   "source": []
  },
  {
   "cell_type": "code",
   "execution_count": null,
   "id": "13aa8c31",
   "metadata": {},
   "outputs": [],
   "source": []
  }
 ],
 "metadata": {
  "kernelspec": {
   "display_name": "Python 3",
   "language": "python",
   "name": "python3"
  },
  "language_info": {
   "codemirror_mode": {
    "name": "ipython",
    "version": 3
   },
   "file_extension": ".py",
   "mimetype": "text/x-python",
   "name": "python",
   "nbconvert_exporter": "python",
   "pygments_lexer": "ipython3",
   "version": "3.10.18"
  }
 },
 "nbformat": 4,
 "nbformat_minor": 5
}
