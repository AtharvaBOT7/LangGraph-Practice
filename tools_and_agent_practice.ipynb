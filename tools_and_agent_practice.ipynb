{
 "cells": [
  {
   "cell_type": "code",
   "execution_count": 1,
   "id": "2288dc47",
   "metadata": {},
   "outputs": [],
   "source": [
    "import os"
   ]
  },
  {
   "cell_type": "code",
   "execution_count": 6,
   "id": "6bf7f7f8",
   "metadata": {},
   "outputs": [
    {
     "data": {
      "text/plain": [
       "True"
      ]
     },
     "execution_count": 6,
     "metadata": {},
     "output_type": "execute_result"
    }
   ],
   "source": [
    "from dotenv import load_dotenv\n",
    "load_dotenv()"
   ]
  },
  {
   "cell_type": "code",
   "execution_count": 7,
   "id": "fedd0116",
   "metadata": {},
   "outputs": [],
   "source": [
    "GOOGLE_API_KEY = os.getenv(\"GOOGLE_API_KEY\")\n",
    "TAVILY_API_KEY = os.getenv(\"TAVILY_API_KEY\")\n",
    "GROQ_API_KEY = os.getenv(\"GROQ_API_KEY\")\n",
    "LANGCHAIN_API_KEY = os.getenv(\"LANGCHAIN_API_KEY\")\n",
    "LANGSMITH_PROJECT = os.getenv(\"LANGSMITH_PROJECT\")\n",
    "HUGGINGFACE_API_KEY = os.getenv(\"HUGGINGFACE_API_KEY\")\n",
    "\n",
    "os.environ[\"GOOGLE_API_KEY\"] = GOOGLE_API_KEY\n",
    "os.environ[\"TAVILY_API_KEY\"] = TAVILY_API_KEY\n",
    "os.environ[\"GROQ_API_KEY\"] = GROQ_API_KEY\n",
    "os.environ[\"LANGCHAIN_API_KEY\"] = LANGCHAIN_API_KEY\n",
    "os.environ[\"LANGSMITH_PROJECT\"] = LANGSMITH_PROJECT\n",
    "os.environ[\"HUGGINGFACE_API_KEY\"] = HUGGINGFACE_API_KEY"
   ]
  },
  {
   "cell_type": "code",
   "execution_count": 8,
   "id": "d5c786f5",
   "metadata": {},
   "outputs": [],
   "source": [
    "from langchain_huggingface import HuggingFaceEmbeddings\n",
    "embeddings = HuggingFaceEmbeddings(model_name=\"all-MiniLM-L6-v2\")"
   ]
  },
  {
   "cell_type": "code",
   "execution_count": 4,
   "id": "b464ec9e",
   "metadata": {},
   "outputs": [],
   "source": [
    "from langchain_groq import ChatGroq\n",
    "llm = ChatGroq(model_name=\"Gemma2-9b-It\")"
   ]
  },
  {
   "cell_type": "code",
   "execution_count": 9,
   "id": "93100fcd",
   "metadata": {},
   "outputs": [
    {
     "data": {
      "text/plain": [
       "HuggingFaceEmbeddings(model_name='all-MiniLM-L6-v2', cache_folder=None, model_kwargs={}, encode_kwargs={}, query_encode_kwargs={}, multi_process=False, show_progress=False)"
      ]
     },
     "execution_count": 9,
     "metadata": {},
     "output_type": "execute_result"
    }
   ],
   "source": [
    "embeddings"
   ]
  },
  {
   "cell_type": "code",
   "execution_count": 10,
   "id": "3f05e105",
   "metadata": {},
   "outputs": [
    {
     "data": {
      "text/plain": [
       "ChatGroq(client=<groq.resources.chat.completions.Completions object at 0x1084efa60>, async_client=<groq.resources.chat.completions.AsyncCompletions object at 0x108629c90>, model_name='Gemma2-9b-It', model_kwargs={}, groq_api_key=SecretStr('**********'))"
      ]
     },
     "execution_count": 10,
     "metadata": {},
     "output_type": "execute_result"
    }
   ],
   "source": [
    "llm"
   ]
  },
  {
   "cell_type": "code",
   "execution_count": 11,
   "id": "52a55dea",
   "metadata": {},
   "outputs": [
    {
     "data": {
      "text/plain": [
       "'The capital of France is **Paris**.  \\n'"
      ]
     },
     "execution_count": 11,
     "metadata": {},
     "output_type": "execute_result"
    }
   ],
   "source": [
    "llm.invoke(\"What is the capital of France?\").content"
   ]
  },
  {
   "cell_type": "markdown",
   "id": "33d7fb2d",
   "metadata": {},
   "source": [
    "## Tools"
   ]
  },
  {
   "cell_type": "code",
   "execution_count": 12,
   "id": "4b269959",
   "metadata": {},
   "outputs": [],
   "source": [
    "from langchain_community.tools import WikipediaQueryRun\n",
    "from langchain_community.utilities import WikipediaAPIWrapper"
   ]
  },
  {
   "cell_type": "code",
   "execution_count": 13,
   "id": "e11195fe",
   "metadata": {},
   "outputs": [],
   "source": [
    "api_wrapper = WikipediaAPIWrapper()\n",
    "tool = WikipediaQueryRun(api_wrapper=api_wrapper, return_direct=True, verbose=True)"
   ]
  },
  {
   "cell_type": "code",
   "execution_count": 15,
   "id": "82bd9c28",
   "metadata": {},
   "outputs": [
    {
     "name": "stdout",
     "output_type": "stream",
     "text": [
      "\u001b[32;1m\u001b[1;3mPage: Max Verstappen\n",
      "Summary: Max Emilian Verstappen (Dutch pronunciation: [ˈmɑks fɛrˈstɑpə(n)]; born 30 September 1997) is a Dutch and Belgian racing driver who competes under the Dutch flag in Formula One for Red Bull Racing. Verstappen has won four Formula One World Drivers' Championship titles, which he won consecutively from 2021 to 2024 with Red Bull, and has won 65 Grands Prix across 11 seasons.\n",
      "Born in Hasselt and raised in Maaseik, Verstappen is the son of Dutch former Formula One driver Jos Verstappen and Belgian former kart racer Sophie Kumpen. After a successful karting career—culminating in his record-breaking 2013 season—Verstappen graduated to junior formulae. Progressing directly to FIA European Formula 3, Verstappen broke several records on his way to third in the championship in his rookie season with Van Amersfoort. Aged 17, Verstappen signed for Toro Rosso in 2015 as part of the Red Bull Junior Team, becoming the youngest driver in Formula One history at the Australian Grand Prix. Following several points finishes in his debut season, Verstappen retained his seat for 2016 before being promoted to parent team Red Bull after four rounds. On debut for Red Bull, aged 18, Verstappen won the Spanish Grand Prix, becoming the youngest-ever driver to win a Formula One Grand Prix. Verstappen achieved multiple race wins in his 2017 and 2018 campaigns, before finishing third in both the 2019 and 2020 World Drivers' Championships under Honda power.\n",
      "Verstappen won his maiden title in 2021 after overtaking Lewis Hamilton on the final lap of the last race of the season, becoming the first World Drivers' Champion from the Netherlands. Verstappen won the next two championships in 2022 and 2023, overturning the largest points deficit in Formula One history in the former and breaking numerous records across both seasons. He secured his fourth consecutive title in 2024 after winning nine Grands Prix, including a widely acclaimed wet-weather performance in São Paulo, to become the first driver to win the championship driving for a third-placed constructor in 41 years.\n",
      "As of the 2025 Hungarian Grand Prix, Verstappen has achieved 65 race wins, 44 pole positions, 34 fastest laps, and 117 podiums in Formula One. In addition to being the youngest Grand Prix winner, he holds several Formula One records, including the most wins in a season (19), the most podium finishes in a season (21), the most consecutive wins (10), and the most consecutive pole positions (8, shared with Ayrton Senna). Verstappen is contracted to remain at Red Bull until at least the end of the 2028 season. He has also competed professionally in sim racing since 2015, winning several marquee iRacing events. Verstappen was listed in the 2024 issue of Time as one of the 100 most influential people globally, and was appointed an Officer of the Order of Orange-Nassau in 2022.\n",
      "\n",
      "\n",
      "\n",
      "Page: Jos Verstappen\n",
      "Summary: Johannes Franciscus \"Jos\" Verstappen (Dutch pronunciation: [ˈjɔs fɛrˈstɑpə(n)]; born 4 March 1972) is a Dutch racing and rally driver, who competes in the European Rally Championship as a privateer. Verstappen competed in Formula One between 1994 and 2003.\n",
      "Born and raised in Dutch Limburg, Verstappen began competitive kart racing aged eight. After a successful karting career—culminating in two direct-drive Karting European Championships in 1989—Verstappen graduated to junior formulae. He started his career in Formula Opel Lotus, winning the Benelux Championship in 1992. Later that year, he also won the EFDA Nations Cup, representing the Netherlands. Progressing to German Formula Three in 1993, Verstappen won the title in his rookie season with Opel, further winning the Masters of Formula 3.\n",
      "Signing for Benetton as a test driver in 1994, Verstappen made his Formula One debut at the Brazilian Grand Prix, replacing the injured JJ Lehto to partner Michael Schumacher for the opening two rounds of the season. Verstappen formally replaced Lehto after the Canadian Grand Pri\u001b[0mPage: Max Verstappen\n",
      "Summary: Max Emilian Verstappen (Dutch pronunciation: [ˈmɑks fɛrˈstɑpə(n)]; born 30 September 1997) is a Dutch and Belgian racing driver who competes under the Dutch flag in Formula One for Red Bull Racing. Verstappen has won four Formula One World Drivers' Championship titles, which he won consecutively from 2021 to 2024 with Red Bull, and has won 65 Grands Prix across 11 seasons.\n",
      "Born in Hasselt and raised in Maaseik, Verstappen is the son of Dutch former Formula One driver Jos Verstappen and Belgian former kart racer Sophie Kumpen. After a successful karting career—culminating in his record-breaking 2013 season—Verstappen graduated to junior formulae. Progressing directly to FIA European Formula 3, Verstappen broke several records on his way to third in the championship in his rookie season with Van Amersfoort. Aged 17, Verstappen signed for Toro Rosso in 2015 as part of the Red Bull Junior Team, becoming the youngest driver in Formula One history at the Australian Grand Prix. Following several points finishes in his debut season, Verstappen retained his seat for 2016 before being promoted to parent team Red Bull after four rounds. On debut for Red Bull, aged 18, Verstappen won the Spanish Grand Prix, becoming the youngest-ever driver to win a Formula One Grand Prix. Verstappen achieved multiple race wins in his 2017 and 2018 campaigns, before finishing third in both the 2019 and 2020 World Drivers' Championships under Honda power.\n",
      "Verstappen won his maiden title in 2021 after overtaking Lewis Hamilton on the final lap of the last race of the season, becoming the first World Drivers' Champion from the Netherlands. Verstappen won the next two championships in 2022 and 2023, overturning the largest points deficit in Formula One history in the former and breaking numerous records across both seasons. He secured his fourth consecutive title in 2024 after winning nine Grands Prix, including a widely acclaimed wet-weather performance in São Paulo, to become the first driver to win the championship driving for a third-placed constructor in 41 years.\n",
      "As of the 2025 Hungarian Grand Prix, Verstappen has achieved 65 race wins, 44 pole positions, 34 fastest laps, and 117 podiums in Formula One. In addition to being the youngest Grand Prix winner, he holds several Formula One records, including the most wins in a season (19), the most podium finishes in a season (21), the most consecutive wins (10), and the most consecutive pole positions (8, shared with Ayrton Senna). Verstappen is contracted to remain at Red Bull until at least the end of the 2028 season. He has also competed professionally in sim racing since 2015, winning several marquee iRacing events. Verstappen was listed in the 2024 issue of Time as one of the 100 most influential people globally, and was appointed an Officer of the Order of Orange-Nassau in 2022.\n",
      "\n",
      "\n",
      "\n",
      "Page: Jos Verstappen\n",
      "Summary: Johannes Franciscus \"Jos\" Verstappen (Dutch pronunciation: [ˈjɔs fɛrˈstɑpə(n)]; born 4 March 1972) is a Dutch racing and rally driver, who competes in the European Rally Championship as a privateer. Verstappen competed in Formula One between 1994 and 2003.\n",
      "Born and raised in Dutch Limburg, Verstappen began competitive kart racing aged eight. After a successful karting career—culminating in two direct-drive Karting European Championships in 1989—Verstappen graduated to junior formulae. He started his career in Formula Opel Lotus, winning the Benelux Championship in 1992. Later that year, he also won the EFDA Nations Cup, representing the Netherlands. Progressing to German Formula Three in 1993, Verstappen won the title in his rookie season with Opel, further winning the Masters of Formula 3.\n",
      "Signing for Benetton as a test driver in 1994, Verstappen made his Formula One debut at the Brazilian Grand Prix, replacing the injured JJ Lehto to partner Michael Schumacher for the opening two rounds of the season. Verstappen formally replaced Lehto after the Canadian Grand Pri\n"
     ]
    }
   ],
   "source": [
    "print(tool.run(\"Who is Max Verstappen?\"))"
   ]
  },
  {
   "cell_type": "markdown",
   "id": "98445798",
   "metadata": {},
   "source": [
    "## Create your custom tool"
   ]
  },
  {
   "cell_type": "code",
   "execution_count": 16,
   "id": "11c98b1b",
   "metadata": {},
   "outputs": [],
   "source": [
    "from langchain.agents import tool\n",
    "\n",
    "@tool\n",
    "def get_word_length(word: str) -> int:\n",
    "    \"\"\"Get the length of a word.\"\"\"\n",
    "    return len(word)\n",
    "\n",
    "\n",
    "# We have to define a docstring for the tool to work properly, without it, it won't show up in the list of tools the agent can use and give error."
   ]
  },
  {
   "cell_type": "code",
   "execution_count": 18,
   "id": "5d53f964",
   "metadata": {},
   "outputs": [
    {
     "data": {
      "text/plain": [
       "11"
      ]
     },
     "execution_count": 18,
     "metadata": {},
     "output_type": "execute_result"
    }
   ],
   "source": [
    "get_word_length.invoke(\"Hello World\")"
   ]
  },
  {
   "cell_type": "code",
   "execution_count": 19,
   "id": "b57314fb",
   "metadata": {},
   "outputs": [],
   "source": [
    "@tool\n",
    "def add_numbers(a: int, b: int) -> int:\n",
    "    \"\"\"Add two numbers.\"\"\"\n",
    "    return a + b"
   ]
  },
  {
   "cell_type": "code",
   "execution_count": 22,
   "id": "d5e6e6de",
   "metadata": {},
   "outputs": [
    {
     "data": {
      "text/plain": [
       "15"
      ]
     },
     "execution_count": 22,
     "metadata": {},
     "output_type": "execute_result"
    }
   ],
   "source": [
    "add_numbers.invoke({\"a\": 5, \"b\": 10})"
   ]
  },
  {
   "cell_type": "markdown",
   "id": "820f4583",
   "metadata": {},
   "source": [
    "## Concept of Agents"
   ]
  },
  {
   "cell_type": "code",
   "execution_count": 23,
   "id": "b448e822",
   "metadata": {},
   "outputs": [],
   "source": [
    "from langchain.agents import AgentType, initialize_agent, load_tools"
   ]
  },
  {
   "cell_type": "code",
   "execution_count": 25,
   "id": "ae311999",
   "metadata": {},
   "outputs": [],
   "source": [
    "tools = load_tools([\"wikipedia\"], llm=llm)"
   ]
  },
  {
   "cell_type": "code",
   "execution_count": 30,
   "id": "be3e276b",
   "metadata": {},
   "outputs": [],
   "source": [
    "agent = initialize_agent(\n",
    "    tools=tools,\n",
    "    llm=llm,\n",
    "    agent=AgentType.ZERO_SHOT_REACT_DESCRIPTION,\n",
    "    verbose=True,\n",
    ")\n"
   ]
  },
  {
   "cell_type": "code",
   "execution_count": 31,
   "id": "7ac0102b",
   "metadata": {},
   "outputs": [
    {
     "name": "stderr",
     "output_type": "stream",
     "text": [
      "/var/folders/p_/v95prvpj4cz7y53gvmgm1d_r0000gn/T/ipykernel_46430/497327816.py:1: LangChainDeprecationWarning: The method `Chain.run` was deprecated in langchain 0.1.0 and will be removed in 1.0. Use :meth:`~invoke` instead.\n",
      "  agent.run(\"Who is the current world champion in Formula 1 racing?\")\n"
     ]
    },
    {
     "name": "stdout",
     "output_type": "stream",
     "text": [
      "\n",
      "\n",
      "\u001b[1m> Entering new AgentExecutor chain...\u001b[0m\n",
      "\u001b[32;1m\u001b[1;3mThought: I need to look up the current Formula 1 world champion on Wikipedia.\n",
      "Action: wikipedia\n",
      "Action Input: Formula 1 World Championship\u001b[0m\n",
      "Observation: \u001b[36;1m\u001b[1;3mPage: 2024 Formula One World Championship\n",
      "Summary: The 2024 FIA Formula One World Championship was a motor racing championship for Formula One cars and was the 75th running of the Formula One World Championship. It was recognised by the Fédération Internationale de l'Automobile (FIA), the governing body of international motorsport, as the highest class of competition for open-wheel racing cars. The championship was contested over a record twenty-four Grands Prix held around the world.\n",
      "Drivers and teams competed for the titles of World Drivers' Champion and World Constructors' Champion, respectively. Defending Drivers' Champion Max Verstappen of Red Bull Racing started off the season with seven wins in the opening 10 races, but was pressured by McLaren driver Lando Norris for the rest of the season after his RB20 fell behind Norris's MCL38 in terms of performance. Verstappen performed consistently at the front of the field and maintained his points advantage to win his fourth consecutive Drivers' Championship title at the Las Vegas Grand Prix, while McLaren surpassed Red Bull to achieve their ninth Constructors' Championship title at the Abu Dhabi Grand Prix, narrowly ahead of Ferrari by just 14 points. With their first Constructors' Championship victory in 26 years, McLaren became the first constructor other than Red Bull and Mercedes to win the title since Brawn in 2009.\n",
      "\n",
      "Page: Formula One\n",
      "Summary: Formula One (F1) is the highest class of worldwide racing for open-wheel single-seater formula racing cars sanctioned by the Fédération Internationale de l'Automobile (FIA). The FIA Formula One World Championship has been one of the world's premier forms of motorsport since its inaugural running in 1950 and is often considered to be the pinnacle of motorsport. The word formula in the name refers to the set of rules all participant cars must follow. A Formula One season consists of a series of races, known as Grands Prix. Grands Prix take place in multiple countries and continents on either purpose-built circuits or closed roads.\n",
      "A points scoring system is used at Grands Prix to determine two annual World Championships: one for the drivers, and one for the constructors—now synonymous with teams. Each driver must hold a valid Super Licence, the highest class of racing licence the FIA issues, and the races must be held on Grade One tracks, the highest grade rating the FIA issues for tracks.\n",
      "Formula One cars are the world's fastest regulated road-course racing cars, owing to high cornering speeds achieved by generating large amounts of aerodynamic downforce, most of which is generated by front and rear wings, as well as underbody tunnels. The cars depend on electronics, aerodynamics, suspension, and tyres. Traction control, launch control, automatic shifting, and other electronic driving aids were first banned in 1994. They were briefly reintroduced in 2001 but were banned once more in 2004 and 2008, respectively.\n",
      "With the average annual cost of running a team—e.g., designing, building, and maintaining cars; staff payroll; transport—at approximately £193 million as of 2018, Formula One's financial and political battles are widely reported. The Formula One Group is owned by Liberty Media, which acquired it in 2017 from private-equity firm CVC Capital Partners for US$8 billion. The United Kingdom is the hub of Formula One racing, with six out of the ten teams based there.\n",
      "\n",
      "Page: 2025 Formula One World Championship\n",
      "Summary: The 2025 FIA Formula One World Championship is an ongoing motor racing championship for Formula One cars and the 76th running of the Formula One World Championship. It is recognised by the Fédération Internationale de l'Automobile (FIA), the governing body of international motorsport, as the highest class of competition for open-wheel racing cars. The championship is contested over twenty-four Grands Prix held around the world. It began in March and will end in December.\n",
      "Drivers and teams compete for the titles of Worl\u001b[0m\n",
      "Thought:\u001b[32;1m\u001b[1;3mQuestion: Who is the current world champion in Formula 1 racing?\n",
      "Thought: I need to look up the current Formula 1 world champion on Wikipedia.\n",
      "Action: wikipedia\n",
      "Action Input: Formula One World Championship\u001b[0m\n",
      "Observation: \u001b[36;1m\u001b[1;3mPage: List of Formula One World Drivers' Champions\n",
      "Summary: Formula One, abbreviated to F1, is the highest class of open-wheeled auto racing defined by the Fédération Internationale de l'Automobile (FIA), motorsport's world governing body. The \"formula\" in the name refers to a set of rules to which all participants and cars must conform. The Formula One World Championship season consists of a series of races, known as Grands Prix, held usually on purpose-built circuits, and in a few cases on closed city streets. The World Drivers' Championship is presented by the FIA to the most successful Formula One driver over the course of the season through a points system based on individual Grand Prix results. The World Championship is won by a driver when it is no longer mathematically possible for another competitor to overtake their points total regardless of the outcome of the remaining races, although it is not officially awarded until the FIA Prize Giving Ceremony (held in various cities in different years) following the conclusion of the season.\n",
      "Michael Schumacher and Lewis Hamilton hold the record for the most World Drivers' championships, both having won the title on seven occasions. Juan Manuel Fangio is third with five titles. Schumacher also holds the record for the most consecutive World Drivers' titles with five between the 2000 and the 2004 seasons. Nigel Mansell holds the record of competing in the highest number of seasons before winning the World Drivers' Championship, entering Formula One in 1980 and achieving the title in 1992, a span of 13 seasons. Nico Rosberg has the highest number of Grand Prix starts before winning his first title, a period of 206 Grands Prix between the 2006 Bahrain and the 2016 Abu Dhabi Grand Prix. Sebastian Vettel is the youngest winner of the World Drivers' Championship; he was 23 years and 134 days old when he won the 2010 championship. Juan Manuel Fangio is the oldest winner of the World Drivers' Championship; he was 46 years and 41 days old when he won the 1957 title.\n",
      "As of the 2024 season, out of the 777 drivers who have started a Formula One Grand Prix, the 75 titles awarded have been won by a total of 34 different drivers. The first Formula One World Drivers' Champion was Giuseppe Farina in the 1950 championship and the current title holder is Max Verstappen in the 2024 season. The title has been won by drivers from the United Kingdom 20 times between 10 drivers, more than any other nation, followed by Brazil, Finland and Germany with three drivers each. The title has been won by drivers from Scuderia Ferrari 15 times between 9 drivers, more than any other team, followed by McLaren with 12 titles between 7 drivers. The Drivers' Championship has been won in the final race of the season 30 times in the 75 seasons it has been awarded. Schumacher holds the record of earning the championship with most Grands Prix left to run in a season with six when he won the 2002 title at that year's French Grand Prix. Due to the points system, on two occasions (John Surtees in the 1964 season and Ayrton Senna in the 1988 season) a world champion scored fewer points overall than a driver who finished second in the championship.\n",
      "\n",
      "\n",
      "\n",
      "Page: Formula One\n",
      "Summary: Formula One (F1) is the highest class of worldwide racing for open-wheel single-seater formula racing cars sanctioned by the Fédération Internationale de l'Automobile (FIA). The FIA Formula One World Championship has been one of the world's premier forms of motorsport since its inaugural running in 1950 and is often considered to be the pinnacle of motorsport. The word formula in the name refers to the set of rules all participant cars must follow. A Formula One season consists of a series of races, known as Grands Prix. Grands Prix take place in multiple countries and continents on either purpose-built circuits or closed roads.\n",
      "A points scoring system is used at Grands Prix to determine two annual World Championships: one for the drivers, and one fo\u001b[0m\n",
      "Thought:\u001b[32;1m\u001b[1;3mQuestion: Who is the current world champion in Formula 1 racing?\n",
      "Thought: I need to look up the current Formula 1 world champion on Wikipedia.\n",
      "Action: wikipedia\n",
      "Action Input: Formula One World Drivers' Champions\u001b[0m\n",
      "Observation: \u001b[36;1m\u001b[1;3mPage: List of Formula One World Drivers' Champions\n",
      "Summary: Formula One, abbreviated to F1, is the highest class of open-wheeled auto racing defined by the Fédération Internationale de l'Automobile (FIA), motorsport's world governing body. The \"formula\" in the name refers to a set of rules to which all participants and cars must conform. The Formula One World Championship season consists of a series of races, known as Grands Prix, held usually on purpose-built circuits, and in a few cases on closed city streets. The World Drivers' Championship is presented by the FIA to the most successful Formula One driver over the course of the season through a points system based on individual Grand Prix results. The World Championship is won by a driver when it is no longer mathematically possible for another competitor to overtake their points total regardless of the outcome of the remaining races, although it is not officially awarded until the FIA Prize Giving Ceremony (held in various cities in different years) following the conclusion of the season.\n",
      "Michael Schumacher and Lewis Hamilton hold the record for the most World Drivers' championships, both having won the title on seven occasions. Juan Manuel Fangio is third with five titles. Schumacher also holds the record for the most consecutive World Drivers' titles with five between the 2000 and the 2004 seasons. Nigel Mansell holds the record of competing in the highest number of seasons before winning the World Drivers' Championship, entering Formula One in 1980 and achieving the title in 1992, a span of 13 seasons. Nico Rosberg has the highest number of Grand Prix starts before winning his first title, a period of 206 Grands Prix between the 2006 Bahrain and the 2016 Abu Dhabi Grand Prix. Sebastian Vettel is the youngest winner of the World Drivers' Championship; he was 23 years and 134 days old when he won the 2010 championship. Juan Manuel Fangio is the oldest winner of the World Drivers' Championship; he was 46 years and 41 days old when he won the 1957 title.\n",
      "As of the 2024 season, out of the 777 drivers who have started a Formula One Grand Prix, the 75 titles awarded have been won by a total of 34 different drivers. The first Formula One World Drivers' Champion was Giuseppe Farina in the 1950 championship and the current title holder is Max Verstappen in the 2024 season. The title has been won by drivers from the United Kingdom 20 times between 10 drivers, more than any other nation, followed by Brazil, Finland and Germany with three drivers each. The title has been won by drivers from Scuderia Ferrari 15 times between 9 drivers, more than any other team, followed by McLaren with 12 titles between 7 drivers. The Drivers' Championship has been won in the final race of the season 30 times in the 75 seasons it has been awarded. Schumacher holds the record of earning the championship with most Grands Prix left to run in a season with six when he won the 2002 title at that year's French Grand Prix. Due to the points system, on two occasions (John Surtees in the 1964 season and Ayrton Senna in the 1988 season) a world champion scored fewer points overall than a driver who finished second in the championship.\n",
      "\n",
      "\n",
      "\n",
      "Page: 2024 Formula One World Championship\n",
      "Summary: The 2024 FIA Formula One World Championship was a motor racing championship for Formula One cars and was the 75th running of the Formula One World Championship. It was recognised by the Fédération Internationale de l'Automobile (FIA), the governing body of international motorsport, as the highest class of competition for open-wheel racing cars. The championship was contested over a record twenty-four Grands Prix held around the world.\n",
      "Drivers and teams competed for the titles of World Drivers' Champion and World Constructors' Champion, respectively. Defending Drivers' Champion Max Verstappen of Red Bull Racing started off the season with seven wins in the opening 10 races, but was pressured by McLaren driver Lando Norris for t\u001b[0m\n",
      "Thought:\u001b[32;1m\u001b[1;3mQuestion: Who is the current world champion in Formula 1 racing?\n",
      "Thought: I need to look up the current Formula 1 world champion on Wikipedia.\n",
      "Action: wikipedia\n",
      "Action Input: Formula One World Drivers' Champions\u001b[0m\n",
      "Observation: \u001b[36;1m\u001b[1;3mPage: List of Formula One World Drivers' Champions\n",
      "Summary: Formula One, abbreviated to F1, is the highest class of open-wheeled auto racing defined by the Fédération Internationale de l'Automobile (FIA), motorsport's world governing body. The \"formula\" in the name refers to a set of rules to which all participants and cars must conform. The Formula One World Championship season consists of a series of races, known as Grands Prix, held usually on purpose-built circuits, and in a few cases on closed city streets. The World Drivers' Championship is presented by the FIA to the most successful Formula One driver over the course of the season through a points system based on individual Grand Prix results. The World Championship is won by a driver when it is no longer mathematically possible for another competitor to overtake their points total regardless of the outcome of the remaining races, although it is not officially awarded until the FIA Prize Giving Ceremony (held in various cities in different years) following the conclusion of the season.\n",
      "Michael Schumacher and Lewis Hamilton hold the record for the most World Drivers' championships, both having won the title on seven occasions. Juan Manuel Fangio is third with five titles. Schumacher also holds the record for the most consecutive World Drivers' titles with five between the 2000 and the 2004 seasons. Nigel Mansell holds the record of competing in the highest number of seasons before winning the World Drivers' Championship, entering Formula One in 1980 and achieving the title in 1992, a span of 13 seasons. Nico Rosberg has the highest number of Grand Prix starts before winning his first title, a period of 206 Grands Prix between the 2006 Bahrain and the 2016 Abu Dhabi Grand Prix. Sebastian Vettel is the youngest winner of the World Drivers' Championship; he was 23 years and 134 days old when he won the 2010 championship. Juan Manuel Fangio is the oldest winner of the World Drivers' Championship; he was 46 years and 41 days old when he won the 1957 title.\n",
      "As of the 2024 season, out of the 777 drivers who have started a Formula One Grand Prix, the 75 titles awarded have been won by a total of 34 different drivers. The first Formula One World Drivers' Champion was Giuseppe Farina in the 1950 championship and the current title holder is Max Verstappen in the 2024 season. The title has been won by drivers from the United Kingdom 20 times between 10 drivers, more than any other nation, followed by Brazil, Finland and Germany with three drivers each. The title has been won by drivers from Scuderia Ferrari 15 times between 9 drivers, more than any other team, followed by McLaren with 12 titles between 7 drivers. The Drivers' Championship has been won in the final race of the season 30 times in the 75 seasons it has been awarded. Schumacher holds the record of earning the championship with most Grands Prix left to run in a season with six when he won the 2002 title at that year's French Grand Prix. Due to the points system, on two occasions (John Surtees in the 1964 season and Ayrton Senna in the 1988 season) a world champion scored fewer points overall than a driver who finished second in the championship.\n",
      "\n",
      "\n",
      "\n",
      "Page: 2024 Formula One World Championship\n",
      "Summary: The 2024 FIA Formula One World Championship was a motor racing championship for Formula One cars and was the 75th running of the Formula One World Championship. It was recognised by the Fédération Internationale de l'Automobile (FIA), the governing body of international motorsport, as the highest class of competition for open-wheel racing cars. The championship was contested over a record twenty-four Grands Prix held around the world.\n",
      "Drivers and teams competed for the titles of World Drivers' Champion and World Constructors' Champion, respectively. Defending Drivers' Champion Max Verstappen of Red Bull Racing started off the season with seven wins in the opening 10 races, but was pressured by McLaren driver Lando Norris for t\u001b[0m\n",
      "Thought:\u001b[32;1m\u001b[1;3mQuestion: Who is the current world champion in Formula 1 racing?\n",
      "Thought: I need to look up the current Formula 1 world champion on Wikipedia.\n",
      "Action: wikipedia\n",
      "Action Input: Formula One World Drivers' Champions\u001b[0m\n",
      "Observation: \u001b[36;1m\u001b[1;3mPage: List of Formula One World Drivers' Champions\n",
      "Summary: Formula One, abbreviated to F1, is the highest class of open-wheeled auto racing defined by the Fédération Internationale de l'Automobile (FIA), motorsport's world governing body. The \"formula\" in the name refers to a set of rules to which all participants and cars must conform. The Formula One World Championship season consists of a series of races, known as Grands Prix, held usually on purpose-built circuits, and in a few cases on closed city streets. The World Drivers' Championship is presented by the FIA to the most successful Formula One driver over the course of the season through a points system based on individual Grand Prix results. The World Championship is won by a driver when it is no longer mathematically possible for another competitor to overtake their points total regardless of the outcome of the remaining races, although it is not officially awarded until the FIA Prize Giving Ceremony (held in various cities in different years) following the conclusion of the season.\n",
      "Michael Schumacher and Lewis Hamilton hold the record for the most World Drivers' championships, both having won the title on seven occasions. Juan Manuel Fangio is third with five titles. Schumacher also holds the record for the most consecutive World Drivers' titles with five between the 2000 and the 2004 seasons. Nigel Mansell holds the record of competing in the highest number of seasons before winning the World Drivers' Championship, entering Formula One in 1980 and achieving the title in 1992, a span of 13 seasons. Nico Rosberg has the highest number of Grand Prix starts before winning his first title, a period of 206 Grands Prix between the 2006 Bahrain and the 2016 Abu Dhabi Grand Prix. Sebastian Vettel is the youngest winner of the World Drivers' Championship; he was 23 years and 134 days old when he won the 2010 championship. Juan Manuel Fangio is the oldest winner of the World Drivers' Championship; he was 46 years and 41 days old when he won the 1957 title.\n",
      "As of the 2024 season, out of the 777 drivers who have started a Formula One Grand Prix, the 75 titles awarded have been won by a total of 34 different drivers. The first Formula One World Drivers' Champion was Giuseppe Farina in the 1950 championship and the current title holder is Max Verstappen in the 2024 season. The title has been won by drivers from the United Kingdom 20 times between 10 drivers, more than any other nation, followed by Brazil, Finland and Germany with three drivers each. The title has been won by drivers from Scuderia Ferrari 15 times between 9 drivers, more than any other team, followed by McLaren with 12 titles between 7 drivers. The Drivers' Championship has been won in the final race of the season 30 times in the 75 seasons it has been awarded. Schumacher holds the record of earning the championship with most Grands Prix left to run in a season with six when he won the 2002 title at that year's French Grand Prix. Due to the points system, on two occasions (John Surtees in the 1964 season and Ayrton Senna in the 1988 season) a world champion scored fewer points overall than a driver who finished second in the championship.\n",
      "\n",
      "\n",
      "\n",
      "Page: 2024 Formula One World Championship\n",
      "Summary: The 2024 FIA Formula One World Championship was a motor racing championship for Formula One cars and was the 75th running of the Formula One World Championship. It was recognised by the Fédération Internationale de l'Automobile (FIA), the governing body of international motorsport, as the highest class of competition for open-wheel racing cars. The championship was contested over a record twenty-four Grands Prix held around the world.\n",
      "Drivers and teams competed for the titles of World Drivers' Champion and World Constructors' Champion, respectively. Defending Drivers' Champion Max Verstappen of Red Bull Racing started off the season with seven wins in the opening 10 races, but was pressured by McLaren driver Lando Norris for t\u001b[0m\n",
      "Thought:\u001b[32;1m\u001b[1;3mThought: I now know Max Verstappen is the current world champion by looking at the 'List of Formula One World Drivers'Champions' page on Wikipedia.\n",
      "Final Answer: Max Verstappen\n",
      "\u001b[0m\n",
      "\n",
      "\u001b[1m> Finished chain.\u001b[0m\n"
     ]
    },
    {
     "data": {
      "text/plain": [
       "'Max Verstappen'"
      ]
     },
     "execution_count": 31,
     "metadata": {},
     "output_type": "execute_result"
    }
   ],
   "source": [
    "agent.run(\"Who is the current world champion in Formula 1 racing?\")"
   ]
  },
  {
   "cell_type": "code",
   "execution_count": 34,
   "id": "57bb2515",
   "metadata": {},
   "outputs": [
    {
     "name": "stdout",
     "output_type": "stream",
     "text": [
      "\n",
      "\n",
      "\u001b[1m> Entering new AgentExecutor chain...\u001b[0m\n",
      "\u001b[32;1m\u001b[1;3mThought: I need to look up GPT-2 on Wikipedia to find out what it is.  \n",
      "Action: wikipedia\n",
      "Action Input: GPT-2\u001b[0m\n",
      "Observation: \u001b[36;1m\u001b[1;3mPage: GPT-2\n",
      "Summary: Generative Pre-trained Transformer 2 (GPT-2) is a large language model by OpenAI and the second in their foundational series of GPT models. GPT-2 was pre-trained on a dataset of 8 million web pages. It was partially released in February 2019, followed by full release of the 1.5-billion-parameter model on November 5, 2019.\n",
      "GPT-2 was created as a \"direct scale-up\" of GPT-1 with a ten-fold increase in both its parameter count and the size of its training dataset. It is a general-purpose learner and its ability to perform the various tasks was a consequence of its general ability to accurately predict the next item in a sequence, which enabled it to translate texts, answer questions about a topic from a text, summarize passages from a larger text, and generate text output on a level sometimes indistinguishable from that of humans; however, it could become repetitive or nonsensical when generating long passages. It was superseded by the GPT-3 and GPT-4 models, which are no longer open source.\n",
      "GPT-2 has, like its predecessor GPT-1 and its successors GPT-3 and GPT-4, a generative pre-trained transformer architecture, implementing a deep neural network, specifically a transformer model, which uses attention instead of older recurrence- and convolution-based architectures. Attention mechanisms allow the model to selectively focus on segments of input text it predicts to be the most relevant. This model allows for greatly increased parallelization, and outperforms previous benchmarks for RNN/CNN/LSTM-based models.\n",
      "\n",
      "Page: GPT-3\n",
      "Summary: Generative Pre-trained Transformer 3 (GPT-3) is a large language model released by OpenAI in 2020.\n",
      "Like its predecessor, GPT-2, it is a decoder-only transformer model of deep neural network, which supersedes recurrence and convolution-based architectures with a technique known as \"attention\". This attention mechanism allows the model to focus selectively on segments of input text it predicts to be most relevant. GPT-3 has 175 billion parameters, each with 16-bit precision, requiring 350GB of storage since each parameter occupies 2 bytes. It has a context window size of 2048 tokens, and has demonstrated strong \"zero-shot\" and \"few-shot\" learning abilities on many tasks.\n",
      "On September 22, 2020, Microsoft announced that it had licensed GPT-3 exclusively. Others can still receive output from its public API, but only Microsoft has access to the underlying model.\n",
      "\n",
      "Page: GPT-4\n",
      "Summary: Generative Pre-trained Transformer 4 (GPT-4) is a large language model developed by OpenAI and the fourth in its series of GPT foundation models. It was launched on March 14, 2023, and was publicly accessible through the chatbot products ChatGPT and Microsoft Copilot until 2025; it is currently available via OpenAI's API.  \n",
      "GPT-4 is more capable than its predecessor GPT-3.5. GPT-4 Vision (GPT-4V) is a version of GPT-4 that can process images in addition to text. OpenAI has not revealed technical details and statistics about GPT-4, such as the precise size of the model.\n",
      "GPT-4, as a generative pre-trained transformer (GPT), was first trained to predict the next token for a large amount of text (both public data and \"data licensed from third-party providers\"). Then, it was fine-tuned for human alignment and policy compliance, notably with reinforcement learning from human feedback (RLHF).\u001b[0m\n",
      "Thought:\u001b[32;1m\u001b[1;3mThought: I now know what GPT-2 is. \n",
      "Final Answer: GPT-2 is a large language model by OpenAI and the second in their foundational series of GPT models. It was pre-trained on a dataset of 8 million web pages and is capable of performing various tasks such as translation, answering questions, summarizing text, and generating text. \n",
      "\n",
      "\n",
      "\u001b[0m\n",
      "\n",
      "\u001b[1m> Finished chain.\u001b[0m\n"
     ]
    },
    {
     "data": {
      "text/plain": [
       "'GPT-2 is a large language model by OpenAI and the second in their foundational series of GPT models. It was pre-trained on a dataset of 8 million web pages and is capable of performing various tasks such as translation, answering questions, summarizing text, and generating text.'"
      ]
     },
     "execution_count": 34,
     "metadata": {},
     "output_type": "execute_result"
    }
   ],
   "source": [
    "agent.run(\"What is GPT-2?\")"
   ]
  },
  {
   "cell_type": "code",
   "execution_count": null,
   "id": "957078ab",
   "metadata": {},
   "outputs": [],
   "source": [
    "from langchain_community.tools.tavily_search import TavilySearchResults\n",
    "\n",
    "# Tavily basically provides a search engine tool that can be used to fetch real-time information from the web."
   ]
  },
  {
   "cell_type": "code",
   "execution_count": 36,
   "id": "5177f5b9",
   "metadata": {},
   "outputs": [
    {
     "name": "stderr",
     "output_type": "stream",
     "text": [
      "/var/folders/p_/v95prvpj4cz7y53gvmgm1d_r0000gn/T/ipykernel_46430/1244456812.py:1: LangChainDeprecationWarning: The class `TavilySearchResults` was deprecated in LangChain 0.3.25 and will be removed in 1.0. An updated version of the class exists in the :class:`~langchain-tavily package and should be used instead. To use it run `pip install -U :class:`~langchain-tavily` and import as `from :class:`~langchain_tavily import TavilySearch``.\n",
      "  search = TavilySearchResults()\n"
     ]
    }
   ],
   "source": [
    "search = TavilySearchResults()"
   ]
  },
  {
   "cell_type": "code",
   "execution_count": 37,
   "id": "e9232aca",
   "metadata": {},
   "outputs": [
    {
     "data": {
      "text/plain": [
       "[{'title': 'F1 World Champions by Year | Full Historical Overview',\n",
       "  'url': 'https://racingnews365.com/every-world-champion-in-formula-1-history',\n",
       "  'content': \"The first World Championship of Formula One occurred in 1950, where Giuseppe Farina won the first F1 world title ever. A lot of legendary drivers have made it onto the F1 world champion driver list, such as Alain Prost, Ayrton Senna, Michael Schumacher, and many more. Currently, both Lewis Hamilton and Michael Schumacher hold the record for the most F1 world titles ever, with an outstanding total of seven championships each. [...] Currently, Sebastian Vettel is the youngest world champion in F1 history. He won his first F1 world title in 2010 at the age of 23 years and 134 days with the team Red Bull. The German driver is known as one of the most successful drivers in Formula One history and won from 2010 until 2013 with the same team. Vettel finished his last season in F1 at Aston Martin, retiring at the age of 36 at the end of the 2022 season.\\n\\nTo view all F1 world title winners, watch the overviews below. [...] F1 began in 1950 and since then many legendary drivers and teams have dazzled audiences around the world. From Juan Manuel Fangio to Alberto Ascari, Ayrton Senna to Michael Schumacher, Lewis Hamilton to Max Verstappen, F1 has crowned many champions over the years.  \\n  \\nWe've compiled a list of every F1 Drivers' and Constructors' World Champion through the decades. Explore all the F1 world champions by year below.\\n\\nHamilton winst race spanje\\n\\n## A list of all F1 world title winners\",\n",
       "  'score': 0.8868231},\n",
       " {'title': \"2025 DRIVERS' STANDINGS - F1\",\n",
       "  'url': 'https://www.formula1.com/en/results/2025/drivers',\n",
       "  'content': 'POS.\\n\\nDRIVER\\n\\nNATIONALITY\\n\\nTEAM\\n\\nPTS.\\n\\n1\\n\\nOscar PiastriPIA\\n\\nAUS\\n\\nMcLaren\\n\\n284\\n\\n2\\n\\nLando NorrisNOR\\n\\nGBR\\n\\nMcLaren\\n\\n275\\n\\n3\\n\\nMax VerstappenVER\\n\\nNED\\n\\nRed Bull Racing\\n\\n187\\n\\n4\\n\\nGeorge RussellRUS\\n\\nGBR\\n\\nMercedes\\n\\n172\\n\\n5\\n\\nCharles LeclercLEC\\n\\nMON\\n\\nFerrari\\n\\n151\\n\\n6\\n\\nLewis HamiltonHAM\\n\\nGBR\\n\\nFerrari\\n\\n109\\n\\n7\\n\\nKimi AntonelliANT\\n\\nITA\\n\\nMercedes\\n\\n64\\n\\n8\\n\\nAlexander AlbonALB\\n\\nTHA\\n\\nWilliams\\n\\n54\\n\\n9\\n\\nNico HulkenbergHUL\\n\\nGER\\n\\nKick Sauber\\n\\n37\\n\\n10\\n\\nEsteban OconOCO\\n\\nFRA\\n\\nHaas\\n\\n27\\n\\n11\\n\\nFernando AlonsoALO\\n\\nESP\\n\\nAston Martin [...] | POS. | DRIVER | NATIONALITY | TEAM | PTS. |\\n ---  --- \\n| 1 | Oscar PiastriPIA | AUS | McLaren | 284 |\\n| 2 | Lando NorrisNOR | GBR | McLaren | 275 |\\n| 3 | Max VerstappenVER | NED | Red Bull Racing | 187 |\\n| 4 | George RussellRUS | GBR | Mercedes | 172 |\\n| 5 | Charles LeclercLEC | MON | Ferrari | 151 |\\n| 6 | Lewis HamiltonHAM | GBR | Ferrari | 109 |\\n| 7 | Kimi AntonelliANT | ITA | Mercedes | 64 |\\n| 8 | Alexander AlbonALB | THA | Williams | 54 | [...] | 9 | Nico HulkenbergHUL | GER | Kick Sauber | 37 |\\n| 10 | Esteban OconOCO | FRA | Haas | 27 |\\n| 11 | Fernando AlonsoALO | ESP | Aston Martin | 26 |\\n| 12 | Lance StrollSTR | CAN | Aston Martin | 26 |\\n| 13 | Isack HadjarHAD | FRA | Racing Bulls | 22 |\\n| 14 | Pierre GaslyGAS | FRA | Alpine | 20 |\\n| 15 | Liam LawsonLAW | NZL | Racing Bulls | 20 |\\n| 16 | Carlos SainzSAI | ESP | Williams | 16 |\\n| 17 | Gabriel BortoletoBOR | BRA | Kick Sauber | 14 |',\n",
       "  'score': 0.60077465},\n",
       " {'title': 'F1 Championship Standings Drivers & Teams - 2025 Season',\n",
       "  'url': 'https://www.skysports.com/f1/standings',\n",
       "  'content': '| # | Driver | Nat | Team | Pts |\\n ---  --- \\n| 1 | Oscar Piastri | AUS | McLaren | 284 |\\n| 2 | Lando Norris | GBR | McLaren | 275 |\\n| 3 | Max Verstappen | NED | Red Bull | 187 |\\n| 4 | George Russell | GBR | Mercedes | 172 |\\n| 5 | Charles Leclerc | MON | Ferrari | 151 |\\n| 6 | Lewis Hamilton | GBR | Ferrari | 109 |\\n| 7 | Kimi Antonelli | ITA | Mercedes | 64 |\\n| 8 | Alex Albon | THA | Williams | 54 |\\n| 9 | Nico Hulkenberg | GER | Sauber | 37 |\\n| 10 | Esteban Ocon | FRA | Haas | 27 | [...] | 11 | Fernando Alonso | ESP | Aston Martin | 26 |\\n| 12 | Lance Stroll | CAN | Aston Martin | 26 |\\n| 13 | Isack Hadjar | FRA | Racing Bulls | 22 |\\n| 14 | Pierre Gasly | FRA | Alpine | 20 |\\n| 15 | Liam Lawson | NZL | Racing Bulls | 20 |\\n| 16 | Carlos Sainz | ESP | Williams | 16 |\\n| 17 | Gabriel Bortoleto | BRA | Sauber | 14 |\\n| 18 | Yuki Tsunoda | JPN | Red Bull | 10 |\\n| 19 | Oliver Bearman | GBR | Haas | 8 |\\n| 20 | Franco Colapinto | ARG | Alpine | 0 |\\n| 21 | Jack Doohan | AUS | Alpine | 0 | [...] | Grand Prix | Team | Driver | Fastest Stop |\\n ---  --- |\\n| Australia | Ferrari | Charles Leclerc | 2.32s |\\n| China | Ferrari | Charles Leclerc | 2.05s |\\n| Japan | Ferrari | Lewis Hamilton | 2.18s |\\n| Bahrain | Ferrari | Lewis Hamilton | 2.16s |\\n| Saudi Arabia | Ferrari | Charles Leclerc | 2.00s |\\n| Miami | Sauber | Gabriel Bortoleto | 2.24s |\\n| Emilia-Romagna | Ferrari | Charles Leclerc | 2.04s |\\n| Monaco | Ferrari | Charles Leclerc | 2.00s |\\n| Spain | Sauber | Gabriel Bortoleto | 2.13s |',\n",
       "  'score': 0.5191075},\n",
       " {'title': 'F1 Drivers 2025 - Verstappen, Hamilton, Leclerc and more',\n",
       "  'url': 'https://www.formula1.com/en/drivers',\n",
       "  'content': \"Verstappen\\n\\nRed Bull Racing\\n\\nMax Verstappen\\n\\nYuki\\n\\nTsunoda\\n\\nRed Bull Racing\\n\\nYuki Tsunoda\\n\\nAlexander\\n\\nAlbon\\n\\nWilliams\\n\\nAlexander Albon\\n\\nCarlos\\n\\nSainz\\n\\nWilliams\\n\\nCarlos Sainz\\n\\nLance\\n\\nStroll\\n\\nAston Martin\\n\\nLance Stroll\\n\\nFernando\\n\\nAlonso\\n\\nAston Martin\\n\\nFernando Alonso\\n\\nNico\\n\\nHulkenberg\\n\\nKick Sauber\\n\\nNico Hulkenberg\\n\\nGabriel\\n\\nBortoleto\\n\\nKick Sauber\\n\\nGabriel Bortoleto\\n\\nLiam\\n\\nLawson\\n\\nRacing Bulls\\n\\nLiam Lawson\\n\\nIsack\\n\\nHadjar\\n\\nRacing Bulls\\n\\nIsack Hadjar\\n\\nEsteban\\n\\nOcon\\n\\nHaas\\n\\nEsteban Ocon\\n\\nOliver [...] Bearman\\n\\nHaas\\n\\nOliver Bearman\\n\\nPierre\\n\\nGasly\\n\\nAlpine\\n\\nPierre Gasly\\n\\nFranco\\n\\nColapinto\\n\\nAlpine\\n\\nFranco Colapinto\\n\\n## OUR PARTNERS\\n\\nLVMH\\nPirelli\\nAramco\\nAWS\\nLenovo\\nDHL\\nQatar Airways\\nMSC\\nCrypto.com\\nSalesforce\\nLouis Vuitton\\nTAG Heuer\\nAmerican Express\\nSantander\\nAllwyn\\nGlobant\\nLas Vegas Convention and Visitors Authority\\nParamount+\\nBarilla\\nLiqui Moly\\n Nestle\\nPwC\\nPepsiCo\\nPuma\\nTATA\\nAggreko\\nBBS\\nMcDonalds\\n\\n## Download the Official F1 App\\n\\n© 2003-2025 Formula One World Championship Limited [...] 2025 Dutch GP FP2: Every spill, spin and crash from Friday practice at Zandvoort\\n\\nTECH TALK – What's new after the summer? \\n\\nTECH TALK – What's new after the summer?\\n\\n# F1 Drivers 2025\\n\\nFind the current Formula 1 drivers for the 2025 season\\n\\nOscar\\n\\nPiastri\\n\\nMcLaren\\n\\nOscar Piastri\\n\\nLando\\n\\nNorris\\n\\nMcLaren\\n\\nLando Norris\\n\\nCharles\\n\\nLeclerc\\n\\nFerrari\\n\\nCharles Leclerc\\n\\nLewis\\n\\nHamilton\\n\\nFerrari\\n\\nLewis Hamilton\\n\\nGeorge\\n\\nRussell\\n\\nMercedes\\n\\nGeorge Russell\\n\\nKimi\\n\\nAntonelli\\n\\nMercedes\\n\\nKimi Antonelli\\n\\nMax\",\n",
       "  'score': 0.4179133},\n",
       " {'title': 'F1 Schedule 2025 - Official Calendar of Grand Prix Races',\n",
       "  'url': 'https://www.formula1.com/en/racing/2025',\n",
       "  'content': \"2025 Dutch GP FP2: Every spill, spin and crash from Friday practice at Zandvoort\\n\\nTECH TALK – What's new after the summer? \\n\\nTECH TALK – What's new after the summer?\\n\\n# 2025 FIA FORMULA ONE WORLD CHAMPIONSHIP™ RACE CALENDAR\\n\\nPrevious\\n\\nCurrent\\n\\nUpcoming\\n\\nSakhir\\n\\nAustralia\\n\\nNorrisNOR\\n\\n1:42:06.304\\n\\nVerstappenVER\\n\\n+0.895\\n\\nRussellRUS\\n\\n+8.481\\n\\nChina\\n\\nPiastriPIA\\n\\n1:30:55.026\\n\\nNorrisNOR\\n\\n+9.748\\n\\nRussellRUS\\n\\n+11.097\\n\\nJapan\\n\\nVerstappenVER\\n\\n1:22:06.983\\n\\nNorrisNOR\\n\\n+1.423\\n\\nPiastriPIA\\n\\n+2.129\\n\\nBahrain [...] Authentics\\n\\nStore\\n\\nTickets\\n\\nHospitality\\n\\nExperiences\\n\\nPrevious\\n\\nCurrent\\n\\nUpcoming\\n\\nZANDVOORT, NETHERLANDS - AUGUST 29: Pierre Gasly of France driving the (10) Alpine F1 A525 Renault\\nZANDVOORT, NETHERLANDS - AUGUST 29: Lando Norris of Great Britain driving the (4) McLaren MCL39\\nFP2 Highlights: 2025 Dutch Grand Prix\\nZANDVOORT, NETHERLANDS - AUGUST 29: Charles Leclerc of Monaco and Scuderia Ferrari prepares to\\n2025 Dutch GP FP2: Every spill, spin and crash from Friday practice at Zandvoort [...] PiastriPIA\\n\\n1:35:39.435\\n\\nRussellRUS\\n\\n+15.499\\n\\nNorrisNOR\\n\\n+16.273\\n\\nSaudi Arabia\\n\\nPiastriPIA\\n\\n1:21:06.758\\n\\nVerstappenVER\\n\\n+2.843\\n\\nLeclercLEC\\n\\n+8.104\\n\\nMiami\\n\\nPiastriPIA\\n\\n1:28:51.587\\n\\nNorrisNOR\\n\\n+4.63\\n\\nRussellRUS\\n\\n+37.644\\n\\nEmilia-Romagna\\n\\nVerstappenVER\\n\\n1:31:33.199\\n\\nNorrisNOR\\n\\n+6.109\\n\\nPiastriPIA\\n\\n+12.956\\n\\nMonaco\\n\\nNorrisNOR\\n\\n1:40:33.843\\n\\nLeclercLEC\\n\\n+3.131\\n\\nPiastriPIA\\n\\n+3.658\\n\\nSpain\\n\\nPiastriPIA\\n\\n1:32:57.375\\n\\nNorrisNOR\\n\\n+2.471\\n\\nLeclercLEC\\n\\n+10.455\\n\\nCanada\\n\\nRussellRUS\\n\\n1:31:52.688\\n\\nVerstappenVER\",\n",
       "  'score': 0.3624957}]"
      ]
     },
     "execution_count": 37,
     "metadata": {},
     "output_type": "execute_result"
    }
   ],
   "source": [
    "search.run(\"Who is the current world champion in Formula 1 racing?\")"
   ]
  },
  {
   "cell_type": "code",
   "execution_count": 38,
   "id": "4f6e09f2",
   "metadata": {},
   "outputs": [
    {
     "data": {
      "text/plain": [
       "[{'title': 'F1 World Champions by Year | Full Historical Overview',\n",
       "  'url': 'https://racingnews365.com/every-world-champion-in-formula-1-history',\n",
       "  'content': \"The first World Championship of Formula One occurred in 1950, where Giuseppe Farina won the first F1 world title ever. A lot of legendary drivers have made it onto the F1 world champion driver list, such as Alain Prost, Ayrton Senna, Michael Schumacher, and many more. Currently, both Lewis Hamilton and Michael Schumacher hold the record for the most F1 world titles ever, with an outstanding total of seven championships each. [...] Currently, Sebastian Vettel is the youngest world champion in F1 history. He won his first F1 world title in 2010 at the age of 23 years and 134 days with the team Red Bull. The German driver is known as one of the most successful drivers in Formula One history and won from 2010 until 2013 with the same team. Vettel finished his last season in F1 at Aston Martin, retiring at the age of 36 at the end of the 2022 season.\\n\\nTo view all F1 world title winners, watch the overviews below. [...] F1 began in 1950 and since then many legendary drivers and teams have dazzled audiences around the world. From Juan Manuel Fangio to Alberto Ascari, Ayrton Senna to Michael Schumacher, Lewis Hamilton to Max Verstappen, F1 has crowned many champions over the years.  \\n  \\nWe've compiled a list of every F1 Drivers' and Constructors' World Champion through the decades. Explore all the F1 world champions by year below.\\n\\nHamilton winst race spanje\\n\\n## A list of all F1 world title winners\",\n",
       "  'score': 0.8868231},\n",
       " {'title': \"2025 DRIVERS' STANDINGS - F1\",\n",
       "  'url': 'https://www.formula1.com/en/results/2025/drivers',\n",
       "  'content': 'POS.\\n\\nDRIVER\\n\\nNATIONALITY\\n\\nTEAM\\n\\nPTS.\\n\\n1\\n\\nOscar PiastriPIA\\n\\nAUS\\n\\nMcLaren\\n\\n284\\n\\n2\\n\\nLando NorrisNOR\\n\\nGBR\\n\\nMcLaren\\n\\n275\\n\\n3\\n\\nMax VerstappenVER\\n\\nNED\\n\\nRed Bull Racing\\n\\n187\\n\\n4\\n\\nGeorge RussellRUS\\n\\nGBR\\n\\nMercedes\\n\\n172\\n\\n5\\n\\nCharles LeclercLEC\\n\\nMON\\n\\nFerrari\\n\\n151\\n\\n6\\n\\nLewis HamiltonHAM\\n\\nGBR\\n\\nFerrari\\n\\n109\\n\\n7\\n\\nKimi AntonelliANT\\n\\nITA\\n\\nMercedes\\n\\n64\\n\\n8\\n\\nAlexander AlbonALB\\n\\nTHA\\n\\nWilliams\\n\\n54\\n\\n9\\n\\nNico HulkenbergHUL\\n\\nGER\\n\\nKick Sauber\\n\\n37\\n\\n10\\n\\nEsteban OconOCO\\n\\nFRA\\n\\nHaas\\n\\n27\\n\\n11\\n\\nFernando AlonsoALO\\n\\nESP\\n\\nAston Martin [...] | POS. | DRIVER | NATIONALITY | TEAM | PTS. |\\n ---  --- \\n| 1 | Oscar PiastriPIA | AUS | McLaren | 284 |\\n| 2 | Lando NorrisNOR | GBR | McLaren | 275 |\\n| 3 | Max VerstappenVER | NED | Red Bull Racing | 187 |\\n| 4 | George RussellRUS | GBR | Mercedes | 172 |\\n| 5 | Charles LeclercLEC | MON | Ferrari | 151 |\\n| 6 | Lewis HamiltonHAM | GBR | Ferrari | 109 |\\n| 7 | Kimi AntonelliANT | ITA | Mercedes | 64 |\\n| 8 | Alexander AlbonALB | THA | Williams | 54 | [...] | 9 | Nico HulkenbergHUL | GER | Kick Sauber | 37 |\\n| 10 | Esteban OconOCO | FRA | Haas | 27 |\\n| 11 | Fernando AlonsoALO | ESP | Aston Martin | 26 |\\n| 12 | Lance StrollSTR | CAN | Aston Martin | 26 |\\n| 13 | Isack HadjarHAD | FRA | Racing Bulls | 22 |\\n| 14 | Pierre GaslyGAS | FRA | Alpine | 20 |\\n| 15 | Liam LawsonLAW | NZL | Racing Bulls | 20 |\\n| 16 | Carlos SainzSAI | ESP | Williams | 16 |\\n| 17 | Gabriel BortoletoBOR | BRA | Kick Sauber | 14 |',\n",
       "  'score': 0.60049355},\n",
       " {'title': 'F1 Championship Standings Drivers & Teams - 2025 Season',\n",
       "  'url': 'https://www.skysports.com/f1/standings',\n",
       "  'content': '| # | Driver | Nat | Team | Pts |\\n ---  --- \\n| 1 | Oscar Piastri | AUS | McLaren | 284 |\\n| 2 | Lando Norris | GBR | McLaren | 275 |\\n| 3 | Max Verstappen | NED | Red Bull | 187 |\\n| 4 | George Russell | GBR | Mercedes | 172 |\\n| 5 | Charles Leclerc | MON | Ferrari | 151 |\\n| 6 | Lewis Hamilton | GBR | Ferrari | 109 |\\n| 7 | Kimi Antonelli | ITA | Mercedes | 64 |\\n| 8 | Alex Albon | THA | Williams | 54 |\\n| 9 | Nico Hulkenberg | GER | Sauber | 37 |\\n| 10 | Esteban Ocon | FRA | Haas | 27 | [...] | 11 | Fernando Alonso | ESP | Aston Martin | 26 |\\n| 12 | Lance Stroll | CAN | Aston Martin | 26 |\\n| 13 | Isack Hadjar | FRA | Racing Bulls | 22 |\\n| 14 | Pierre Gasly | FRA | Alpine | 20 |\\n| 15 | Liam Lawson | NZL | Racing Bulls | 20 |\\n| 16 | Carlos Sainz | ESP | Williams | 16 |\\n| 17 | Gabriel Bortoleto | BRA | Sauber | 14 |\\n| 18 | Yuki Tsunoda | JPN | Red Bull | 10 |\\n| 19 | Oliver Bearman | GBR | Haas | 8 |\\n| 20 | Franco Colapinto | ARG | Alpine | 0 |\\n| 21 | Jack Doohan | AUS | Alpine | 0 | [...] | Grand Prix | Team | Driver | Fastest Stop |\\n ---  --- |\\n| Australia | Ferrari | Charles Leclerc | 2.32s |\\n| China | Ferrari | Charles Leclerc | 2.05s |\\n| Japan | Ferrari | Lewis Hamilton | 2.18s |\\n| Bahrain | Ferrari | Lewis Hamilton | 2.16s |\\n| Saudi Arabia | Ferrari | Charles Leclerc | 2.00s |\\n| Miami | Sauber | Gabriel Bortoleto | 2.24s |\\n| Emilia-Romagna | Ferrari | Charles Leclerc | 2.04s |\\n| Monaco | Ferrari | Charles Leclerc | 2.00s |\\n| Spain | Sauber | Gabriel Bortoleto | 2.13s |',\n",
       "  'score': 0.5191075},\n",
       " {'title': 'F1 Schedule 2025 - Official Calendar of Grand Prix Races',\n",
       "  'url': 'https://www.formula1.com/en/racing/2025',\n",
       "  'content': \"2025 Dutch GP FP2: Every spill, spin and crash from Friday practice at Zandvoort\\n\\nTECH TALK – What's new after the summer? \\n\\nTECH TALK – What's new after the summer?\\n\\n# 2025 FIA FORMULA ONE WORLD CHAMPIONSHIP™ RACE CALENDAR\\n\\nPrevious\\n\\nCurrent\\n\\nUpcoming\\n\\nSakhir\\n\\nAustralia\\n\\nNorrisNOR\\n\\n1:42:06.304\\n\\nVerstappenVER\\n\\n+0.895\\n\\nRussellRUS\\n\\n+8.481\\n\\nChina\\n\\nPiastriPIA\\n\\n1:30:55.026\\n\\nNorrisNOR\\n\\n+9.748\\n\\nRussellRUS\\n\\n+11.097\\n\\nJapan\\n\\nVerstappenVER\\n\\n1:22:06.983\\n\\nNorrisNOR\\n\\n+1.423\\n\\nPiastriPIA\\n\\n+2.129\\n\\nBahrain [...] Authentics\\n\\nStore\\n\\nTickets\\n\\nHospitality\\n\\nExperiences\\n\\nPrevious\\n\\nCurrent\\n\\nUpcoming\\n\\nZANDVOORT, NETHERLANDS - AUGUST 29: Pierre Gasly of France driving the (10) Alpine F1 A525 Renault\\nZANDVOORT, NETHERLANDS - AUGUST 29: Lando Norris of Great Britain driving the (4) McLaren MCL39\\nFP2 Highlights: 2025 Dutch Grand Prix\\nZANDVOORT, NETHERLANDS - AUGUST 29: Charles Leclerc of Monaco and Scuderia Ferrari prepares to\\n2025 Dutch GP FP2: Every spill, spin and crash from Friday practice at Zandvoort [...] PiastriPIA\\n\\n1:35:39.435\\n\\nRussellRUS\\n\\n+15.499\\n\\nNorrisNOR\\n\\n+16.273\\n\\nSaudi Arabia\\n\\nPiastriPIA\\n\\n1:21:06.758\\n\\nVerstappenVER\\n\\n+2.843\\n\\nLeclercLEC\\n\\n+8.104\\n\\nMiami\\n\\nPiastriPIA\\n\\n1:28:51.587\\n\\nNorrisNOR\\n\\n+4.63\\n\\nRussellRUS\\n\\n+37.644\\n\\nEmilia-Romagna\\n\\nVerstappenVER\\n\\n1:31:33.199\\n\\nNorrisNOR\\n\\n+6.109\\n\\nPiastriPIA\\n\\n+12.956\\n\\nMonaco\\n\\nNorrisNOR\\n\\n1:40:33.843\\n\\nLeclercLEC\\n\\n+3.131\\n\\nPiastriPIA\\n\\n+3.658\\n\\nSpain\\n\\nPiastriPIA\\n\\n1:32:57.375\\n\\nNorrisNOR\\n\\n+2.471\\n\\nLeclercLEC\\n\\n+10.455\\n\\nCanada\\n\\nRussellRUS\\n\\n1:31:52.688\\n\\nVerstappenVER\",\n",
       "  'score': 0.3625634},\n",
       " {'title': \"The beginner's guide to the 2025 F1 calendar | Formula 1®\",\n",
       "  'url': 'https://www.formula1.com/en/latest/article/the-beginners-guide-to-the-formula-1-grand-prix-calendar.VEmteiTb3F3tE95A7qke7',\n",
       "  'content': 'Authentics\\n\\nStore\\n\\nTickets\\n\\nHospitality\\n\\nExperiences\\n\\nPrevious\\n\\nCurrent\\n\\nUpcoming\\n\\nZANDVOORT, NETHERLANDS - AUGUST 29: Pierre Gasly of France driving the (10) Alpine F1 A525 Renault\\nZANDVOORT, NETHERLANDS - AUGUST 29: Lando Norris of Great Britain driving the (4) McLaren MCL39\\nFP2 Highlights: 2025 Dutch Grand Prix\\nZANDVOORT, NETHERLANDS - AUGUST 29: Charles Leclerc of Monaco and Scuderia Ferrari prepares to\\n2025 Dutch GP FP2: Every spill, spin and crash from Friday practice at Zandvoort [...] Monaco, Monza, Silverstone and Spa are circuits that still feature on the F1 calendar from the very first season in 1950, although plenty of safety-based changes and track layout modifications have been made since then.\\n\\nZANDVOORT, NETHERLANDS - AUGUST 25: Nico Hulkenberg of Germany and Haas, Pierre Gasly of Alpine and\\n\\nNext Up\\n\\n## Related Articles [...] READ MORE: F1 partners with Aggreko to deliver low-carbon power solutions at European races from 2025\\n\\nBARCELONA, SPAIN - JUNE 23: Max Verstappen of the Netherlands driving the (1) Oracle Red Bull\\n\\n### What does the term ‘flyaway race’ mean?\\n\\nThe F1 calendar is a global affair, very much putting the ‘world’ in world championship. But you will often hear those involved differentiating between races held in Europe and those in the rest of the world – the key word being ‘flyaway’.',\n",
       "  'score': 0.31621137}]"
      ]
     },
     "execution_count": 38,
     "metadata": {},
     "output_type": "execute_result"
    }
   ],
   "source": [
    "search.invoke(\"Who is the current world champion in Formula 1 racing?\")"
   ]
  },
  {
   "cell_type": "code",
   "execution_count": 39,
   "id": "587a7a6c",
   "metadata": {},
   "outputs": [],
   "source": [
    "tools = [search]"
   ]
  },
  {
   "cell_type": "code",
   "execution_count": 44,
   "id": "9edb30ed",
   "metadata": {},
   "outputs": [],
   "source": [
    "from langchain import hub"
   ]
  },
  {
   "cell_type": "code",
   "execution_count": 45,
   "id": "bc00aae7",
   "metadata": {},
   "outputs": [],
   "source": [
    "prompt = hub.pull(\"hwchase17/openai-functions-agent\")"
   ]
  },
  {
   "cell_type": "code",
   "execution_count": 48,
   "id": "5932eeb6",
   "metadata": {},
   "outputs": [
    {
     "data": {
      "text/plain": [
       "[SystemMessagePromptTemplate(prompt=PromptTemplate(input_variables=[], input_types={}, partial_variables={}, template='You are a helpful assistant'), additional_kwargs={}),\n",
       " MessagesPlaceholder(variable_name='chat_history', optional=True),\n",
       " HumanMessagePromptTemplate(prompt=PromptTemplate(input_variables=['input'], input_types={}, partial_variables={}, template='{input}'), additional_kwargs={}),\n",
       " MessagesPlaceholder(variable_name='agent_scratchpad')]"
      ]
     },
     "execution_count": 48,
     "metadata": {},
     "output_type": "execute_result"
    }
   ],
   "source": [
    "prompt.messages"
   ]
  },
  {
   "cell_type": "code",
   "execution_count": 47,
   "id": "da525d09",
   "metadata": {},
   "outputs": [],
   "source": [
    "from langchain.agents import create_tool_calling_agent\n",
    "\n",
    "agent1 = create_tool_calling_agent(llm, tools, prompt)"
   ]
  },
  {
   "cell_type": "code",
   "execution_count": 49,
   "id": "e61724b6",
   "metadata": {},
   "outputs": [],
   "source": [
    "from langchain.agents import AgentExecutor"
   ]
  },
  {
   "cell_type": "code",
   "execution_count": 58,
   "id": "d724aea8",
   "metadata": {},
   "outputs": [],
   "source": [
    "agent_executor = AgentExecutor(\n",
    "    agent=agent,\n",
    "    tools=tools,\n",
    "    verbose=True,\n",
    "    max_iterations=6,\n",
    "    early_stopping_method=\"generate\",   # <- if it’s stuck, ask LLM to write a final answer\n",
    ")"
   ]
  },
  {
   "cell_type": "code",
   "execution_count": 52,
   "id": "b70e2621",
   "metadata": {},
   "outputs": [
    {
     "name": "stdout",
     "output_type": "stream",
     "text": [
      "\n",
      "\n",
      "\u001b[1m> Entering new AgentExecutor chain...\u001b[0m\n",
      "\u001b[32;1m\u001b[1;3m\n",
      "Invoking: `tavily_search_results_json` with `{'query': 'Who is John Wick'}`\n",
      "\n",
      "\n",
      "\u001b[0m\u001b[36;1m\u001b[1;3m[{'title': 'John Wick | Branson Universe Wiki - Fandom', 'url': 'https://branson-universe.fandom.com/wiki/John_Wick', 'content': 'John Wick is a fictional character created by Derek Kolstad, and the titular protagonist of the neo-noir action thriller film series _John Wick_, portrayed by Keanu Reeves. John is a legendary hitman who had retired until a gang invades his house, steals his car, and kills the puppy that his late wife Helen had given him. This sets him on a path of revenge, returning him to the criminal underworld and eventually coming into conflict with the international organization of assassins of which he [...] The character and franchise has been described as a \"central boogeyman character who can\\'t be killed\" and a \"modern, action-oriented equivalent of \\'80s horror franchises\", and reportedly has a kill count of 306, exceeding Jason Voorhees and Michael Myers combined. Wick\\'s violent one-man crusade has been described as an extreme case of workplace revenge. He is largely seen wearing dark colored, tailored suits outfitted with ballistic armor. He is a deadly combatant and proficient with handguns,', 'score': 0.92074}, {'title': 'John Wick (character)', 'url': 'https://en.wikipedia.org/wiki/John_Wick_(character)', 'content': 'John Wick is a character created by American screenwriter Derek Kolstad and portrayed by Canadian actor Keanu Reeves. He is the titular protagonist of the neo-noir media franchise John Wick. [...] | John Wick | |\\n --- |\\n| John Wick character | |\\n| Keanu Reeves as John Wick in John Wick: Chapter 2 (2017) | |\\n| First appearance | John Wick \"John Wick (film)\") (2014) |\\n| Created by | Derek Kolstad |\\n| Portrayed by | Keanu Reeves (film series) Dave Fouquette (John Wick Hex and Payday 2) |\\n| In-universe information | |\\n| Full name | Jardani Jovonovich (Ярдані Яванавіч) John Wick |\\n| Aliases | Jonathan \"John\" Wick |\\n| Nickname | Baba Yaga/The Bogeyman |\\n| Gender | Male | [...] John is introduced as a legendary hitman who is thrust back into the criminal underworld after Russian-American mobsters, not realising John\\'s past, assault him, kill his puppy, and steal his car. The attack sets John on a path of revenge, returning him to the violent lifestyle that he had left behind and eventually bringing him into conflict with the international organization of assassins.\\n\\n## Main character biography', 'score': 0.89302075}, {'title': 'John Wick (2014) - IMDb', 'url': 'https://www.imdb.com/title/tt2911666/', 'content': \"John Wick is a former hitman grieving the loss of his true love. When his home is broken into, robbed, and his dog killed, he is forced to return to action to exact revenge. [...] John Wick is a former hitman grieving the loss of his true love. When his home is broken into, robbed, and his dog killed, he is forced to return to action to exact revenge.\\nJohn Wick is a former hitman grieving the loss of his true love. When his home is broken into, robbed, and his dog killed, he is forced to return to action to exact revenge. [...] JOHN WICK is a rare example of Hollywood getting things spot-on when it comes to creating the near-perfect action film. JOHN WICK is a relentless, pulse-pounding thriller that has plenty of similarity to the Liam Neeson classic TAKEN, albeit with a more simplistic (and also more emotionally intense) plot line. This is the kind of lean, pared-down film-making that's all about intensity and momentum. It sits well with classic international fare like POINT BLANK, SLEEPLESS NIGHT, MEA CULPA, THE\", 'score': 0.87113565}, {'title': 'John Wick', 'url': 'https://en.wikipedia.org/wiki/John_Wick', 'content': '#### John Wick (2014)\\n\\n[edit\")]\\n\\nMain article: John Wick (film) \"John Wick (film)\")\\n\\nJohn Wick is a retired assassin who returns to his old ways after a group of Russian gangsters steal his car and kill his puppy which was given to him by his late wife Helen.\\n\\nThe film was developed in 2012. Principal photography began September 25, 2013, and wrapped on December 20, 2013.\\n\\n#### John Wick: Chapter 2 (2017)\\n\\n[edit\")]\\n\\nMain article: John Wick: Chapter 2 [...] John Wick (Keanu Reeves) was born Jardani Jovonovich in Belarus. He was an orphan who was taken in by the Ruska Roma crime syndicate, where he was raised as an assassin, eventually rising to become the top enforcer of the Russian Mafia and known as \"Baba Yaga\" (\"the one you sent to kill [the] Boogeyman\") under crime boss Viggo Tarasov (Michael Nyqvist), who deemed him so ruthless that many came to respect and fear him. At the beginning of the first film, Wick has been retired from being a [...] Kolstad spent additional months rewriting the script with them. In the original script, the character of John Wick was written with \"a man in his mid-sixties\" to play the role, given the title character\\'s fabled reputation as a revered and respected assassin. However, Iwanyk believed that this was irrelevant and bent the original vision ever so slightly, stating: \"Instead, we decided to look for someone who is not literally older, but who has a seasoned history in the film world\".', 'score': 0.8473754}, {'title': 'John Wick (film) - Wikipedia', 'url': 'https://en.wikipedia.org/wiki/John_Wick_(film)', 'content': 'In New York City, John Wick \"John Wick (character)\") is grieving the death of his wife Helen, who had arranged for him to receive a beagle puppy, Daisy, to help cope with his loss. A few days later, a group of Russian gangsters led by Iosef Tarasov accost John at a gas station and fail to intimidate him into selling them his 1969 Boss 429 Mustang. That night, they break into John\\'s home, assault him, kill the puppy, and steal the car. Iosef takes the Mustang to a chop shop to remove its [...] Keanu Reeves as John Wick \"John Wick (character)\"): A retired hitman who is legendary in the criminal underworld\\n Michael Nyqvist as Viggo Tarasov: A vicious Russian crime boss and John\\'s former employer\\n Alfie Allen as Iosef Tarasov: Viggo\\'s reckless and arrogant son\\n Adrianne Palicki as Ms. Perkins: A ruthless and highly skilled hitwoman\\n Bridget Moynahan as Helen: John\\'s beloved and devoted wife\\n Dean Winters as Avi: Viggo\\'s attorney [...] 2012 or 2013, Kolstad wrote a spec script titled Scorn, the inspiration for which came from two \"terrible revenge movies\" he had watched. The script\\'s story centered around the character John Wick, a long-retired hitman in his mid-60s to mid-70s who is forced back into his former life. John was modeled on actors such as Clint Eastwood and Paul Newman. The script included elements such as John\\'s long-deceased wife, his elderly dog, the Continental, Charon, Winston, and the underworld gold coins;', 'score': 0.83710164}]\u001b[0m\u001b[32;1m\u001b[1;3mJohn Wick is a fictional character created by Derek Kolstad, and the titular protagonist of the neo-noir action thriller film series _John Wick_, portrayed by Keanu Reeves. John is a legendary hitman who had retired until a gang invades his house, steals his car, and kills the puppy that his late wife Helen had given him. This sets him on a path of revenge, returning him to the criminal underworld and eventually coming into conflict with the international organization of assassins of which he [...]\u001b[0m\n",
      "\n",
      "\u001b[1m> Finished chain.\u001b[0m\n"
     ]
    },
    {
     "data": {
      "text/plain": [
       "{'input': 'Who is John Wick?',\n",
       " 'output': 'John Wick is a fictional character created by Derek Kolstad, and the titular protagonist of the neo-noir action thriller film series _John Wick_, portrayed by Keanu Reeves. John is a legendary hitman who had retired until a gang invades his house, steals his car, and kills the puppy that his late wife Helen had given him. This sets him on a path of revenge, returning him to the criminal underworld and eventually coming into conflict with the international organization of assassins of which he [...]'}"
      ]
     },
     "execution_count": 52,
     "metadata": {},
     "output_type": "execute_result"
    }
   ],
   "source": [
    "agent_executor.invoke({\"input\": \"Who is John Wick?\"})"
   ]
  },
  {
   "cell_type": "code",
   "execution_count": null,
   "id": "fbf945ce",
   "metadata": {},
   "outputs": [],
   "source": []
  },
  {
   "cell_type": "code",
   "execution_count": null,
   "id": "3eb5d59e",
   "metadata": {},
   "outputs": [],
   "source": []
  }
 ],
 "metadata": {
  "kernelspec": {
   "display_name": "Python 3",
   "language": "python",
   "name": "python3"
  },
  "language_info": {
   "codemirror_mode": {
    "name": "ipython",
    "version": 3
   },
   "file_extension": ".py",
   "mimetype": "text/x-python",
   "name": "python",
   "nbconvert_exporter": "python",
   "pygments_lexer": "ipython3",
   "version": "3.10.18"
  }
 },
 "nbformat": 4,
 "nbformat_minor": 5
}
